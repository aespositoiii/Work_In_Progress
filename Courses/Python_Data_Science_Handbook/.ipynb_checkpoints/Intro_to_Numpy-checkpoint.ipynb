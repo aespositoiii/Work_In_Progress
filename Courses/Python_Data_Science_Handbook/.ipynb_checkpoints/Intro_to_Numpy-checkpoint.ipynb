{
 "cells": [
  {
   "cell_type": "markdown",
   "id": "bronze-generation",
   "metadata": {},
   "source": [
    "# Understanding Data Types"
   ]
  },
  {
   "cell_type": "markdown",
   "id": "soviet-kingdom",
   "metadata": {},
   "source": [
    "### Let's practice Python and Numpy with Jupyter Notebook\n",
    "\n",
    "start with the basics"
   ]
  },
  {
   "cell_type": "code",
   "execution_count": 1,
   "id": "developed-journey",
   "metadata": {},
   "outputs": [],
   "source": [
    "#iterate using range\n",
    "result = 0\n",
    "for i in range(100):\n",
    "    result += 1"
   ]
  },
  {
   "cell_type": "code",
   "execution_count": 2,
   "id": "surprising-imperial",
   "metadata": {},
   "outputs": [
    {
     "name": "stdout",
     "output_type": "stream",
     "text": [
      "<class 'int'>\n",
      "<class 'str'>\n"
     ]
    }
   ],
   "source": [
    "#assign a new value to a variable\n",
    "x=4\n",
    "print(type(x))\n",
    "x='four'\n",
    "print(type(x))"
   ]
  },
  {
   "cell_type": "markdown",
   "id": "studied-coral",
   "metadata": {},
   "source": [
    "Let's play with Lists"
   ]
  },
  {
   "cell_type": "code",
   "execution_count": 3,
   "id": "artificial-bookmark",
   "metadata": {},
   "outputs": [
    {
     "data": {
      "text/plain": [
       "[0, 1, 2, 3, 4, 5, 6, 7, 8, 9]"
      ]
     },
     "execution_count": 3,
     "metadata": {},
     "output_type": "execute_result"
    }
   ],
   "source": [
    "#assign a range to a list\n",
    "L = list(range(10))\n",
    "L"
   ]
  },
  {
   "cell_type": "code",
   "execution_count": 4,
   "id": "visible-brook",
   "metadata": {},
   "outputs": [
    {
     "name": "stdout",
     "output_type": "stream",
     "text": [
      "<class 'list'>\n",
      "<class 'int'>\n"
     ]
    }
   ],
   "source": [
    "print(type(L))\n",
    "print(type(L[0]))"
   ]
  },
  {
   "cell_type": "code",
   "execution_count": 5,
   "id": "skilled-camping",
   "metadata": {},
   "outputs": [
    {
     "name": "stdout",
     "output_type": "stream",
     "text": [
      "<class 'list'>\n",
      "<class 'str'>\n"
     ]
    },
    {
     "data": {
      "text/plain": [
       "['0', '1', '2', '3', '4', '5', '6', '7', '8', '9']"
      ]
     },
     "execution_count": 5,
     "metadata": {},
     "output_type": "execute_result"
    }
   ],
   "source": [
    "L2 = [str(c) for c in L]\n",
    "print(type(L2))\n",
    "print(type(L2[0]))\n",
    "L2"
   ]
  },
  {
   "cell_type": "code",
   "execution_count": 6,
   "id": "final-society",
   "metadata": {},
   "outputs": [
    {
     "data": {
      "text/plain": [
       "[bool, str, float, int]"
      ]
     },
     "execution_count": 6,
     "metadata": {},
     "output_type": "execute_result"
    }
   ],
   "source": [
    "#Create a heterogeneous list and output the type\n",
    "L3 = [True, \"2\", 3.0, 4]\n",
    "[type(item)for item in L3]"
   ]
  },
  {
   "cell_type": "code",
   "execution_count": 7,
   "id": "middle-tracy",
   "metadata": {},
   "outputs": [
    {
     "data": {
      "text/plain": [
       "array('i', [0, 1, 2, 3, 4, 5, 6, 7, 8, 9])"
      ]
     },
     "execution_count": 7,
     "metadata": {},
     "output_type": "execute_result"
    }
   ],
   "source": [
    "#Create a Python array\n",
    "import array\n",
    "L = list(range(10))\n",
    "A = array.array('i',L)\n",
    "A"
   ]
  },
  {
   "cell_type": "markdown",
   "id": "powered-insurance",
   "metadata": {},
   "source": [
    "### Let's start working with numpy"
   ]
  },
  {
   "cell_type": "code",
   "execution_count": 8,
   "id": "seven-progress",
   "metadata": {},
   "outputs": [],
   "source": [
    "import numpy as np"
   ]
  },
  {
   "cell_type": "code",
   "execution_count": 9,
   "id": "paperback-burns",
   "metadata": {},
   "outputs": [
    {
     "data": {
      "text/plain": [
       "array([1, 4, 2, 5, 3])"
      ]
     },
     "execution_count": 9,
     "metadata": {},
     "output_type": "execute_result"
    }
   ],
   "source": [
    "# Create a numpy integer array\n",
    "\n",
    "np.array([1,4,2,5,3])"
   ]
  },
  {
   "cell_type": "code",
   "execution_count": 10,
   "id": "casual-playback",
   "metadata": {},
   "outputs": [
    {
     "data": {
      "text/plain": [
       "array([3.14, 1.  , 5.  , 4.  ])"
      ]
     },
     "execution_count": 10,
     "metadata": {},
     "output_type": "execute_result"
    }
   ],
   "source": [
    "# The array will automatically set the data type to the least complex required to represent the data\n",
    "\n",
    "np.array([3.14, 1, 5, 4])"
   ]
  },
  {
   "cell_type": "code",
   "execution_count": 11,
   "id": "vital-fleece",
   "metadata": {},
   "outputs": [
    {
     "data": {
      "text/plain": [
       "array([1., 4., 2., 5., 3.], dtype=float32)"
      ]
     },
     "execution_count": 11,
     "metadata": {},
     "output_type": "execute_result"
    }
   ],
   "source": [
    "# Or you can explicitely set the data type using the keywork dtype. ex float32, int, etc.\n",
    "\n",
    "np.array([1,4,2,5,3], dtype='float32')"
   ]
  },
  {
   "cell_type": "code",
   "execution_count": 12,
   "id": "brutal-translator",
   "metadata": {},
   "outputs": [
    {
     "name": "stdout",
     "output_type": "stream",
     "text": [
      "[[2 3 4]\n",
      " [4 5 6]\n",
      " [6 7 8]]\n",
      "7\n"
     ]
    }
   ],
   "source": [
    "# You can have multidimensional lists also\n",
    "\n",
    "A = np.array([range(i, i + 3) for i in [2,4,6]])\n",
    "print(A)\n",
    "print(A[2][1])"
   ]
  },
  {
   "cell_type": "markdown",
   "id": "humanitarian-costa",
   "metadata": {},
   "source": [
    "### Let's create some basic arrays to work with"
   ]
  },
  {
   "cell_type": "code",
   "execution_count": 13,
   "id": "piano-registrar",
   "metadata": {},
   "outputs": [
    {
     "data": {
      "text/plain": [
       "array([0, 0, 0, 0, 0, 0, 0, 0, 0, 0])"
      ]
     },
     "execution_count": 13,
     "metadata": {},
     "output_type": "execute_result"
    }
   ],
   "source": [
    "# Create a 1 x 10 array of zeros\n",
    "\n",
    "np.zeros(10, dtype=int)"
   ]
  },
  {
   "cell_type": "code",
   "execution_count": 14,
   "id": "right-universal",
   "metadata": {},
   "outputs": [
    {
     "data": {
      "text/plain": [
       "array([[1., 1., 1., 1., 1.],\n",
       "       [1., 1., 1., 1., 1.],\n",
       "       [1., 1., 1., 1., 1.]])"
      ]
     },
     "execution_count": 14,
     "metadata": {},
     "output_type": "execute_result"
    }
   ],
   "source": [
    "# Create a 3 x 5 array of floating-point ones\n",
    "\n",
    "np.ones((3,5), dtype=float)"
   ]
  },
  {
   "cell_type": "code",
   "execution_count": 15,
   "id": "younger-letters",
   "metadata": {},
   "outputs": [
    {
     "data": {
      "text/plain": [
       "array([[3.14, 3.14, 3.14, 3.14, 3.14, 3.14],\n",
       "       [3.14, 3.14, 3.14, 3.14, 3.14, 3.14],\n",
       "       [3.14, 3.14, 3.14, 3.14, 3.14, 3.14],\n",
       "       [3.14, 3.14, 3.14, 3.14, 3.14, 3.14]])"
      ]
     },
     "execution_count": 15,
     "metadata": {},
     "output_type": "execute_result"
    }
   ],
   "source": [
    "# Create an 4 x 6 array filled with any number\n",
    "\n",
    "np.full((4,6), 3.14)"
   ]
  },
  {
   "cell_type": "code",
   "execution_count": 16,
   "id": "touched-mandate",
   "metadata": {},
   "outputs": [
    {
     "data": {
      "text/plain": [
       "array([ 4. ,  7.6, 11.2, 14.8, 18.4, 22. ])"
      ]
     },
     "execution_count": 16,
     "metadata": {},
     "output_type": "execute_result"
    }
   ],
   "source": [
    "# Create an array of 6 linearly spaced values between 4 and 22\n",
    "\n",
    "np.linspace(4, 22, 6)"
   ]
  },
  {
   "cell_type": "code",
   "execution_count": 17,
   "id": "surface-longitude",
   "metadata": {},
   "outputs": [
    {
     "data": {
      "text/plain": [
       "array([[3.4494101 , 6.89287171, 5.08272789, 7.28689239, 1.33798882],\n",
       "       [0.55011104, 9.67767826, 2.06125402, 7.39018662, 8.82288841],\n",
       "       [4.44950749, 7.30703255, 4.88757158, 1.11104527, 7.35096261],\n",
       "       [0.06289103, 6.70572452, 9.94049105, 7.55848666, 3.2442258 ],\n",
       "       [7.25613158, 1.20611001, 4.55049242, 5.64560164, 6.17260722]])"
      ]
     },
     "execution_count": 17,
     "metadata": {},
     "output_type": "execute_result"
    }
   ],
   "source": [
    "# Create a 5 x 5 array of uniformly distributed random values between 0 and 10\n",
    "# np.random.random generates uniformly distributed between 0 and 1, multiply by n to get the max you wish.\n",
    "\n",
    "10*np.random.random((5,5))"
   ]
  },
  {
   "cell_type": "code",
   "execution_count": 18,
   "id": "aware-personal",
   "metadata": {},
   "outputs": [
    {
     "data": {
      "text/plain": [
       "array([[-2.17271898, -0.8687537 , -1.30511755],\n",
       "       [ 1.65954986, -0.05981987, -0.43975713],\n",
       "       [-2.24910196,  0.52844882, -0.01941965],\n",
       "       [-0.99182639,  0.3184203 , -0.53665448],\n",
       "       [ 0.5615956 ,  0.14055396, -1.23906518]])"
      ]
     },
     "execution_count": 18,
     "metadata": {},
     "output_type": "execute_result"
    }
   ],
   "source": [
    "#Create a 5 x 3 array of normally distributed random numbers centered on 0 with a standard deviation of 1\n",
    "\n",
    "np.random.normal(0,1,(5,3))"
   ]
  },
  {
   "cell_type": "code",
   "execution_count": 19,
   "id": "egyptian-bouquet",
   "metadata": {},
   "outputs": [
    {
     "data": {
      "text/plain": [
       "array([[1., 0., 0.],\n",
       "       [0., 1., 0.],\n",
       "       [0., 0., 1.]])"
      ]
     },
     "execution_count": 19,
     "metadata": {},
     "output_type": "execute_result"
    }
   ],
   "source": [
    "# Create a 3 x 3 identity matrix\n",
    "\n",
    "np.eye(3)"
   ]
  },
  {
   "cell_type": "code",
   "execution_count": 20,
   "id": "basic-retention",
   "metadata": {},
   "outputs": [
    {
     "data": {
      "text/plain": [
       "array([[20, 91,  1],\n",
       "       [64, 97, 31],\n",
       "       [ 1, 67, 91]])"
      ]
     },
     "execution_count": 20,
     "metadata": {},
     "output_type": "execute_result"
    }
   ],
   "source": [
    "# Create a 5 x 5 matrix of random integers between 0 and 100\n",
    "\n",
    "np.random.randint(0,100,(3,3))"
   ]
  },
  {
   "cell_type": "code",
   "execution_count": 21,
   "id": "divine-delight",
   "metadata": {},
   "outputs": [
    {
     "data": {
      "text/plain": [
       "array([0. , 0.5, 1. , 1.5, 2. ])"
      ]
     },
     "execution_count": 21,
     "metadata": {},
     "output_type": "execute_result"
    }
   ],
   "source": [
    "# Create an uninitialized array of 3 integers\n",
    "# The values will be whatever happens to already exist at that memory\n",
    "\n",
    "np.empty(5)"
   ]
  },
  {
   "cell_type": "markdown",
   "id": "armed-appeal",
   "metadata": {},
   "source": [
    "# --------------- Data types in Numpy ---------------\n"
   ]
  },
  {
   "cell_type": "code",
   "execution_count": 22,
   "id": "certain-split",
   "metadata": {},
   "outputs": [],
   "source": [
    "\"\"\"The available data types in python are:\n",
    "\n",
    "bool_ \tBoolean (True or False) stored as a byte\n",
    "int_ \tDefault integer type (same as C long; normally either int64 or int32)\n",
    "intc \tIdentical to C int (normally int32 or int64)\n",
    "intp \tInteger used for indexing (same as C ssize_t; normally either int32 or int64)\n",
    "int8 \tByte (-128 to 127)\n",
    "int16 \tInteger (-32768 to 32767)\n",
    "int32 \tInteger (-2147483648 to 2147483647)\n",
    "int64 \tInteger (-9223372036854775808 to 9223372036854775807)\n",
    "uint8 \tUnsigned integer (0 to 255)\n",
    "uint16 \tUnsigned integer (0 to 65535)\n",
    "uint32 \tUnsigned integer (0 to 4294967295)\n",
    "uint64 \tUnsigned integer (0 to 18446744073709551615)\n",
    "float_ \tShorthand for float64.\n",
    "float16 \tHalf precision float: sign bit, 5 bits exponent, 10 bits mantissa\n",
    "float32 \tSingle precision float: sign bit, 8 bits exponent, 23 bits mantissa\n",
    "float64 \tDouble precision float: sign bit, 11 bits exponent, 52 bits mantissa\n",
    "complex_ \tShorthand for complex128.\n",
    "complex64 \tComplex number, represented by two 32-bit floats\n",
    "complex128 \tComplex number, represented by two 64-bit floats\n",
    "\n",
    "\"\"\";"
   ]
  },
  {
   "cell_type": "code",
   "execution_count": 23,
   "id": "romance-heading",
   "metadata": {},
   "outputs": [
    {
     "data": {
      "text/plain": [
       "array([[ True,  True,  True,  True,  True,  True,  True,  True,  True,\n",
       "         True],\n",
       "       [ True,  True,  True,  True,  True,  True,  True,  True,  True,\n",
       "         True],\n",
       "       [ True,  True,  True,  True,  True,  True,  True,  True,  True,\n",
       "         True],\n",
       "       [ True,  True,  True,  True,  True,  True,  True,  True,  True,\n",
       "         True],\n",
       "       [ True,  True,  True,  True,  True,  True,  True,  True,  True,\n",
       "         True],\n",
       "       [ True,  True,  True,  True,  True,  True,  True,  True,  True,\n",
       "         True],\n",
       "       [ True,  True,  True,  True,  True,  True,  True,  True,  True,\n",
       "         True],\n",
       "       [ True,  True,  True,  True,  True,  True,  True,  True,  True,\n",
       "         True],\n",
       "       [ True,  True,  True,  True,  True,  True,  True,  True,  True,\n",
       "         True],\n",
       "       [ True,  True,  True,  True,  True,  True,  True,  True,  True,\n",
       "         True]])"
      ]
     },
     "execution_count": 23,
     "metadata": {},
     "output_type": "execute_result"
    }
   ],
   "source": [
    "# Data type can be specified at array creation with either a string or calling the numpy object\n",
    "\n",
    "A = np.zeros((10,10), dtype = 'int16')\n",
    "B = np.zeros((10,10), dtype = np.int16)\n",
    "A == B"
   ]
  },
  {
   "cell_type": "markdown",
   "id": "objective-tennis",
   "metadata": {},
   "source": [
    "# ------------ The Basics of Numpy Arrays ------------------"
   ]
  },
  {
   "cell_type": "markdown",
   "id": "obvious-benefit",
   "metadata": {},
   "source": [
    "### What are the attributes of a Numpy Array?"
   ]
  },
  {
   "cell_type": "code",
   "execution_count": 24,
   "id": "proved-galaxy",
   "metadata": {},
   "outputs": [
    {
     "name": "stdout",
     "output_type": "stream",
     "text": [
      "ndim =  1\n",
      "shape =  (6,)\n",
      "size =  6\n",
      "dtype =  int64\n",
      "size per entry =  8 bytes\n",
      "total size of array =  48 bytes \n",
      "\n",
      "[4 0 4 6 2 3] \n",
      "\n",
      "------------------------------------------------\n",
      "ndim =  2\n",
      "shape =  (4, 8)\n",
      "size =  32\n",
      "dtype =  int64\n",
      "size per entry =  8 bytes\n",
      "total size of array =  256 bytes \n",
      "\n",
      "[[5 8 6 8 6 5 9 1]\n",
      " [0 6 7 7 0 5 7 0]\n",
      " [3 0 8 6 2 4 1 8]\n",
      " [8 9 6 5 6 8 4 7]] \n",
      "\n",
      "------------------------------------------------\n",
      "ndim =  3\n",
      "shape =  (3, 3, 4)\n",
      "size =  36\n",
      "dtype =  int64\n",
      "size per entry =  8 bytes\n",
      "total size of array =  288 bytes \n",
      "\n",
      "[[[0 6 2 2]\n",
      "  [8 7 3 0]\n",
      "  [5 3 2 3]]\n",
      "\n",
      " [[4 6 2 6]\n",
      "  [8 0 2 9]\n",
      "  [6 1 4 1]]\n",
      "\n",
      " [[2 5 6 5]\n",
      "  [6 1 5 4]\n",
      "  [2 7 8 1]]] \n",
      "\n",
      "------------------------------------------------\n"
     ]
    }
   ],
   "source": [
    "# Let's look at some basic properties of numpy arrays\n",
    "\n",
    "# ndim - the number of dimensions of the array\n",
    "# shape - the length of each dimension\n",
    "# size - the total number of elements in the array\n",
    "\n",
    "x1 = np.random.randint(10, size=6)\n",
    "x2 = np.random.randint(10, size=(4,8))\n",
    "x3 = np.random.randint(10, size=(3,3,4))\n",
    "\n",
    "D = [x1,x2,x3]\n",
    "for i in D:\n",
    "    print(\"ndim = \", i.ndim)\n",
    "    print(\"shape = \", i.shape)\n",
    "    print(\"size = \", i.size)\n",
    "    print(\"dtype = \", i.dtype)\n",
    "    print(\"size per entry = \", i.itemsize, \"bytes\")\n",
    "    print(\"total size of array = \", i.nbytes, \"bytes \\n\")\n",
    "    print(i,'\\n')\n",
    "    print('------------------------------------------------')"
   ]
  },
  {
   "cell_type": "markdown",
   "id": "theoretical-soundtrack",
   "metadata": {},
   "source": [
    "### Array Indexing of single elements"
   ]
  },
  {
   "cell_type": "code",
   "execution_count": 25,
   "id": "vietnamese-democracy",
   "metadata": {},
   "outputs": [
    {
     "name": "stdout",
     "output_type": "stream",
     "text": [
      "[4 0 4 6 2 3]\n",
      "0\n",
      "6\n"
     ]
    }
   ],
   "source": [
    "# Access elements of a 1-D array with a bracketted integer\n",
    "\n",
    "print(x1)\n",
    "print(x1[1])\n",
    "print(x1[3])"
   ]
  },
  {
   "cell_type": "code",
   "execution_count": 26,
   "id": "modified-nursing",
   "metadata": {},
   "outputs": [
    {
     "name": "stdout",
     "output_type": "stream",
     "text": [
      "3\n",
      "4\n"
     ]
    }
   ],
   "source": [
    "# Use negative integers to access the array from the end\n",
    "# Notice the negative index starts counting from -1 ***'-0' IS READ AS '0' AND WILL RETURN THE FIRST ELEMENT!!!***\n",
    "\n",
    "print(x1[-1])\n",
    "print(x1[-4])"
   ]
  },
  {
   "cell_type": "code",
   "execution_count": 27,
   "id": "fossil-outside",
   "metadata": {},
   "outputs": [
    {
     "name": "stdout",
     "output_type": "stream",
     "text": [
      "[[5 8 6 8 6 5 9 1]\n",
      " [0 6 7 7 0 5 7 0]\n",
      " [3 0 8 6 2 4 1 8]\n",
      " [8 9 6 5 6 8 4 7]]\n",
      "4 \n",
      "\n",
      "[[[0 6 2 2]\n",
      "  [8 7 3 0]\n",
      "  [5 3 2 3]]\n",
      "\n",
      " [[4 6 2 6]\n",
      "  [8 0 2 9]\n",
      "  [6 1 4 1]]\n",
      "\n",
      " [[2 5 6 5]\n",
      "  [6 1 5 4]\n",
      "  [2 7 8 1]]]\n",
      "8\n"
     ]
    }
   ],
   "source": [
    "# Access the elements of a multidimensional array using comma seperated tuples\n",
    "\n",
    "print(x2)\n",
    "print(x2[2,5],'\\n')\n",
    "print(x3)\n",
    "print(x3[2,2,2])\n"
   ]
  },
  {
   "cell_type": "code",
   "execution_count": 28,
   "id": "scientific-buyer",
   "metadata": {},
   "outputs": [
    {
     "name": "stdout",
     "output_type": "stream",
     "text": [
      "[[5 8 6 8 6 5 9 1]\n",
      " [0 6 7 7 0 5 7 0]\n",
      " [3 0 8 6 2 4 1 8]\n",
      " [8 9 6 5 6 8 4 7]]\n",
      "0 \n",
      "\n",
      "[[[0 6 2 2]\n",
      "  [8 7 3 0]\n",
      "  [5 3 2 3]]\n",
      "\n",
      " [[4 6 2 6]\n",
      "  [8 0 2 9]\n",
      "  [6 1 4 1]]\n",
      "\n",
      " [[2 5 6 5]\n",
      "  [6 1 5 4]\n",
      "  [2 7 8 1]]]\n",
      "8\n"
     ]
    }
   ],
   "source": [
    "# Accessing arrays from the end works the same is with 1-D arrays\n",
    "\n",
    "print(x2)\n",
    "print(x2[-3,-4],'\\n')\n",
    "print(x3)\n",
    "print(x3[-1,-1,-2])\n"
   ]
  },
  {
   "cell_type": "code",
   "execution_count": 29,
   "id": "italian-burton",
   "metadata": {},
   "outputs": [
    {
     "name": "stdout",
     "output_type": "stream",
     "text": [
      "[[5 8 6 8 6 5 9 1]\n",
      " [0 6 7 7 0 5 7 0]\n",
      " [3 0 8 6 2 4 1 8]\n",
      " [8 9 6 5 6 8 4 7]]\n",
      "[[ 5  8  6  8  6  5  9  1]\n",
      " [ 0  6  7  7  0  5  7  0]\n",
      " [ 3 80  8  6  2  4  1  8]\n",
      " [ 8  9  6  5  6  8  4  7]]\n"
     ]
    }
   ],
   "source": [
    "# You can modify the elements of an array by index\n",
    "\n",
    "print(x2)\n",
    "x2[2,1] = 80\n",
    "print(x2)"
   ]
  },
  {
   "cell_type": "markdown",
   "id": "laughing-tourism",
   "metadata": {},
   "source": [
    "### One Dimensional Subarrays : Array Slicing"
   ]
  },
  {
   "cell_type": "code",
   "execution_count": 30,
   "id": "naked-literacy",
   "metadata": {},
   "outputs": [
    {
     "data": {
      "text/plain": [
       "array([0, 1, 2, 3, 4, 5, 6, 7, 8, 9])"
      ]
     },
     "execution_count": 30,
     "metadata": {},
     "output_type": "execute_result"
    }
   ],
   "source": [
    "# Using the':' character lets you select elements from an array\n",
    "# x[start:stop(:step)]\n",
    "# With only one colon the slice defaults to star:stop\n",
    "# Leaving start or stop blank defaults to the beginning or end of an array respectively\n",
    "# The slice is BEFORE the stop index\n",
    "\n",
    "x = np.arange(10)\n",
    "x"
   ]
  },
  {
   "cell_type": "code",
   "execution_count": 31,
   "id": "surgical-retirement",
   "metadata": {},
   "outputs": [
    {
     "name": "stdout",
     "output_type": "stream",
     "text": [
      "[0 1 2 3 4]\n",
      "[0 1 2 3 4] \n",
      "\n",
      "[5 6 7 8 9]\n",
      "[5 6 7 8 9]\n"
     ]
    }
   ],
   "source": [
    "# With only one colon the slice defaults to star:stop\n",
    "# Leaving start or stop blank defaults to the beginning or end of an array respectively\n",
    "# The slice is BEFORE the stop index\n",
    "\n",
    "print(x[:5])\n",
    "print(x[0:5],'\\n')\n",
    "print(x[5:])\n",
    "print(x[5:len(x)])"
   ]
  },
  {
   "cell_type": "code",
   "execution_count": 32,
   "id": "indie-equity",
   "metadata": {},
   "outputs": [
    {
     "name": "stdout",
     "output_type": "stream",
     "text": [
      "[2 3 4 5 6]\n",
      "[3 4 5 6 7 8]\n"
     ]
    }
   ],
   "source": [
    "# Specify a start and stop index slices an array from the middle\n",
    "\n",
    "print(x[2:7])\n",
    "print(x[3:9])"
   ]
  },
  {
   "cell_type": "code",
   "execution_count": 33,
   "id": "concrete-cambridge",
   "metadata": {},
   "outputs": [
    {
     "name": "stdout",
     "output_type": "stream",
     "text": [
      "[0 2 4 6 8]\n",
      "[0 3 6 9]\n"
     ]
    }
   ],
   "source": [
    "# When using two colons without specifying start and stop\n",
    "# Defaults to starting from the first elemenet and every next element one 'step' away\n",
    "\n",
    "print(x[::2])\n",
    "print(x[::3])"
   ]
  },
  {
   "cell_type": "code",
   "execution_count": 34,
   "id": "certified-shark",
   "metadata": {},
   "outputs": [
    {
     "name": "stdout",
     "output_type": "stream",
     "text": [
      "[0 1 2 3 4 5 6]\n",
      "[0 1 2 3 4 5 6]\n",
      "[8 7 6 5 4 3 2 1 0]\n"
     ]
    }
   ],
   "source": [
    "# Negatives for the Start and Stop value simply start counting from the end of the array\n",
    "# Negatives for the 'step' value print the values in reverse\n",
    "# x[start:stop:(+step] : [_,_,START INDEX,-,-,-,-,-,>|,STOP INDEX,_,_,_]\n",
    "\n",
    "print(x[0:-3:1])\n",
    "print(x[0:7:1])\n",
    "print(x[8::-1])"
   ]
  },
  {
   "cell_type": "code",
   "execution_count": 35,
   "id": "collectible-flavor",
   "metadata": {},
   "outputs": [
    {
     "name": "stdout",
     "output_type": "stream",
     "text": [
      "[8 7 6 5 4 3 2 1]\n",
      "[8 7 6 5 4 3 2 1 0]\n"
     ]
    }
   ],
   "source": [
    "# x[start:stop:(-step] : [_,_,STOP INDEX,|<-,-,-,-,-,-,START INDEX,_,_,_]\n",
    "# For negative step values you must leave the stop value blank to include the print(x[8::-1])\n",
    "\n",
    "print(x[8:0:-1])\n",
    "print(x[8::-1])"
   ]
  },
  {
   "cell_type": "code",
   "execution_count": 36,
   "id": "incomplete-tragedy",
   "metadata": {},
   "outputs": [
    {
     "name": "stdout",
     "output_type": "stream",
     "text": [
      "[]\n",
      "[]\n"
     ]
    }
   ],
   "source": [
    "# If the stop index comes before the start index or\n",
    "# with negative steps the stop index comes after the start index the slice is returned empty\n",
    "\n",
    "print(x[7:1:1])\n",
    "print(x[5:7:-1])"
   ]
  },
  {
   "cell_type": "markdown",
   "id": "uniform-battery",
   "metadata": {},
   "source": [
    "### Multi Dimensional Sub Arrays"
   ]
  },
  {
   "cell_type": "code",
   "execution_count": 37,
   "id": "three-christopher",
   "metadata": {},
   "outputs": [
    {
     "data": {
      "text/plain": [
       "array([[ 5,  8,  6,  8,  6,  5,  9,  1],\n",
       "       [ 0,  6,  7,  7,  0,  5,  7,  0],\n",
       "       [ 3, 80,  8,  6,  2,  4,  1,  8],\n",
       "       [ 8,  9,  6,  5,  6,  8,  4,  7]])"
      ]
     },
     "execution_count": 37,
     "metadata": {},
     "output_type": "execute_result"
    }
   ],
   "source": [
    "# With Slicing works the same with n-D arrays as it does with 1-D arrays.\n",
    "\n",
    "x2"
   ]
  },
  {
   "cell_type": "code",
   "execution_count": 38,
   "id": "banned-lover",
   "metadata": {},
   "outputs": [
    {
     "data": {
      "text/plain": [
       "array([[7, 7, 0, 5, 7],\n",
       "       [8, 6, 2, 4, 1]])"
      ]
     },
     "execution_count": 38,
     "metadata": {},
     "output_type": "execute_result"
    }
   ],
   "source": [
    "# Second to Third Rows, Third to Seventh Column\n",
    "x2[1:3,2:7]"
   ]
  },
  {
   "cell_type": "code",
   "execution_count": 39,
   "id": "aging-darkness",
   "metadata": {},
   "outputs": [
    {
     "data": {
      "text/plain": [
       "array([[5, 8, 9],\n",
       "       [3, 6, 1]])"
      ]
     },
     "execution_count": 39,
     "metadata": {},
     "output_type": "execute_result"
    }
   ],
   "source": [
    "# Every Other Row, Every Thirsd Column\n",
    "x2[::2,::3]"
   ]
  },
  {
   "cell_type": "code",
   "execution_count": 40,
   "id": "adequate-drama",
   "metadata": {},
   "outputs": [
    {
     "name": "stdout",
     "output_type": "stream",
     "text": [
      "[8 9 6 5 6 8 4 7]\n",
      "[8 9 6 5 6 8 4 7]\n",
      "[5 5 4 8]\n"
     ]
    }
   ],
   "source": [
    "# A single ':' will return the full row or column\n",
    "# Ommiting the comma seperator and the column index automatically returns the full column\n",
    "\n",
    "print(x2[3,:])\n",
    "print(x2[3])\n",
    "print(x2[:,5])"
   ]
  },
  {
   "cell_type": "code",
   "execution_count": 41,
   "id": "competitive-magnitude",
   "metadata": {},
   "outputs": [
    {
     "name": "stdout",
     "output_type": "stream",
     "text": [
      "[[6 5 1 5 7 8 1 7]\n",
      " [2 4 1 1 2 5 2 6]\n",
      " [5 8 9 0 7 3 9 4]\n",
      " [1 5 1 4 0 3 5 2]]\n",
      "[[1 1 2 5]\n",
      " [9 0 7 3]]\n",
      "[[44 44 44 44]\n",
      " [44 44 44 44]]\n",
      "[[ 6  5  1  5  7  8  1  7]\n",
      " [ 2  4 44 44 44 44  2  6]\n",
      " [ 5  8 44 44 44 44  9  4]\n",
      " [ 1  5  1  4  0  3  5  2]]\n"
     ]
    }
   ],
   "source": [
    "# Using '=' to assign a value from an array to a variable ***LINKS THE VARIABLE TO THE ARRAY***\n",
    "\n",
    "x2 = np.random.randint(10, size=(4,8))\n",
    "print(x2)\n",
    "x2_sub = x2[1:3,2:6]\n",
    "print(x2_sub)\n",
    "x2_sub[:,:] = 44\n",
    "print(x2_sub)\n",
    "print(x2)"
   ]
  },
  {
   "cell_type": "code",
   "execution_count": 42,
   "id": "mental-naples",
   "metadata": {},
   "outputs": [
    {
     "name": "stdout",
     "output_type": "stream",
     "text": [
      "[[6 6 1 2 2 2 4 0]\n",
      " [8 0 7 3 4 0 1 6]\n",
      " [5 2 7 1 0 7 4 1]\n",
      " [3 7 3 7 2 0 4 6]]\n",
      "[[7 3 4 0]\n",
      " [7 1 0 7]]\n",
      "[[44 44 44 44]\n",
      " [44 44 44 44]]\n",
      "[[6 6 1 2 2 2 4 0]\n",
      " [8 0 7 3 4 0 1 6]\n",
      " [5 2 7 1 0 7 4 1]\n",
      " [3 7 3 7 2 0 4 6]]\n"
     ]
    }
   ],
   "source": [
    "# To create an UNLINKED copy you must use the (array).copy() method\n",
    "\n",
    "x2 = np.random.randint(10, size=(4,8))\n",
    "print(x2)\n",
    "x2_sub = x2[1:3,2:6].copy()\n",
    "print(x2_sub)\n",
    "x2_sub[:,:] = 44\n",
    "print(x2_sub)\n",
    "print(x2)"
   ]
  },
  {
   "cell_type": "code",
   "execution_count": 43,
   "id": "shaped-thomson",
   "metadata": {},
   "outputs": [
    {
     "name": "stdout",
     "output_type": "stream",
     "text": [
      "[1 2 3 4 5 6 7 8 9] \n",
      "\n",
      "[[1 2 3]\n",
      " [4 5 6]\n",
      " [7 8 9]]\n"
     ]
    }
   ],
   "source": [
    "grid1by9 = np.arange(1,10)\n",
    "print(grid1by9, '\\n')\n",
    "grid3by3 = grid1by9.reshape(3,3)\n",
    "print(grid3by3)\n"
   ]
  },
  {
   "cell_type": "code",
   "execution_count": 44,
   "id": "prompt-sydney",
   "metadata": {},
   "outputs": [],
   "source": [
    "x = np.array([1,2,3])\n",
    "\n"
   ]
  },
  {
   "cell_type": "code",
   "execution_count": 45,
   "id": "expanded-allah",
   "metadata": {},
   "outputs": [
    {
     "name": "stdout",
     "output_type": "stream",
     "text": [
      "[[1 2 3]]\n",
      "[[1 2 3]]\n"
     ]
    }
   ],
   "source": [
    "# Create a row vector:\n",
    "\n",
    "# via '.reshape'\n",
    "y = x.reshape(1,len(x))\n",
    "print(y)\n",
    "\n",
    "# via 'newaxis'\n",
    "y[np.newaxis,:]\n",
    "print(y)"
   ]
  },
  {
   "cell_type": "code",
   "execution_count": 46,
   "id": "broadband-transport",
   "metadata": {},
   "outputs": [
    {
     "name": "stdout",
     "output_type": "stream",
     "text": [
      "[[1]\n",
      " [2]\n",
      " [3]]\n",
      "[[1]\n",
      " [2]\n",
      " [3]]\n"
     ]
    }
   ],
   "source": [
    "# Create a new column vector\n",
    "\n",
    "# via '.reshape'\n",
    "y = x.reshape(len(x),1)\n",
    "print(y)\n",
    "\n",
    "# via 'np.newaxis'\n",
    "y[:,np.newaxis]\n",
    "print(y)"
   ]
  },
  {
   "cell_type": "markdown",
   "id": "instrumental-transcript",
   "metadata": {},
   "source": [
    "### Concatenation of Arrays"
   ]
  },
  {
   "cell_type": "code",
   "execution_count": 47,
   "id": "protecting-snapshot",
   "metadata": {},
   "outputs": [
    {
     "data": {
      "text/plain": [
       "array([1, 2, 3, 3, 2, 1])"
      ]
     },
     "execution_count": 47,
     "metadata": {},
     "output_type": "execute_result"
    }
   ],
   "source": [
    "# You can use 'np.concatenate' to join arrays\n",
    "x = np.array([1,2,3])\n",
    "y = np.array([3,2,1])\n",
    "np.concatenate([x,y])"
   ]
  },
  {
   "cell_type": "code",
   "execution_count": 48,
   "id": "mexican-payday",
   "metadata": {},
   "outputs": [
    {
     "name": "stdout",
     "output_type": "stream",
     "text": [
      "[ 1  2  3  3  2  1 99 99 99]\n",
      "[[ 1  2  3]\n",
      " [ 3  2  1]\n",
      " [99 99 99]]\n"
     ]
    }
   ],
   "source": [
    "# You can concatenate as many arrays as you wish\n",
    "z = np.array([99,99,99])\n",
    "grid = np.concatenate([x,y,z])\n",
    "print(grid)\n",
    "grid = np.concatenate([[x],[y],[z]])\n",
    "print(grid)"
   ]
  },
  {
   "cell_type": "code",
   "execution_count": 49,
   "id": "conservative-determination",
   "metadata": {},
   "outputs": [
    {
     "name": "stdout",
     "output_type": "stream",
     "text": [
      "[[[ 1  2  3]\n",
      "  [ 3  2  1]\n",
      "  [99 99 99]]\n",
      "\n",
      " [[ 1  2  3]\n",
      "  [ 3  2  1]\n",
      "  [99 99 99]]\n",
      "\n",
      " [[ 1  2  3]\n",
      "  [ 3  2  1]\n",
      "  [99 99 99]]\n",
      "\n",
      " [[ 1  2  3]\n",
      "  [ 3  2  1]\n",
      "  [99 99 99]]] (4, 3, 3) \n",
      "\n",
      "[[ 1  2  3]\n",
      " [ 3  2  1]\n",
      " [99 99 99]\n",
      " [ 1  2  3]\n",
      " [ 3  2  1]\n",
      " [99 99 99]] (6, 3)\n"
     ]
    }
   ],
   "source": [
    "# You  can concatenate n-D arrays as wellat once\n",
    "\n",
    "# Wihtout specifying a value for the axis keyword it will be done in the the first Axis\n",
    "a = np.concatenate([[grid,grid],[grid,grid]])\n",
    "print (a, a.shape,'\\n')\n",
    "\n",
    "# You can specify the axis with the 'axis=' keyword\n",
    "b = np.concatenate([grid,grid], axis=0)\n",
    "print (b,b.shape)\n"
   ]
  },
  {
   "cell_type": "code",
   "execution_count": 50,
   "id": "martial-engagement",
   "metadata": {},
   "outputs": [
    {
     "name": "stdout",
     "output_type": "stream",
     "text": [
      "[[ 1  2  3  1  2  3]\n",
      " [ 3  2  1  3  2  1]\n",
      " [99 99 99 99 99 99]]\n"
     ]
    }
   ],
   "source": [
    "# You can specify to concatenate in whatever axis up to the number of dimensions in the array\n",
    "\n",
    "c = np.concatenate([grid,grid], axis=1)\n",
    "print (c)"
   ]
  },
  {
   "cell_type": "markdown",
   "id": "acceptable-literature",
   "metadata": {},
   "source": [
    "### Splitting of Arrays"
   ]
  },
  {
   "cell_type": "code",
   "execution_count": 51,
   "id": "thirty-understanding",
   "metadata": {},
   "outputs": [
    {
     "name": "stdout",
     "output_type": "stream",
     "text": [
      "[1, 2, 3, 99, 99, 3, 2, 1]\n",
      "[1 2 3] [99 99] [3 2 1]\n"
     ]
    }
   ],
   "source": [
    "# to use 'np.split(array,tuple)' specify the array and in the tuple specify the index of where to split.\n",
    "# np.split() produces multiple arrays broken by the split index\n",
    "\n",
    "x = [1,2,3,99,99,3,2,1]\n",
    "print(x)\n",
    "\n",
    "x1,x2,x3 = np.split(x,[3,5])\n",
    "print(x1,x2,x3)"
   ]
  },
  {
   "cell_type": "code",
   "execution_count": 52,
   "id": "rural-montgomery",
   "metadata": {},
   "outputs": [
    {
     "name": "stdout",
     "output_type": "stream",
     "text": [
      "[[[ 1  2  3]\n",
      "  [ 3  2  1]\n",
      "  [99 99 99]]] \n",
      "\n",
      " [[[ 1  2  3]\n",
      "  [ 3  2  1]\n",
      "  [99 99 99]]\n",
      "\n",
      " [[ 1  2  3]\n",
      "  [ 3  2  1]\n",
      "  [99 99 99]]\n",
      "\n",
      " [[ 1  2  3]\n",
      "  [ 3  2  1]\n",
      "  [99 99 99]]] \n",
      "\n"
     ]
    }
   ],
   "source": [
    "# 'np.vsplit()' splits the array at a row index, along the first axis (axis=0)\n",
    "\n",
    "upper,lower = np.vsplit(a,[1])\n",
    "print(upper,'\\n\\n',lower,'\\n')"
   ]
  },
  {
   "cell_type": "code",
   "execution_count": 53,
   "id": "broke-personal",
   "metadata": {},
   "outputs": [
    {
     "name": "stdout",
     "output_type": "stream",
     "text": [
      "[[ 1  2  3]\n",
      " [ 3  2  1]\n",
      " [99 99 99]] \n",
      "\n",
      "\n",
      "[[[ 1  2  3]\n",
      "  [ 3  2  1]\n",
      "  [99 99 99]]] \n",
      "\n",
      " [[[ 1  2  3]\n",
      "  [ 3  2  1]\n",
      "  [99 99 99]]\n",
      "\n",
      " [[ 1  2  3]\n",
      "  [ 3  2  1]\n",
      "  [99 99 99]]\n",
      "\n",
      " [[ 1  2  3]\n",
      "  [ 3  2  1]\n",
      "  [99 99 99]]] \n",
      "\n"
     ]
    }
   ],
   "source": [
    "# 'np.hsplit()' splits the array at a column index, along the second axis(axis=0)\n",
    "\n",
    "print(grid,'\\n\\n')\n",
    "\n",
    "left, right = np.hsplit(a,[1])\n",
    "print(upper,'\\n\\n',lower,'\\n')"
   ]
  },
  {
   "cell_type": "markdown",
   "id": "alpine-thought",
   "metadata": {},
   "source": [
    "# Computation on Numpy Arrays : Universal Functions (ufuncs)"
   ]
  },
  {
   "cell_type": "code",
   "execution_count": 54,
   "id": "disturbed-profit",
   "metadata": {},
   "outputs": [
    {
     "name": "stdout",
     "output_type": "stream",
     "text": [
      "[6 1 4 4 8]\n",
      "[0.16666667 1.         0.25       0.25       0.125     ]\n"
     ]
    }
   ],
   "source": [
    "# Loops are slow, try to use vectorized computations with numpy arrays\n",
    "\n",
    "np.random.seed(0)\n",
    "\n",
    "def compute_reciprocals(values):\n",
    "    output = np.empty(len(values))\n",
    "    for i in range(len(values)):\n",
    "        output[i] = 1.0/values[i]\n",
    "    return output\n",
    "\n",
    "values = np.random.randint(1,10, size=5)\n",
    "reciprocals = compute_reciprocals(values)\n",
    "print(values)\n",
    "print(reciprocals)"
   ]
  },
  {
   "cell_type": "code",
   "execution_count": 55,
   "id": "public-keyboard",
   "metadata": {},
   "outputs": [
    {
     "name": "stdout",
     "output_type": "stream",
     "text": [
      "1.83 ms ± 106 µs per loop (mean ± std. dev. of 7 runs, 100 loops each)\n",
      "1.89 ms ± 22.1 µs per loop (mean ± std. dev. of 7 runs, 1000 loops each)\n",
      "1.89 s ± 160 ms per loop (mean ± std. dev. of 7 runs, 1 loop each)\n",
      "1.8 s ± 37 ms per loop (mean ± std. dev. of 7 runs, 1 loop each)\n"
     ]
    }
   ],
   "source": [
    "# Here is how to use the '%timeit', one of the universal functions(ufuncs) in python\n",
    "# Notice that the size of elements in the array have virtually no effect on the runt time\n",
    "# Optimization of the code to minizime loops is essential\n",
    "\n",
    "\n",
    "big_array1 = np.random.randint(1,10, size=1000)\n",
    "big_array2 = np.random.randint(1,(2**33), size=1000)\n",
    "bigger_array1 = np.random.randint(1,10, size=1000000)\n",
    "bigger_array2 = np.random.randint(1,(2**33), size=1000000)\n",
    "%timeit compute_reciprocals(big_array1)\n",
    "%timeit compute_reciprocals(big_array2)\n",
    "%timeit compute_reciprocals(bigger_array1)\n",
    "%timeit compute_reciprocals(bigger_array2)\n"
   ]
  },
  {
   "cell_type": "code",
   "execution_count": 56,
   "id": "corresponding-stuart",
   "metadata": {},
   "outputs": [
    {
     "name": "stdout",
     "output_type": "stream",
     "text": [
      "2.34 µs ± 109 ns per loop (mean ± std. dev. of 7 runs, 100000 loops each)\n",
      "2.24 µs ± 37.6 ns per loop (mean ± std. dev. of 7 runs, 100000 loops each)\n",
      "1.23 ms ± 46.2 µs per loop (mean ± std. dev. of 7 runs, 1000 loops each)\n",
      "1.2 ms ± 16.1 µs per loop (mean ± std. dev. of 7 runs, 1000 loops each)\n"
     ]
    }
   ],
   "source": [
    "# Using ufuncs, the static typing of numpy arrays allows operations like this to be pushed into the compiled layer\n",
    "# underlying the python interface.  This bypasses all of the conversion between Python and C\n",
    "# ***MUCH FASTER***\n",
    "\n",
    "%timeit (1/big_array1)\n",
    "%timeit (1/big_array2)\n",
    "%timeit (1/bigger_array1)\n",
    "%timeit (1/bigger_array2)"
   ]
  },
  {
   "cell_type": "code",
   "execution_count": 57,
   "id": "numerous-horizontal",
   "metadata": {},
   "outputs": [
    {
     "name": "stdout",
     "output_type": "stream",
     "text": [
      "[[1 2 3]\n",
      " [4 5 6]\n",
      " [7 8 9]] \n",
      "\n",
      "[[ 2  4  6]\n",
      " [ 8 10 12]\n",
      " [14 16 18]] \n",
      "\n",
      "[[  2   8  18]\n",
      " [ 32  50  72]\n",
      " [ 98 128 162]]\n"
     ]
    }
   ],
   "source": [
    "# all of the basic mathematical operations can be applied in this way\n",
    "x = np.arange(1,10).reshape((3,3))\n",
    "print(x, '\\n')\n",
    "y = 2*x\n",
    "print(y, '\\n')\n",
    "z = x*y\n",
    "print(z)"
   ]
  },
  {
   "cell_type": "markdown",
   "id": "twelve-virginia",
   "metadata": {},
   "source": [
    "# Exploring ufuncs"
   ]
  },
  {
   "cell_type": "markdown",
   "id": "limited-second",
   "metadata": {},
   "source": [
    "### Array Arithmetic"
   ]
  },
  {
   "cell_type": "code",
   "execution_count": 58,
   "id": "flexible-basement",
   "metadata": {},
   "outputs": [
    {
     "name": "stdout",
     "output_type": "stream",
     "text": [
      " x      =  [0 1 2 3] \n",
      "\n",
      " x + 5  =  [5 6 7 8] \n",
      "\n",
      " x - 5  =  [-5 -4 -3 -2] \n",
      "\n",
      " x * 2  =  [0 2 4 6] \n",
      "\n",
      " x / 2  =  [0.  0.5 1.  1.5] \n",
      "\n",
      " x //2  =  [0 0 1 1] \n",
      "\n",
      "-x      =  [ 0 -1 -2 -3] \n",
      "\n",
      " x % 2  =  [0 1 0 1] \n",
      "\n"
     ]
    }
   ],
   "source": [
    "x = np.arange(4)\n",
    "print(\" x      = \", x, '\\n')\n",
    "print(\" x + 5  = \", x + 5, '\\n')    \n",
    "print(\" x - 5  = \", x - 5, '\\n')\n",
    "print(\" x * 2  = \", x * 2, '\\n')\n",
    "print(\" x / 2  = \", x / 2, '\\n')\n",
    "print(\" x //2  = \", x // 2, '\\n')  # Floor Division\n",
    "print(\"-x      = \", -x, '\\n')\n",
    "print(\" x % 2  = \", x % 2, '\\n')"
   ]
  },
  {
   "cell_type": "code",
   "execution_count": 59,
   "id": "packed-december",
   "metadata": {},
   "outputs": [
    {
     "data": {
      "text/plain": [
       "array([-1.    , -1.5625, -2.25  , -3.0625])"
      ]
     },
     "execution_count": 59,
     "metadata": {},
     "output_type": "execute_result"
    }
   ],
   "source": [
    "# The order of operations is respected\n",
    "\n",
    "-(.25 * x + 1) **2"
   ]
  },
  {
   "cell_type": "code",
   "execution_count": 60,
   "id": "current-expense",
   "metadata": {},
   "outputs": [
    {
     "name": "stdout",
     "output_type": "stream",
     "text": [
      "[0 1 2 3]\n",
      "[2 3 4 5]\n"
     ]
    }
   ],
   "source": [
    "# the arithmetic operators are a wrapper for numpy method ufuncs that accept an array and a quantity\n",
    "\n",
    "A = np.add(x , 2)\n",
    "print(x)\n",
    "print(A)"
   ]
  },
  {
   "cell_type": "code",
   "execution_count": 61,
   "id": "related-impossible",
   "metadata": {},
   "outputs": [],
   "source": [
    "# Here are the list of ufuncs and their equivalents\n",
    "\n",
    "\"\"\"\n",
    "+ \tnp.add \tAddition (e.g., 1 + 1 = 2)\n",
    "- \tnp.subtract \tSubtraction (e.g., 3 - 2 = 1)\n",
    "- \tnp.negative \tUnary negation (e.g., -2)\n",
    "* \tnp.multiply \tMultiplication (e.g., 2 * 3 = 6)\n",
    "/ \tnp.divide \tDivision (e.g., 3 / 2 = 1.5)\n",
    "// \tnp.floor_divide \tFloor division (e.g., 3 // 2 = 1)\n",
    "** \tnp.power \tExponentiation (e.g., 2 ** 3 = 8)\n",
    "% \tnp.mod \tModulus/remainder (e.g., 9 % 4 = 1)\n",
    "\n",
    "\"\"\";"
   ]
  },
  {
   "cell_type": "code",
   "execution_count": 62,
   "id": "advanced-chess",
   "metadata": {},
   "outputs": [
    {
     "name": "stdout",
     "output_type": "stream",
     "text": [
      "[-10000  -9999  -9998 ...   9997   9998   9999]\n",
      "[-9999 -9998 -9997 ...  9998  9999 10000]\n",
      "10.5 µs ± 241 ns per loop (mean ± std. dev. of 7 runs, 100000 loops each)\n",
      "10.4 µs ± 168 ns per loop (mean ± std. dev. of 7 runs, 100000 loops each)\n"
     ]
    }
   ],
   "source": [
    "# Python recognizes the built-in python commands as well as the \n",
    "# The two methods time the same.\n",
    "\n",
    "x = np.array([-2, -1, 0, 1 , 2])\n",
    "x = np.arange(-10000,10000)\n",
    "negx = -1*x[::-1]\n",
    "negx = negx.copy() \n",
    "print(x)\n",
    "print(negx)\n",
    "\n",
    "%timeit abs(x)\n",
    "%timeit np.absolute(x)"
   ]
  },
  {
   "cell_type": "code",
   "execution_count": 63,
   "id": "quarterly-investor",
   "metadata": {},
   "outputs": [
    {
     "name": "stdout",
     "output_type": "stream",
     "text": [
      "[4.-4.j 4.-3.j 2.+0.j 0.+1.j]\n",
      "[5.65685425 5.         2.         1.        ]\n"
     ]
    }
   ],
   "source": [
    "# Absolute values work on complex numbers too\n",
    "\n",
    "x = np.array([4-4j, 4-3j, 2+0j, 0+1J])\n",
    "print(x)\n",
    "print(np.abs(x)) # returns the MAGNITUDE of the complex number (a**2 + b**2 = c**c)"
   ]
  },
  {
   "cell_type": "markdown",
   "id": "precise-yorkshire",
   "metadata": {},
   "source": [
    "### Trigonometric Functions"
   ]
  },
  {
   "cell_type": "code",
   "execution_count": 64,
   "id": "republican-treasury",
   "metadata": {},
   "outputs": [
    {
     "name": "stdout",
     "output_type": "stream",
     "text": [
      "theta.        = [0.         1.57079633 3.14159265] \n",
      "\n",
      "sin(theta)    = [0.0000000e+00 1.0000000e+00 1.2246468e-16] \n",
      "\n",
      "cos(theta)    = [ 1.000000e+00  6.123234e-17 -1.000000e+00] \n",
      "\n",
      "tan(theta)    = [ 0.00000000e+00  1.63312394e+16 -1.22464680e-16]\n"
     ]
    }
   ],
   "source": [
    "# Trig functions are as follows\n",
    "\n",
    "theta = np.linspace(0,np.pi, 3)\n",
    "print(\"theta.        =\", theta, '\\n')\n",
    "print(\"sin(theta)    =\", np.sin(theta), '\\n')\n",
    "print(\"cos(theta)    =\", np.cos(theta), '\\n')\n",
    "print(\"tan(theta)    =\", np.tan(theta))"
   ]
  },
  {
   "cell_type": "code",
   "execution_count": 65,
   "id": "under-congress",
   "metadata": {},
   "outputs": [
    {
     "name": "stdout",
     "output_type": "stream",
     "text": [
      "x.            = [0.         1.57079633 3.14159265] \n",
      "\n",
      "arcsin(x)    = [0.         1.57079633 0.        ] \n",
      "\n",
      "arccos(x)    = [1.57079633 0.         1.57079633] \n",
      "\n",
      "arctan(x)    = [0.         0.78539816 0.        ]\n"
     ]
    }
   ],
   "source": [
    "\n",
    "x = np.array([0,1,0])\n",
    "print(\"x.            =\", theta, '\\n')\n",
    "print(\"arcsin(x)    =\", np.arcsin(x), '\\n')\n",
    "print(\"arccos(x)    =\", np.arccos(x), '\\n')\n",
    "print(\"arctan(x)    =\", np.arctan(x))\n"
   ]
  },
  {
   "cell_type": "markdown",
   "id": "aquatic-romania",
   "metadata": {},
   "source": [
    "### Numpy has ufuncs for Exponents and Logarithms"
   ]
  },
  {
   "cell_type": "code",
   "execution_count": 66,
   "id": "junior-arrest",
   "metadata": {},
   "outputs": [
    {
     "name": "stdout",
     "output_type": "stream",
     "text": [
      "x    = [1, 2, 3] \n",
      "\n",
      "e^x  = [ 2.71828183  7.3890561  20.08553692] \n",
      "\n",
      "2^x  = [2. 4. 8.] \n",
      "\n",
      "3^x  = [ 3  9 27] \n",
      "\n"
     ]
    }
   ],
   "source": [
    "x = [1,2,3]\n",
    "\n",
    "print(\"x    =\", x,'\\n')\n",
    "print(\"e^x  =\", np.exp(x),'\\n')\n",
    "print(\"2^x  =\", np.exp2(x),'\\n')\n",
    "print(\"3^x  =\", np.power(3,x),'\\n') # 'np.power(x,y)' raises x to the power of y"
   ]
  },
  {
   "cell_type": "code",
   "execution_count": 67,
   "id": "arabic-springfield",
   "metadata": {},
   "outputs": [
    {
     "name": "stdout",
     "output_type": "stream",
     "text": [
      "x       = [1, 2, 8, 100] \n",
      "\n",
      "ln(x)   = [0.         0.69314718 2.07944154 4.60517019] \n",
      "\n",
      "log2(x) = [0.         1.         3.         6.64385619] \n",
      "\n",
      "log10(x)= [0.         0.30103    0.90308999 2.        ] \n",
      "\n"
     ]
    }
   ],
   "source": [
    "x = [1,2,8,100]\n",
    "\n",
    "print(\"x       =\", x,'\\n')\n",
    "print(\"ln(x)   =\", np.log(x),'\\n')\n",
    "print(\"log2(x) =\", np.log2(x),'\\n')\n",
    "print(\"log10(x)=\", np.log10(x),'\\n')"
   ]
  },
  {
   "cell_type": "code",
   "execution_count": 68,
   "id": "specialized-knitting",
   "metadata": {},
   "outputs": [
    {
     "name": "stdout",
     "output_type": "stream",
     "text": [
      "exp(x) - 1 = [0.         0.0010005  0.01005017 0.10517092] \n",
      "\n",
      "log(1 + x) = [0.         0.0009995  0.00995033 0.09531018] \n",
      "\n"
     ]
    }
   ],
   "source": [
    "# There are also some specialized log functions for maintaining precision with very small values\n",
    "\n",
    "x = [0, 0.001, 0.01, 0.1]\n",
    "print(\"exp(x) - 1 =\", np.expm1(x),'\\n')\n",
    "print(\"log(1 + x) =\", np.log1p(x),'\\n')"
   ]
  },
  {
   "cell_type": "markdown",
   "id": "incorporated-spending",
   "metadata": {},
   "source": [
    "### Specialized ufuncs"
   ]
  },
  {
   "cell_type": "code",
   "execution_count": 69,
   "id": "under-source",
   "metadata": {},
   "outputs": [
    {
     "name": "stdout",
     "output_type": "stream",
     "text": [
      "gamma(x)     = [1.0000e+00 2.4000e+01 3.6288e+05] \n",
      "\n",
      "ln|gamma(x)| = [ 0.          3.17805383 12.80182748] \n",
      "\n",
      "beta(x, 2)   = [0.5        0.03333333 0.00909091] \n",
      "\n"
     ]
    }
   ],
   "source": [
    "# scipy has some specialized ufuncs for statistical analysis\n",
    "from scipy import special\n",
    "\n",
    "x = [1, 5, 10]\n",
    "\n",
    "print(\"gamma(x)     =\", special.gamma(x),'\\n')\n",
    "print(\"ln|gamma(x)| =\", special.gammaln(x),'\\n')\n",
    "print(\"beta(x, 2)   =\", special.beta(x, 2),'\\n')\n",
    "\n"
   ]
  },
  {
   "cell_type": "code",
   "execution_count": 70,
   "id": "sought-chicago",
   "metadata": {},
   "outputs": [
    {
     "name": "stdout",
     "output_type": "stream",
     "text": [
      "erf(x)  = [0.         0.32862676 0.67780119 0.84270079] \n",
      "\n",
      "erfc(x) = [1.         0.67137324 0.32219881 0.15729921] \n",
      "\n",
      "erfinv(x) = [0.         0.27246271 0.73286908        inf] \n",
      "\n"
     ]
    }
   ],
   "source": [
    "# Error function (integral of Gaussian)\n",
    "# its complement, and its inverse\n",
    "\n",
    "x = np.array([0, 0.3, 0.7, 1.0])\n",
    "print(\"erf(x)  =\", special.erf(x),'\\n')\n",
    "print(\"erfc(x) =\", special.erfc(x),'\\n')\n",
    "print(\"erfinv(x) =\", special.erfinv(x),'\\n')"
   ]
  },
  {
   "cell_type": "markdown",
   "id": "inappropriate-bidding",
   "metadata": {},
   "source": [
    "# Advanced Ufunc Features"
   ]
  },
  {
   "cell_type": "markdown",
   "id": "jewish-motivation",
   "metadata": {},
   "source": [
    "### Assigning result to a function"
   ]
  },
  {
   "cell_type": "code",
   "execution_count": 71,
   "id": "superior-loading",
   "metadata": {},
   "outputs": [
    {
     "name": "stdout",
     "output_type": "stream",
     "text": [
      "[0 1 2 3 4]\n",
      "[ 0. 10. 20. 30. 40.]\n"
     ]
    }
   ],
   "source": [
    "# The output of a ufunc can be specified inside the function without assigning to a variable.\n",
    "# To do this you must create an appropriately sized array to place the result in.\n",
    "\n",
    "x = np.arange(5)\n",
    "y = np.empty(5)\n",
    "np.multiply(x,10, out=y)\n",
    "print(x)\n",
    "print(y)"
   ]
  },
  {
   "cell_type": "code",
   "execution_count": 73,
   "id": "measured-network",
   "metadata": {},
   "outputs": [
    {
     "name": "stdout",
     "output_type": "stream",
     "text": [
      "[ 1.  0.  2.  0.  4.  0.  8.  0. 16.  0.]\n"
     ]
    }
   ],
   "source": [
    "# The results of the function can be assigned with slice formatting also\n",
    "\n",
    "y = np.zeros(10)\n",
    "np.power(2,x, out=y[::2])\n",
    "print(y)"
   ]
  },
  {
   "cell_type": "markdown",
   "id": "accurate-concert",
   "metadata": {},
   "source": [
    "### Aggregates on binary based ufuncs"
   ]
  },
  {
   "cell_type": "code",
   "execution_count": 74,
   "id": "silent-monster",
   "metadata": {},
   "outputs": [
    {
     "data": {
      "text/plain": [
       "15"
      ]
     },
     "execution_count": 74,
     "metadata": {},
     "output_type": "execute_result"
    }
   ],
   "source": [
    "# Reduce performs the operation on the array until it is reduced to a single value'\n",
    "\n",
    "x = np.arange(1,6)\n",
    "np.add.reduce(x)"
   ]
  },
  {
   "cell_type": "code",
   "execution_count": 75,
   "id": "tropical-hollow",
   "metadata": {},
   "outputs": [
    {
     "data": {
      "text/plain": [
       "120"
      ]
     },
     "execution_count": 75,
     "metadata": {},
     "output_type": "execute_result"
    }
   ],
   "source": [
    "np.multiply.reduce(x)"
   ]
  },
  {
   "cell_type": "code",
   "execution_count": 77,
   "id": "intended-portal",
   "metadata": {},
   "outputs": [
    {
     "name": "stdout",
     "output_type": "stream",
     "text": [
      "[ 1  3  6 10 15]\n",
      "[  1   2   6  24 120]\n"
     ]
    }
   ],
   "source": [
    "# to track every step you can use '.accumulate'\n",
    "print(np.add.accumulate(x))\n",
    "print(np.multiply.accumulate(x))"
   ]
  },
  {
   "cell_type": "markdown",
   "id": "banned-shakespeare",
   "metadata": {},
   "source": [
    "### Outer Products"
   ]
  },
  {
   "cell_type": "code",
   "execution_count": 81,
   "id": "mineral-intro",
   "metadata": {},
   "outputs": [
    {
     "name": "stdout",
     "output_type": "stream",
     "text": [
      "[1 2 3 4 5] [1 2 3 4 5 6 7] \n",
      "\n",
      "[[ 2  3  4  5  6  7  8]\n",
      " [ 3  4  5  6  7  8  9]\n",
      " [ 4  5  6  7  8  9 10]\n",
      " [ 5  6  7  8  9 10 11]\n",
      " [ 6  7  8  9 10 11 12]] \n",
      "\n",
      "[[ 1  2  3  4  5  6  7]\n",
      " [ 2  4  6  8 10 12 14]\n",
      " [ 3  6  9 12 15 18 21]\n",
      " [ 4  8 12 16 20 24 28]\n",
      " [ 5 10 15 20 25 30 35]]\n"
     ]
    }
   ],
   "source": [
    "# Outer takes two vectors, length n and m, and performs the function on each element of one vector\n",
    "# on each element of the other vector yielding an yielding an n x m matrix.\n",
    "\n",
    "x = np.arange(1,6)\n",
    "y = np.arange(1,8)\n",
    "outer_addxy = np.add.outer(x,y)\n",
    "outer_prodxy = np.multiply.outer(x,y)\n",
    "print(x, y,'\\n')\n",
    "print(outer_addxy,'\\n')\n",
    "print(outer_prodxy)"
   ]
  },
  {
   "cell_type": "markdown",
   "id": "romance-significance",
   "metadata": {},
   "source": [
    "# Aggregation : Min, Max, and Everything In Between"
   ]
  },
  {
   "cell_type": "code",
   "execution_count": 84,
   "id": "superior-purpose",
   "metadata": {
    "scrolled": false
   },
   "outputs": [
    {
     "name": "stdout",
     "output_type": "stream",
     "text": [
      "[0.03065504 0.70380904 0.7138502  0.35163856 0.76587372 0.2304844\n",
      " 0.41232985 0.92476631 0.58125094 0.6683262  0.86350061 0.60644619\n",
      " 0.69636094 0.57394075 0.42496905 0.94334021 0.96367964 0.19582345\n",
      " 0.74873907 0.55054946 0.63887347 0.18328848 0.80347032 0.37696943\n",
      " 0.05776975 0.88987064 0.5521247  0.89045751 0.52509875 0.01235548\n",
      " 0.83753771 0.42801561 0.70901034 0.47466031 0.73243568 0.21324174\n",
      " 0.24656037 0.16456896 0.56476288 0.8151335  0.6014913  0.04806592\n",
      " 0.18671944 0.27409187 0.44987871 0.02614352 0.59319215 0.92502762\n",
      " 0.97239459 0.56949437 0.32935283 0.43332738 0.60335404 0.0813466\n",
      " 0.03667625 0.68300053 0.70326992 0.01827669 0.96737807 0.67989766\n",
      " 0.9818914  0.460652   0.08738184 0.54255032 0.57953555 0.30639294\n",
      " 0.58012068 0.550027   0.3686076  0.90935951 0.94387503 0.81650329\n",
      " 0.42565454 0.50688507 0.07620845 0.11314289 0.21129659 0.39019396\n",
      " 0.98318731 0.27978642 0.70806325 0.73841257 0.29746832 0.31434257\n",
      " 0.47328145 0.65005653 0.35520259 0.79004179 0.15187326 0.72228517\n",
      " 0.93237538 0.02985459 0.33989574 0.89356895 0.79339537 0.08219861\n",
      " 0.12114578 0.24196705 0.87789637 0.47310467] \n",
      "\n",
      "51.348601110106216\n"
     ]
    }
   ],
   "source": [
    "L = np.random.random(100)\n",
    "print(L,'\\n')\n",
    "print(sum(L))"
   ]
  },
  {
   "cell_type": "code",
   "execution_count": 87,
   "id": "loved-fisher",
   "metadata": {},
   "outputs": [
    {
     "name": "stdout",
     "output_type": "stream",
     "text": [
      "[0.03065504 0.70380904 0.7138502  0.35163856 0.76587372 0.2304844\n",
      " 0.41232985 0.92476631 0.58125094 0.6683262  0.86350061 0.60644619\n",
      " 0.69636094 0.57394075 0.42496905 0.94334021 0.96367964 0.19582345\n",
      " 0.74873907 0.55054946 0.63887347 0.18328848 0.80347032 0.37696943\n",
      " 0.05776975 0.88987064 0.5521247  0.89045751 0.52509875 0.01235548\n",
      " 0.83753771 0.42801561 0.70901034 0.47466031 0.73243568 0.21324174\n",
      " 0.24656037 0.16456896 0.56476288 0.8151335  0.6014913  0.04806592\n",
      " 0.18671944 0.27409187 0.44987871 0.02614352 0.59319215 0.92502762\n",
      " 0.97239459 0.56949437 0.32935283 0.43332738 0.60335404 0.0813466\n",
      " 0.03667625 0.68300053 0.70326992 0.01827669 0.96737807 0.67989766\n",
      " 0.9818914  0.460652   0.08738184 0.54255032 0.57953555 0.30639294\n",
      " 0.58012068 0.550027   0.3686076  0.90935951 0.94387503 0.81650329\n",
      " 0.42565454 0.50688507 0.07620845 0.11314289 0.21129659 0.39019396\n",
      " 0.98318731 0.27978642 0.70806325 0.73841257 0.29746832 0.31434257\n",
      " 0.47328145 0.65005653 0.35520259 0.79004179 0.15187326 0.72228517\n",
      " 0.93237538 0.02985459 0.33989574 0.89356895 0.79339537 0.08219861\n",
      " 0.12114578 0.24196705 0.87789637 0.47310467] \n",
      "\n",
      "51.348601110106216\n",
      "51.34860111010622\n",
      "12.7 µs ± 317 ns per loop (mean ± std. dev. of 7 runs, 100000 loops each)\n",
      "3.14 µs ± 21.5 ns per loop (mean ± std. dev. of 7 runs, 100000 loops each)\n"
     ]
    }
   ],
   "source": [
    "# The result is normally the same but 'np.sum(L)' is MUCH faster\n",
    "\n",
    "print(L,'\\n')\n",
    "print(sum(L))\n",
    "print(np.sum(L))\n",
    "\n",
    "%timeit sum(L)\n",
    "%timeit np.sum(L)"
   ]
  },
  {
   "cell_type": "code",
   "execution_count": 89,
   "id": "worthy-costs",
   "metadata": {},
   "outputs": [
    {
     "name": "stdout",
     "output_type": "stream",
     "text": [
      "[4 6 3 5 8 7 9 9 2 7 8 8 9 2 6 9 5 4 1 4 6 1 3 4 9 2 4 4 4 8 1 2 1 5 8 4 3\n",
      " 8 3 1 1 5 6 6 7 9 5 2 5 9 2 2 8 4 7 8 3 1 4 6 5 5 7 5 5 4 5 5 9 5 4 8 6 6\n",
      " 1 2 6 4 1 6 1 2 3 5 3 1 4 3 1 8 6 1 3 8 3 3 4 4 3 4 5 2 3 2 5 7 9 3 4 1 1\n",
      " 7 1 7 4 4 9 9 9 3 4 3 1 9 9 4 9 3 9 5 4 1 5 4 7 9 1 9 6 1 7 6 4 2 9 1 5 7\n",
      " 6 8 9 9 3 9 7 7 2 7 9 9 4 3 4 7 4 7 6 8 1 9 5 7 6 9 3 4 8 6 4 5 6 4 4 8 8\n",
      " 4 3 4 8 8 6 2 3 3 9 2 6 9 5 1 3 6 6 1 9 2 2 1 4 9 9 5 5 1 4 8 4 3 2 2 3 2\n",
      " 5 3 6 6 6 3 6 8 8 7 2 7 8 3 4 2 6 3 1 2 1 7 1 5 9 5 4 4 9 9 8 1 4 9 8 8 2\n",
      " 9 5 8 1 5 1 7 5 3 5 7 4 4 8 9 6 1 9 6 5 8 5 2 4 4 3 6 3 4 6 8 3 8 2 7 6 1\n",
      " 1 4 2 7 7 8 9 9 8 1 9 7 9 9 4 7 2 8 5 3 1 9 3 8 9 5 5 2 8 7 5 2 6 8 2 4 6\n",
      " 8 4 7 7 8 2 7 1 4 9 5 2 5 6 1 4 2 5 5 5 1 1 9 5 7 4 4 3 2 3 2 4 5 2 2 1 8\n",
      " 9 5 4 6 7 4 3 9 2 5 1 9 4 6 6 2 8 9 7 5 8 4 6 4 7 5 8 4 1 6 4 8 6 6 9 1 9\n",
      " 4 7 4 3 8 1 4 1 4 7 2 3 5 2 4 3 5 8 5 5 2 3 8 3 4 8 7 7 3 4 7 1 9 1 8 7 6\n",
      " 7 6 3 8 2 3 3 6 7 5 3 3 2 1 1 3 9 4 1 9 9 2 1 6 9 3 4 6 4 9 7 5 7 4 7 3 7\n",
      " 6 6 5 7 6 2 4 4 9 6 6 7 1 8 6 2 6 7 7 9 8 6 4 3 4 3 6 5 2 6 9 4 6 9 5 2 8\n",
      " 9 2 3 2 2 8 6 1 5 2 2 7 7 1 3 4 8 3 5 1 7 3 5 8 4 1 6 5 1 3 4 2 8 2 4 5 2\n",
      " 8 5 1 3 8 5 1 3 7 3 5 6 5 5 9 2 6 8 1 2 4 3 9 3 5 9 3 9 8 9 3 4 4 7 1 4 7\n",
      " 4 7 4 3 3 3 7 5 7 1 5 3 2 7 2 8 6 7 2 7 7 7 7 3 6 3 3 4 3 4 9 6 5 6 2 6 9\n",
      " 3 6 7 5 1 9 6 6 6 2 1 1 1 1 1 8 7 4 6 5 4 5 6 2 4 7 8 5 1 1 8 4 4 1 1 5 5\n",
      " 6 9 9 1 2 6 7 2 5 1 5 8 8 8 7 3 7 1 3 8 8 3 7 2 4 8 1 6 5 6 6 4 9 1 2 6 5\n",
      " 2 6 1 7 9 9 7 4 5 5 4 7 6 9 2 4 9 2 6 9 1 4 8 2 8 9 1 8 6 7 9 8 6 2 1 1 6\n",
      " 7 4 7 2 8 8 1 8 7 1 5 3 8 6 3 9 6 7 7 5 2 6 5 6 6 7 4 9 2 5 3 8 5 2 9 3 4\n",
      " 4 5 2 7 3 6 5 2 6 5 6 8 5 5 3 3 2 4 1 2 2 7 9 7 4 1 8 4 3 6 8 4 5 8 7 8 4\n",
      " 7 4 8 2 4 8 9 9 5 6 4 7 7 3 4 6 8 1 8 2 3 6 1 6 9 9 3 6 4 2 8 4 9 6 6 2 8\n",
      " 3 2 1 2 1 2 2 7 9 9 4 3 1 8 5 7 1 6 4 4 5 1 7 6 4 1 1 2 3 1 3 3 7 8 9 9 3\n",
      " 5 8 8 6 8 3 5 2 2 2 8 1 1 3 2 5 7 1 7 7 3 9 7 7 6 3 6 1 4 8 1 5 2 4 6 8 7\n",
      " 3 8 4 5 8 1 1 2 9 4 6 1 2 2 4 8 4 8 1 3 5 5 7 1 2 8 7 6 6 8 4 7 9 9 3 2 1\n",
      " 9 8 8 1 5 9 1 5 6 8 3 5 8 6 1 5 5 1 3 6 6 4 1 1 2 3 2 1 2 7 4 5 4 7 5 3 4\n",
      " 7]\n"
     ]
    }
   ],
   "source": [
    "print(big_array1)"
   ]
  },
  {
   "cell_type": "code",
   "execution_count": 91,
   "id": "flexible-cable",
   "metadata": {},
   "outputs": [
    {
     "name": "stdout",
     "output_type": "stream",
     "text": [
      "1 9 4927\n"
     ]
    }
   ],
   "source": [
    "# Instead of calling 'np.min/max/sum' you can call '.min()', '.max()', and '.sum()' on the array itself\n",
    "\n",
    "print(big_array1.min(), big_array1.max(), big_array1.sum())"
   ]
  },
  {
   "cell_type": "markdown",
   "id": "gross-latex",
   "metadata": {},
   "source": [
    "### Multi Dimensional Arrays"
   ]
  },
  {
   "cell_type": "code",
   "execution_count": 94,
   "id": "generic-lover",
   "metadata": {},
   "outputs": [
    {
     "name": "stdout",
     "output_type": "stream",
     "text": [
      "[[0.2804363  0.37375327 0.46865975 0.83076748]\n",
      " [0.23252011 0.77635582 0.78263023 0.19828315]\n",
      " [0.00538677 0.82852228 0.27613777 0.61095789]] \n",
      "\n",
      "5.664410818749108 \n",
      "\n",
      "[0.51834318 1.97863137 1.52742775 1.64000852] \n",
      "\n",
      "[1.95361681 1.98978931 1.7210047 ] \n",
      "\n"
     ]
    }
   ],
   "source": [
    "#Aggregation can be done over the entire array or an individual axis of the array\n",
    "\n",
    "M = np.random.random((3,4))\n",
    "print(M, '\\n')\n",
    "print(M.sum(), '\\n')\n",
    "print(M.sum(axis=0), '\\n')\n",
    "print(M.sum(axis=1), '\\n')"
   ]
  },
  {
   "cell_type": "markdown",
   "id": "occupied-clearing",
   "metadata": {},
   "source": [
    "### Here is a summary of all of the aggregate functions\n"
   ]
  },
  {
   "cell_type": "code",
   "execution_count": 95,
   "id": "focal-excess",
   "metadata": {},
   "outputs": [],
   "source": [
    "\"\"\"\n",
    "Function Name \tNaN-safe Version \tDescription\n",
    "np.sum \tnp.nansum \tCompute sum of elements\n",
    "np.prod \tnp.nanprod \tCompute product of elements\n",
    "np.mean \tnp.nanmean \tCompute mean of elements\n",
    "np.std \tnp.nanstd \tCompute standard deviation\n",
    "np.var \tnp.nanvar \tCompute variance\n",
    "np.min \tnp.nanmin \tFind minimum value\n",
    "np.max \tnp.nanmax \tFind maximum value\n",
    "np.argmin \tnp.nanargmin \tFind index of minimum value\n",
    "np.argmax \tnp.nanargmax \tFind index of maximum value\n",
    "np.median \tnp.nanmedian \tCompute median of elements\n",
    "np.percentile \tnp.nanpercentile \tCompute rank-based statistics of elements\n",
    "np.any \tN/A \tEvaluate whether any elements are true\n",
    "np.all \tN/A \tEvaluate whether all elements are true\n",
    "\n",
    "\"\"\";"
   ]
  },
  {
   "cell_type": "code",
   "execution_count": 110,
   "id": "consecutive-bridge",
   "metadata": {},
   "outputs": [
    {
     "name": "stdout",
     "output_type": "stream",
     "text": [
      "/Users/anthonyesposito/Desktop/python practice/Python Practice/Basic_Coding/Numpy Practice/PythonDataScienceHandbook-master/notebooks/data\n"
     ]
    }
   ],
   "source": [
    "cd data/"
   ]
  },
  {
   "cell_type": "code",
   "execution_count": 111,
   "id": "protective-warehouse",
   "metadata": {},
   "outputs": [
    {
     "name": "stdout",
     "output_type": "stream",
     "text": [
      "BicycleWeather.csv     california_cities.csv  state-areas.csv\r\n",
      "Seattle2014.csv        president_heights.csv  state-population.csv\r\n",
      "births.csv             state-abbrevs.csv\r\n"
     ]
    }
   ],
   "source": [
    "ls"
   ]
  },
  {
   "cell_type": "code",
   "execution_count": 112,
   "id": "quantitative-trade",
   "metadata": {},
   "outputs": [
    {
     "name": "stdout",
     "output_type": "stream",
     "text": [
      "order,name,height(cm)\r\n",
      "1,George Washington,189\r\n",
      "2,John Adams,170\r\n",
      "3,Thomas Jefferson,189\r\n"
     ]
    }
   ],
   "source": [
    "!head -4 president_heights.csv"
   ]
  },
  {
   "cell_type": "code",
   "execution_count": 114,
   "id": "seeing-johnson",
   "metadata": {},
   "outputs": [
    {
     "name": "stdout",
     "output_type": "stream",
     "text": [
      "[189 170 189 163 183 171 185 168 173 183 173 173 175 178 183 193 178 173\n",
      " 174 183 183 168 170 178 182 180 183 178 182 188 175 179 183 193 182 183\n",
      " 177 185 188 188 182 185]\n"
     ]
    }
   ],
   "source": [
    "import pandas as pd\n",
    "data = pd.read_csv('president_heights.csv')\n",
    "heights = np.array(data['height(cm)'])\n",
    "print(heights)"
   ]
  },
  {
   "cell_type": "code",
   "execution_count": 116,
   "id": "superior-hospital",
   "metadata": {},
   "outputs": [
    {
     "name": "stdout",
     "output_type": "stream",
     "text": [
      "Mean Height        : 179.73809523809524\n",
      "Standard Deviation : 6.931843442745892\n",
      "Minimum Height     : 163\n",
      "Maximum Height     : 193\n"
     ]
    }
   ],
   "source": [
    "print(\"Mean Height        :\",heights.mean())\n",
    "print(\"Standard Deviation :\",heights.std())\n",
    "print(\"Minimum Height     :\",heights.min())\n",
    "print(\"Maximum Height     :\",heights.max())"
   ]
  },
  {
   "cell_type": "code",
   "execution_count": 118,
   "id": "lined-small",
   "metadata": {},
   "outputs": [
    {
     "name": "stdout",
     "output_type": "stream",
     "text": [
      "25th percentile   : 174.25\n",
      "50th percentile   : 182.0\n",
      "75th percentile   : 183.0\n"
     ]
    }
   ],
   "source": [
    "print(\"25th percentile   :\", np.percentile(heights, 25))\n",
    "print(\"50th percentile   :\", np.percentile(heights, 50))\n",
    "print(\"75th percentile   :\", np.percentile(heights, 75))\n"
   ]
  },
  {
   "cell_type": "code",
   "execution_count": 119,
   "id": "usual-medium",
   "metadata": {},
   "outputs": [],
   "source": [
    "%matplotlib inline\n",
    "import matplotlib.pyplot as plt\n",
    "import seaborn; seaborn.set()"
   ]
  },
  {
   "cell_type": "code",
   "execution_count": 120,
   "id": "professional-examination",
   "metadata": {},
   "outputs": [
    {
     "data": {
      "text/plain": [
       "Text(0, 0.5, 'number')"
      ]
     },
     "execution_count": 120,
     "metadata": {},
     "output_type": "execute_result"
    },
    {
     "data": {
      "image/png": "[encoded data removed]",
      "text/plain": [
       "<Figure size 432x288 with 1 Axes>"
      ]
     },
     "metadata": {},
     "output_type": "display_data"
    }
   ],
   "source": [
    "plt.hist(heights)\n",
    "plt.title(\"Height Distribution of US Presidents\")\n",
    "plt.xlabel(\"height (cm)\")\n",
    "plt.ylabel(\"number\")"
   ]
  },
  {
   "cell_type": "markdown",
   "id": "corrected-consciousness",
   "metadata": {},
   "source": [
    "# Broadcasting"
   ]
  },
  {
   "cell_type": "code",
   "execution_count": 122,
   "id": "mathematical-teddy",
   "metadata": {},
   "outputs": [
    {
     "name": "stdout",
     "output_type": "stream",
     "text": [
      "[3 5 7] \n",
      "\n",
      "[5 6 7]\n"
     ]
    }
   ],
   "source": [
    "# Broadcasting allows the binary numpy operations to be performed on arrays in a variety of ways.\n",
    "\n",
    "a = np.array([0,1,2])\n",
    "b = np.array([3,4,5])\n",
    "\n",
    "print(a+b,'\\n')\n",
    "print(a+5)"
   ]
  },
  {
   "cell_type": "code",
   "execution_count": 127,
   "id": "answering-frame",
   "metadata": {},
   "outputs": [
    {
     "name": "stdout",
     "output_type": "stream",
     "text": [
      "[[1. 1. 1.]\n",
      " [1. 1. 1.]\n",
      " [1. 1. 1.]] \n",
      "\n",
      "[[1. 2. 3.]\n",
      " [1. 2. 3.]\n",
      " [1. 2. 3.]]\n"
     ]
    }
   ],
   "source": [
    "M = np.ones((3,3))\n",
    "\n",
    "print(M,'\\n')\n",
    "print(M + a)"
   ]
  },
  {
   "cell_type": "code",
   "execution_count": 132,
   "id": "solved-paint",
   "metadata": {},
   "outputs": [
    {
     "name": "stdout",
     "output_type": "stream",
     "text": [
      "[1 2 3 4 5 6] \n",
      "\n",
      "[[1]\n",
      " [2]\n",
      " [3]\n",
      " [4]] \n",
      "\n",
      "[[ 1  2  3  4  5  6]\n",
      " [ 2  4  6  8 10 12]\n",
      " [ 3  6  9 12 15 18]\n",
      " [ 4  8 12 16 20 24]]\n"
     ]
    }
   ],
   "source": [
    "# With differing axis things can get complicated\n",
    "\n",
    "a = np.arange(1,7)\n",
    "b = np.arange(1,5)[:, np.newaxis]\n",
    "print(a, '\\n')\n",
    "print(b, '\\n')\n",
    "print(a * b)"
   ]
  },
  {
   "cell_type": "markdown",
   "id": "built-magic",
   "metadata": {},
   "source": [
    "### Broadcasting Rules\n",
    "\n",
    "\n",
    "\n",
    "\n",
    "1. If the two arrays differ in their number of dimensions, the shape of the one with fewer dimensions is padded with ones on its leading (left) side.\n",
    "\n",
    "\n",
    "2. If the shape of the two arrays does not match in any dimension, the array with shape equal to 1 in that dimension is stretched to match the other shape.\n",
    "\n",
    "\n",
    "3. If in any dimension the sizes disagree and neither is equal to 1, an error is raised."
   ]
  },
  {
   "cell_type": "code",
   "execution_count": 152,
   "id": "present-image",
   "metadata": {},
   "outputs": [
    {
     "name": "stdout",
     "output_type": "stream",
     "text": [
      "M.shape = (2, 3) \n",
      "\n",
      "a.shape = (3,)    Since 'a' has fewer dimensions than M the dimensions will be padded on the left with ones\n",
      "                  then the dimensions it will be stretched to match the shape of 'M'.\n",
      "[[1. 2. 3.]\n",
      " [1. 2. 3.]]\n"
     ]
    }
   ],
   "source": [
    "M = np.ones((2,3))\n",
    "a = np.arange(3)\n",
    "\n",
    "print(\"M.shape =\", M.shape, '\\n')\n",
    "print(\"a.shape =\",a.shape, \"   Since 'a' has fewer dimensions than M the dimensions will be padded on the left with ones\")\n",
    "print(\"                  then the dimensions it will be stretched to match the shape of 'M'.\")\n",
    "print(M+a)"
   ]
  },
  {
   "cell_type": "code",
   "execution_count": 153,
   "id": "legendary-olive",
   "metadata": {},
   "outputs": [
    {
     "name": "stdout",
     "output_type": "stream",
     "text": [
      "[[1. 1.]\n",
      " [1. 1.]\n",
      " [1. 1.]] \n",
      "\n",
      "[0 1 2] \n",
      "\n"
     ]
    },
    {
     "ename": "ValueError",
     "evalue": "operands could not be broadcast together with shapes (3,2) (3,) ",
     "output_type": "error",
     "traceback": [
      "\u001b[0;31m---------------------------------------------------------------------------\u001b[0m",
      "\u001b[0;31mValueError\u001b[0m                                Traceback (most recent call last)",
      "\u001b[0;32m<ipython-input-153-54521a9da1c7>\u001b[0m in \u001b[0;36m<module>\u001b[0;34m\u001b[0m\n\u001b[1;32m      5\u001b[0m \u001b[0mprint\u001b[0m\u001b[0;34m(\u001b[0m\u001b[0mM\u001b[0m\u001b[0;34m,\u001b[0m \u001b[0;34m'\\n'\u001b[0m\u001b[0;34m)\u001b[0m\u001b[0;34m\u001b[0m\u001b[0;34m\u001b[0m\u001b[0m\n\u001b[1;32m      6\u001b[0m \u001b[0mprint\u001b[0m\u001b[0;34m(\u001b[0m\u001b[0ma\u001b[0m\u001b[0;34m,\u001b[0m \u001b[0;34m'\\n'\u001b[0m\u001b[0;34m)\u001b[0m\u001b[0;34m\u001b[0m\u001b[0;34m\u001b[0m\u001b[0m\n\u001b[0;32m----> 7\u001b[0;31m \u001b[0mprint\u001b[0m\u001b[0;34m(\u001b[0m\u001b[0mM\u001b[0m \u001b[0;34m+\u001b[0m \u001b[0ma\u001b[0m\u001b[0;34m)\u001b[0m\u001b[0;34m\u001b[0m\u001b[0;34m\u001b[0m\u001b[0m\n\u001b[0m",
      "\u001b[0;31mValueError\u001b[0m: operands could not be broadcast together with shapes (3,2) (3,) "
     ]
    }
   ],
   "source": [
    "# Here is an example of when Broadcasting Doesn't work by rule 3.\n",
    "\n",
    "M = np.ones((3,2))\n",
    "a = np. arange(3)\n",
    "print(M, '\\n')\n",
    "print(a, '\\n')\n",
    "print(M + a)"
   ]
  },
  {
   "cell_type": "code",
   "execution_count": 156,
   "id": "frank-restoration",
   "metadata": {},
   "outputs": [
    {
     "data": {
      "text/plain": [
       "array([[0],\n",
       "       [1],\n",
       "       [2]])"
      ]
     },
     "execution_count": 156,
     "metadata": {},
     "output_type": "execute_result"
    }
   ],
   "source": [
    "# This can be fixed by creating the 'a' array with an axis to the right instead!\n",
    "\n",
    "a[:,np.newaxis]"
   ]
  },
  {
   "cell_type": "code",
   "execution_count": 160,
   "id": "organized-devil",
   "metadata": {},
   "outputs": [
    {
     "data": {
      "text/plain": [
       "array([[1., 1.],\n",
       "       [2., 2.],\n",
       "       [3., 3.]])"
      ]
     },
     "execution_count": 160,
     "metadata": {},
     "output_type": "execute_result"
    }
   ],
   "source": [
    "M+a[:,np.newaxis]"
   ]
  },
  {
   "cell_type": "markdown",
   "id": "perfect-prophet",
   "metadata": {},
   "source": [
    "### Centering an Array  "
   ]
  },
  {
   "cell_type": "code",
   "execution_count": 165,
   "id": "searching-people",
   "metadata": {},
   "outputs": [
    {
     "name": "stdout",
     "output_type": "stream",
     "text": [
      "[[0.49165727 0.16879626 0.76832965]\n",
      " [0.53686899 0.57850496 0.97065683]\n",
      " [0.30007105 0.48965704 0.62050507]\n",
      " [0.25144224 0.21595231 0.46892988]\n",
      " [0.23054404 0.1559406  0.76429796]\n",
      " [0.79402397 0.3711726  0.47348545]\n",
      " [0.61605534 0.54642326 0.99600386]\n",
      " [0.39239347 0.8831975  0.24376518]\n",
      " [0.64660628 0.94906897 0.83901721]\n",
      " [0.06935958 0.82787089 0.46949592]] \n",
      "\n",
      "[0.43290222 0.51865844 0.6614487 ]\n"
     ]
    }
   ],
   "source": [
    "X = np.random.random((10,3))\n",
    "X_mean = X.mean(0)\n",
    "print(X,'\\n')\n",
    "print(X_mean)"
   ]
  },
  {
   "cell_type": "code",
   "execution_count": 166,
   "id": "developing-regular",
   "metadata": {},
   "outputs": [
    {
     "name": "stdout",
     "output_type": "stream",
     "text": [
      "[[ 0.05875505 -0.34986218  0.10688095]\n",
      " [ 0.10396677  0.05984652  0.30920813]\n",
      " [-0.13283118 -0.0290014  -0.04094363]\n",
      " [-0.18145999 -0.30270613 -0.19251882]\n",
      " [-0.20235818 -0.36271784  0.10284926]\n",
      " [ 0.36112175 -0.14748584 -0.18796325]\n",
      " [ 0.18315312  0.02776482  0.33455516]\n",
      " [-0.04050876  0.36453906 -0.41768352]\n",
      " [ 0.21370406  0.43041053  0.17756851]\n",
      " [-0.36354265  0.30921245 -0.19195278]]\n"
     ]
    }
   ],
   "source": [
    "X_centered = X - X_mean\n",
    "print(X_centered)"
   ]
  },
  {
   "cell_type": "code",
   "execution_count": 169,
   "id": "reasonable-conditions",
   "metadata": {},
   "outputs": [
    {
     "data": {
      "text/plain": [
       "array([-5.55111512e-17,  9.99200722e-17, -5.55111512e-17])"
      ]
     },
     "execution_count": 169,
     "metadata": {},
     "output_type": "execute_result"
    }
   ],
   "source": [
    "X_centered.mean(0)"
   ]
  },
  {
   "cell_type": "markdown",
   "id": "attached-masters",
   "metadata": {},
   "source": [
    "### Plotting a Two-Dimensional Array"
   ]
  },
  {
   "cell_type": "code",
   "execution_count": 179,
   "id": "secret-retailer",
   "metadata": {},
   "outputs": [
    {
     "data": {
      "text/plain": [
       "(50, 50)"
      ]
     },
     "execution_count": 179,
     "metadata": {},
     "output_type": "execute_result"
    }
   ],
   "source": [
    "x = np.linspace(0,5,50)\n",
    "y = np.linspace(0,5,50)[:,np.newaxis]\n",
    "\n",
    "z=np.sin(x) ** 10 + np.cos(10 + y * x) * np.cos(x)\n",
    "z.shape"
   ]
  },
  {
   "cell_type": "code",
   "execution_count": 180,
   "id": "invalid-delhi",
   "metadata": {},
   "outputs": [],
   "source": [
    "%matplotlib inline\n",
    "import matplotlib.pyplot as plt"
   ]
  },
  {
   "cell_type": "code",
   "execution_count": 181,
   "id": "suitable-enlargement",
   "metadata": {},
   "outputs": [
    {
     "data": {
      "image/png": "[encoded data removed]",
      "text/plain": [
       "<Figure size 432x288 with 2 Axes>"
      ]
     },
     "metadata": {
      "needs_background": "light"
     },
     "output_type": "display_data"
    }
   ],
   "source": [
    "plt.imshow(z, origin='lower', extent = [0,5,0,5], cmap='viridis')\n",
    "plt.colorbar();"
   ]
  },
  {
   "cell_type": "markdown",
   "id": "radio-honey",
   "metadata": {},
   "source": [
    "# Comparisons, Masks, and Boolean Logic"
   ]
  },
  {
   "cell_type": "code",
   "execution_count": 187,
   "id": "small-memory",
   "metadata": {},
   "outputs": [
    {
     "data": {
      "text/plain": [
       "(365,)"
      ]
     },
     "execution_count": 187,
     "metadata": {},
     "output_type": "execute_result"
    }
   ],
   "source": [
    "# use pandas to extract rainfall inches as a NumPy Array.\n",
    "# Plotting a histogram of the data doesn't give a real idea of how much rain there is in a year\n",
    "\n",
    "rainfall = pd.read_csv('Seattle2014.csv')['PRCP']\n",
    "inches = rainfall / 254.0 # conversion for 1/10mm to incehs\n",
    "inches.shape"
   ]
  },
  {
   "cell_type": "code",
   "execution_count": 212,
   "id": "plastic-florence",
   "metadata": {},
   "outputs": [
    {
     "data": {
      "image/png": "[encoded data removed]",
      "text/plain": [
       "<Figure size 432x288 with 1 Axes>"
      ]
     },
     "metadata": {
      "needs_background": "light"
     },
     "output_type": "display_data"
    }
   ],
   "source": [
    "plt.hist(inches, 40);"
   ]
  },
  {
   "cell_type": "markdown",
   "id": "incredible-willow",
   "metadata": {},
   "source": [
    "### Examples of the Comparison operators as Ufuncs"
   ]
  },
  {
   "cell_type": "code",
   "execution_count": 189,
   "id": "collective-nelson",
   "metadata": {},
   "outputs": [],
   "source": [
    "x = np.array([1, 2, 3, 4, 5])"
   ]
  },
  {
   "cell_type": "code",
   "execution_count": 190,
   "id": "electronic-landscape",
   "metadata": {},
   "outputs": [
    {
     "data": {
      "text/plain": [
       "array([ True,  True, False, False, False])"
      ]
     },
     "execution_count": 190,
     "metadata": {},
     "output_type": "execute_result"
    }
   ],
   "source": [
    "x < 3"
   ]
  },
  {
   "cell_type": "code",
   "execution_count": 191,
   "id": "round-growth",
   "metadata": {},
   "outputs": [
    {
     "data": {
      "text/plain": [
       "array([False, False, False,  True,  True])"
      ]
     },
     "execution_count": 191,
     "metadata": {},
     "output_type": "execute_result"
    }
   ],
   "source": [
    "x > 3"
   ]
  },
  {
   "cell_type": "code",
   "execution_count": 192,
   "id": "virtual-prime",
   "metadata": {},
   "outputs": [
    {
     "data": {
      "text/plain": [
       "array([ True,  True,  True, False, False])"
      ]
     },
     "execution_count": 192,
     "metadata": {},
     "output_type": "execute_result"
    }
   ],
   "source": [
    "x <= 3"
   ]
  },
  {
   "cell_type": "code",
   "execution_count": 193,
   "id": "measured-saturday",
   "metadata": {},
   "outputs": [
    {
     "data": {
      "text/plain": [
       "array([False, False,  True,  True,  True])"
      ]
     },
     "execution_count": 193,
     "metadata": {},
     "output_type": "execute_result"
    }
   ],
   "source": [
    "x >= 3"
   ]
  },
  {
   "cell_type": "code",
   "execution_count": 194,
   "id": "pressing-depth",
   "metadata": {},
   "outputs": [
    {
     "data": {
      "text/plain": [
       "array([ True,  True, False,  True,  True])"
      ]
     },
     "execution_count": 194,
     "metadata": {},
     "output_type": "execute_result"
    }
   ],
   "source": [
    "x != 3"
   ]
  },
  {
   "cell_type": "code",
   "execution_count": 195,
   "id": "searching-sucking",
   "metadata": {},
   "outputs": [
    {
     "data": {
      "text/plain": [
       "array([False, False,  True, False, False])"
      ]
     },
     "execution_count": 195,
     "metadata": {},
     "output_type": "execute_result"
    }
   ],
   "source": [
    "x == 3"
   ]
  },
  {
   "cell_type": "code",
   "execution_count": 196,
   "id": "greenhouse-birth",
   "metadata": {},
   "outputs": [
    {
     "data": {
      "text/plain": [
       "array([False,  True, False, False, False])"
      ]
     },
     "execution_count": 196,
     "metadata": {},
     "output_type": "execute_result"
    }
   ],
   "source": [
    "(2 * x) == (x**2)"
   ]
  },
  {
   "cell_type": "code",
   "execution_count": 199,
   "id": "american-brand",
   "metadata": {},
   "outputs": [
    {
     "data": {
      "text/plain": [
       "array([[5, 0, 3, 3],\n",
       "       [7, 9, 3, 5],\n",
       "       [2, 4, 7, 6]])"
      ]
     },
     "execution_count": 199,
     "metadata": {},
     "output_type": "execute_result"
    }
   ],
   "source": [
    "# The comparison operators can be applied to an array of any size.\n",
    "\n",
    "rng = np.random.RandomState(0)\n",
    "x = rng.randint(10, size=(3,4))\n",
    "x"
   ]
  },
  {
   "cell_type": "code",
   "execution_count": 217,
   "id": "forward-sarah",
   "metadata": {},
   "outputs": [
    {
     "data": {
      "text/plain": [
       "array([[ True,  True,  True,  True],\n",
       "       [False, False,  True,  True],\n",
       "       [ True,  True, False, False]])"
      ]
     },
     "execution_count": 217,
     "metadata": {},
     "output_type": "execute_result"
    }
   ],
   "source": [
    "x < 6"
   ]
  },
  {
   "cell_type": "code",
   "execution_count": 218,
   "id": "infinite-emphasis",
   "metadata": {},
   "outputs": [
    {
     "name": "stdout",
     "output_type": "stream",
     "text": [
      "[[0 0 0 0]\n",
      " [0 0 0 0]\n",
      " [0 0 0 6]] \n",
      "\n",
      "[[0 0 3 3]\n",
      " [0 0 3 0]\n",
      " [2 0 0 0]] \n",
      "\n",
      "[[5 0 0 0]\n",
      " [7 9 0 5]\n",
      " [0 4 7 6]] \n",
      "\n"
     ]
    }
   ],
   "source": [
    "print(x * (x==6), '\\n')\n",
    "print(x * (x < 4), '\\n')\n",
    "print(x * (x >= 4), '\\n')"
   ]
  },
  {
   "cell_type": "code",
   "execution_count": 219,
   "id": "attached-objective",
   "metadata": {},
   "outputs": [
    {
     "name": "stdout",
     "output_type": "stream",
     "text": [
      "1 \n",
      "\n",
      "5 \n",
      "\n",
      "7 \n",
      "\n"
     ]
    }
   ],
   "source": [
    "print(np.count_nonzero(x==6), '\\n')\n",
    "print(np.count_nonzero(x < 4), '\\n')\n",
    "print(np.count_nonzero(x >= 4), '\\n')"
   ]
  },
  {
   "cell_type": "code",
   "execution_count": 220,
   "id": "quantitative-douglas",
   "metadata": {},
   "outputs": [
    {
     "data": {
      "text/plain": [
       "8"
      ]
     },
     "execution_count": 220,
     "metadata": {},
     "output_type": "execute_result"
    }
   ],
   "source": [
    "np.sum(x < 6)"
   ]
  },
  {
   "cell_type": "code",
   "execution_count": 221,
   "id": "stock-currency",
   "metadata": {},
   "outputs": [
    {
     "data": {
      "text/plain": [
       "array([4, 2, 2])"
      ]
     },
     "execution_count": 221,
     "metadata": {},
     "output_type": "execute_result"
    }
   ],
   "source": [
    "np.sum(x < 6, axis=1)"
   ]
  },
  {
   "cell_type": "code",
   "execution_count": 222,
   "id": "suitable-comparative",
   "metadata": {},
   "outputs": [
    {
     "data": {
      "text/plain": [
       "array([2, 2, 2, 2])"
      ]
     },
     "execution_count": 222,
     "metadata": {},
     "output_type": "execute_result"
    }
   ],
   "source": [
    "np.sum(x < 6, axis=0)"
   ]
  },
  {
   "cell_type": "code",
   "execution_count": 224,
   "id": "constitutional-appearance",
   "metadata": {},
   "outputs": [
    {
     "data": {
      "text/plain": [
       "True"
      ]
     },
     "execution_count": 224,
     "metadata": {},
     "output_type": "execute_result"
    }
   ],
   "source": [
    "np.any(x <3)"
   ]
  },
  {
   "cell_type": "code",
   "execution_count": 227,
   "id": "stupid-anchor",
   "metadata": {},
   "outputs": [
    {
     "data": {
      "text/plain": [
       "array([[0, 0, 0, 0],\n",
       "       [0, 0, 0, 0],\n",
       "       [2, 0, 0, 0]])"
      ]
     },
     "execution_count": 227,
     "metadata": {},
     "output_type": "execute_result"
    }
   ],
   "source": [
    "(x * (x < 3))"
   ]
  },
  {
   "cell_type": "code",
   "execution_count": 228,
   "id": "exceptional-pension",
   "metadata": {},
   "outputs": [
    {
     "data": {
      "text/plain": [
       "2"
      ]
     },
     "execution_count": 228,
     "metadata": {},
     "output_type": "execute_result"
    }
   ],
   "source": [
    "np.sum(x <3)"
   ]
  },
  {
   "cell_type": "code",
   "execution_count": 235,
   "id": "informative-channels",
   "metadata": {},
   "outputs": [
    {
     "name": "stdout",
     "output_type": "stream",
     "text": [
      "0    0.000000\n",
      "1    0.161417\n",
      "2    0.059055\n",
      "3    0.000000\n",
      "4    0.000000\n",
      "Name: PRCP, dtype: float64 \n",
      "\n",
      "29\n"
     ]
    }
   ],
   "source": [
    "print(inches.head(5), '\\n')\n",
    "print(np.sum((inches > .5) & (inches<1)))"
   ]
  },
  {
   "cell_type": "code",
   "execution_count": 237,
   "id": "undefined-assistant",
   "metadata": {},
   "outputs": [
    {
     "name": "stdout",
     "output_type": "stream",
     "text": [
      "29\n"
     ]
    }
   ],
   "source": [
    "print(np.sum(~( (inches <= .5) | (inches >= 1))))"
   ]
  },
  {
   "cell_type": "code",
   "execution_count": 239,
   "id": "tamil-mambo",
   "metadata": {},
   "outputs": [],
   "source": [
    "\"\"\"\n",
    "Operator \tEquivalent ufunc\n",
    "& \tnp.bitwise_and\n",
    "| \tnp.bitwise_or\n",
    "^ \tnp.bitwise_xor\n",
    "~ \tnp.bitwise_not\n",
    "\"\"\";"
   ]
  },
  {
   "cell_type": "code",
   "execution_count": 243,
   "id": "pointed-johnston",
   "metadata": {},
   "outputs": [
    {
     "name": "stdout",
     "output_type": "stream",
     "text": [
      "Number days without rain:      215\n",
      "Number days with rain:         150\n",
      "Days wiht mor tahn .5 inches:  37\n",
      "Rainy days with < .2 inches:   75\n"
     ]
    }
   ],
   "source": [
    "print(\"Number days without rain:     \", np.sum(inches == 0))\n",
    "print(\"Number days with rain:        \", np.sum(inches != 0))\n",
    "print(\"Days wiht mor tahn .5 inches: \" , np.sum(incehs > .5))\n",
    "print(\"Rainy days with < .2 inches:  \", np.sum((inches > 0)&(inches < .2)))"
   ]
  },
  {
   "cell_type": "code",
   "execution_count": 245,
   "id": "another-guard",
   "metadata": {},
   "outputs": [
    {
     "name": "stdout",
     "output_type": "stream",
     "text": [
      "Median precip on rainy days in 2014 (inches)                : 0.19488188976377951\n",
      "Median precip on rain days in summer 2014 (inches)          : 0.0610236220472441\n",
      "Maximum precip on rainy days in  summer 2014 (inches)       : 0.8503937007874016\n",
      "Maximum precip on rainy days outside of summer 2014 (inches): 1.8385826771653544\n"
     ]
    }
   ],
   "source": [
    "#Create a mask of rainy days\n",
    "rainy = (inches > 0)\n",
    "\n",
    "# construct a mask of all summer days(June 21st is the 172nd day)\n",
    "\n",
    "days = np.arange(365)\n",
    "summer = (days > 172) & (days < 262)\n",
    "\n",
    "\n",
    "print(\"Median precip on rainy days in 2014 (inches)                :\", np.median(inches[rainy]))\n",
    "print(\"Median precip on rain days in summer 2014 (inches)          :\", np.median(inches[summer & rainy]))\n",
    "print(\"Maximum precip on rainy days in  summer 2014 (inches)       :\", np.max(inches[summer]))\n",
    "print(\"Maximum precip on rainy days outside of summer 2014 (inches):\", np.max(inches[rainy & ~summer]))"
   ]
  },
  {
   "cell_type": "code",
   "execution_count": 246,
   "id": "urban-experiment",
   "metadata": {},
   "outputs": [
    {
     "data": {
      "text/plain": [
       "89"
      ]
     },
     "execution_count": 246,
     "metadata": {},
     "output_type": "execute_result"
    }
   ],
   "source": [
    "np.sum(summer)"
   ]
  },
  {
   "cell_type": "code",
   "execution_count": 247,
   "id": "outstanding-basket",
   "metadata": {},
   "outputs": [
    {
     "data": {
      "text/plain": [
       "14"
      ]
     },
     "execution_count": 247,
     "metadata": {},
     "output_type": "execute_result"
    }
   ],
   "source": [
    "np.sum(summer & rainy)"
   ]
  },
  {
   "cell_type": "code",
   "execution_count": 251,
   "id": "personal-venture",
   "metadata": {},
   "outputs": [],
   "source": [
    " \"\"\"\n",
    "The Boolean operators 'and' and 'or' operate on the entire object\n",
    "\n",
    "    '&' and '|' operate bitwise on an array\n",
    "\n",
    "Also\n",
    "\n",
    "\"\"\";"
   ]
  },
  {
   "cell_type": "code",
   "execution_count": 253,
   "id": "convenient-cancellation",
   "metadata": {},
   "outputs": [
    {
     "name": "stdout",
     "output_type": "stream",
     "text": [
      "[ True  True  True False  True  True] \n",
      "\n"
     ]
    },
    {
     "ename": "ValueError",
     "evalue": "The truth value of an array with more than one element is ambiguous. Use a.any() or a.all()",
     "output_type": "error",
     "traceback": [
      "\u001b[0;31m---------------------------------------------------------------------------\u001b[0m",
      "\u001b[0;31mValueError\u001b[0m                                Traceback (most recent call last)",
      "\u001b[0;32m<ipython-input-253-e0a4aedecf77>\u001b[0m in \u001b[0;36m<module>\u001b[0;34m\u001b[0m\n\u001b[1;32m      2\u001b[0m \u001b[0mB\u001b[0m \u001b[0;34m=\u001b[0m \u001b[0mnp\u001b[0m\u001b[0;34m.\u001b[0m\u001b[0marray\u001b[0m\u001b[0;34m(\u001b[0m\u001b[0;34m[\u001b[0m\u001b[0;36m1\u001b[0m\u001b[0;34m,\u001b[0m \u001b[0;36m1\u001b[0m\u001b[0;34m,\u001b[0m \u001b[0;36m1\u001b[0m\u001b[0;34m,\u001b[0m \u001b[0;36m0\u001b[0m\u001b[0;34m,\u001b[0m \u001b[0;36m1\u001b[0m\u001b[0;34m,\u001b[0m \u001b[0;36m1\u001b[0m\u001b[0;34m]\u001b[0m\u001b[0;34m,\u001b[0m \u001b[0mdtype\u001b[0m\u001b[0;34m=\u001b[0m\u001b[0mbool\u001b[0m\u001b[0;34m)\u001b[0m\u001b[0;34m\u001b[0m\u001b[0;34m\u001b[0m\u001b[0m\n\u001b[1;32m      3\u001b[0m \u001b[0mprint\u001b[0m \u001b[0;34m(\u001b[0m\u001b[0mA\u001b[0m \u001b[0;34m|\u001b[0m \u001b[0mB\u001b[0m\u001b[0;34m,\u001b[0m \u001b[0;34m'\\n'\u001b[0m\u001b[0;34m)\u001b[0m\u001b[0;34m\u001b[0m\u001b[0;34m\u001b[0m\u001b[0m\n\u001b[0;32m----> 4\u001b[0;31m \u001b[0mprint\u001b[0m \u001b[0;34m(\u001b[0m\u001b[0mA\u001b[0m \u001b[0;32mor\u001b[0m \u001b[0mB\u001b[0m\u001b[0;34m,\u001b[0m \u001b[0;34m'\\n'\u001b[0m\u001b[0;34m)\u001b[0m\u001b[0;34m\u001b[0m\u001b[0;34m\u001b[0m\u001b[0m\n\u001b[0m\u001b[1;32m      5\u001b[0m \u001b[0mprint\u001b[0m \u001b[0;34m(\u001b[0m\u001b[0mA\u001b[0m \u001b[0;34m&\u001b[0m \u001b[0mB\u001b[0m\u001b[0;34m,\u001b[0m \u001b[0;34m'\\n'\u001b[0m\u001b[0;34m)\u001b[0m\u001b[0;34m\u001b[0m\u001b[0;34m\u001b[0m\u001b[0m\n\u001b[1;32m      6\u001b[0m \u001b[0mprint\u001b[0m \u001b[0;34m(\u001b[0m\u001b[0mA\u001b[0m \u001b[0;32mand\u001b[0m \u001b[0mB\u001b[0m\u001b[0;34m,\u001b[0m \u001b[0;34m'\\n'\u001b[0m\u001b[0;34m)\u001b[0m\u001b[0;34m\u001b[0m\u001b[0;34m\u001b[0m\u001b[0m\n",
      "\u001b[0;31mValueError\u001b[0m: The truth value of an array with more than one element is ambiguous. Use a.any() or a.all()"
     ]
    }
   ],
   "source": [
    "A = np.array([1, 0, 1, 0, 1, 0], dtype=bool)\n",
    "B = np.array([1, 1, 1, 0, 1, 1], dtype=bool)\n",
    "print (A | B, '\\n')\n",
    "print (A or B, '\\n')"
   ]
  },
  {
   "cell_type": "markdown",
   "id": "important-roman",
   "metadata": {},
   "source": [
    "# Fancy Indexing"
   ]
  },
  {
   "cell_type": "code",
   "execution_count": 256,
   "id": "catholic-contribution",
   "metadata": {},
   "outputs": [
    {
     "name": "stdout",
     "output_type": "stream",
     "text": [
      "[51 92 14 71 60 20 82 86 74 74]\n"
     ]
    }
   ],
   "source": [
    "rand = np.random.RandomState(42)\n",
    "\n",
    "x = rand.randint(100,size=10)\n",
    "print(x)"
   ]
  },
  {
   "cell_type": "code",
   "execution_count": 258,
   "id": "indirect-artist",
   "metadata": {},
   "outputs": [
    {
     "data": {
      "text/plain": [
       "[71, 86, 60]"
      ]
     },
     "execution_count": 258,
     "metadata": {},
     "output_type": "execute_result"
    }
   ],
   "source": [
    "# You can create a list from an array like this\n",
    "\n",
    "[x[3], x[7], x[4]]"
   ]
  },
  {
   "cell_type": "code",
   "execution_count": 259,
   "id": "breathing-syndicate",
   "metadata": {},
   "outputs": [
    {
     "data": {
      "text/plain": [
       "array([71, 86, 60])"
      ]
     },
     "execution_count": 259,
     "metadata": {},
     "output_type": "execute_result"
    }
   ],
   "source": [
    "# But you can also use fancy indexing\n",
    "\n",
    "ind = [3,7,4]\n",
    "\n",
    "x[ind]"
   ]
  },
  {
   "cell_type": "code",
   "execution_count": 262,
   "id": "stone-wheel",
   "metadata": {},
   "outputs": [
    {
     "name": "stdout",
     "output_type": "stream",
     "text": [
      "[51 92 14 71 60 20 82 86 74 74] \n",
      "\n",
      "(10,) \n",
      "\n",
      "[[3 7]\n",
      " [4 5]] \n",
      "\n",
      "(2, 2) \n",
      "\n",
      "[[71 86]\n",
      " [60 20]] \n",
      "\n",
      "(2, 2)\n"
     ]
    }
   ],
   "source": [
    "# When you use fancy indexing the shape of the created array takes the shape of the index array\n",
    "\n",
    "ind = np.array([[3,7],[4,5]])\n",
    "\n",
    "print(x,         '\\n')\n",
    "print(x.shape,   '\\n')\n",
    "print(ind,       '\\n')\n",
    "print(ind.shape, '\\n')\n",
    "print(x[ind],    '\\n')\n",
    "print(x[ind].shape)"
   ]
  },
  {
   "cell_type": "code",
   "execution_count": 264,
   "id": "possible-appearance",
   "metadata": {},
   "outputs": [
    {
     "data": {
      "text/plain": [
       "array([[75, 57, 21, 88, 48],\n",
       "       [90, 58, 41, 91, 59],\n",
       "       [79, 14, 61, 61, 46]])"
      ]
     },
     "execution_count": 264,
     "metadata": {},
     "output_type": "execute_result"
    }
   ],
   "source": [
    "# Fancy Array indexing can be applied in multiple dimensions\n",
    "\n",
    "x = rand.randint(100,size=(3,5))\n",
    "x"
   ]
  },
  {
   "cell_type": "code",
   "execution_count": 265,
   "id": "supposed-entertainment",
   "metadata": {},
   "outputs": [
    {
     "data": {
      "text/plain": [
       "array([21, 91, 46])"
      ]
     },
     "execution_count": 265,
     "metadata": {},
     "output_type": "execute_result"
    }
   ],
   "source": [
    "row = np.array([0,1,2])\n",
    "col = np.array([2,3,4])\n",
    "x[row,col]"
   ]
  },
  {
   "cell_type": "markdown",
   "id": "proof-lender",
   "metadata": {},
   "source": [
    "### The Array Index in Fancy Indexing is *BROADCASTS*"
   ]
  },
  {
   "cell_type": "code",
   "execution_count": 269,
   "id": "indian-shuttle",
   "metadata": {},
   "outputs": [
    {
     "name": "stdout",
     "output_type": "stream",
     "text": [
      "[[21 88 48]\n",
      " [41 91 59]\n",
      " [61 61 46]] \n",
      "\n",
      "[array([[0, 0, 0],\n",
      "       [2, 3, 4],\n",
      "       [4, 6, 8]])]\n"
     ]
    }
   ],
   "source": [
    "print(x[row[:, np.newaxis], col], '\\n')\n",
    "print([row[:, np.newaxis]*col])"
   ]
  },
  {
   "cell_type": "markdown",
   "id": "designed-question",
   "metadata": {},
   "source": [
    "## Combined Indexing\n",
    "\n",
    "### Fancy Indexing works with most of the previously seen indexing methods."
   ]
  },
  {
   "cell_type": "code",
   "execution_count": 270,
   "id": "adopted-miniature",
   "metadata": {},
   "outputs": [
    {
     "name": "stdout",
     "output_type": "stream",
     "text": [
      "[[75 57 21 88 48]\n",
      " [90 58 41 91 59]\n",
      " [79 14 61 61 46]]\n"
     ]
    }
   ],
   "source": [
    "print(x)"
   ]
  },
  {
   "cell_type": "code",
   "execution_count": 271,
   "id": "promising-suffering",
   "metadata": {},
   "outputs": [
    {
     "data": {
      "text/plain": [
       "array([[90, 90, 91, 59]])"
      ]
     },
     "execution_count": 271,
     "metadata": {},
     "output_type": "execute_result"
    }
   ],
   "source": [
    "x[1,[[0, 0, 3, 4]]]"
   ]
  },
  {
   "cell_type": "code",
   "execution_count": 275,
   "id": "developmental-facial",
   "metadata": {},
   "outputs": [
    {
     "data": {
      "text/plain": [
       "array([[75, 57, 21],\n",
       "       [90, 58, 41]])"
      ]
     },
     "execution_count": 275,
     "metadata": {},
     "output_type": "execute_result"
    }
   ],
   "source": [
    "x[:2, 0:3]"
   ]
  },
  {
   "cell_type": "code",
   "execution_count": 286,
   "id": "signal-resolution",
   "metadata": {},
   "outputs": [],
   "source": [
    "mask = np.array([1, 0, 1, 1, 0], dtype=bool)\n",
    "x_masked = x[row[:, np.newaxis], mask]\n",
    "\n"
   ]
  },
  {
   "cell_type": "code",
   "execution_count": 287,
   "id": "absent-texas",
   "metadata": {},
   "outputs": [
    {
     "name": "stdout",
     "output_type": "stream",
     "text": [
      "[[75 57 21 88 48]\n",
      " [90 58 41 91 59]\n",
      " [79 14 61 61 46]] \n",
      "\n",
      "[ True False  True  True False] \n",
      "\n",
      "[0 1 2] \n",
      "\n",
      "[[75 21 88]\n",
      " [90 41 91]\n",
      " [79 61 61]] \n",
      "\n"
     ]
    }
   ],
   "source": [
    "print(x,         '\\n')\n",
    "print(mask,   '\\n')\n",
    "print(row,       '\\n')\n",
    "print(x_masked, '\\n')"
   ]
  },
  {
   "cell_type": "markdown",
   "id": "missing-valuation",
   "metadata": {},
   "source": [
    "### Example of Selecting Random Points\n"
   ]
  },
  {
   "cell_type": "code",
   "execution_count": 306,
   "id": "irish-boston",
   "metadata": {},
   "outputs": [
    {
     "data": {
      "text/plain": [
       "(140, 2)"
      ]
     },
     "execution_count": 306,
     "metadata": {},
     "output_type": "execute_result"
    }
   ],
   "source": [
    "mean = [0,5]\n",
    "cov = [[2,3],\n",
    "       [3,7]]\n",
    "\n",
    "x = rand.multivariate_normal(mean, cov, 140)\n",
    "x.shape"
   ]
  },
  {
   "cell_type": "code",
   "execution_count": 307,
   "id": "proof-peter",
   "metadata": {},
   "outputs": [
    {
     "data": {
      "text/plain": [
       "<matplotlib.collections.PathCollection at 0x7fe8b1c0e190>"
      ]
     },
     "execution_count": 307,
     "metadata": {},
     "output_type": "execute_result"
    },
    {
     "data": {
      "image/png": "[encoded data removed]",
      "text/plain": [
       "<Figure size 432x288 with 1 Axes>"
      ]
     },
     "metadata": {
      "needs_background": "light"
     },
     "output_type": "display_data"
    }
   ],
   "source": [
    "plt.scatter(x[:,0],x[:,1])"
   ]
  },
  {
   "cell_type": "code",
   "execution_count": 330,
   "id": "isolated-stanley",
   "metadata": {},
   "outputs": [
    {
     "data": {
      "text/plain": [
       "array([111,  60,  33, 122,  20,  94,  62,  49, 110,  47,   9,  58,  96,\n",
       "        44, 128,  45,  11,  26,  25,   0])"
      ]
     },
     "execution_count": 330,
     "metadata": {},
     "output_type": "execute_result"
    }
   ],
   "source": [
    "indices = np.random.choice(x.shape[0], 20, replace = False)\n",
    "indices"
   ]
  },
  {
   "cell_type": "code",
   "execution_count": 331,
   "id": "satellite-bobby",
   "metadata": {},
   "outputs": [
    {
     "data": {
      "text/plain": [
       "array([[-0.42567488,  3.16252135],\n",
       "       [-0.18503616,  6.49719444],\n",
       "       [-0.23520385,  4.63782524],\n",
       "       [ 1.64458241,  7.94953636],\n",
       "       [-0.39713384,  5.42732828],\n",
       "       [ 0.03524203,  5.44436277],\n",
       "       [ 0.55669043,  5.70538487],\n",
       "       [ 0.11384091,  6.11106648],\n",
       "       [ 0.86937484,  6.44706142],\n",
       "       [-0.42044687,  4.58637076],\n",
       "       [-2.84280521,  0.89072714],\n",
       "       [-0.30569031,  4.69228218],\n",
       "       [-1.24181914,  3.85885491],\n",
       "       [-0.50141638,  2.62836387],\n",
       "       [-0.80948772,  4.21644981],\n",
       "       [ 1.0730428 ,  6.83937835],\n",
       "       [-2.85970713,  1.9130171 ],\n",
       "       [ 1.29198299,  6.1733835 ],\n",
       "       [ 1.0189899 ,  8.72814596],\n",
       "       [ 0.32758795,  4.52922173]])"
      ]
     },
     "execution_count": 331,
     "metadata": {},
     "output_type": "execute_result"
    }
   ],
   "source": [
    "selection = x[indices]\n",
    "selection"
   ]
  },
  {
   "cell_type": "code",
   "execution_count": 332,
   "id": "opening-association",
   "metadata": {},
   "outputs": [
    {
     "data": {
      "image/png": "[encoded data removed]",
      "text/plain": [
       "<Figure size 432x288 with 1 Axes>"
      ]
     },
     "metadata": {
      "needs_background": "light"
     },
     "output_type": "display_data"
    }
   ],
   "source": [
    "\n",
    "\n",
    "plt.scatter(x[:, 0], x[:, 1])\n",
    "plt.scatter(selection[:, 0], selection[:, 1], alpha=0.3, s=200);\n",
    "\n",
    "\n"
   ]
  },
  {
   "cell_type": "markdown",
   "id": "threatened-catch",
   "metadata": {},
   "source": [
    "### Modifying Values with Fancy Indexing"
   ]
  },
  {
   "cell_type": "code",
   "execution_count": 337,
   "id": "western-frontier",
   "metadata": {},
   "outputs": [
    {
     "name": "stdout",
     "output_type": "stream",
     "text": [
      "[ 0 80 80  3 80  5  6  7 80  9]\n",
      "[ 0 98 99  3 98  5  6  7 97  9]\n"
     ]
    },
    {
     "ename": "ValueError",
     "evalue": "shape mismatch: value array of shape (3,) could not be broadcast to indexing result of shape (4,)",
     "output_type": "error",
     "traceback": [
      "\u001b[0;31m---------------------------------------------------------------------------\u001b[0m",
      "\u001b[0;31mValueError\u001b[0m                                Traceback (most recent call last)",
      "\u001b[0;32m<ipython-input-337-9c615154bb78>\u001b[0m in \u001b[0;36m<module>\u001b[0;34m\u001b[0m\n\u001b[1;32m      6\u001b[0m \u001b[0mx\u001b[0m\u001b[0;34m[\u001b[0m\u001b[0mi\u001b[0m\u001b[0;34m]\u001b[0m \u001b[0;34m=\u001b[0m \u001b[0;34m[\u001b[0m\u001b[0;36m99\u001b[0m\u001b[0;34m,\u001b[0m\u001b[0;36m98\u001b[0m\u001b[0;34m,\u001b[0m\u001b[0;36m97\u001b[0m\u001b[0;34m,\u001b[0m\u001b[0;36m98\u001b[0m\u001b[0;34m]\u001b[0m\u001b[0;34m\u001b[0m\u001b[0;34m\u001b[0m\u001b[0m\n\u001b[1;32m      7\u001b[0m \u001b[0mprint\u001b[0m\u001b[0;34m(\u001b[0m\u001b[0mx\u001b[0m\u001b[0;34m)\u001b[0m\u001b[0;34m\u001b[0m\u001b[0;34m\u001b[0m\u001b[0m\n\u001b[0;32m----> 8\u001b[0;31m \u001b[0mx\u001b[0m\u001b[0;34m[\u001b[0m\u001b[0mi\u001b[0m\u001b[0;34m]\u001b[0m \u001b[0;34m=\u001b[0m \u001b[0;34m[\u001b[0m\u001b[0;36m110\u001b[0m\u001b[0;34m,\u001b[0m\u001b[0;36m120\u001b[0m\u001b[0;34m,\u001b[0m\u001b[0;36m130\u001b[0m\u001b[0;34m]\u001b[0m   \u001b[0;31m# This will give an error, the substitution must be a scalar or match the size of the index vector\u001b[0m\u001b[0;34m\u001b[0m\u001b[0;34m\u001b[0m\u001b[0m\n\u001b[0m",
      "\u001b[0;31mValueError\u001b[0m: shape mismatch: value array of shape (3,) could not be broadcast to indexing result of shape (4,)"
     ]
    }
   ],
   "source": [
    "# You can assign new values to an array using fancy indexing\n",
    "x = np.arange(10)\n",
    "i = np.array([2, 1, 8, 4])\n",
    "x[i] = 80\n",
    "print(x)\n",
    "x[i] = [99,98,97,98]\n",
    "print(x)\n",
    "x[i] = [110,120,130]   # This will give an error, the substitution must be a scalar or match the size of the index vector"
   ]
  },
  {
   "cell_type": "code",
   "execution_count": null,
   "id": "economic-monroe",
   "metadata": {},
   "outputs": [],
   "source": [
    "x = np.zeros(10)\n",
    "x[[0, 0]] = [4,6]\n",
    "print(x)"
   ]
  }
 ],
 "metadata": {
  "kernelspec": {
   "display_name": "Python 3",
   "language": "python",
   "name": "python3"
  },
  "language_info": {
   "codemirror_mode": {
    "name": "ipython",
    "version": 3
   },
   "file_extension": ".py",
   "mimetype": "text/x-python",
   "name": "python",
   "nbconvert_exporter": "python",
   "pygments_lexer": "ipython3",
   "version": "3.7.9"
  }
 },
 "nbformat": 4,
 "nbformat_minor": 5
}
