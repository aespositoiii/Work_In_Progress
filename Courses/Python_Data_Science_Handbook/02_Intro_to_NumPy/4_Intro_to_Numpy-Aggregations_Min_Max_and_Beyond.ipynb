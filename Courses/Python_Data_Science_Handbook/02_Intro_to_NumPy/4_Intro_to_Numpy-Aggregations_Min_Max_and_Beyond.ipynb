{
 "cells": [
  {
   "cell_type": "markdown",
   "id": "romance-significance",
   "metadata": {},
   "source": [
    "# Aggregation : Min, Max, and Everything In Between"
   ]
  },
  {
   "cell_type": "code",
   "execution_count": 1,
   "id": "superior-purpose",
   "metadata": {
    "scrolled": false
   },
   "outputs": [
    {
     "name": "stdout",
     "output_type": "stream",
     "text": [
      "[0.47301364 0.92446349 0.61644739 0.67145417 0.47290025 0.08456056\n",
      " 0.32824608 0.5828153  0.42025516 0.8209617  0.81867196 0.68487063\n",
      " 0.9725712  0.78954032 0.70026346 0.19017461 0.30218102 0.45045159\n",
      " 0.21945288 0.34297137 0.13354685 0.9345221  0.08183135 0.07674752\n",
      " 0.51791881 0.05059972 0.65495793 0.656401   0.64486639 0.02937084\n",
      " 0.83873823 0.67429673 0.89108837 0.76833163 0.90834098 0.44175007\n",
      " 0.67048552 0.72547409 0.43667785 0.85215861 0.36292691 0.6985746\n",
      " 0.11364123 0.30546908 0.61589179 0.4541105  0.04932318 0.52091841\n",
      " 0.30597032 0.36943485 0.84910695 0.27754495 0.11970049 0.59482408\n",
      " 0.45688888 0.02010812 0.37286762 0.17336403 0.9920524  0.7084054\n",
      " 0.98372003 0.2985031  0.36090224 0.44260425 0.16771967 0.40878371\n",
      " 0.77452457 0.11710975 0.61835836 0.24741481 0.29494926 0.70921242\n",
      " 0.59035232 0.04270798 0.98784397 0.33122545 0.41681265 0.04982112\n",
      " 0.22256062 0.13560577 0.6074275  0.91759113 0.86355333 0.6274407\n",
      " 0.32993745 0.47977725 0.69628648 0.92922618 0.49473583 0.26703995\n",
      " 0.23026315 0.64250788 0.44513525 0.53373671 0.27341342 0.16140687\n",
      " 0.49432424 0.56379824 0.72765625 0.17989989] \n",
      "\n",
      "48.881384875467226\n"
     ]
    }
   ],
   "source": [
    "import numpy as np\n",
    "\n",
    "L = np.random.random(100)\n",
    "print(L,'\\n')\n",
    "print(sum(L))"
   ]
  },
  {
   "cell_type": "code",
   "execution_count": 2,
   "id": "loved-fisher",
   "metadata": {},
   "outputs": [
    {
     "name": "stdout",
     "output_type": "stream",
     "text": [
      "[0.47301364 0.92446349 0.61644739 0.67145417 0.47290025 0.08456056\n",
      " 0.32824608 0.5828153  0.42025516 0.8209617  0.81867196 0.68487063\n",
      " 0.9725712  0.78954032 0.70026346 0.19017461 0.30218102 0.45045159\n",
      " 0.21945288 0.34297137 0.13354685 0.9345221  0.08183135 0.07674752\n",
      " 0.51791881 0.05059972 0.65495793 0.656401   0.64486639 0.02937084\n",
      " 0.83873823 0.67429673 0.89108837 0.76833163 0.90834098 0.44175007\n",
      " 0.67048552 0.72547409 0.43667785 0.85215861 0.36292691 0.6985746\n",
      " 0.11364123 0.30546908 0.61589179 0.4541105  0.04932318 0.52091841\n",
      " 0.30597032 0.36943485 0.84910695 0.27754495 0.11970049 0.59482408\n",
      " 0.45688888 0.02010812 0.37286762 0.17336403 0.9920524  0.7084054\n",
      " 0.98372003 0.2985031  0.36090224 0.44260425 0.16771967 0.40878371\n",
      " 0.77452457 0.11710975 0.61835836 0.24741481 0.29494926 0.70921242\n",
      " 0.59035232 0.04270798 0.98784397 0.33122545 0.41681265 0.04982112\n",
      " 0.22256062 0.13560577 0.6074275  0.91759113 0.86355333 0.6274407\n",
      " 0.32993745 0.47977725 0.69628648 0.92922618 0.49473583 0.26703995\n",
      " 0.23026315 0.64250788 0.44513525 0.53373671 0.27341342 0.16140687\n",
      " 0.49432424 0.56379824 0.72765625 0.17989989] \n",
      "\n",
      "48.881384875467226\n",
      "48.88138487546722\n",
      "15.6 µs ± 1.01 µs per loop (mean ± std. dev. of 7 runs, 100000 loops each)\n",
      "3.46 µs ± 400 ns per loop (mean ± std. dev. of 7 runs, 100000 loops each)\n"
     ]
    }
   ],
   "source": [
    "# The result is normally the same but 'np.sum(L)' is MUCH faster\n",
    "\n",
    "print(L,'\\n')\n",
    "print(sum(L))\n",
    "print(np.sum(L))\n",
    "\n",
    "%timeit sum(L)\n",
    "%timeit np.sum(L)"
   ]
  },
  {
   "cell_type": "code",
   "execution_count": 3,
   "id": "worthy-costs",
   "metadata": {},
   "outputs": [
    {
     "name": "stdout",
     "output_type": "stream",
     "text": [
      "[7 8 9 3 3 3 4 4 5 5 3 3 6 7 8 5 8 7 6 1 3 8 8 4 9 4 3 8 5 6 3 8 4 3 9 2 5\n",
      " 5 5 2 6 7 1 1 9 9 3 1 6 6 7 6 4 4 4 1 7 8 2 2 6 8 2 4 1 8 7 3 8 5 8 5 1 8\n",
      " 7 8 1 5 7 7 4 2 2 3 7 5 9 5 6 3 6 7 1 4 8 2 1 8 8 9 8 9 7 9 3 3 7 4 3 1 1\n",
      " 5 9 5 1 1 2 9 4 8 4 5 3 3 1 5 8 2 7 2 9 4 5 5 5 9 9 4 9 1 7 3 3 4 8 1 2 1\n",
      " 3 6 5 2 8 5 6 6 3 6 4 9 7 1 8 1 8 4 8 5 5 9 4 6 4 8 7 2 4 7 5 9 4 7 3 3 6\n",
      " 5 4 4 2 5 6 3 4 1 3 3 9 8 9 3 1 5 5 1 8 3 8 3 5 1 7 4 5 3 1 2 1 6 6 3 5 5\n",
      " 3 3 1 8 5 7 7 1 9 8 9 6 2 2 5 4 6 5 1 4 6 5 7 8 2 4 6 5 7 8 6 9 8 1 5 3 5\n",
      " 8 1 5 3 5 4 7 5 4 6 9 3 5 3 7 4 5 1 2 1 4 1 8 8 8 2 5 6 1 6 3 1 1 9 5 4 6\n",
      " 4 3 5 6 6 3 6 6 8 5 6 6 2 2 9 8 3 6 6 8 6 4 3 2 9 7 4 5 9 2 4 6 3 7 9 6 1\n",
      " 8 1 9 4 4 5 4 9 3 5 7 2 7 2 6 2 5 7 2 7 9 6 8 4 1 7 7 6 9 9 1 9 4 9 3 5 1\n",
      " 4 7 3 5 9 1 6 5 6 6 2 7 4 2 8 2 8 7 3 8 8 4 9 6 4 3 2 5 7 4 3 5 7 8 5 7 7\n",
      " 4 9 2 9 5 5 8 5 5 3 5 2 3 6 3 1 6 3 1 1 7 3 6 2 2 1 7 3 3 2 7 2 9 1 2 7 3\n",
      " 5 5 5 8 5 4 5 3 8 7 2 1 5 7 4 2 6 7 3 5 6 5 5 3 6 4 1 9 1 5 8 6 5 3 9 9 7\n",
      " 6 1 7 9 1 4 6 1 2 3 7 1 8 8 6 5 2 9 6 5 8 6 3 2 8 1 6 9 2 2 8 3 3 9 6 1 3\n",
      " 8 1 5 5 7 9 9 2 7 7 8 6 9 9 5 8 9 8 2 1 7 7 8 4 8 1 8 8 5 8 8 6 2 1 2 8 2\n",
      " 6 1 3 7 7 1 4 6 2 6 2 4 4 3 6 1 6 7 5 2 8 1 4 1 9 1 3 8 4 5 1 7 8 8 2 1 2\n",
      " 5 1 7 5 8 1 8 9 6 2 2 7 1 3 8 7 5 8 1 2 6 3 9 2 4 8 1 9 6 4 2 5 4 1 1 7 5\n",
      " 1 9 2 8 5 3 5 7 4 8 3 6 2 6 3 1 9 3 2 1 7 9 2 1 3 6 3 9 9 8 3 1 9 9 3 2 9\n",
      " 4 6 7 9 1 7 7 5 3 1 1 5 8 7 5 7 9 9 2 2 7 9 8 2 1 3 7 3 1 2 5 3 7 5 3 1 5\n",
      " 4 2 9 7 5 6 5 4 3 7 9 3 6 9 5 3 1 1 9 2 3 8 9 4 9 9 5 8 3 5 2 2 6 5 3 4 7\n",
      " 1 1 8 4 2 2 3 9 4 9 8 3 2 7 8 5 5 5 4 1 6 6 6 3 9 7 6 3 2 1 9 7 8 9 2 1 6\n",
      " 8 8 6 1 5 7 8 6 5 4 4 9 3 8 1 8 4 9 9 8 8 5 8 8 5 7 4 9 9 6 2 7 6 9 6 9 2\n",
      " 2 5 9 3 3 4 5 9 2 5 2 6 5 2 3 9 2 3 6 4 1 2 6 1 4 4 3 7 1 6 7 9 3 3 3 8 3\n",
      " 4 1 5 5 5 9 8 3 6 1 5 9 6 2 3 4 1 4 7 6 6 1 9 6 8 3 7 1 3 5 6 8 9 2 4 1 1\n",
      " 3 3 3 7 6 7 3 1 6 5 1 8 8 6 3 8 2 1 4 5 6 2 9 4 9 2 2 8 6 3 8 2 2 7 3 8 8\n",
      " 6 2 7 4 6 5 1 3 1 5 2 3 4 4 4 7 7 1 3 4 8 8 8 1 1 1 3 7 4 3 7 4 9 4 9 7 7\n",
      " 1 8 1 6 9 5 1 4 6 9 3 6 7 2 1 7 7 1 2 6 1 4 9 2 7 5 8 6 9 4 8 4 8 4 5 7 9\n",
      " 8]\n"
     ]
    }
   ],
   "source": [
    "big_array1 = np.random.randint(1,10, size=1000)\n",
    "\n",
    "print(big_array1)"
   ]
  },
  {
   "cell_type": "code",
   "execution_count": 4,
   "id": "flexible-cable",
   "metadata": {},
   "outputs": [
    {
     "name": "stdout",
     "output_type": "stream",
     "text": [
      "1 9 4953\n"
     ]
    }
   ],
   "source": [
    "# Instead of calling 'np.min/max/sum' you can call '.min()', '.max()', and '.sum()' on the array itself\n",
    "\n",
    "print(big_array1.min(), big_array1.max(), big_array1.sum())"
   ]
  },
  {
   "cell_type": "markdown",
   "id": "gross-latex",
   "metadata": {},
   "source": [
    "### Multi Dimensional Arrays"
   ]
  },
  {
   "cell_type": "code",
   "execution_count": 5,
   "id": "generic-lover",
   "metadata": {},
   "outputs": [
    {
     "name": "stdout",
     "output_type": "stream",
     "text": [
      "[[0.99318135 0.8717511  0.17716136 0.35766817]\n",
      " [0.67784744 0.45219752 0.13098952 0.46597261]\n",
      " [0.97437451 0.5875899  0.01088485 0.40337817]] \n",
      "\n",
      "6.10299650710491 \n",
      "\n",
      "[2.6454033  1.91153852 0.31903573 1.22701896] \n",
      "\n",
      "[2.39976199 1.72700709 1.97622743] \n",
      "\n"
     ]
    }
   ],
   "source": [
    "#Aggregation can be done over the entire array or an individual axis of the array\n",
    "\n",
    "M = np.random.random((3,4))\n",
    "print(M, '\\n')\n",
    "print(M.sum(), '\\n')\n",
    "print(M.sum(axis=0), '\\n')\n",
    "print(M.sum(axis=1), '\\n')"
   ]
  },
  {
   "cell_type": "markdown",
   "id": "occupied-clearing",
   "metadata": {},
   "source": [
    "### Here is a summary of all of the aggregate functions\n"
   ]
  },
  {
   "cell_type": "code",
   "execution_count": 6,
   "id": "focal-excess",
   "metadata": {},
   "outputs": [],
   "source": [
    "\"\"\"\n",
    "Function Name \tNaN-safe Version \tDescription\n",
    "np.sum \tnp.nansum \tCompute sum of elements\n",
    "np.prod \tnp.nanprod \tCompute product of elements\n",
    "np.mean \tnp.nanmean \tCompute mean of elements\n",
    "np.std \tnp.nanstd \tCompute standard deviation\n",
    "np.var \tnp.nanvar \tCompute variance\n",
    "np.min \tnp.nanmin \tFind minimum value\n",
    "np.max \tnp.nanmax \tFind maximum value\n",
    "np.argmin \tnp.nanargmin \tFind index of minimum value\n",
    "np.argmax \tnp.nanargmax \tFind index of maximum value\n",
    "np.median \tnp.nanmedian \tCompute median of elements\n",
    "np.percentile \tnp.nanpercentile \tCompute rank-based statistics of elements\n",
    "np.any \tN/A \tEvaluate whether any elements are true\n",
    "np.all \tN/A \tEvaluate whether all elements are true\n",
    "\n",
    "\"\"\";"
   ]
  },
  {
   "cell_type": "code",
   "execution_count": 8,
   "id": "quantitative-trade",
   "metadata": {},
   "outputs": [
    {
     "name": "stdout",
     "output_type": "stream",
     "text": [
      "head: president_heights.csv: No such file or directory\r\n"
     ]
    }
   ],
   "source": [
    "!head -4 president_heights.csv"
   ]
  },
  {
   "cell_type": "code",
   "execution_count": 10,
   "id": "seeing-johnson",
   "metadata": {},
   "outputs": [
    {
     "name": "stdout",
     "output_type": "stream",
     "text": [
      "[189 170 189 163 183 171 185 168 173 183 173 173 175 178 183 193 178 173\n",
      " 174 183 183 168 170 178 182 180 183 178 182 188 175 179 183 193 182 183\n",
      " 177 185 188 188 182 185]\n"
     ]
    }
   ],
   "source": [
    "import pandas as pd\n",
    "data = pd.read_csv('/Users/anthonyesposito/Desktop/python_practice/Python_Practice/Basic_Coding/Numpy_Practice/PythonDataScienceHandbook-master/notebooks/data/president_heights.csv')\n",
    "heights = np.array(data['height(cm)'])\n",
    "print(heights)"
   ]
  },
  {
   "cell_type": "code",
   "execution_count": 11,
   "id": "superior-hospital",
   "metadata": {},
   "outputs": [
    {
     "name": "stdout",
     "output_type": "stream",
     "text": [
      "Mean Height        : 179.73809523809524\n",
      "Standard Deviation : 6.931843442745892\n",
      "Minimum Height     : 163\n",
      "Maximum Height     : 193\n"
     ]
    }
   ],
   "source": [
    "print(\"Mean Height        :\",heights.mean())\n",
    "print(\"Standard Deviation :\",heights.std())\n",
    "print(\"Minimum Height     :\",heights.min())\n",
    "print(\"Maximum Height     :\",heights.max())"
   ]
  },
  {
   "cell_type": "code",
   "execution_count": 12,
   "id": "lined-small",
   "metadata": {},
   "outputs": [
    {
     "name": "stdout",
     "output_type": "stream",
     "text": [
      "25th percentile   : 174.25\n",
      "50th percentile   : 182.0\n",
      "75th percentile   : 183.0\n"
     ]
    }
   ],
   "source": [
    "print(\"25th percentile   :\", np.percentile(heights, 25))\n",
    "print(\"50th percentile   :\", np.percentile(heights, 50))\n",
    "print(\"75th percentile   :\", np.percentile(heights, 75))\n"
   ]
  },
  {
   "cell_type": "code",
   "execution_count": 13,
   "id": "usual-medium",
   "metadata": {},
   "outputs": [],
   "source": [
    "%matplotlib inline\n",
    "import matplotlib.pyplot as plt\n",
    "import seaborn; seaborn.set()"
   ]
  },
  {
   "cell_type": "code",
   "execution_count": 14,
   "id": "professional-examination",
   "metadata": {},
   "outputs": [
    {
     "data": {
      "text/plain": [
       "Text(0, 0.5, 'number')"
      ]
     },
     "execution_count": 14,
     "metadata": {},
     "output_type": "execute_result"
    },
    {
     "data": {
      "image/png": "[encoded data removed]",
      "text/plain": [
       "<Figure size 432x288 with 1 Axes>"
      ]
     },
     "metadata": {},
     "output_type": "display_data"
    }
   ],
   "source": [
    "plt.hist(heights)\n",
    "plt.title(\"Height Distribution of US Presidents\")\n",
    "plt.xlabel(\"height (cm)\")\n",
    "plt.ylabel(\"number\")"
   ]
  },
  {
   "cell_type": "code",
   "execution_count": null,
   "id": "regional-dominant",
   "metadata": {},
   "outputs": [],
   "source": []
  }
 ],
 "metadata": {
  "kernelspec": {
   "display_name": "Python 3",
   "language": "python",
   "name": "python3"
  },
  "language_info": {
   "codemirror_mode": {
    "name": "ipython",
    "version": 3
   },
   "file_extension": ".py",
   "mimetype": "text/x-python",
   "name": "python",
   "nbconvert_exporter": "python",
   "pygments_lexer": "ipython3",
   "version": "3.7.9"
  }
 },
 "nbformat": 4,
 "nbformat_minor": 5
}
