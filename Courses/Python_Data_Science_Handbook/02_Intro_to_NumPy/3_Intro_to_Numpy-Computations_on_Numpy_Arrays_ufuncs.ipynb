{
 "cells": [
  {
   "cell_type": "markdown",
   "id": "alpine-thought",
   "metadata": {},
   "source": [
    "# Computation on Numpy Arrays : Universal Functions (ufuncs)"
   ]
  },
  {
   "cell_type": "code",
   "execution_count": 1,
   "id": "disturbed-profit",
   "metadata": {},
   "outputs": [
    {
     "name": "stdout",
     "output_type": "stream",
     "text": [
      "[6 1 4 4 8]\n",
      "[0.16666667 1.         0.25       0.25       0.125     ]\n"
     ]
    }
   ],
   "source": [
    "# Loops are slow, try to use vectorized computations with numpy arrays\n",
    "\n",
    "import numpy as np\n",
    "\n",
    "np.random.seed(0)\n",
    "\n",
    "def compute_reciprocals(values):\n",
    "    output = np.empty(len(values))\n",
    "    for i in range(len(values)):\n",
    "        output[i] = 1.0/values[i]\n",
    "    return output\n",
    "\n",
    "values = np.random.randint(1,10, size=5)\n",
    "reciprocals = compute_reciprocals(values)\n",
    "print(values)\n",
    "print(reciprocals)"
   ]
  },
  {
   "cell_type": "code",
   "execution_count": 2,
   "id": "public-keyboard",
   "metadata": {},
   "outputs": [
    {
     "name": "stdout",
     "output_type": "stream",
     "text": [
      "1.83 ms ± 78.6 µs per loop (mean ± std. dev. of 7 runs, 1000 loops each)\n",
      "1.81 ms ± 75.4 µs per loop (mean ± std. dev. of 7 runs, 1000 loops each)\n",
      "1.82 s ± 44.1 ms per loop (mean ± std. dev. of 7 runs, 1 loop each)\n",
      "1.77 s ± 37.2 ms per loop (mean ± std. dev. of 7 runs, 1 loop each)\n"
     ]
    }
   ],
   "source": [
    "# Here is how to use the '%timeit', one of the universal functions(ufuncs) in python\n",
    "# Notice that the size of elements in the array have virtually no effect on the runt time\n",
    "# Optimization of the code to minizime loops is essential\n",
    "\n",
    "\n",
    "big_array1 = np.random.randint(1,10, size=1000)\n",
    "big_array2 = np.random.randint(1,(2**33), size=1000)\n",
    "bigger_array1 = np.random.randint(1,10, size=1000000)\n",
    "bigger_array2 = np.random.randint(1,(2**33), size=1000000)\n",
    "%timeit compute_reciprocals(big_array1)\n",
    "%timeit compute_reciprocals(big_array2)\n",
    "%timeit compute_reciprocals(bigger_array1)\n",
    "%timeit compute_reciprocals(bigger_array2)\n"
   ]
  },
  {
   "cell_type": "code",
   "execution_count": 3,
   "id": "corresponding-stuart",
   "metadata": {},
   "outputs": [
    {
     "name": "stdout",
     "output_type": "stream",
     "text": [
      "2.18 µs ± 36.1 ns per loop (mean ± std. dev. of 7 runs, 100000 loops each)\n",
      "2.21 µs ± 51.9 ns per loop (mean ± std. dev. of 7 runs, 100000 loops each)\n",
      "1.26 ms ± 8.12 µs per loop (mean ± std. dev. of 7 runs, 1000 loops each)\n",
      "1.3 ms ± 44.6 µs per loop (mean ± std. dev. of 7 runs, 1000 loops each)\n"
     ]
    }
   ],
   "source": [
    "# Using ufuncs, the static typing of numpy arrays allows operations like this to be pushed into the compiled layer\n",
    "# underlying the python interface.  This bypasses all of the conversion between Python and C\n",
    "# ***MUCH FASTER***\n",
    "\n",
    "%timeit (1/big_array1)\n",
    "%timeit (1/big_array2)\n",
    "%timeit (1/bigger_array1)\n",
    "%timeit (1/bigger_array2)"
   ]
  },
  {
   "cell_type": "code",
   "execution_count": 4,
   "id": "numerous-horizontal",
   "metadata": {},
   "outputs": [
    {
     "name": "stdout",
     "output_type": "stream",
     "text": [
      "[[1 2 3]\n",
      " [4 5 6]\n",
      " [7 8 9]] \n",
      "\n",
      "[[ 2  4  6]\n",
      " [ 8 10 12]\n",
      " [14 16 18]] \n",
      "\n",
      "[[  2   8  18]\n",
      " [ 32  50  72]\n",
      " [ 98 128 162]]\n"
     ]
    }
   ],
   "source": [
    "# all of the basic mathematical operations can be applied in this way\n",
    "x = np.arange(1,10).reshape((3,3))\n",
    "print(x, '\\n')\n",
    "y = 2*x\n",
    "print(y, '\\n')\n",
    "z = x*y\n",
    "print(z)"
   ]
  },
  {
   "cell_type": "markdown",
   "id": "twelve-virginia",
   "metadata": {},
   "source": [
    "# Exploring ufuncs"
   ]
  },
  {
   "cell_type": "markdown",
   "id": "limited-second",
   "metadata": {},
   "source": [
    "### Array Arithmetic"
   ]
  },
  {
   "cell_type": "code",
   "execution_count": 5,
   "id": "flexible-basement",
   "metadata": {},
   "outputs": [
    {
     "name": "stdout",
     "output_type": "stream",
     "text": [
      " x      =  [0 1 2 3] \n",
      "\n",
      " x + 5  =  [5 6 7 8] \n",
      "\n",
      " x - 5  =  [-5 -4 -3 -2] \n",
      "\n",
      " x * 2  =  [0 2 4 6] \n",
      "\n",
      " x / 2  =  [0.  0.5 1.  1.5] \n",
      "\n",
      " x //2  =  [0 0 1 1] \n",
      "\n",
      "-x      =  [ 0 -1 -2 -3] \n",
      "\n",
      " x % 2  =  [0 1 0 1] \n",
      "\n"
     ]
    }
   ],
   "source": [
    "x = np.arange(4)\n",
    "print(\" x      = \", x, '\\n')\n",
    "print(\" x + 5  = \", x + 5, '\\n')    \n",
    "print(\" x - 5  = \", x - 5, '\\n')\n",
    "print(\" x * 2  = \", x * 2, '\\n')\n",
    "print(\" x / 2  = \", x / 2, '\\n')\n",
    "print(\" x //2  = \", x // 2, '\\n')  # Floor Division\n",
    "print(\"-x      = \", -x, '\\n')\n",
    "print(\" x % 2  = \", x % 2, '\\n')"
   ]
  },
  {
   "cell_type": "code",
   "execution_count": 6,
   "id": "packed-december",
   "metadata": {},
   "outputs": [
    {
     "data": {
      "text/plain": [
       "array([-1.    , -1.5625, -2.25  , -3.0625])"
      ]
     },
     "execution_count": 6,
     "metadata": {},
     "output_type": "execute_result"
    }
   ],
   "source": [
    "# The order of operations is respected\n",
    "\n",
    "-(.25 * x + 1) **2"
   ]
  },
  {
   "cell_type": "code",
   "execution_count": 7,
   "id": "current-expense",
   "metadata": {},
   "outputs": [
    {
     "name": "stdout",
     "output_type": "stream",
     "text": [
      "[0 1 2 3]\n",
      "[2 3 4 5]\n"
     ]
    }
   ],
   "source": [
    "# the arithmetic operators are a wrapper for numpy method ufuncs that accept an array and a quantity\n",
    "\n",
    "A = np.add(x , 2)\n",
    "print(x)\n",
    "print(A)"
   ]
  },
  {
   "cell_type": "code",
   "execution_count": 8,
   "id": "related-impossible",
   "metadata": {},
   "outputs": [],
   "source": [
    "# Here are the list of ufuncs and their equivalents\n",
    "\n",
    "\"\"\"\n",
    "+ \tnp.add \tAddition (e.g., 1 + 1 = 2)\n",
    "- \tnp.subtract \tSubtraction (e.g., 3 - 2 = 1)\n",
    "- \tnp.negative \tUnary negation (e.g., -2)\n",
    "* \tnp.multiply \tMultiplication (e.g., 2 * 3 = 6)\n",
    "/ \tnp.divide \tDivision (e.g., 3 / 2 = 1.5)\n",
    "// \tnp.floor_divide \tFloor division (e.g., 3 // 2 = 1)\n",
    "** \tnp.power \tExponentiation (e.g., 2 ** 3 = 8)\n",
    "% \tnp.mod \tModulus/remainder (e.g., 9 % 4 = 1)\n",
    "\n",
    "\"\"\";"
   ]
  },
  {
   "cell_type": "code",
   "execution_count": 9,
   "id": "advanced-chess",
   "metadata": {},
   "outputs": [
    {
     "name": "stdout",
     "output_type": "stream",
     "text": [
      "[-10000  -9999  -9998 ...   9997   9998   9999]\n",
      "[-9999 -9998 -9997 ...  9998  9999 10000]\n",
      "10.5 µs ± 387 ns per loop (mean ± std. dev. of 7 runs, 100000 loops each)\n",
      "10.2 µs ± 54.6 ns per loop (mean ± std. dev. of 7 runs, 100000 loops each)\n"
     ]
    }
   ],
   "source": [
    "# Python recognizes the built-in python commands as well as the \n",
    "# The two methods time the same.\n",
    "\n",
    "x = np.array([-2, -1, 0, 1 , 2])\n",
    "x = np.arange(-10000,10000)\n",
    "negx = -1*x[::-1]\n",
    "negx = negx.copy() \n",
    "print(x)\n",
    "print(negx)\n",
    "\n",
    "%timeit abs(x)\n",
    "%timeit np.absolute(x)"
   ]
  },
  {
   "cell_type": "code",
   "execution_count": 10,
   "id": "quarterly-investor",
   "metadata": {},
   "outputs": [
    {
     "name": "stdout",
     "output_type": "stream",
     "text": [
      "[4.-4.j 4.-3.j 2.+0.j 0.+1.j]\n",
      "[5.65685425 5.         2.         1.        ]\n"
     ]
    }
   ],
   "source": [
    "# Absolute values work on complex numbers too\n",
    "\n",
    "x = np.array([4-4j, 4-3j, 2+0j, 0+1J])\n",
    "print(x)\n",
    "print(np.abs(x)) # returns the MAGNITUDE of the complex number (a**2 + b**2 = c**c)"
   ]
  },
  {
   "cell_type": "markdown",
   "id": "precise-yorkshire",
   "metadata": {},
   "source": [
    "### Trigonometric Functions"
   ]
  },
  {
   "cell_type": "code",
   "execution_count": 11,
   "id": "republican-treasury",
   "metadata": {},
   "outputs": [
    {
     "name": "stdout",
     "output_type": "stream",
     "text": [
      "theta.        = [0.         1.57079633 3.14159265] \n",
      "\n",
      "sin(theta)    = [0.0000000e+00 1.0000000e+00 1.2246468e-16] \n",
      "\n",
      "cos(theta)    = [ 1.000000e+00  6.123234e-17 -1.000000e+00] \n",
      "\n",
      "tan(theta)    = [ 0.00000000e+00  1.63312394e+16 -1.22464680e-16]\n"
     ]
    }
   ],
   "source": [
    "# Trig functions are as follows\n",
    "\n",
    "theta = np.linspace(0,np.pi, 3)\n",
    "print(\"theta.        =\", theta, '\\n')\n",
    "print(\"sin(theta)    =\", np.sin(theta), '\\n')\n",
    "print(\"cos(theta)    =\", np.cos(theta), '\\n')\n",
    "print(\"tan(theta)    =\", np.tan(theta))"
   ]
  },
  {
   "cell_type": "code",
   "execution_count": 12,
   "id": "under-congress",
   "metadata": {},
   "outputs": [
    {
     "name": "stdout",
     "output_type": "stream",
     "text": [
      "x.            = [0.         1.57079633 3.14159265] \n",
      "\n",
      "arcsin(x)    = [0.         1.57079633 0.        ] \n",
      "\n",
      "arccos(x)    = [1.57079633 0.         1.57079633] \n",
      "\n",
      "arctan(x)    = [0.         0.78539816 0.        ]\n"
     ]
    }
   ],
   "source": [
    "\n",
    "x = np.array([0,1,0])\n",
    "print(\"x.            =\", theta, '\\n')\n",
    "print(\"arcsin(x)    =\", np.arcsin(x), '\\n')\n",
    "print(\"arccos(x)    =\", np.arccos(x), '\\n')\n",
    "print(\"arctan(x)    =\", np.arctan(x))\n"
   ]
  },
  {
   "cell_type": "markdown",
   "id": "aquatic-romania",
   "metadata": {},
   "source": [
    "### Numpy has ufuncs for Exponents and Logarithms"
   ]
  },
  {
   "cell_type": "code",
   "execution_count": 13,
   "id": "junior-arrest",
   "metadata": {},
   "outputs": [
    {
     "name": "stdout",
     "output_type": "stream",
     "text": [
      "x    = [1, 2, 3] \n",
      "\n",
      "e^x  = [ 2.71828183  7.3890561  20.08553692] \n",
      "\n",
      "2^x  = [2. 4. 8.] \n",
      "\n",
      "3^x  = [ 3  9 27] \n",
      "\n"
     ]
    }
   ],
   "source": [
    "x = [1,2,3]\n",
    "\n",
    "print(\"x    =\", x,'\\n')\n",
    "print(\"e^x  =\", np.exp(x),'\\n')\n",
    "print(\"2^x  =\", np.exp2(x),'\\n')\n",
    "print(\"3^x  =\", np.power(3,x),'\\n') # 'np.power(x,y)' raises x to the power of y"
   ]
  },
  {
   "cell_type": "code",
   "execution_count": 14,
   "id": "arabic-springfield",
   "metadata": {},
   "outputs": [
    {
     "name": "stdout",
     "output_type": "stream",
     "text": [
      "x       = [1, 2, 8, 100] \n",
      "\n",
      "ln(x)   = [0.         0.69314718 2.07944154 4.60517019] \n",
      "\n",
      "log2(x) = [0.         1.         3.         6.64385619] \n",
      "\n",
      "log10(x)= [0.         0.30103    0.90308999 2.        ] \n",
      "\n"
     ]
    }
   ],
   "source": [
    "x = [1,2,8,100]\n",
    "\n",
    "print(\"x       =\", x,'\\n')\n",
    "print(\"ln(x)   =\", np.log(x),'\\n')\n",
    "print(\"log2(x) =\", np.log2(x),'\\n')\n",
    "print(\"log10(x)=\", np.log10(x),'\\n')"
   ]
  },
  {
   "cell_type": "code",
   "execution_count": 15,
   "id": "specialized-knitting",
   "metadata": {},
   "outputs": [
    {
     "name": "stdout",
     "output_type": "stream",
     "text": [
      "exp(x) - 1 = [0.         0.0010005  0.01005017 0.10517092] \n",
      "\n",
      "log(1 + x) = [0.         0.0009995  0.00995033 0.09531018] \n",
      "\n"
     ]
    }
   ],
   "source": [
    "# There are also some specialized log functions for maintaining precision with very small values\n",
    "\n",
    "x = [0, 0.001, 0.01, 0.1]\n",
    "print(\"exp(x) - 1 =\", np.expm1(x),'\\n')\n",
    "print(\"log(1 + x) =\", np.log1p(x),'\\n')"
   ]
  },
  {
   "cell_type": "markdown",
   "id": "incorporated-spending",
   "metadata": {},
   "source": [
    "### Specialized ufuncs"
   ]
  },
  {
   "cell_type": "code",
   "execution_count": 16,
   "id": "under-source",
   "metadata": {},
   "outputs": [
    {
     "name": "stdout",
     "output_type": "stream",
     "text": [
      "gamma(x)     = [1.0000e+00 2.4000e+01 3.6288e+05] \n",
      "\n",
      "ln|gamma(x)| = [ 0.          3.17805383 12.80182748] \n",
      "\n",
      "beta(x, 2)   = [0.5        0.03333333 0.00909091] \n",
      "\n"
     ]
    }
   ],
   "source": [
    "# scipy has some specialized ufuncs for statistical analysis\n",
    "from scipy import special\n",
    "\n",
    "x = [1, 5, 10]\n",
    "\n",
    "print(\"gamma(x)     =\", special.gamma(x),'\\n')\n",
    "print(\"ln|gamma(x)| =\", special.gammaln(x),'\\n')\n",
    "print(\"beta(x, 2)   =\", special.beta(x, 2),'\\n')\n",
    "\n"
   ]
  },
  {
   "cell_type": "code",
   "execution_count": 17,
   "id": "sought-chicago",
   "metadata": {},
   "outputs": [
    {
     "name": "stdout",
     "output_type": "stream",
     "text": [
      "erf(x)  = [0.         0.32862676 0.67780119 0.84270079] \n",
      "\n",
      "erfc(x) = [1.         0.67137324 0.32219881 0.15729921] \n",
      "\n",
      "erfinv(x) = [0.         0.27246271 0.73286908        inf] \n",
      "\n"
     ]
    }
   ],
   "source": [
    "# Error function (integral of Gaussian)\n",
    "# its complement, and its inverse\n",
    "\n",
    "x = np.array([0, 0.3, 0.7, 1.0])\n",
    "print(\"erf(x)  =\", special.erf(x),'\\n')\n",
    "print(\"erfc(x) =\", special.erfc(x),'\\n')\n",
    "print(\"erfinv(x) =\", special.erfinv(x),'\\n')"
   ]
  },
  {
   "cell_type": "markdown",
   "id": "inappropriate-bidding",
   "metadata": {},
   "source": [
    "# Advanced Ufunc Features"
   ]
  },
  {
   "cell_type": "markdown",
   "id": "jewish-motivation",
   "metadata": {},
   "source": [
    "### Assigning result to a function"
   ]
  },
  {
   "cell_type": "code",
   "execution_count": 18,
   "id": "superior-loading",
   "metadata": {},
   "outputs": [
    {
     "name": "stdout",
     "output_type": "stream",
     "text": [
      "[0 1 2 3 4]\n",
      "[ 0. 10. 20. 30. 40.]\n"
     ]
    }
   ],
   "source": [
    "# The output of a ufunc can be specified inside the function without assigning to a variable.\n",
    "# To do this you must create an appropriately sized array to place the result in.\n",
    "\n",
    "x = np.arange(5)\n",
    "y = np.empty(5)\n",
    "np.multiply(x,10, out=y)\n",
    "print(x)\n",
    "print(y)"
   ]
  },
  {
   "cell_type": "code",
   "execution_count": 19,
   "id": "measured-network",
   "metadata": {},
   "outputs": [
    {
     "name": "stdout",
     "output_type": "stream",
     "text": [
      "[ 1.  0.  2.  0.  4.  0.  8.  0. 16.  0.]\n"
     ]
    }
   ],
   "source": [
    "# The results of the function can be assigned with slice formatting also\n",
    "\n",
    "y = np.zeros(10)\n",
    "np.power(2,x, out=y[::2])\n",
    "print(y)"
   ]
  }
 ],
 "metadata": {
  "kernelspec": {
   "display_name": "Python 3",
   "language": "python",
   "name": "python3"
  },
  "language_info": {
   "codemirror_mode": {
    "name": "ipython",
    "version": 3
   },
   "file_extension": ".py",
   "mimetype": "text/x-python",
   "name": "python",
   "nbconvert_exporter": "python",
   "pygments_lexer": "ipython3",
   "version": "3.7.9"
  }
 },
 "nbformat": 4,
 "nbformat_minor": 5
}
