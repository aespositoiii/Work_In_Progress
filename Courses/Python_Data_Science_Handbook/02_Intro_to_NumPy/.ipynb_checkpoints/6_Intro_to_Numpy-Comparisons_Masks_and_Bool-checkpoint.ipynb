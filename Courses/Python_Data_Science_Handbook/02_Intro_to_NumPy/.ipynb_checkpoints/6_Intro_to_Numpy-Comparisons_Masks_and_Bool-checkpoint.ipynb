{
 "cells": [
  {
   "cell_type": "markdown",
   "id": "radio-honey",
   "metadata": {},
   "source": [
    "# Comparisons, Masks, and Boolean Logic"
   ]
  },
  {
   "cell_type": "code",
   "execution_count": 1,
   "id": "small-memory",
   "metadata": {},
   "outputs": [
    {
     "data": {
      "text/plain": [
       "(365,)"
      ]
     },
     "execution_count": 1,
     "metadata": {},
     "output_type": "execute_result"
    }
   ],
   "source": [
    "# use pandas to extract rainfall inches as a NumPy Array.\n",
    "# Plotting a histogram of the data doesn't give a real idea of how much rain there is in a year\n",
    "import numpy as np\n",
    "%matplotlib inline\n",
    "import matplotlib.pyplot as plt\n",
    "import seaborn; seaborn.set()\n",
    "import pandas as pd\n",
    "\n",
    "rainfall = pd.read_csv('/Users/anthonyesposito/Desktop/python_practice/Python_Practice/Basic_Coding/Numpy_Practice/PythonDataScienceHandbook-master/notebooks/data/Seattle2014.csv')['PRCP']\n",
    "inches = rainfall / 254.0 # conversion for 1/10mm to incehs\n",
    "inches.shape"
   ]
  },
  {
   "cell_type": "code",
   "execution_count": 2,
   "id": "plastic-florence",
   "metadata": {},
   "outputs": [
    {
     "data": {
      "image/png": "[encoded data removed]",
      "text/plain": [
       "<Figure size 432x288 with 1 Axes>"
      ]
     },
     "metadata": {},
     "output_type": "display_data"
    }
   ],
   "source": [
    "plt.hist(inches, 40);"
   ]
  },
  {
   "cell_type": "markdown",
   "id": "incredible-willow",
   "metadata": {},
   "source": [
    "### Examples of the Comparison operators as Ufuncs"
   ]
  },
  {
   "cell_type": "code",
   "execution_count": 3,
   "id": "collective-nelson",
   "metadata": {},
   "outputs": [],
   "source": [
    "x = np.array([1, 2, 3, 4, 5])"
   ]
  },
  {
   "cell_type": "code",
   "execution_count": 4,
   "id": "electronic-landscape",
   "metadata": {},
   "outputs": [
    {
     "data": {
      "text/plain": [
       "array([ True,  True, False, False, False])"
      ]
     },
     "execution_count": 4,
     "metadata": {},
     "output_type": "execute_result"
    }
   ],
   "source": [
    "x < 3"
   ]
  },
  {
   "cell_type": "code",
   "execution_count": 5,
   "id": "round-growth",
   "metadata": {},
   "outputs": [
    {
     "data": {
      "text/plain": [
       "array([False, False, False,  True,  True])"
      ]
     },
     "execution_count": 5,
     "metadata": {},
     "output_type": "execute_result"
    }
   ],
   "source": [
    "x > 3"
   ]
  },
  {
   "cell_type": "code",
   "execution_count": 6,
   "id": "virtual-prime",
   "metadata": {},
   "outputs": [
    {
     "data": {
      "text/plain": [
       "array([ True,  True,  True, False, False])"
      ]
     },
     "execution_count": 6,
     "metadata": {},
     "output_type": "execute_result"
    }
   ],
   "source": [
    "x <= 3"
   ]
  },
  {
   "cell_type": "code",
   "execution_count": 7,
   "id": "measured-saturday",
   "metadata": {},
   "outputs": [
    {
     "data": {
      "text/plain": [
       "array([False, False,  True,  True,  True])"
      ]
     },
     "execution_count": 7,
     "metadata": {},
     "output_type": "execute_result"
    }
   ],
   "source": [
    "x >= 3"
   ]
  },
  {
   "cell_type": "code",
   "execution_count": 8,
   "id": "pressing-depth",
   "metadata": {},
   "outputs": [
    {
     "data": {
      "text/plain": [
       "array([ True,  True, False,  True,  True])"
      ]
     },
     "execution_count": 8,
     "metadata": {},
     "output_type": "execute_result"
    }
   ],
   "source": [
    "x != 3"
   ]
  },
  {
   "cell_type": "code",
   "execution_count": 9,
   "id": "searching-sucking",
   "metadata": {},
   "outputs": [
    {
     "data": {
      "text/plain": [
       "array([False, False,  True, False, False])"
      ]
     },
     "execution_count": 9,
     "metadata": {},
     "output_type": "execute_result"
    }
   ],
   "source": [
    "x == 3"
   ]
  },
  {
   "cell_type": "code",
   "execution_count": 10,
   "id": "greenhouse-birth",
   "metadata": {},
   "outputs": [
    {
     "data": {
      "text/plain": [
       "array([False,  True, False, False, False])"
      ]
     },
     "execution_count": 10,
     "metadata": {},
     "output_type": "execute_result"
    }
   ],
   "source": [
    "(2 * x) == (x**2)"
   ]
  },
  {
   "cell_type": "code",
   "execution_count": 11,
   "id": "american-brand",
   "metadata": {},
   "outputs": [
    {
     "data": {
      "text/plain": [
       "array([[5, 0, 3, 3],\n",
       "       [7, 9, 3, 5],\n",
       "       [2, 4, 7, 6]])"
      ]
     },
     "execution_count": 11,
     "metadata": {},
     "output_type": "execute_result"
    }
   ],
   "source": [
    "# The comparison operators can be applied to an array of any size.\n",
    "\n",
    "rng = np.random.RandomState(0)\n",
    "x = rng.randint(10, size=(3,4))\n",
    "x"
   ]
  },
  {
   "cell_type": "code",
   "execution_count": 12,
   "id": "forward-sarah",
   "metadata": {},
   "outputs": [
    {
     "data": {
      "text/plain": [
       "array([[ True,  True,  True,  True],\n",
       "       [False, False,  True,  True],\n",
       "       [ True,  True, False, False]])"
      ]
     },
     "execution_count": 12,
     "metadata": {},
     "output_type": "execute_result"
    }
   ],
   "source": [
    "x < 6"
   ]
  },
  {
   "cell_type": "code",
   "execution_count": 13,
   "id": "infinite-emphasis",
   "metadata": {},
   "outputs": [
    {
     "name": "stdout",
     "output_type": "stream",
     "text": [
      "[[0 0 0 0]\n",
      " [0 0 0 0]\n",
      " [0 0 0 6]] \n",
      "\n",
      "[[0 0 3 3]\n",
      " [0 0 3 0]\n",
      " [2 0 0 0]] \n",
      "\n",
      "[[5 0 0 0]\n",
      " [7 9 0 5]\n",
      " [0 4 7 6]] \n",
      "\n"
     ]
    }
   ],
   "source": [
    "print(x * (x==6), '\\n')\n",
    "print(x * (x < 4), '\\n')\n",
    "print(x * (x >= 4), '\\n')"
   ]
  },
  {
   "cell_type": "code",
   "execution_count": 14,
   "id": "attached-objective",
   "metadata": {},
   "outputs": [
    {
     "name": "stdout",
     "output_type": "stream",
     "text": [
      "1 \n",
      "\n",
      "5 \n",
      "\n",
      "7 \n",
      "\n"
     ]
    }
   ],
   "source": [
    "print(np.count_nonzero(x==6), '\\n')\n",
    "print(np.count_nonzero(x < 4), '\\n')\n",
    "print(np.count_nonzero(x >= 4), '\\n')"
   ]
  },
  {
   "cell_type": "code",
   "execution_count": 15,
   "id": "quantitative-douglas",
   "metadata": {},
   "outputs": [
    {
     "data": {
      "text/plain": [
       "8"
      ]
     },
     "execution_count": 15,
     "metadata": {},
     "output_type": "execute_result"
    }
   ],
   "source": [
    "np.sum(x < 6)"
   ]
  },
  {
   "cell_type": "code",
   "execution_count": 16,
   "id": "stock-currency",
   "metadata": {},
   "outputs": [
    {
     "data": {
      "text/plain": [
       "array([4, 2, 2])"
      ]
     },
     "execution_count": 16,
     "metadata": {},
     "output_type": "execute_result"
    }
   ],
   "source": [
    "np.sum(x < 6, axis=1)"
   ]
  },
  {
   "cell_type": "code",
   "execution_count": 17,
   "id": "suitable-comparative",
   "metadata": {},
   "outputs": [
    {
     "data": {
      "text/plain": [
       "array([2, 2, 2, 2])"
      ]
     },
     "execution_count": 17,
     "metadata": {},
     "output_type": "execute_result"
    }
   ],
   "source": [
    "np.sum(x < 6, axis=0)"
   ]
  },
  {
   "cell_type": "code",
   "execution_count": 18,
   "id": "constitutional-appearance",
   "metadata": {},
   "outputs": [
    {
     "data": {
      "text/plain": [
       "True"
      ]
     },
     "execution_count": 18,
     "metadata": {},
     "output_type": "execute_result"
    }
   ],
   "source": [
    "np.any(x <3)"
   ]
  },
  {
   "cell_type": "code",
   "execution_count": 19,
   "id": "stupid-anchor",
   "metadata": {},
   "outputs": [
    {
     "data": {
      "text/plain": [
       "array([[0, 0, 0, 0],\n",
       "       [0, 0, 0, 0],\n",
       "       [2, 0, 0, 0]])"
      ]
     },
     "execution_count": 19,
     "metadata": {},
     "output_type": "execute_result"
    }
   ],
   "source": [
    "(x * (x < 3))"
   ]
  },
  {
   "cell_type": "code",
   "execution_count": 20,
   "id": "exceptional-pension",
   "metadata": {},
   "outputs": [
    {
     "data": {
      "text/plain": [
       "2"
      ]
     },
     "execution_count": 20,
     "metadata": {},
     "output_type": "execute_result"
    }
   ],
   "source": [
    "np.sum(x <3)"
   ]
  },
  {
   "cell_type": "code",
   "execution_count": 21,
   "id": "informative-channels",
   "metadata": {},
   "outputs": [
    {
     "name": "stdout",
     "output_type": "stream",
     "text": [
      "0    0.000000\n",
      "1    0.161417\n",
      "2    0.059055\n",
      "3    0.000000\n",
      "4    0.000000\n",
      "Name: PRCP, dtype: float64 \n",
      "\n",
      "29\n"
     ]
    }
   ],
   "source": [
    "print(inches.head(5), '\\n')\n",
    "print(np.sum((inches > .5) & (inches<1)))"
   ]
  },
  {
   "cell_type": "code",
   "execution_count": 22,
   "id": "undefined-assistant",
   "metadata": {},
   "outputs": [
    {
     "name": "stdout",
     "output_type": "stream",
     "text": [
      "29\n"
     ]
    }
   ],
   "source": [
    "print(np.sum(~( (inches <= .5) | (inches >= 1))))"
   ]
  },
  {
   "cell_type": "code",
   "execution_count": 23,
   "id": "tamil-mambo",
   "metadata": {},
   "outputs": [],
   "source": [
    "\"\"\"\n",
    "Operator \tEquivalent ufunc\n",
    "& \tnp.bitwise_and\n",
    "| \tnp.bitwise_or\n",
    "^ \tnp.bitwise_xor\n",
    "~ \tnp.bitwise_not\n",
    "\"\"\";"
   ]
  },
  {
   "cell_type": "code",
   "execution_count": 24,
   "id": "pointed-johnston",
   "metadata": {},
   "outputs": [
    {
     "name": "stdout",
     "output_type": "stream",
     "text": [
      "Number days without rain:      215\n",
      "Number days with rain:         150\n",
      "Days wiht mor tahn .5 inches:  37\n",
      "Rainy days with < .2 inches:   75\n"
     ]
    }
   ],
   "source": [
    "print(\"Number days without rain:     \", np.sum(inches == 0))\n",
    "print(\"Number days with rain:        \", np.sum(inches != 0))\n",
    "print(\"Days wiht mor tahn .5 inches: \" , np.sum(inches > .5))\n",
    "print(\"Rainy days with < .2 inches:  \", np.sum((inches > 0)&(inches < .2)))"
   ]
  },
  {
   "cell_type": "code",
   "execution_count": 25,
   "id": "another-guard",
   "metadata": {},
   "outputs": [
    {
     "name": "stdout",
     "output_type": "stream",
     "text": [
      "Median precip on rainy days in 2014 (inches)                : 0.19488188976377951\n",
      "Median precip on rain days in summer 2014 (inches)          : 0.0610236220472441\n",
      "Maximum precip on rainy days in  summer 2014 (inches)       : 0.8503937007874016\n",
      "Maximum precip on rainy days outside of summer 2014 (inches): 1.8385826771653544\n"
     ]
    }
   ],
   "source": [
    "#Create a mask of rainy days\n",
    "rainy = (inches > 0)\n",
    "\n",
    "# construct a mask of all summer days(June 21st is the 172nd day)\n",
    "\n",
    "days = np.arange(365)\n",
    "summer = (days > 172) & (days < 262)\n",
    "\n",
    "\n",
    "print(\"Median precip on rainy days in 2014 (inches)                :\", np.median(inches[rainy]))\n",
    "print(\"Median precip on rain days in summer 2014 (inches)          :\", np.median(inches[summer & rainy]))\n",
    "print(\"Maximum precip on rainy days in  summer 2014 (inches)       :\", np.max(inches[summer]))\n",
    "print(\"Maximum precip on rainy days outside of summer 2014 (inches):\", np.max(inches[rainy & ~summer]))"
   ]
  },
  {
   "cell_type": "code",
   "execution_count": 26,
   "id": "urban-experiment",
   "metadata": {},
   "outputs": [
    {
     "data": {
      "text/plain": [
       "89"
      ]
     },
     "execution_count": 26,
     "metadata": {},
     "output_type": "execute_result"
    }
   ],
   "source": [
    "np.sum(summer)"
   ]
  },
  {
   "cell_type": "code",
   "execution_count": 27,
   "id": "outstanding-basket",
   "metadata": {},
   "outputs": [
    {
     "data": {
      "text/plain": [
       "14"
      ]
     },
     "execution_count": 27,
     "metadata": {},
     "output_type": "execute_result"
    }
   ],
   "source": [
    "np.sum(summer & rainy)"
   ]
  },
  {
   "cell_type": "code",
   "execution_count": 28,
   "id": "personal-venture",
   "metadata": {},
   "outputs": [],
   "source": [
    " \"\"\"\n",
    "The Boolean operators 'and' and 'or' operate on the entire object\n",
    "\n",
    "    '&' and '|' operate bitwise on an array\n",
    "\n",
    "Also\n",
    "\n",
    "\"\"\";"
   ]
  },
  {
   "cell_type": "code",
   "execution_count": 29,
   "id": "convenient-cancellation",
   "metadata": {},
   "outputs": [
    {
     "name": "stdout",
     "output_type": "stream",
     "text": [
      "[ True  True  True False  True  True] \n",
      "\n"
     ]
    }
   ],
   "source": [
    "A = np.array([1, 0, 1, 0, 1, 0], dtype=bool)\n",
    "B = np.array([1, 1, 1, 0, 1, 1], dtype=bool)\n",
    "print (A | B, '\\n')"
   ]
  }
 ],
 "metadata": {
  "kernelspec": {
   "display_name": "Python 3",
   "language": "python",
   "name": "python3"
  },
  "language_info": {
   "codemirror_mode": {
    "name": "ipython",
    "version": 3
   },
   "file_extension": ".py",
   "mimetype": "text/x-python",
   "name": "python",
   "nbconvert_exporter": "python",
   "pygments_lexer": "ipython3",
   "version": "3.7.9"
  }
 },
 "nbformat": 4,
 "nbformat_minor": 5
}
