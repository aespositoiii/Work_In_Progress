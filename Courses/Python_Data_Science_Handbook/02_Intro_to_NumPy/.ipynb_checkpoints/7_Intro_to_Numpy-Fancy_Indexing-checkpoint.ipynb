{
 "cells": [
  {
   "cell_type": "markdown",
   "id": "important-roman",
   "metadata": {},
   "source": [
    "# Fancy Indexing"
   ]
  },
  {
   "cell_type": "code",
   "execution_count": 1,
   "id": "catholic-contribution",
   "metadata": {},
   "outputs": [
    {
     "name": "stdout",
     "output_type": "stream",
     "text": [
      "[51 92 14 71 60 20 82 86 74 74]\n"
     ]
    }
   ],
   "source": [
    "import numpy as np\n",
    "\n",
    "rand = np.random.RandomState(42)\n",
    "\n",
    "x = rand.randint(100,size=10)\n",
    "print(x)"
   ]
  },
  {
   "cell_type": "code",
   "execution_count": 2,
   "id": "indirect-artist",
   "metadata": {},
   "outputs": [
    {
     "data": {
      "text/plain": [
       "[71, 86, 60]"
      ]
     },
     "execution_count": 2,
     "metadata": {},
     "output_type": "execute_result"
    }
   ],
   "source": [
    "# You can create a list from an array like this\n",
    "\n",
    "[x[3], x[7], x[4]]"
   ]
  },
  {
   "cell_type": "code",
   "execution_count": 3,
   "id": "breathing-syndicate",
   "metadata": {},
   "outputs": [
    {
     "data": {
      "text/plain": [
       "array([71, 86, 60])"
      ]
     },
     "execution_count": 3,
     "metadata": {},
     "output_type": "execute_result"
    }
   ],
   "source": [
    "# But you can also use fancy indexing\n",
    "\n",
    "ind = [3,7,4]\n",
    "\n",
    "x[ind]"
   ]
  },
  {
   "cell_type": "code",
   "execution_count": 4,
   "id": "stone-wheel",
   "metadata": {},
   "outputs": [
    {
     "name": "stdout",
     "output_type": "stream",
     "text": [
      "[51 92 14 71 60 20 82 86 74 74] \n",
      "\n",
      "(10,) \n",
      "\n",
      "[[3 7]\n",
      " [4 5]] \n",
      "\n",
      "(2, 2) \n",
      "\n",
      "[[71 86]\n",
      " [60 20]] \n",
      "\n",
      "(2, 2)\n"
     ]
    }
   ],
   "source": [
    "# When you use fancy indexing the shape of the created array takes the shape of the index array\n",
    "\n",
    "ind = np.array([[3,7],[4,5]])\n",
    "\n",
    "print(x,         '\\n')\n",
    "print(x.shape,   '\\n')\n",
    "print(ind,       '\\n')\n",
    "print(ind.shape, '\\n')\n",
    "print(x[ind],    '\\n')\n",
    "print(x[ind].shape)"
   ]
  },
  {
   "cell_type": "code",
   "execution_count": 5,
   "id": "possible-appearance",
   "metadata": {},
   "outputs": [
    {
     "data": {
      "text/plain": [
       "array([[87, 99, 23,  2, 21],\n",
       "       [52,  1, 87, 29, 37],\n",
       "       [ 1, 63, 59, 20, 32]])"
      ]
     },
     "execution_count": 5,
     "metadata": {},
     "output_type": "execute_result"
    }
   ],
   "source": [
    "# Fancy Array indexing can be applied in multiple dimensions\n",
    "\n",
    "x = rand.randint(100,size=(3,5))\n",
    "x"
   ]
  },
  {
   "cell_type": "code",
   "execution_count": 6,
   "id": "supposed-entertainment",
   "metadata": {},
   "outputs": [
    {
     "data": {
      "text/plain": [
       "array([23, 29, 32])"
      ]
     },
     "execution_count": 6,
     "metadata": {},
     "output_type": "execute_result"
    }
   ],
   "source": [
    "row = np.array([0,1,2])\n",
    "col = np.array([2,3,4])\n",
    "x[row,col]"
   ]
  },
  {
   "cell_type": "markdown",
   "id": "proof-lender",
   "metadata": {},
   "source": [
    "### The Array Index in Fancy Indexing *BROADCASTS*"
   ]
  },
  {
   "cell_type": "code",
   "execution_count": 7,
   "id": "indian-shuttle",
   "metadata": {},
   "outputs": [
    {
     "name": "stdout",
     "output_type": "stream",
     "text": [
      "[[23  2 21]\n",
      " [87 29 37]\n",
      " [59 20 32]] \n",
      "\n",
      "[array([[0, 0, 0],\n",
      "       [2, 3, 4],\n",
      "       [4, 6, 8]])]\n"
     ]
    }
   ],
   "source": [
    "print(x[row[:, np.newaxis], col], '\\n')\n",
    "print([row[:, np.newaxis]*col])"
   ]
  },
  {
   "cell_type": "markdown",
   "id": "designed-question",
   "metadata": {},
   "source": [
    "## Combined Indexing\n",
    "\n",
    "### Fancy Indexing works with most of the previously seen indexing methods."
   ]
  },
  {
   "cell_type": "code",
   "execution_count": 8,
   "id": "adopted-miniature",
   "metadata": {},
   "outputs": [
    {
     "name": "stdout",
     "output_type": "stream",
     "text": [
      "[[87 99 23  2 21]\n",
      " [52  1 87 29 37]\n",
      " [ 1 63 59 20 32]]\n"
     ]
    }
   ],
   "source": [
    "print(x)"
   ]
  },
  {
   "cell_type": "code",
   "execution_count": 9,
   "id": "promising-suffering",
   "metadata": {},
   "outputs": [
    {
     "data": {
      "text/plain": [
       "array([[52, 52, 29, 37]])"
      ]
     },
     "execution_count": 9,
     "metadata": {},
     "output_type": "execute_result"
    }
   ],
   "source": [
    "x[1,[[0, 0, 3, 4]]]"
   ]
  },
  {
   "cell_type": "code",
   "execution_count": 10,
   "id": "developmental-facial",
   "metadata": {},
   "outputs": [
    {
     "data": {
      "text/plain": [
       "array([[87, 99, 23],\n",
       "       [52,  1, 87]])"
      ]
     },
     "execution_count": 10,
     "metadata": {},
     "output_type": "execute_result"
    }
   ],
   "source": [
    "x[:2, 0:3]"
   ]
  },
  {
   "cell_type": "code",
   "execution_count": 11,
   "id": "signal-resolution",
   "metadata": {},
   "outputs": [],
   "source": [
    "mask = np.array([1, 0, 1, 1, 0], dtype=bool)\n",
    "x_masked = x[row[:, np.newaxis], mask]\n",
    "\n"
   ]
  },
  {
   "cell_type": "code",
   "execution_count": 12,
   "id": "absent-texas",
   "metadata": {},
   "outputs": [
    {
     "name": "stdout",
     "output_type": "stream",
     "text": [
      "[[87 99 23  2 21]\n",
      " [52  1 87 29 37]\n",
      " [ 1 63 59 20 32]] \n",
      "\n",
      "[ True False  True  True False] \n",
      "\n",
      "[0 1 2] \n",
      "\n",
      "[[87 23  2]\n",
      " [52 87 29]\n",
      " [ 1 59 20]] \n",
      "\n"
     ]
    }
   ],
   "source": [
    "print(x,         '\\n')\n",
    "print(mask,   '\\n')\n",
    "print(row,       '\\n')\n",
    "print(x_masked, '\\n')"
   ]
  },
  {
   "cell_type": "markdown",
   "id": "missing-valuation",
   "metadata": {},
   "source": [
    "### Example of Selecting Random Points\n"
   ]
  },
  {
   "cell_type": "code",
   "execution_count": 13,
   "id": "irish-boston",
   "metadata": {},
   "outputs": [
    {
     "data": {
      "text/plain": [
       "(140, 2)"
      ]
     },
     "execution_count": 13,
     "metadata": {},
     "output_type": "execute_result"
    }
   ],
   "source": [
    "%matplotlib inline\n",
    "import matplotlib.pyplot as plt\n",
    "import seaborn; seaborn.set()\n",
    "\n",
    "mean = [0,5]\n",
    "cov = [[2,3],\n",
    "       [3,7]]\n",
    "\n",
    "x = rand.multivariate_normal(mean, cov, 140)\n",
    "x.shape"
   ]
  },
  {
   "cell_type": "code",
   "execution_count": 14,
   "id": "proof-peter",
   "metadata": {},
   "outputs": [
    {
     "data": {
      "text/plain": [
       "<matplotlib.collections.PathCollection at 0x7f9fea2211d0>"
      ]
     },
     "execution_count": 14,
     "metadata": {},
     "output_type": "execute_result"
    },
    {
     "data": {
      "image/png": "[encoded data removed]",
      "text/plain": [
       "<Figure size 432x288 with 1 Axes>"
      ]
     },
     "metadata": {},
     "output_type": "display_data"
    }
   ],
   "source": [
    "plt.scatter(x[:,0],x[:,1])"
   ]
  },
  {
   "cell_type": "code",
   "execution_count": 15,
   "id": "isolated-stanley",
   "metadata": {},
   "outputs": [
    {
     "data": {
      "text/plain": [
       "array([113, 131,  85,  44,  45, 101,   1, 112, 135,  93,  89, 108,  37,\n",
       "       116,  39,  74,  99,  56,  52,  17])"
      ]
     },
     "execution_count": 15,
     "metadata": {},
     "output_type": "execute_result"
    }
   ],
   "source": [
    "indices = np.random.choice(x.shape[0], 20, replace = False)\n",
    "indices"
   ]
  },
  {
   "cell_type": "code",
   "execution_count": 16,
   "id": "satellite-bobby",
   "metadata": {},
   "outputs": [
    {
     "data": {
      "text/plain": [
       "array([[ 0.21840058,  7.01635375],\n",
       "       [ 0.88419256,  7.72807396],\n",
       "       [ 0.97988037,  7.96941017],\n",
       "       [ 2.03427879,  8.57837105],\n",
       "       [ 0.9817961 ,  5.63731959],\n",
       "       [-0.14242824,  6.07601464],\n",
       "       [ 2.51385905,  9.34473356],\n",
       "       [ 2.36007415, 10.37790386],\n",
       "       [-1.08574546,  0.43105235],\n",
       "       [ 0.72674512,  4.47326106],\n",
       "       [-0.04908726,  6.45246685],\n",
       "       [ 0.40492992,  7.1003185 ],\n",
       "       [-1.3552855 ,  2.70420801],\n",
       "       [ 1.70963458,  8.04188602],\n",
       "       [-0.7959397 ,  5.06201357],\n",
       "       [ 0.64880972,  7.81646545],\n",
       "       [-1.49517282,  3.87264923],\n",
       "       [-2.25160991,  4.17582989],\n",
       "       [ 0.85896483,  4.70880886],\n",
       "       [-0.17191745,  6.55521351]])"
      ]
     },
     "execution_count": 16,
     "metadata": {},
     "output_type": "execute_result"
    }
   ],
   "source": [
    "selection = x[indices]\n",
    "selection"
   ]
  },
  {
   "cell_type": "code",
   "execution_count": 17,
   "id": "opening-association",
   "metadata": {},
   "outputs": [
    {
     "data": {
      "image/png": "[encoded data removed]",
      "text/plain": [
       "<Figure size 432x288 with 1 Axes>"
      ]
     },
     "metadata": {},
     "output_type": "display_data"
    }
   ],
   "source": [
    "\n",
    "\n",
    "plt.scatter(x[:, 0], x[:, 1])\n",
    "plt.scatter(selection[:, 0], selection[:, 1], alpha=0.3, s=200);\n",
    "\n",
    "\n"
   ]
  },
  {
   "cell_type": "markdown",
   "id": "funny-devon",
   "metadata": {},
   "source": [
    "### Modifying Values with Fancy Indexing"
   ]
  },
  {
   "cell_type": "code",
   "execution_count": 18,
   "id": "designed-forty",
   "metadata": {},
   "outputs": [
    {
     "name": "stdout",
     "output_type": "stream",
     "text": [
      "[ 0 80 80  3 80  5  6  7 80  9]\n",
      "[ 0 98 99  3 98  5  6  7 97  9]\n"
     ]
    },
    {
     "ename": "ValueError",
     "evalue": "shape mismatch: value array of shape (3,) could not be broadcast to indexing result of shape (4,)",
     "output_type": "error",
     "traceback": [
      "\u001b[0;31m---------------------------------------------------------------------------\u001b[0m",
      "\u001b[0;31mValueError\u001b[0m                                Traceback (most recent call last)",
      "\u001b[0;32m<ipython-input-18-464d878bcd04>\u001b[0m in \u001b[0;36m<module>\u001b[0;34m\u001b[0m\n\u001b[1;32m      6\u001b[0m \u001b[0mx\u001b[0m\u001b[0;34m[\u001b[0m\u001b[0mi\u001b[0m\u001b[0;34m]\u001b[0m \u001b[0;34m=\u001b[0m \u001b[0;34m[\u001b[0m\u001b[0;36m99\u001b[0m\u001b[0;34m,\u001b[0m\u001b[0;36m98\u001b[0m\u001b[0;34m,\u001b[0m\u001b[0;36m97\u001b[0m\u001b[0;34m,\u001b[0m\u001b[0;36m98\u001b[0m\u001b[0;34m]\u001b[0m\u001b[0;34m\u001b[0m\u001b[0;34m\u001b[0m\u001b[0m\n\u001b[1;32m      7\u001b[0m \u001b[0mprint\u001b[0m\u001b[0;34m(\u001b[0m\u001b[0mx\u001b[0m\u001b[0;34m)\u001b[0m\u001b[0;34m\u001b[0m\u001b[0;34m\u001b[0m\u001b[0m\n\u001b[0;32m----> 8\u001b[0;31m \u001b[0mx\u001b[0m\u001b[0;34m[\u001b[0m\u001b[0mi\u001b[0m\u001b[0;34m]\u001b[0m \u001b[0;34m=\u001b[0m \u001b[0;34m[\u001b[0m\u001b[0;36m110\u001b[0m\u001b[0;34m,\u001b[0m\u001b[0;36m120\u001b[0m\u001b[0;34m,\u001b[0m\u001b[0;36m130\u001b[0m\u001b[0;34m]\u001b[0m    \u001b[0;31m# This will give an error, the substitution must be\u001b[0m\u001b[0;34m\u001b[0m\u001b[0;34m\u001b[0m\u001b[0m\n\u001b[0m\u001b[1;32m      9\u001b[0m                         \u001b[0;31m# a scalar or match the size of the index vector\u001b[0m\u001b[0;34m\u001b[0m\u001b[0;34m\u001b[0m\u001b[0;34m\u001b[0m\u001b[0m\n",
      "\u001b[0;31mValueError\u001b[0m: shape mismatch: value array of shape (3,) could not be broadcast to indexing result of shape (4,)"
     ]
    }
   ],
   "source": [
    "# You can assign new values to an array using fancy indexing\n",
    "x = np.arange(10)\n",
    "i = np.array([2, 1, 8, 4])\n",
    "x[i] = 80\n",
    "print(x)\n",
    "x[i] = [99,98,97,98]\n",
    "print(x)\n",
    "x[i] = [110,120,130]    # This will give an error, the substitution must be \n",
    "                        # a scalar or match the size of the index vector"
   ]
  },
  {
   "cell_type": "code",
   "execution_count": 19,
   "id": "bacterial-space",
   "metadata": {},
   "outputs": [
    {
     "name": "stdout",
     "output_type": "stream",
     "text": [
      "[0. 0. 0. 0. 0. 0. 0. 0. 0. 0.] \n",
      "\n",
      "[6. 0. 0. 0. 0. 0. 0. 0. 0. 0.] \n",
      "\n",
      "[6. 0. 1. 1. 1. 0. 0. 0. 0. 0.] \n",
      "\n"
     ]
    }
   ],
   "source": [
    "# Because of the binary nature of the operation the fancy indexing the iterator only operates once!\n",
    "x = np.zeros(10)\n",
    "print(x, '\\n')\n",
    "x[[0, 0]] = [4,6]\n",
    "print(x, '\\n')\n",
    "i = [2, 3, 3, 4, 4, 4,]\n",
    "x[i] += 1\n",
    "print(x, '\\n')"
   ]
  },
  {
   "cell_type": "code",
   "execution_count": 20,
   "id": "activated-attribute",
   "metadata": {},
   "outputs": [
    {
     "name": "stdout",
     "output_type": "stream",
     "text": [
      "[0. 0. 0. 0. 0. 0. 0. 0. 0. 0.] \n",
      "\n",
      "[0. 0. 1. 2. 3. 0. 0. 0. 0. 0.]\n"
     ]
    }
   ],
   "source": [
    "# To perform the for the number of times the index appears in the vector 'i' use this\n",
    "\n",
    "x = np.zeros(10)\n",
    "print(x, '\\n')\n",
    "np.add.at(x, i, 1)\n",
    "print(x)"
   ]
  },
  {
   "cell_type": "markdown",
   "id": "convenient-identity",
   "metadata": {},
   "source": [
    "## Example: Binning Data"
   ]
  },
  {
   "cell_type": "code",
   "execution_count": 21,
   "id": "dependent-matthew",
   "metadata": {},
   "outputs": [
    {
     "data": {
      "image/png": "[encoded data removed]",
      "text/plain": [
       "<Figure size 432x288 with 1 Axes>"
      ]
     },
     "metadata": {},
     "output_type": "display_data"
    }
   ],
   "source": [
    "np.random.seed(42)\n",
    "x = np.random.randn(100)\n",
    "\n",
    "# Compute the bins for a histogram\n",
    "\n",
    "bins = np.linspace(-5, 5, 20)\n",
    "counts = np.zeros_like(bins)\n",
    "\n",
    "# Figure out which bins the numbers from 'x' belong in\n",
    "\n",
    "i = np.searchsorted(bins, x)\n",
    "\n",
    "# Count the number of items belong in each bin\n",
    "\n",
    "np.add.at(counts, i, 1)\n",
    "\n",
    "plt.plot(bins, counts, ds='steps');"
   ]
  },
  {
   "cell_type": "code",
   "execution_count": 22,
   "id": "surprising-thailand",
   "metadata": {},
   "outputs": [
    {
     "data": {
      "image/png": "[encoded data removed]",
      "text/plain": [
       "<Figure size 432x288 with 1 Axes>"
      ]
     },
     "metadata": {},
     "output_type": "display_data"
    }
   ],
   "source": [
    "plt.hist(x, bins=np.linspace(-5, 5, 20), histtype='step');"
   ]
  },
  {
   "cell_type": "code",
   "execution_count": 23,
   "id": "destroyed-taste",
   "metadata": {},
   "outputs": [
    {
     "name": "stdout",
     "output_type": "stream",
     "text": [
      "NumPy Routine\n",
      "24.2 µs ± 512 ns per loop (mean ± std. dev. of 7 runs, 10000 loops each)\n",
      "\n",
      "Quick and Dirty Routine\n",
      "12.5 µs ± 537 ns per loop (mean ± std. dev. of 7 runs, 100000 loops each)\n"
     ]
    }
   ],
   "source": [
    "# These two approaches produce similar results but the underlying processes are different.\n",
    "# Timing the two functions shows that with a \"small\" data set the simple algorithm runs very quickly\n",
    "\n",
    "print(\"NumPy Routine\")\n",
    "%timeit counts, edges = np.histogram(x,bins)\n",
    "\n",
    "print(\"\\nQuick and Dirty Routine\")\n",
    "%timeit np.add.at(counts, np.searchsorted(bins,x),1)"
   ]
  },
  {
   "cell_type": "code",
   "execution_count": 24,
   "id": "informal-swing",
   "metadata": {},
   "outputs": [
    {
     "name": "stdout",
     "output_type": "stream",
     "text": [
      "NumPy Routine\n",
      "62.8 ms ± 201 µs per loop (mean ± std. dev. of 7 runs, 10 loops each)\n",
      "\n",
      "Quick and Dirty Routine\n",
      "101 ms ± 2.75 ms per loop (mean ± std. dev. of 7 runs, 10 loops each)\n"
     ]
    }
   ],
   "source": [
    "# But with a much larger data set the Numpy Routine runs much faster.\n",
    "# It is optimized for a wide variety of inputs.\n",
    "\n",
    "x = np.random.randn(1000000)\n",
    "\n",
    "print(\"NumPy Routine\")\n",
    "%timeit counts, edges = np.histogram(x,bins)\n",
    "\n",
    "print(\"\\nQuick and Dirty Routine\")\n",
    "%timeit np.add.at(counts, np.searchsorted(bins,x),1)"
   ]
  },
  {
   "cell_type": "code",
   "execution_count": null,
   "id": "skilled-designation",
   "metadata": {},
   "outputs": [],
   "source": []
  }
 ],
 "metadata": {
  "kernelspec": {
   "display_name": "Python 3",
   "language": "python",
   "name": "python3"
  },
  "language_info": {
   "codemirror_mode": {
    "name": "ipython",
    "version": 3
   },
   "file_extension": ".py",
   "mimetype": "text/x-python",
   "name": "python",
   "nbconvert_exporter": "python",
   "pygments_lexer": "ipython3",
   "version": "3.7.9"
  }
 },
 "nbformat": 4,
 "nbformat_minor": 5
}
