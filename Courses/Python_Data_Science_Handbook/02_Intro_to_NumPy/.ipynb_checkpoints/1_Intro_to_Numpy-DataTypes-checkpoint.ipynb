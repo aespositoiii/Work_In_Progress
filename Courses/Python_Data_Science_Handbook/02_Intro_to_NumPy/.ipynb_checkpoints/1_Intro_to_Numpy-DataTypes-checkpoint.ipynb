{
 "cells": [
  {
   "cell_type": "markdown",
   "id": "bronze-generation",
   "metadata": {},
   "source": [
    "# Understanding Data Types"
   ]
  },
  {
   "cell_type": "markdown",
   "id": "soviet-kingdom",
   "metadata": {},
   "source": [
    "### Let's practice Python and Numpy with Jupyter Notebook\n",
    "\n",
    "start with the basics"
   ]
  },
  {
   "cell_type": "code",
   "execution_count": 1,
   "id": "developed-journey",
   "metadata": {},
   "outputs": [],
   "source": [
    "#iterate using range\n",
    "result = 0\n",
    "for i in range(100):\n",
    "    result += 1"
   ]
  },
  {
   "cell_type": "code",
   "execution_count": 2,
   "id": "surprising-imperial",
   "metadata": {},
   "outputs": [
    {
     "name": "stdout",
     "output_type": "stream",
     "text": [
      "<class 'int'>\n",
      "<class 'str'>\n"
     ]
    }
   ],
   "source": [
    "#assign a new value to a variable\n",
    "x=4\n",
    "print(type(x))\n",
    "x='four'\n",
    "print(type(x))"
   ]
  },
  {
   "cell_type": "markdown",
   "id": "studied-coral",
   "metadata": {},
   "source": [
    "Let's play with Lists"
   ]
  },
  {
   "cell_type": "code",
   "execution_count": 3,
   "id": "artificial-bookmark",
   "metadata": {},
   "outputs": [
    {
     "data": {
      "text/plain": [
       "[0, 1, 2, 3, 4, 5, 6, 7, 8, 9]"
      ]
     },
     "execution_count": 3,
     "metadata": {},
     "output_type": "execute_result"
    }
   ],
   "source": [
    "#assign a range to a list\n",
    "L = list(range(10))\n",
    "L"
   ]
  },
  {
   "cell_type": "code",
   "execution_count": 4,
   "id": "visible-brook",
   "metadata": {},
   "outputs": [
    {
     "name": "stdout",
     "output_type": "stream",
     "text": [
      "<class 'list'>\n",
      "<class 'int'>\n"
     ]
    }
   ],
   "source": [
    "print(type(L))\n",
    "print(type(L[0]))"
   ]
  },
  {
   "cell_type": "code",
   "execution_count": 5,
   "id": "skilled-camping",
   "metadata": {},
   "outputs": [
    {
     "name": "stdout",
     "output_type": "stream",
     "text": [
      "<class 'list'>\n",
      "<class 'str'>\n"
     ]
    },
    {
     "data": {
      "text/plain": [
       "['0', '1', '2', '3', '4', '5', '6', '7', '8', '9']"
      ]
     },
     "execution_count": 5,
     "metadata": {},
     "output_type": "execute_result"
    }
   ],
   "source": [
    "L2 = [str(c) for c in L]\n",
    "print(type(L2))\n",
    "print(type(L2[0]))\n",
    "L2"
   ]
  },
  {
   "cell_type": "code",
   "execution_count": 6,
   "id": "final-society",
   "metadata": {},
   "outputs": [
    {
     "data": {
      "text/plain": [
       "[bool, str, float, int]"
      ]
     },
     "execution_count": 6,
     "metadata": {},
     "output_type": "execute_result"
    }
   ],
   "source": [
    "#Create a heterogeneous list and output the type\n",
    "L3 = [True, \"2\", 3.0, 4]\n",
    "[type(item)for item in L3]"
   ]
  },
  {
   "cell_type": "code",
   "execution_count": 7,
   "id": "middle-tracy",
   "metadata": {},
   "outputs": [
    {
     "data": {
      "text/plain": [
       "array('i', [0, 1, 2, 3, 4, 5, 6, 7, 8, 9])"
      ]
     },
     "execution_count": 7,
     "metadata": {},
     "output_type": "execute_result"
    }
   ],
   "source": [
    "#Create a Python array\n",
    "import array\n",
    "L = list(range(10))\n",
    "A = array.array('i',L)\n",
    "A"
   ]
  },
  {
   "cell_type": "markdown",
   "id": "powered-insurance",
   "metadata": {},
   "source": [
    "### Let's start working with numpy"
   ]
  },
  {
   "cell_type": "code",
   "execution_count": 8,
   "id": "seven-progress",
   "metadata": {},
   "outputs": [],
   "source": [
    "import numpy as np"
   ]
  },
  {
   "cell_type": "code",
   "execution_count": 9,
   "id": "paperback-burns",
   "metadata": {},
   "outputs": [
    {
     "data": {
      "text/plain": [
       "array([1, 4, 2, 5, 3])"
      ]
     },
     "execution_count": 9,
     "metadata": {},
     "output_type": "execute_result"
    }
   ],
   "source": [
    "# Create a numpy integer array\n",
    "\n",
    "np.array([1,4,2,5,3])"
   ]
  },
  {
   "cell_type": "code",
   "execution_count": 10,
   "id": "casual-playback",
   "metadata": {},
   "outputs": [
    {
     "data": {
      "text/plain": [
       "array([3.14, 1.  , 5.  , 4.  ])"
      ]
     },
     "execution_count": 10,
     "metadata": {},
     "output_type": "execute_result"
    }
   ],
   "source": [
    "# The array will automatically set the data type to the least complex required to represent the data\n",
    "\n",
    "np.array([3.14, 1, 5, 4])"
   ]
  },
  {
   "cell_type": "code",
   "execution_count": 11,
   "id": "vital-fleece",
   "metadata": {},
   "outputs": [
    {
     "data": {
      "text/plain": [
       "array([1., 4., 2., 5., 3.], dtype=float32)"
      ]
     },
     "execution_count": 11,
     "metadata": {},
     "output_type": "execute_result"
    }
   ],
   "source": [
    "# Or you can explicitely set the data type using the keywork dtype. ex float32, int, etc.\n",
    "\n",
    "np.array([1,4,2,5,3], dtype='float32')"
   ]
  },
  {
   "cell_type": "code",
   "execution_count": 12,
   "id": "brutal-translator",
   "metadata": {},
   "outputs": [
    {
     "name": "stdout",
     "output_type": "stream",
     "text": [
      "[[2 3 4]\n",
      " [4 5 6]\n",
      " [6 7 8]]\n",
      "7\n"
     ]
    }
   ],
   "source": [
    "# You can have multidimensional lists also\n",
    "\n",
    "A = np.array([range(i, i + 3) for i in [2,4,6]])\n",
    "print(A)\n",
    "print(A[2][1])"
   ]
  },
  {
   "cell_type": "markdown",
   "id": "humanitarian-costa",
   "metadata": {},
   "source": [
    "### Let's create some basic arrays to work with"
   ]
  },
  {
   "cell_type": "code",
   "execution_count": 13,
   "id": "piano-registrar",
   "metadata": {},
   "outputs": [
    {
     "data": {
      "text/plain": [
       "array([0, 0, 0, 0, 0, 0, 0, 0, 0, 0])"
      ]
     },
     "execution_count": 13,
     "metadata": {},
     "output_type": "execute_result"
    }
   ],
   "source": [
    "# Create a 1 x 10 array of zeros\n",
    "\n",
    "np.zeros(10, dtype=int)"
   ]
  },
  {
   "cell_type": "code",
   "execution_count": 14,
   "id": "right-universal",
   "metadata": {},
   "outputs": [
    {
     "data": {
      "text/plain": [
       "array([[1., 1., 1., 1., 1.],\n",
       "       [1., 1., 1., 1., 1.],\n",
       "       [1., 1., 1., 1., 1.]])"
      ]
     },
     "execution_count": 14,
     "metadata": {},
     "output_type": "execute_result"
    }
   ],
   "source": [
    "# Create a 3 x 5 array of floating-point ones\n",
    "\n",
    "np.ones((3,5), dtype=float)"
   ]
  },
  {
   "cell_type": "code",
   "execution_count": 15,
   "id": "younger-letters",
   "metadata": {},
   "outputs": [
    {
     "data": {
      "text/plain": [
       "array([[3.14, 3.14, 3.14, 3.14, 3.14, 3.14],\n",
       "       [3.14, 3.14, 3.14, 3.14, 3.14, 3.14],\n",
       "       [3.14, 3.14, 3.14, 3.14, 3.14, 3.14],\n",
       "       [3.14, 3.14, 3.14, 3.14, 3.14, 3.14]])"
      ]
     },
     "execution_count": 15,
     "metadata": {},
     "output_type": "execute_result"
    }
   ],
   "source": [
    "# Create an 4 x 6 array filled with any number\n",
    "\n",
    "np.full((4,6), 3.14)"
   ]
  },
  {
   "cell_type": "code",
   "execution_count": 16,
   "id": "touched-mandate",
   "metadata": {},
   "outputs": [
    {
     "data": {
      "text/plain": [
       "array([ 4. ,  7.6, 11.2, 14.8, 18.4, 22. ])"
      ]
     },
     "execution_count": 16,
     "metadata": {},
     "output_type": "execute_result"
    }
   ],
   "source": [
    "# Create an array of 6 linearly spaced values between 4 and 22\n",
    "\n",
    "np.linspace(4, 22, 6)"
   ]
  },
  {
   "cell_type": "code",
   "execution_count": 17,
   "id": "surface-longitude",
   "metadata": {},
   "outputs": [
    {
     "data": {
      "text/plain": [
       "array([[1.65767017, 2.11476283, 8.87697832, 7.7004513 , 7.89119285],\n",
       "       [9.30667198, 5.30134231, 8.6980854 , 0.59655107, 1.43794888],\n",
       "       [5.606891  , 3.02961129, 3.1429766 , 7.77864652, 1.28594655],\n",
       "       [0.39650014, 9.37056255, 9.39417997, 0.4050304 , 4.42025374],\n",
       "       [2.9727795 , 3.6444096 , 5.90778174, 7.60855035, 4.99791418]])"
      ]
     },
     "execution_count": 17,
     "metadata": {},
     "output_type": "execute_result"
    }
   ],
   "source": [
    "# Create a 5 x 5 array of uniformly distributed random values between 0 and 10\n",
    "# np.random.random generates uniformly distributed between 0 and 1, multiply by n to get the max you wish.\n",
    "\n",
    "10*np.random.random((5,5))"
   ]
  },
  {
   "cell_type": "code",
   "execution_count": 18,
   "id": "aware-personal",
   "metadata": {},
   "outputs": [
    {
     "data": {
      "text/plain": [
       "array([[-0.04975484,  2.29092082, -0.42457519],\n",
       "       [-0.97847703, -0.71087944,  0.37993564],\n",
       "       [-0.43090764, -0.50762557, -0.55094837],\n",
       "       [-0.91473017, -0.14447865, -1.00017462],\n",
       "       [-0.70276701,  1.62871877,  1.17950696]])"
      ]
     },
     "execution_count": 18,
     "metadata": {},
     "output_type": "execute_result"
    }
   ],
   "source": [
    "#Create a 5 x 3 array of normally distributed random numbers centered on 0 with a standard deviation of 1\n",
    "\n",
    "np.random.normal(0,1,(5,3))"
   ]
  },
  {
   "cell_type": "code",
   "execution_count": 19,
   "id": "egyptian-bouquet",
   "metadata": {},
   "outputs": [
    {
     "data": {
      "text/plain": [
       "array([[1., 0., 0.],\n",
       "       [0., 1., 0.],\n",
       "       [0., 0., 1.]])"
      ]
     },
     "execution_count": 19,
     "metadata": {},
     "output_type": "execute_result"
    }
   ],
   "source": [
    "# Create a 3 x 3 identity matrix\n",
    "\n",
    "np.eye(3)"
   ]
  },
  {
   "cell_type": "code",
   "execution_count": 20,
   "id": "basic-retention",
   "metadata": {},
   "outputs": [
    {
     "data": {
      "text/plain": [
       "array([[56, 34, 91],\n",
       "       [49, 31, 17],\n",
       "       [85,  0,  5]])"
      ]
     },
     "execution_count": 20,
     "metadata": {},
     "output_type": "execute_result"
    }
   ],
   "source": [
    "# Create a 5 x 5 matrix of random integers between 0 and 100\n",
    "\n",
    "np.random.randint(0,100,(3,3))"
   ]
  },
  {
   "cell_type": "code",
   "execution_count": 21,
   "id": "divine-delight",
   "metadata": {},
   "outputs": [
    {
     "data": {
      "text/plain": [
       "array([0. , 0.5, 1. , 1.5, 2. ])"
      ]
     },
     "execution_count": 21,
     "metadata": {},
     "output_type": "execute_result"
    }
   ],
   "source": [
    "# Create an uninitialized array of 3 integers\n",
    "# The values will be whatever happens to already exist at that memory\n",
    "\n",
    "np.empty(5)"
   ]
  },
  {
   "cell_type": "markdown",
   "id": "armed-appeal",
   "metadata": {},
   "source": [
    "# --------------- Data types in Numpy ---------------\n"
   ]
  },
  {
   "cell_type": "code",
   "execution_count": 22,
   "id": "certain-split",
   "metadata": {},
   "outputs": [],
   "source": [
    "\"\"\"The available data types in python are:\n",
    "\n",
    "bool_ \tBoolean (True or False) stored as a byte\n",
    "int_ \tDefault integer type (same as C long; normally either int64 or int32)\n",
    "intc \tIdentical to C int (normally int32 or int64)\n",
    "intp \tInteger used for indexing (same as C ssize_t; normally either int32 or int64)\n",
    "int8 \tByte (-128 to 127)\n",
    "int16 \tInteger (-32768 to 32767)\n",
    "int32 \tInteger (-2147483648 to 2147483647)\n",
    "int64 \tInteger (-9223372036854775808 to 9223372036854775807)\n",
    "uint8 \tUnsigned integer (0 to 255)\n",
    "uint16 \tUnsigned integer (0 to 65535)\n",
    "uint32 \tUnsigned integer (0 to 4294967295)\n",
    "uint64 \tUnsigned integer (0 to 18446744073709551615)\n",
    "float_ \tShorthand for float64.\n",
    "float16 \tHalf precision float: sign bit, 5 bits exponent, 10 bits mantissa\n",
    "float32 \tSingle precision float: sign bit, 8 bits exponent, 23 bits mantissa\n",
    "float64 \tDouble precision float: sign bit, 11 bits exponent, 52 bits mantissa\n",
    "complex_ \tShorthand for complex128.\n",
    "complex64 \tComplex number, represented by two 32-bit floats\n",
    "complex128 \tComplex number, represented by two 64-bit floats\n",
    "\n",
    "\n",
    "'b' \tByte \tnp.dtype('b')\n",
    "'i' \tSigned integer \tnp.dtype('i4') == np.int32\n",
    "'u' \tUnsigned integer \tnp.dtype('u1') == np.uint8\n",
    "'f' \tFloating point \tnp.dtype('f8') == np.int64\n",
    "'c' \tComplex floating point \tnp.dtype('c16') == np.complex128\n",
    "'S', 'a' \tString \tnp.dtype('S5')\n",
    "'U' \tUnicode string \tnp.dtype('U') == np.str_\n",
    "'V' \tRaw data (void) \tnp.dtype('V') == np.void\n",
    "\"\"\";"
   ]
  },
  {
   "cell_type": "code",
   "execution_count": 23,
   "id": "romance-heading",
   "metadata": {},
   "outputs": [
    {
     "data": {
      "text/plain": [
       "array([[ True,  True,  True,  True,  True,  True,  True,  True,  True,\n",
       "         True],\n",
       "       [ True,  True,  True,  True,  True,  True,  True,  True,  True,\n",
       "         True],\n",
       "       [ True,  True,  True,  True,  True,  True,  True,  True,  True,\n",
       "         True],\n",
       "       [ True,  True,  True,  True,  True,  True,  True,  True,  True,\n",
       "         True],\n",
       "       [ True,  True,  True,  True,  True,  True,  True,  True,  True,\n",
       "         True],\n",
       "       [ True,  True,  True,  True,  True,  True,  True,  True,  True,\n",
       "         True],\n",
       "       [ True,  True,  True,  True,  True,  True,  True,  True,  True,\n",
       "         True],\n",
       "       [ True,  True,  True,  True,  True,  True,  True,  True,  True,\n",
       "         True],\n",
       "       [ True,  True,  True,  True,  True,  True,  True,  True,  True,\n",
       "         True],\n",
       "       [ True,  True,  True,  True,  True,  True,  True,  True,  True,\n",
       "         True]])"
      ]
     },
     "execution_count": 23,
     "metadata": {},
     "output_type": "execute_result"
    }
   ],
   "source": [
    "# Data type can be specified at array creation with either a string or calling the numpy object\n",
    "\n",
    "A = np.zeros((10,10), dtype = 'int16')\n",
    "B = np.zeros((10,10), dtype = np.int16)\n",
    "A == B"
   ]
  }
 ],
 "metadata": {
  "kernelspec": {
   "display_name": "Python 3",
   "language": "python",
   "name": "python3"
  },
  "language_info": {
   "codemirror_mode": {
    "name": "ipython",
    "version": 3
   },
   "file_extension": ".py",
   "mimetype": "text/x-python",
   "name": "python",
   "nbconvert_exporter": "python",
   "pygments_lexer": "ipython3",
   "version": "3.7.9"
  }
 },
 "nbformat": 4,
 "nbformat_minor": 5
}
