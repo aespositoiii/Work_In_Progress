{
 "cells": [
  {
   "cell_type": "markdown",
   "id": "primary-selling",
   "metadata": {},
   "source": [
    "# *SORTING ARRAYS!!!*"
   ]
  },
  {
   "cell_type": "code",
   "execution_count": 1,
   "id": "musical-protocol",
   "metadata": {},
   "outputs": [
    {
     "data": {
      "text/plain": [
       "array([1, 2, 2, 3, 4, 5, 5, 6])"
      ]
     },
     "execution_count": 1,
     "metadata": {},
     "output_type": "execute_result"
    }
   ],
   "source": [
    "# For example, the \"SELECTION SORT\"\n",
    "# It is simple but much too slow.\n",
    "# big O is N^2\n",
    "\n",
    "import numpy as np\n",
    "\n",
    "def selection_sort(x):\n",
    "    for i in range(len(x)):\n",
    "        swap = i + np.argmin(x[i:])\n",
    "        (x[i], x[swap]) = (x[swap], x[i])\n",
    "    return x\n",
    "\n",
    "x = np.array([2,1,2,4,6,5,5,3])\n",
    "selection_sort(x)"
   ]
  },
  {
   "cell_type": "markdown",
   "id": "permanent-samba",
   "metadata": {},
   "source": [
    "### Fast Sorting in Numpy : np.sort and np.argsort\n",
    "\n",
    "\n",
    "NumPy has better array sorting algorithms than this and the Python built-in sorting functions"
   ]
  },
  {
   "cell_type": "code",
   "execution_count": 2,
   "id": "pediatric-extension",
   "metadata": {},
   "outputs": [
    {
     "name": "stdout",
     "output_type": "stream",
     "text": [
      "[1 2 2 3 4 5 5 6] \n",
      "\n",
      "[1 2 2 3 4 5 5 6] \n",
      "\n",
      "[1 2 2 3 4 5 5 6]\n"
     ]
    }
   ],
   "source": [
    "# np.sort([array]) or the [array].sort() method.\n",
    "# There are options for the sorting algorithm through the 'kind=' keyword. See docs for more information.\n",
    "\n",
    "print(x, '\\n')\n",
    "print(np.sort(x), '\\n')\n",
    "x.sort()\n",
    "print(x)"
   ]
  },
  {
   "cell_type": "code",
   "execution_count": 3,
   "id": "ambient-package",
   "metadata": {},
   "outputs": [
    {
     "name": "stdout",
     "output_type": "stream",
     "text": [
      "[1 4 6 7 3 6 3 8 6 9 3 5 4] \n",
      "\n",
      "[ 0  4  6 10  1 12 11  2  5  8  3  7  9] \n",
      "\n",
      "[1 3 3 3 4 4 5 6 6 6 7 8 9] \n",
      "\n",
      "[1 4 6 7 3 6 3 8 6 9 3 5 4]\n"
     ]
    }
   ],
   "source": [
    "# np.argsort([array]) or the [array].argsort() method returns a list of the indices should the array be sorted.\n",
    "# Similar to '.sort()' the '.argsort()' function takes the 'kind=' keyword to specify the algorithm\n",
    "\n",
    "x = np.array([1, 4, 6, 7, 3, 6, 3, 8, 6, 9, 3, 5, 4])\n",
    "print(x, '\\n')\n",
    "print(np.argsort(x), '\\n')\n",
    "print(x[np.argsort(x)], '\\n') # Print the sorted array with fancy indexing\n",
    "print(x)                      # The original array is not affected by this method."
   ]
  },
  {
   "cell_type": "markdown",
   "id": "optimum-following",
   "metadata": {},
   "source": [
    "### Sorting along rows or columns"
   ]
  },
  {
   "cell_type": "code",
   "execution_count": 4,
   "id": "legal-young",
   "metadata": {},
   "outputs": [
    {
     "name": "stdout",
     "output_type": "stream",
     "text": [
      "Original Array:\n",
      "\n",
      " [[5 6 0 1 6 3]\n",
      " [0 4 2 1 7 3]\n",
      " [5 9 4 8 5 7]\n",
      " [6 8 2 5 0 2]] \n",
      "\n",
      "\n",
      "Sort by Column:\n",
      "\n",
      " [[0 4 0 1 0 2]\n",
      " [5 6 2 1 5 3]\n",
      " [5 8 2 5 6 3]\n",
      " [6 9 4 8 7 7]] \n",
      "\n",
      "\n",
      "Sort by Row:\n",
      "\n",
      " [[0 1 3 5 6 6]\n",
      " [0 1 2 3 4 7]\n",
      " [4 5 5 7 8 9]\n",
      " [0 2 2 5 6 8]] \n",
      "\n",
      "\n"
     ]
    }
   ],
   "source": [
    "rand = np.random.RandomState(26)\n",
    "X = rand.randint(0,10, (4,6))\n",
    "print('Original Array:\\n\\n',X, '\\n\\n')                   # The original Array\n",
    "print('Sort by Column:\\n\\n', np.sort(X, axis=0), '\\n\\n')  # Sort by Column\n",
    "print('Sort by Row:\\n\\n', np.sort(X, axis=1), '\\n\\n')  # Sort by Row"
   ]
  },
  {
   "cell_type": "markdown",
   "id": "animated-indonesian",
   "metadata": {},
   "source": [
    "### Partitioning"
   ]
  },
  {
   "cell_type": "code",
   "execution_count": 5,
   "id": "alpha-arcade",
   "metadata": {},
   "outputs": [
    {
     "data": {
      "text/plain": [
       "array([32, 29, 40, 49, 55, 58, 68, 92])"
      ]
     },
     "execution_count": 5,
     "metadata": {},
     "output_type": "execute_result"
    }
   ],
   "source": [
    "# Partitioning takes the smalled 'K' number of values in the array and puts them at the front\n",
    "# The order bears no practical relation to the data.\n",
    "\n",
    "x = np.array([49, 58, 40, 29, 68, 92, 32, 55])\n",
    "np.partition(x, 4)"
   ]
  },
  {
   "cell_type": "code",
   "execution_count": 6,
   "id": "arctic-continuity",
   "metadata": {},
   "outputs": [
    {
     "name": "stdout",
     "output_type": "stream",
     "text": [
      "Original Array:\n",
      "\n",
      " [[5 6 0 1 6 3]\n",
      " [0 4 2 1 7 3]\n",
      " [5 9 4 8 5 7]\n",
      " [6 8 2 5 0 2]] \n",
      "\n",
      "\n",
      "Partition on Column:\n",
      "\n",
      " [[0 4 0 1 0 2]\n",
      " [5 6 2 1 5 3]\n",
      " [5 8 2 5 6 3]\n",
      " [6 9 4 8 7 7]] \n",
      "\n",
      "\n",
      "Partition on Row:\n",
      "\n",
      " [[0 1 3 6 6 5]\n",
      " [0 1 2 4 7 3]\n",
      " [4 5 5 8 9 7]\n",
      " [0 2 2 5 6 8]] \n",
      "\n",
      "\n"
     ]
    }
   ],
   "source": [
    "# Partitioning works in multiple dimensions as well\n",
    "\n",
    "print('Original Array:\\n\\n',X, '\\n\\n')                   # The original Array\n",
    "print('Partition on Column:\\n\\n', np.partition(X, 2, axis=0), '\\n\\n')  # Sort by Column\n",
    "print('Partition on Row:\\n\\n', np.partition(X, 2, axis=1), '\\n\\n')  # Sort by Row\n"
   ]
  },
  {
   "cell_type": "markdown",
   "id": "legal-handbook",
   "metadata": {},
   "source": [
    "### Example: k-Nearest Neghbors"
   ]
  },
  {
   "cell_type": "code",
   "execution_count": 7,
   "id": "norman-miller",
   "metadata": {},
   "outputs": [],
   "source": [
    "X= rand.rand(100,2)"
   ]
  },
  {
   "cell_type": "code",
   "execution_count": 8,
   "id": "neither-supervision",
   "metadata": {},
   "outputs": [
    {
     "data": {
      "image/png": "[encoded data removed]",
      "text/plain": [
       "<Figure size 432x288 with 1 Axes>"
      ]
     },
     "metadata": {},
     "output_type": "display_data"
    }
   ],
   "source": [
    "%matplotlib inline\n",
    "import matplotlib.pyplot as plt\n",
    "import seaborn; seaborn.set() # Plot styling\n",
    "plt.scatter(X[:,0], X[:,1], s=25);"
   ]
  },
  {
   "cell_type": "code",
   "execution_count": 9,
   "id": "quantitative-chinese",
   "metadata": {},
   "outputs": [
    {
     "name": "stdout",
     "output_type": "stream",
     "text": [
      "[[[0.41212298 0.64861921]]\n",
      "\n",
      " [[0.49030943 0.7180085 ]]\n",
      "\n",
      " [[0.48472728 0.52605353]]\n",
      "\n",
      " [[0.85349777 0.1655951 ]]\n",
      "\n",
      " [[0.91899075 0.61581424]]]\n",
      "(5, 1, 2)\n",
      "[[[0.41212298 0.64861921]\n",
      "  [0.49030943 0.7180085 ]\n",
      "  [0.48472728 0.52605353]\n",
      "  [0.85349777 0.1655951 ]\n",
      "  [0.91899075 0.61581424]]]\n",
      "(1, 5, 2)\n",
      "[[[ 0.          0.        ]\n",
      "  [-0.07818644 -0.06938928]\n",
      "  [-0.07260429  0.12256568]\n",
      "  [-0.44137478  0.48302412]\n",
      "  [-0.50686777  0.03280498]]\n",
      "\n",
      " [[ 0.07818644  0.06938928]\n",
      "  [ 0.          0.        ]\n",
      "  [ 0.00558215  0.19195496]\n",
      "  [-0.36318834  0.5524134 ]\n",
      "  [-0.42868133  0.10219426]]\n",
      "\n",
      " [[ 0.07260429 -0.12256568]\n",
      "  [-0.00558215 -0.19195496]\n",
      "  [ 0.          0.        ]\n",
      "  [-0.36877049  0.36045843]\n",
      "  [-0.43426348 -0.08976071]]\n",
      "\n",
      " [[ 0.44137478 -0.48302412]\n",
      "  [ 0.36318834 -0.5524134 ]\n",
      "  [ 0.36877049 -0.36045843]\n",
      "  [ 0.          0.        ]\n",
      "  [-0.06549298 -0.45021914]]\n",
      "\n",
      " [[ 0.50686777 -0.03280498]\n",
      "  [ 0.42868133 -0.10219426]\n",
      "  [ 0.43426348  0.08976071]\n",
      "  [ 0.06549298  0.45021914]\n",
      "  [ 0.          0.        ]]]\n",
      "(5, 5, 2)\n"
     ]
    }
   ],
   "source": [
    "print(X[:5,np.newaxis,:])\n",
    "print(X[:5,np.newaxis,:].shape)\n",
    "print(X[np.newaxis, :5 ,:])\n",
    "print(X[np.newaxis, :5 ,:].shape)\n",
    "print((X[:5,np.newaxis,:]-X[np.newaxis, :5 ,:]))\n",
    "print((X[:5,np.newaxis,:]-X[np.newaxis, :5 ,:]).shape)"
   ]
  },
  {
   "cell_type": "code",
   "execution_count": 10,
   "id": "continued-wright",
   "metadata": {},
   "outputs": [
    {
     "data": {
      "text/plain": [
       "(100, 100)"
      ]
     },
     "execution_count": 10,
     "metadata": {},
     "output_type": "execute_result"
    }
   ],
   "source": [
    "dist_sq = np.sum((X[:, np.newaxis, :] - X[np.newaxis, :, :]) ** 2, axis=-1)\n",
    "dist_sq.shape"
   ]
  },
  {
   "cell_type": "code",
   "execution_count": 11,
   "id": "pregnant-voluntary",
   "metadata": {},
   "outputs": [
    {
     "data": {
      "text/plain": [
       "array([0., 0., 0., 0., 0., 0., 0., 0., 0., 0., 0., 0., 0., 0., 0., 0., 0.,\n",
       "       0., 0., 0., 0., 0., 0., 0., 0., 0., 0., 0., 0., 0., 0., 0., 0., 0.,\n",
       "       0., 0., 0., 0., 0., 0., 0., 0., 0., 0., 0., 0., 0., 0., 0., 0., 0.,\n",
       "       0., 0., 0., 0., 0., 0., 0., 0., 0., 0., 0., 0., 0., 0., 0., 0., 0.,\n",
       "       0., 0., 0., 0., 0., 0., 0., 0., 0., 0., 0., 0., 0., 0., 0., 0., 0.,\n",
       "       0., 0., 0., 0., 0., 0., 0., 0., 0., 0., 0., 0., 0., 0., 0.])"
      ]
     },
     "execution_count": 11,
     "metadata": {},
     "output_type": "execute_result"
    }
   ],
   "source": [
    "dist_sq.diagonal()"
   ]
  },
  {
   "cell_type": "code",
   "execution_count": 12,
   "id": "constant-secondary",
   "metadata": {},
   "outputs": [
    {
     "name": "stdout",
     "output_type": "stream",
     "text": [
      "[[ 0 74 48 ... 85  8 88]\n",
      " [ 1 19 23 ...  8 85 88]\n",
      " [ 2 80 57 ... 87  8 88]\n",
      " ...\n",
      " [97 51 79 ... 84 58 87]\n",
      " [98 49 24 ... 85  8 88]\n",
      " [99 16  9 ... 85  8 88]]\n"
     ]
    }
   ],
   "source": [
    "nearest = np.argsort(dist_sq, axis=1)\n",
    "print(nearest)"
   ]
  },
  {
   "cell_type": "code",
   "execution_count": 13,
   "id": "regulated-adoption",
   "metadata": {},
   "outputs": [
    {
     "name": "stdout",
     "output_type": "stream",
     "text": [
      "[[ 0 74 48  1]\n",
      " [23 19  1 35]\n",
      " [82 57  2 80]\n",
      " [69 96 52  3]\n",
      " [61  4 51 79]\n",
      " [ 5 50 97 68]\n",
      " [28  6 60 70]\n",
      " [ 7 56 21 11]\n",
      " [ 8 53 89 96]\n",
      " [ 9 20 16 99]\n",
      " [91 10 50 23]\n",
      " [11 38 31 45]\n",
      " [99 12 16  9]\n",
      " [13 27 40 29]\n",
      " [14 63 85 64]\n",
      " [15 62 10 76]\n",
      " [99  9 16 12]\n",
      " [17 54 59 63]\n",
      " [49 18 98 39]\n",
      " [19  1 35 23]\n",
      " [20 65  9 43]\n",
      " [66 33 21 31]\n",
      " [22 76 50 10]\n",
      " [23  1 19 91]\n",
      " [24 98 49 55]\n",
      " [46 56 25 45]\n",
      " [26 67 57 68]\n",
      " [27 13 29 41]\n",
      " [28  6 69 60]\n",
      " [73 29 27 41]\n",
      " [30 94 72 84]\n",
      " [31 38 33 11]\n",
      " [60 70 32  6]\n",
      " [33 21 31 66]\n",
      " [32 71 34 70]\n",
      " [82 35 19 67]\n",
      " [36 83 78 61]\n",
      " [75 92 37 46]\n",
      " [38 31 11 33]\n",
      " [39 18 43 49]\n",
      " [27 13 40 29]\n",
      " [41 27 29 73]\n",
      " [94 42 72 30]\n",
      " [43 65 39 20]\n",
      " [44 79 97 51]\n",
      " [38 45 11 57]\n",
      " [46 48 25 92]\n",
      " [47 62 20 15]\n",
      " [48 46 74  0]\n",
      " [49 18 98 24]\n",
      " [22  5 50 10]\n",
      " [97 79 51 44]\n",
      " [ 3 52 96 69]\n",
      " [71 53 89 52]\n",
      " [17 54 63 59]\n",
      " [81 75 24 55]\n",
      " [77  7 56 25]\n",
      " [80 57  2 45]\n",
      " [58 84 87 94]\n",
      " [59 86 66 17]\n",
      " [60 32 70  6]\n",
      " [ 4 36 61 78]\n",
      " [15 47 62 76]\n",
      " [63 14 54 17]\n",
      " [14 64 63 17]\n",
      " [23 65 20 43]\n",
      " [33 21 59 66]\n",
      " [67 35 19 82]\n",
      " [68  5 26 61]\n",
      " [69  6 28  3]\n",
      " [60 32 70  6]\n",
      " [89 53 71 34]\n",
      " [72 30 94 92]\n",
      " [29 73 41 27]\n",
      " [74 48  0 82]\n",
      " [81 55 75 37]\n",
      " [22 76 15 93]\n",
      " [56 73 86 77]\n",
      " [61 78 36 95]\n",
      " [79 44 51 97]\n",
      " [82 80  2 57]\n",
      " [81 55 75 24]\n",
      " [67 80 82 19]\n",
      " [36 83 34 71]\n",
      " [94 84 40 30]\n",
      " [14 85 88 64]\n",
      " [86 59 17 66]\n",
      " [58 87 84 30]\n",
      " [85 88  8 14]\n",
      " [89 53 71  8]\n",
      " [77 90 86 59]\n",
      " [91 10 35 23]\n",
      " [92 46 72 41]\n",
      " [93 22 76 97]\n",
      " [94 84 30 13]\n",
      " [60 70 95 32]\n",
      " [96  3 52 89]\n",
      " [97 51 79  5]\n",
      " [49 98 18 24]\n",
      " [16  9 99 12]]\n"
     ]
    }
   ],
   "source": [
    "K = 3\n",
    "nearest_partition = np.argpartition(dist_sq, K+1, axis = 1)\n",
    "print(nearest_partition[:,:(K+1)])"
   ]
  },
  {
   "cell_type": "code",
   "execution_count": 14,
   "id": "consolidated-austin",
   "metadata": {},
   "outputs": [
    {
     "data": {
      "image/png": "[encoded data removed]",
      "text/plain": [
       "<Figure size 432x288 with 1 Axes>"
      ]
     },
     "metadata": {},
     "output_type": "display_data"
    }
   ],
   "source": [
    "plt.scatter(X[:,0], X[:,1], s=25);"
   ]
  },
  {
   "cell_type": "code",
   "execution_count": 15,
   "id": "velvet-bullet",
   "metadata": {},
   "outputs": [
    {
     "data": {
      "image/png": "[encoded data removed]",
      "text/plain": [
       "<Figure size 432x288 with 1 Axes>"
      ]
     },
     "metadata": {},
     "output_type": "display_data"
    }
   ],
   "source": [
    "for i in range(X.shape[0]):\n",
    "    for j in nearest_partition[i, :K+1]:\n",
    "        plt.plot(*zip(X[j],X[i]), color='blue')"
   ]
  }
 ],
 "metadata": {
  "kernelspec": {
   "display_name": "Python 3",
   "language": "python",
   "name": "python3"
  },
  "language_info": {
   "codemirror_mode": {
    "name": "ipython",
    "version": 3
   },
   "file_extension": ".py",
   "mimetype": "text/x-python",
   "name": "python",
   "nbconvert_exporter": "python",
   "pygments_lexer": "ipython3",
   "version": "3.7.9"
  }
 },
 "nbformat": 4,
 "nbformat_minor": 5
}
