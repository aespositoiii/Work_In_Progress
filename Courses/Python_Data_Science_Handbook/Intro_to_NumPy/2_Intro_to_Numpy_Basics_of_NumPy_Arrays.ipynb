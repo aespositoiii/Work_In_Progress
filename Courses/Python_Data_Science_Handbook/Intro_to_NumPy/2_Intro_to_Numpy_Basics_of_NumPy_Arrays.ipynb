{
 "cells": [
  {
   "cell_type": "markdown",
   "id": "objective-tennis",
   "metadata": {},
   "source": [
    "# ------------ The Basics of Numpy Arrays ------------------"
   ]
  },
  {
   "cell_type": "markdown",
   "id": "obvious-benefit",
   "metadata": {},
   "source": [
    "### What are the attributes of a Numpy Array?"
   ]
  },
  {
   "cell_type": "code",
   "execution_count": 1,
   "id": "proved-galaxy",
   "metadata": {},
   "outputs": [
    {
     "name": "stdout",
     "output_type": "stream",
     "text": [
      "ndim                =  1\n",
      "shape               =  (6,)\n",
      "size                =  6\n",
      "dtype               =  int64\n",
      "size per entry      =  8 bytes\n",
      "total size of array =  48 bytes \n",
      "\n",
      "[3 4 0 4 3 4] \n",
      "\n",
      "------------------------------------------------\n",
      "ndim                =  2\n",
      "shape               =  (4, 8)\n",
      "size                =  32\n",
      "dtype               =  int64\n",
      "size per entry      =  8 bytes\n",
      "total size of array =  256 bytes \n",
      "\n",
      "[[6 3 4 5 8 9 2 5]\n",
      " [7 3 1 5 7 1 3 6]\n",
      " [6 3 1 0 9 6 3 2]\n",
      " [7 4 1 9 4 6 3 9]] \n",
      "\n",
      "------------------------------------------------\n",
      "ndim                =  3\n",
      "shape               =  (3, 3, 4)\n",
      "size                =  36\n",
      "dtype               =  int64\n",
      "size per entry      =  8 bytes\n",
      "total size of array =  288 bytes \n",
      "\n",
      "[[[1 9 7 8]\n",
      "  [0 3 6 9]\n",
      "  [9 8 5 4]]\n",
      "\n",
      " [[1 7 1 1]\n",
      "  [8 5 7 8]\n",
      "  [6 6 2 2]]\n",
      "\n",
      " [[2 4 0 3]\n",
      "  [4 4 3 6]\n",
      "  [8 8 3 9]]] \n",
      "\n",
      "------------------------------------------------\n"
     ]
    }
   ],
   "source": [
    "# Let's look at some basic properties of numpy arrays\n",
    "\n",
    "# ndim - the number of dimensions of the array\n",
    "# shape - the length of each dimension\n",
    "# size - the total number of elements in the array\n",
    "\n",
    "import numpy as np\n",
    "\n",
    "x1 = np.random.randint(10, size=6)\n",
    "x2 = np.random.randint(10, size=(4,8))\n",
    "x3 = np.random.randint(10, size=(3,3,4))\n",
    "\n",
    "D = [x1,x2,x3]\n",
    "for i in D:\n",
    "    print(\"ndim                = \", i.ndim)\n",
    "    print(\"shape               = \", i.shape)\n",
    "    print(\"size                = \", i.size)\n",
    "    print(\"dtype               = \", i.dtype)\n",
    "    print(\"size per entry      = \", i.itemsize, \"bytes\")\n",
    "    print(\"total size of array = \", i.nbytes, \"bytes \\n\")\n",
    "    print(i,'\\n')\n",
    "    print('------------------------------------------------')"
   ]
  },
  {
   "cell_type": "markdown",
   "id": "theoretical-soundtrack",
   "metadata": {},
   "source": [
    "### Array Indexing of single elements"
   ]
  },
  {
   "cell_type": "code",
   "execution_count": 2,
   "id": "vietnamese-democracy",
   "metadata": {},
   "outputs": [
    {
     "name": "stdout",
     "output_type": "stream",
     "text": [
      "[8 5 3 4 2 9]\n",
      "5\n",
      "4\n"
     ]
    }
   ],
   "source": [
    "# Access elements of a 1-D array with a bracketted integer\n",
    "\n",
    "print(x1)\n",
    "print(x1[1])\n",
    "print(x1[3])"
   ]
  },
  {
   "cell_type": "code",
   "execution_count": 3,
   "id": "modified-nursing",
   "metadata": {},
   "outputs": [
    {
     "name": "stdout",
     "output_type": "stream",
     "text": [
      "9\n",
      "3\n"
     ]
    }
   ],
   "source": [
    "# Use negative integers to access the array from the end\n",
    "# Notice the negative index starts counting from -1 \n",
    "# ***'-0' IS READ AS '0' AND WILL RETURN THE FIRST ELEMENT!!!***\n",
    "\n",
    "print(x1[-1])\n",
    "print(x1[-4])"
   ]
  },
  {
   "cell_type": "code",
   "execution_count": 4,
   "id": "fossil-outside",
   "metadata": {},
   "outputs": [
    {
     "name": "stdout",
     "output_type": "stream",
     "text": [
      "[[0 5 1 3 6 8 7 5]\n",
      " [9 0 6 1 7 6 9 1]\n",
      " [7 9 7 8 5 9 5 7]\n",
      " [2 2 6 7 9 5 5 2]]\n",
      "9 \n",
      "\n",
      "[[[5 6 9 2]\n",
      "  [6 6 2 8]\n",
      "  [4 5 3 2]]\n",
      "\n",
      " [[5 0 5 7]\n",
      "  [0 8 4 9]\n",
      "  [9 0 4 0]]\n",
      "\n",
      " [[4 0 0 2]\n",
      "  [5 0 1 8]\n",
      "  [0 3 1 4]]]\n",
      "1\n"
     ]
    }
   ],
   "source": [
    "# Access the elements of a multidimensional array using comma seperated tuples\n",
    "\n",
    "print(x2)\n",
    "print(x2[2,5],'\\n')\n",
    "print(x3)\n",
    "print(x3[2,2,2])\n"
   ]
  },
  {
   "cell_type": "code",
   "execution_count": 3,
   "id": "scientific-buyer",
   "metadata": {},
   "outputs": [
    {
     "name": "stdout",
     "output_type": "stream",
     "text": [
      "[[6 3 4 5 8 9 2 5]\n",
      " [7 3 1 5 7 1 3 6]\n",
      " [6 3 1 0 9 6 3 2]\n",
      " [7 4 1 9 4 6 3 9]]\n",
      "7 \n",
      "\n",
      "[[[1 9 7 8]\n",
      "  [0 3 6 9]\n",
      "  [9 8 5 4]]\n",
      "\n",
      " [[1 7 1 1]\n",
      "  [8 5 7 8]\n",
      "  [6 6 2 2]]\n",
      "\n",
      " [[2 4 0 3]\n",
      "  [4 4 3 6]\n",
      "  [8 8 3 9]]]\n",
      "6\n"
     ]
    }
   ],
   "source": [
    "# Accessing arrays from the end works the same as with 1-D arrays\n",
    "\n",
    "print(x2)\n",
    "print(x2[-3,-4],'\\n')\n",
    "print(x3)\n",
    "print(x3[-1,-2,-1])\n"
   ]
  },
  {
   "cell_type": "code",
   "execution_count": 6,
   "id": "italian-burton",
   "metadata": {},
   "outputs": [
    {
     "name": "stdout",
     "output_type": "stream",
     "text": [
      "[[0 5 1 3 6 8 7 5]\n",
      " [9 0 6 1 7 6 9 1]\n",
      " [7 9 7 8 5 9 5 7]\n",
      " [2 2 6 7 9 5 5 2]]\n",
      "[[ 0  5  1  3  6  8  7  5]\n",
      " [ 9  0  6  1  7  6  9  1]\n",
      " [ 7 80  7  8  5  9  5  7]\n",
      " [ 2  2  6  7  9  5  5  2]]\n"
     ]
    }
   ],
   "source": [
    "# You can modify the elements of an array by index\n",
    "\n",
    "print(x2)\n",
    "x2[2,1] = 80\n",
    "print(x2)"
   ]
  },
  {
   "cell_type": "markdown",
   "id": "laughing-tourism",
   "metadata": {},
   "source": [
    "### One Dimensional Subarrays : Array Slicing"
   ]
  },
  {
   "cell_type": "code",
   "execution_count": 7,
   "id": "naked-literacy",
   "metadata": {},
   "outputs": [
    {
     "data": {
      "text/plain": [
       "array([0, 1, 2, 3, 4, 5, 6, 7, 8, 9])"
      ]
     },
     "execution_count": 7,
     "metadata": {},
     "output_type": "execute_result"
    }
   ],
   "source": [
    "# Using the':' character lets you select elements from an array\n",
    "# x[start:stop(:step)]\n",
    "# With only one colon the slice defaults to star:stop\n",
    "# Leaving start or stop blank defaults to the beginning or end of an array respectively\n",
    "# The slice is BEFORE the stop index\n",
    "\n",
    "x = np.arange(10)\n",
    "x"
   ]
  },
  {
   "cell_type": "code",
   "execution_count": 8,
   "id": "surgical-retirement",
   "metadata": {},
   "outputs": [
    {
     "name": "stdout",
     "output_type": "stream",
     "text": [
      "[0 1 2 3 4]\n",
      "[0 1 2 3 4] \n",
      "\n",
      "[5 6 7 8 9]\n",
      "[5 6 7 8 9]\n"
     ]
    }
   ],
   "source": [
    "# With only one colon the slice defaults to star:stop\n",
    "# Leaving start or stop blank defaults to the beginning or end of an array respectively\n",
    "# The slice is BEFORE the stop index\n",
    "\n",
    "print(x[:5])\n",
    "print(x[0:5],'\\n')\n",
    "print(x[5:])\n",
    "print(x[5:len(x)])"
   ]
  },
  {
   "cell_type": "code",
   "execution_count": 9,
   "id": "indie-equity",
   "metadata": {},
   "outputs": [
    {
     "name": "stdout",
     "output_type": "stream",
     "text": [
      "[2 3 4 5 6]\n",
      "[3 4 5 6 7 8]\n"
     ]
    }
   ],
   "source": [
    "# Specify a start and stop index slices an array from the middle\n",
    "\n",
    "print(x[2:7])\n",
    "print(x[3:9])"
   ]
  },
  {
   "cell_type": "code",
   "execution_count": 10,
   "id": "concrete-cambridge",
   "metadata": {},
   "outputs": [
    {
     "name": "stdout",
     "output_type": "stream",
     "text": [
      "[0 2 4 6 8]\n",
      "[0 3 6 9]\n"
     ]
    }
   ],
   "source": [
    "# When using two colons without specifying start and stop\n",
    "# Defaults to starting from the first elemenet and every next element one 'step' away\n",
    "\n",
    "print(x[::2])\n",
    "print(x[::3])"
   ]
  },
  {
   "cell_type": "code",
   "execution_count": 11,
   "id": "certified-shark",
   "metadata": {},
   "outputs": [
    {
     "name": "stdout",
     "output_type": "stream",
     "text": [
      "[0 1 2 3 4 5 6]\n",
      "[0 1 2 3 4 5 6]\n",
      "[8 7 6 5 4 3 2 1 0]\n"
     ]
    }
   ],
   "source": [
    "# Negatives for the Start and Stop value simply start counting from the end of the array\n",
    "# Negatives for the 'step' value print the values in reverse\n",
    "# x[start:stop:(+step] : [_,_,START INDEX,-,-,-,-,-,>|,STOP INDEX,_,_,_]\n",
    "\n",
    "print(x[0:-3:1])\n",
    "print(x[0:7:1])\n",
    "print(x[8::-1])"
   ]
  },
  {
   "cell_type": "code",
   "execution_count": 12,
   "id": "collectible-flavor",
   "metadata": {},
   "outputs": [
    {
     "name": "stdout",
     "output_type": "stream",
     "text": [
      "[8 7 6 5 4 3 2 1]\n",
      "[8 7 6 5 4 3 2 1 0]\n"
     ]
    }
   ],
   "source": [
    "# x[start:stop:(-step] : [_,_,STOP INDEX,|<-,-,-,-,-,-,START INDEX,_,_,_]\n",
    "# For negative step values you must leave the stop value blank to include the print(x[8::-1])\n",
    "\n",
    "print(x[8:0:-1])\n",
    "print(x[8::-1])"
   ]
  },
  {
   "cell_type": "code",
   "execution_count": 13,
   "id": "incomplete-tragedy",
   "metadata": {},
   "outputs": [
    {
     "name": "stdout",
     "output_type": "stream",
     "text": [
      "[]\n",
      "[]\n"
     ]
    }
   ],
   "source": [
    "# If the stop index comes before the start index or\n",
    "# with negative steps the stop index comes after the start index the slice is returned empty\n",
    "\n",
    "print(x[7:1:1])\n",
    "print(x[5:7:-1])"
   ]
  },
  {
   "cell_type": "markdown",
   "id": "uniform-battery",
   "metadata": {},
   "source": [
    "### Multi Dimensional Sub Arrays"
   ]
  },
  {
   "cell_type": "code",
   "execution_count": 14,
   "id": "three-christopher",
   "metadata": {},
   "outputs": [
    {
     "data": {
      "text/plain": [
       "array([[ 0,  5,  1,  3,  6,  8,  7,  5],\n",
       "       [ 9,  0,  6,  1,  7,  6,  9,  1],\n",
       "       [ 7, 80,  7,  8,  5,  9,  5,  7],\n",
       "       [ 2,  2,  6,  7,  9,  5,  5,  2]])"
      ]
     },
     "execution_count": 14,
     "metadata": {},
     "output_type": "execute_result"
    }
   ],
   "source": [
    "# With Slicing works the same with n-D arrays as it does with 1-D arrays.\n",
    "\n",
    "x2"
   ]
  },
  {
   "cell_type": "code",
   "execution_count": 15,
   "id": "banned-lover",
   "metadata": {},
   "outputs": [
    {
     "data": {
      "text/plain": [
       "array([[6, 1, 7, 6, 9],\n",
       "       [7, 8, 5, 9, 5]])"
      ]
     },
     "execution_count": 15,
     "metadata": {},
     "output_type": "execute_result"
    }
   ],
   "source": [
    "# Second to Third Rows, Third to Seventh Column\n",
    "x2[1:3,2:7]"
   ]
  },
  {
   "cell_type": "code",
   "execution_count": 16,
   "id": "aging-darkness",
   "metadata": {},
   "outputs": [
    {
     "data": {
      "text/plain": [
       "array([[0, 3, 7],\n",
       "       [7, 8, 5]])"
      ]
     },
     "execution_count": 16,
     "metadata": {},
     "output_type": "execute_result"
    }
   ],
   "source": [
    "# Every Other Row, Every Thirsd Column\n",
    "x2[::2,::3]"
   ]
  },
  {
   "cell_type": "code",
   "execution_count": 17,
   "id": "adequate-drama",
   "metadata": {},
   "outputs": [
    {
     "name": "stdout",
     "output_type": "stream",
     "text": [
      "[2 2 6 7 9 5 5 2]\n",
      "[2 2 6 7 9 5 5 2]\n",
      "[8 6 9 5]\n"
     ]
    }
   ],
   "source": [
    "# A single ':' will return the full row or column\n",
    "# Ommiting the comma seperator and the column index automatically returns the full column\n",
    "\n",
    "print(x2[3,:])\n",
    "print(x2[3])\n",
    "print(x2[:,5])"
   ]
  },
  {
   "cell_type": "code",
   "execution_count": 18,
   "id": "competitive-magnitude",
   "metadata": {},
   "outputs": [
    {
     "name": "stdout",
     "output_type": "stream",
     "text": [
      "[[5 4 4 5 6 0 7 0]\n",
      " [0 4 1 1 9 1 3 3]\n",
      " [6 1 5 2 5 4 3 9]\n",
      " [9 8 2 4 2 9 4 0]]\n",
      "[[1 1 9 1]\n",
      " [5 2 5 4]]\n",
      "[[44 44 44 44]\n",
      " [44 44 44 44]]\n",
      "[[ 5  4  4  5  6  0  7  0]\n",
      " [ 0  4 44 44 44 44  3  3]\n",
      " [ 6  1 44 44 44 44  3  9]\n",
      " [ 9  8  2  4  2  9  4  0]]\n"
     ]
    }
   ],
   "source": [
    "# Using '=' to assign a value from an array to a variable ***LINKS THE VARIABLE TO THE ARRAY***\n",
    "\n",
    "x2 = np.random.randint(10, size=(4,8))\n",
    "print(x2)\n",
    "x2_sub = x2[1:3,2:6]\n",
    "print(x2_sub)\n",
    "x2_sub[:,:] = 44\n",
    "print(x2_sub)\n",
    "print(x2)"
   ]
  },
  {
   "cell_type": "code",
   "execution_count": 19,
   "id": "mental-naples",
   "metadata": {},
   "outputs": [
    {
     "name": "stdout",
     "output_type": "stream",
     "text": [
      "[[9 8 8 8 0 0 7 5]\n",
      " [9 6 5 5 6 5 4 0]\n",
      " [1 4 0 0 0 8 0 6]\n",
      " [4 1 8 9 5 6 5 5]]\n",
      "[[5 5 6 5]\n",
      " [0 0 0 8]]\n",
      "[[44 44 44 44]\n",
      " [44 44 44 44]]\n",
      "[[9 8 8 8 0 0 7 5]\n",
      " [9 6 5 5 6 5 4 0]\n",
      " [1 4 0 0 0 8 0 6]\n",
      " [4 1 8 9 5 6 5 5]]\n"
     ]
    }
   ],
   "source": [
    "# To create an UNLINKED copy you must use the (array).copy() method\n",
    "\n",
    "x2 = np.random.randint(10, size=(4,8))\n",
    "print(x2)\n",
    "x2_sub = x2[1:3,2:6].copy()\n",
    "print(x2_sub)\n",
    "x2_sub[:,:] = 44\n",
    "print(x2_sub)\n",
    "print(x2)"
   ]
  },
  {
   "cell_type": "code",
   "execution_count": 20,
   "id": "shaped-thomson",
   "metadata": {},
   "outputs": [
    {
     "name": "stdout",
     "output_type": "stream",
     "text": [
      "[1 2 3 4 5 6 7 8 9] \n",
      "\n",
      "[[1 2 3]\n",
      " [4 5 6]\n",
      " [7 8 9]]\n"
     ]
    }
   ],
   "source": [
    "grid1by9 = np.arange(1,10)\n",
    "print(grid1by9, '\\n')\n",
    "grid3by3 = grid1by9.reshape(3,3)\n",
    "print(grid3by3)\n"
   ]
  },
  {
   "cell_type": "code",
   "execution_count": 21,
   "id": "prompt-sydney",
   "metadata": {},
   "outputs": [],
   "source": [
    "x = np.array([1,2,3])\n",
    "\n"
   ]
  },
  {
   "cell_type": "code",
   "execution_count": 22,
   "id": "expanded-allah",
   "metadata": {},
   "outputs": [
    {
     "name": "stdout",
     "output_type": "stream",
     "text": [
      "[[1 2 3]]\n",
      "[[1 2 3]]\n"
     ]
    }
   ],
   "source": [
    "# Create a row vector:\n",
    "\n",
    "# via '.reshape'\n",
    "y = x.reshape(1,len(x))\n",
    "print(y)\n",
    "\n",
    "# via 'newaxis'\n",
    "y[np.newaxis,:]\n",
    "print(y)"
   ]
  },
  {
   "cell_type": "code",
   "execution_count": 23,
   "id": "broadband-transport",
   "metadata": {},
   "outputs": [
    {
     "name": "stdout",
     "output_type": "stream",
     "text": [
      "[[1]\n",
      " [2]\n",
      " [3]]\n",
      "[[1]\n",
      " [2]\n",
      " [3]]\n"
     ]
    }
   ],
   "source": [
    "# Create a new column vector\n",
    "\n",
    "# via '.reshape'\n",
    "y = x.reshape(len(x),1)\n",
    "print(y)\n",
    "\n",
    "# via 'np.newaxis'\n",
    "y[:,np.newaxis]\n",
    "print(y)"
   ]
  },
  {
   "cell_type": "markdown",
   "id": "instrumental-transcript",
   "metadata": {},
   "source": [
    "### Concatenation of Arrays"
   ]
  },
  {
   "cell_type": "code",
   "execution_count": 24,
   "id": "protecting-snapshot",
   "metadata": {},
   "outputs": [
    {
     "data": {
      "text/plain": [
       "array([1, 2, 3, 3, 2, 1])"
      ]
     },
     "execution_count": 24,
     "metadata": {},
     "output_type": "execute_result"
    }
   ],
   "source": [
    "# You can use 'np.concatenate' to join arrays\n",
    "x = np.array([1,2,3])\n",
    "y = np.array([3,2,1])\n",
    "np.concatenate([x,y])"
   ]
  },
  {
   "cell_type": "code",
   "execution_count": 25,
   "id": "mexican-payday",
   "metadata": {},
   "outputs": [
    {
     "name": "stdout",
     "output_type": "stream",
     "text": [
      "[ 1  2  3  3  2  1 99 99 99]\n",
      "[[ 1  2  3]\n",
      " [ 3  2  1]\n",
      " [99 99 99]]\n"
     ]
    }
   ],
   "source": [
    "# You can concatenate as many arrays as you wish\n",
    "z = np.array([99,99,99])\n",
    "grid = np.concatenate([x,y,z])\n",
    "print(grid)\n",
    "grid = np.concatenate([[x],[y],[z]])\n",
    "print(grid)"
   ]
  },
  {
   "cell_type": "code",
   "execution_count": 26,
   "id": "conservative-determination",
   "metadata": {},
   "outputs": [
    {
     "name": "stdout",
     "output_type": "stream",
     "text": [
      "[[[ 1  2  3]\n",
      "  [ 3  2  1]\n",
      "  [99 99 99]]\n",
      "\n",
      " [[ 1  2  3]\n",
      "  [ 3  2  1]\n",
      "  [99 99 99]]\n",
      "\n",
      " [[ 1  2  3]\n",
      "  [ 3  2  1]\n",
      "  [99 99 99]]\n",
      "\n",
      " [[ 1  2  3]\n",
      "  [ 3  2  1]\n",
      "  [99 99 99]]] (4, 3, 3) \n",
      "\n",
      "[[ 1  2  3]\n",
      " [ 3  2  1]\n",
      " [99 99 99]\n",
      " [ 1  2  3]\n",
      " [ 3  2  1]\n",
      " [99 99 99]] (6, 3)\n"
     ]
    }
   ],
   "source": [
    "# You  can concatenate n-D arrays as wellat once\n",
    "\n",
    "# Wihtout specifying a value for the axis keyword it will be done in the the first Axis\n",
    "a = np.concatenate([[grid,grid],[grid,grid]])\n",
    "print (a, a.shape,'\\n')\n",
    "\n",
    "# You can specify the axis with the 'axis=' keyword\n",
    "b = np.concatenate([grid,grid], axis=0)\n",
    "print (b,b.shape)\n"
   ]
  },
  {
   "cell_type": "code",
   "execution_count": 27,
   "id": "martial-engagement",
   "metadata": {},
   "outputs": [
    {
     "name": "stdout",
     "output_type": "stream",
     "text": [
      "[[ 1  2  3  1  2  3]\n",
      " [ 3  2  1  3  2  1]\n",
      " [99 99 99 99 99 99]]\n"
     ]
    }
   ],
   "source": [
    "# You can specify to concatenate in whatever axis up to the number of dimensions in the array\n",
    "\n",
    "c = np.concatenate([grid,grid], axis=1)\n",
    "print (c)"
   ]
  },
  {
   "cell_type": "markdown",
   "id": "acceptable-literature",
   "metadata": {},
   "source": [
    "### Splitting of Arrays"
   ]
  },
  {
   "cell_type": "code",
   "execution_count": 28,
   "id": "thirty-understanding",
   "metadata": {},
   "outputs": [
    {
     "name": "stdout",
     "output_type": "stream",
     "text": [
      "[1, 2, 3, 99, 99, 3, 2, 1]\n",
      "[1 2 3] [99 99] [3 2 1]\n"
     ]
    }
   ],
   "source": [
    "# to use 'np.split(array,tuple)' specify the array and in the tuple specify the index of where to split.\n",
    "# np.split() produces multiple arrays broken by the split index\n",
    "\n",
    "x = [1,2,3,99,99,3,2,1]\n",
    "print(x)\n",
    "\n",
    "x1,x2,x3 = np.split(x,[3,5])\n",
    "print(x1,x2,x3)"
   ]
  },
  {
   "cell_type": "code",
   "execution_count": 29,
   "id": "rural-montgomery",
   "metadata": {},
   "outputs": [
    {
     "name": "stdout",
     "output_type": "stream",
     "text": [
      "[[[ 1  2  3]\n",
      "  [ 3  2  1]\n",
      "  [99 99 99]]] \n",
      "\n",
      " [[[ 1  2  3]\n",
      "  [ 3  2  1]\n",
      "  [99 99 99]]\n",
      "\n",
      " [[ 1  2  3]\n",
      "  [ 3  2  1]\n",
      "  [99 99 99]]\n",
      "\n",
      " [[ 1  2  3]\n",
      "  [ 3  2  1]\n",
      "  [99 99 99]]] \n",
      "\n"
     ]
    }
   ],
   "source": [
    "# 'np.vsplit()' splits the array at a row index, along the first axis (axis=0)\n",
    "\n",
    "upper,lower = np.vsplit(a,[1])\n",
    "print(upper,'\\n\\n',lower,'\\n')"
   ]
  },
  {
   "cell_type": "code",
   "execution_count": 30,
   "id": "broke-personal",
   "metadata": {},
   "outputs": [
    {
     "name": "stdout",
     "output_type": "stream",
     "text": [
      "[[ 1  2  3]\n",
      " [ 3  2  1]\n",
      " [99 99 99]] \n",
      "\n",
      "\n",
      "[[[ 1  2  3]\n",
      "  [ 3  2  1]\n",
      "  [99 99 99]]] \n",
      "\n",
      " [[[ 1  2  3]\n",
      "  [ 3  2  1]\n",
      "  [99 99 99]]\n",
      "\n",
      " [[ 1  2  3]\n",
      "  [ 3  2  1]\n",
      "  [99 99 99]]\n",
      "\n",
      " [[ 1  2  3]\n",
      "  [ 3  2  1]\n",
      "  [99 99 99]]] \n",
      "\n"
     ]
    }
   ],
   "source": [
    "# 'np.hsplit()' splits the array at a column index, along the second axis(axis=0)\n",
    "\n",
    "print(grid,'\\n\\n')\n",
    "\n",
    "left, right = np.hsplit(a,[1])\n",
    "print(upper,'\\n\\n',lower,'\\n')"
   ]
  }
 ],
 "metadata": {
  "kernelspec": {
   "display_name": "Python 3",
   "language": "python",
   "name": "python3"
  },
  "language_info": {
   "codemirror_mode": {
    "name": "ipython",
    "version": 3
   },
   "file_extension": ".py",
   "mimetype": "text/x-python",
   "name": "python",
   "nbconvert_exporter": "python",
   "pygments_lexer": "ipython3",
   "version": "3.7.9"
  }
 },
 "nbformat": 4,
 "nbformat_minor": 5
}
