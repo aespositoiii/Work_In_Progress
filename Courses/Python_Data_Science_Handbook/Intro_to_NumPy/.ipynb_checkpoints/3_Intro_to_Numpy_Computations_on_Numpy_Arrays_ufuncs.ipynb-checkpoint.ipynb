{
 "cells": [
  {
   "cell_type": "markdown",
   "id": "alpine-thought",
   "metadata": {},
   "source": [
    "# Computation on Numpy Arrays : Universal Functions (ufuncs)"
   ]
  },
  {
   "cell_type": "code",
   "execution_count": 54,
   "id": "disturbed-profit",
   "metadata": {},
   "outputs": [
    {
     "name": "stdout",
     "output_type": "stream",
     "text": [
      "[6 1 4 4 8]\n",
      "[0.16666667 1.         0.25       0.25       0.125     ]\n"
     ]
    }
   ],
   "source": [
    "# Loops are slow, try to use vectorized computations with numpy arrays\n",
    "\n",
    "np.random.seed(0)\n",
    "\n",
    "def compute_reciprocals(values):\n",
    "    output = np.empty(len(values))\n",
    "    for i in range(len(values)):\n",
    "        output[i] = 1.0/values[i]\n",
    "    return output\n",
    "\n",
    "values = np.random.randint(1,10, size=5)\n",
    "reciprocals = compute_reciprocals(values)\n",
    "print(values)\n",
    "print(reciprocals)"
   ]
  },
  {
   "cell_type": "code",
   "execution_count": 55,
   "id": "public-keyboard",
   "metadata": {},
   "outputs": [
    {
     "name": "stdout",
     "output_type": "stream",
     "text": [
      "1.83 ms ± 106 µs per loop (mean ± std. dev. of 7 runs, 100 loops each)\n",
      "1.89 ms ± 22.1 µs per loop (mean ± std. dev. of 7 runs, 1000 loops each)\n",
      "1.89 s ± 160 ms per loop (mean ± std. dev. of 7 runs, 1 loop each)\n",
      "1.8 s ± 37 ms per loop (mean ± std. dev. of 7 runs, 1 loop each)\n"
     ]
    }
   ],
   "source": [
    "# Here is how to use the '%timeit', one of the universal functions(ufuncs) in python\n",
    "# Notice that the size of elements in the array have virtually no effect on the runt time\n",
    "# Optimization of the code to minizime loops is essential\n",
    "\n",
    "\n",
    "big_array1 = np.random.randint(1,10, size=1000)\n",
    "big_array2 = np.random.randint(1,(2**33), size=1000)\n",
    "bigger_array1 = np.random.randint(1,10, size=1000000)\n",
    "bigger_array2 = np.random.randint(1,(2**33), size=1000000)\n",
    "%timeit compute_reciprocals(big_array1)\n",
    "%timeit compute_reciprocals(big_array2)\n",
    "%timeit compute_reciprocals(bigger_array1)\n",
    "%timeit compute_reciprocals(bigger_array2)\n"
   ]
  },
  {
   "cell_type": "code",
   "execution_count": 56,
   "id": "corresponding-stuart",
   "metadata": {},
   "outputs": [
    {
     "name": "stdout",
     "output_type": "stream",
     "text": [
      "2.34 µs ± 109 ns per loop (mean ± std. dev. of 7 runs, 100000 loops each)\n",
      "2.24 µs ± 37.6 ns per loop (mean ± std. dev. of 7 runs, 100000 loops each)\n",
      "1.23 ms ± 46.2 µs per loop (mean ± std. dev. of 7 runs, 1000 loops each)\n",
      "1.2 ms ± 16.1 µs per loop (mean ± std. dev. of 7 runs, 1000 loops each)\n"
     ]
    }
   ],
   "source": [
    "# Using ufuncs, the static typing of numpy arrays allows operations like this to be pushed into the compiled layer\n",
    "# underlying the python interface.  This bypasses all of the conversion between Python and C\n",
    "# ***MUCH FASTER***\n",
    "\n",
    "%timeit (1/big_array1)\n",
    "%timeit (1/big_array2)\n",
    "%timeit (1/bigger_array1)\n",
    "%timeit (1/bigger_array2)"
   ]
  },
  {
   "cell_type": "code",
   "execution_count": 57,
   "id": "numerous-horizontal",
   "metadata": {},
   "outputs": [
    {
     "name": "stdout",
     "output_type": "stream",
     "text": [
      "[[1 2 3]\n",
      " [4 5 6]\n",
      " [7 8 9]] \n",
      "\n",
      "[[ 2  4  6]\n",
      " [ 8 10 12]\n",
      " [14 16 18]] \n",
      "\n",
      "[[  2   8  18]\n",
      " [ 32  50  72]\n",
      " [ 98 128 162]]\n"
     ]
    }
   ],
   "source": [
    "# all of the basic mathematical operations can be applied in this way\n",
    "x = np.arange(1,10).reshape((3,3))\n",
    "print(x, '\\n')\n",
    "y = 2*x\n",
    "print(y, '\\n')\n",
    "z = x*y\n",
    "print(z)"
   ]
  },
  {
   "cell_type": "markdown",
   "id": "twelve-virginia",
   "metadata": {},
   "source": [
    "# Exploring ufuncs"
   ]
  },
  {
   "cell_type": "markdown",
   "id": "limited-second",
   "metadata": {},
   "source": [
    "### Array Arithmetic"
   ]
  },
  {
   "cell_type": "code",
   "execution_count": 58,
   "id": "flexible-basement",
   "metadata": {},
   "outputs": [
    {
     "name": "stdout",
     "output_type": "stream",
     "text": [
      " x      =  [0 1 2 3] \n",
      "\n",
      " x + 5  =  [5 6 7 8] \n",
      "\n",
      " x - 5  =  [-5 -4 -3 -2] \n",
      "\n",
      " x * 2  =  [0 2 4 6] \n",
      "\n",
      " x / 2  =  [0.  0.5 1.  1.5] \n",
      "\n",
      " x //2  =  [0 0 1 1] \n",
      "\n",
      "-x      =  [ 0 -1 -2 -3] \n",
      "\n",
      " x % 2  =  [0 1 0 1] \n",
      "\n"
     ]
    }
   ],
   "source": [
    "x = np.arange(4)\n",
    "print(\" x      = \", x, '\\n')\n",
    "print(\" x + 5  = \", x + 5, '\\n')    \n",
    "print(\" x - 5  = \", x - 5, '\\n')\n",
    "print(\" x * 2  = \", x * 2, '\\n')\n",
    "print(\" x / 2  = \", x / 2, '\\n')\n",
    "print(\" x //2  = \", x // 2, '\\n')  # Floor Division\n",
    "print(\"-x      = \", -x, '\\n')\n",
    "print(\" x % 2  = \", x % 2, '\\n')"
   ]
  },
  {
   "cell_type": "code",
   "execution_count": 59,
   "id": "packed-december",
   "metadata": {},
   "outputs": [
    {
     "data": {
      "text/plain": [
       "array([-1.    , -1.5625, -2.25  , -3.0625])"
      ]
     },
     "execution_count": 59,
     "metadata": {},
     "output_type": "execute_result"
    }
   ],
   "source": [
    "# The order of operations is respected\n",
    "\n",
    "-(.25 * x + 1) **2"
   ]
  },
  {
   "cell_type": "code",
   "execution_count": 60,
   "id": "current-expense",
   "metadata": {},
   "outputs": [
    {
     "name": "stdout",
     "output_type": "stream",
     "text": [
      "[0 1 2 3]\n",
      "[2 3 4 5]\n"
     ]
    }
   ],
   "source": [
    "# the arithmetic operators are a wrapper for numpy method ufuncs that accept an array and a quantity\n",
    "\n",
    "A = np.add(x , 2)\n",
    "print(x)\n",
    "print(A)"
   ]
  },
  {
   "cell_type": "code",
   "execution_count": 61,
   "id": "related-impossible",
   "metadata": {},
   "outputs": [],
   "source": [
    "# Here are the list of ufuncs and their equivalents\n",
    "\n",
    "\"\"\"\n",
    "+ \tnp.add \tAddition (e.g., 1 + 1 = 2)\n",
    "- \tnp.subtract \tSubtraction (e.g., 3 - 2 = 1)\n",
    "- \tnp.negative \tUnary negation (e.g., -2)\n",
    "* \tnp.multiply \tMultiplication (e.g., 2 * 3 = 6)\n",
    "/ \tnp.divide \tDivision (e.g., 3 / 2 = 1.5)\n",
    "// \tnp.floor_divide \tFloor division (e.g., 3 // 2 = 1)\n",
    "** \tnp.power \tExponentiation (e.g., 2 ** 3 = 8)\n",
    "% \tnp.mod \tModulus/remainder (e.g., 9 % 4 = 1)\n",
    "\n",
    "\"\"\";"
   ]
  },
  {
   "cell_type": "code",
   "execution_count": 62,
   "id": "advanced-chess",
   "metadata": {},
   "outputs": [
    {
     "name": "stdout",
     "output_type": "stream",
     "text": [
      "[-10000  -9999  -9998 ...   9997   9998   9999]\n",
      "[-9999 -9998 -9997 ...  9998  9999 10000]\n",
      "10.5 µs ± 241 ns per loop (mean ± std. dev. of 7 runs, 100000 loops each)\n",
      "10.4 µs ± 168 ns per loop (mean ± std. dev. of 7 runs, 100000 loops each)\n"
     ]
    }
   ],
   "source": [
    "# Python recognizes the built-in python commands as well as the \n",
    "# The two methods time the same.\n",
    "\n",
    "x = np.array([-2, -1, 0, 1 , 2])\n",
    "x = np.arange(-10000,10000)\n",
    "negx = -1*x[::-1]\n",
    "negx = negx.copy() \n",
    "print(x)\n",
    "print(negx)\n",
    "\n",
    "%timeit abs(x)\n",
    "%timeit np.absolute(x)"
   ]
  },
  {
   "cell_type": "code",
   "execution_count": 63,
   "id": "quarterly-investor",
   "metadata": {},
   "outputs": [
    {
     "name": "stdout",
     "output_type": "stream",
     "text": [
      "[4.-4.j 4.-3.j 2.+0.j 0.+1.j]\n",
      "[5.65685425 5.         2.         1.        ]\n"
     ]
    }
   ],
   "source": [
    "# Absolute values work on complex numbers too\n",
    "\n",
    "x = np.array([4-4j, 4-3j, 2+0j, 0+1J])\n",
    "print(x)\n",
    "print(np.abs(x)) # returns the MAGNITUDE of the complex number (a**2 + b**2 = c**c)"
   ]
  },
  {
   "cell_type": "markdown",
   "id": "precise-yorkshire",
   "metadata": {},
   "source": [
    "### Trigonometric Functions"
   ]
  },
  {
   "cell_type": "code",
   "execution_count": 64,
   "id": "republican-treasury",
   "metadata": {},
   "outputs": [
    {
     "name": "stdout",
     "output_type": "stream",
     "text": [
      "theta.        = [0.         1.57079633 3.14159265] \n",
      "\n",
      "sin(theta)    = [0.0000000e+00 1.0000000e+00 1.2246468e-16] \n",
      "\n",
      "cos(theta)    = [ 1.000000e+00  6.123234e-17 -1.000000e+00] \n",
      "\n",
      "tan(theta)    = [ 0.00000000e+00  1.63312394e+16 -1.22464680e-16]\n"
     ]
    }
   ],
   "source": [
    "# Trig functions are as follows\n",
    "\n",
    "theta = np.linspace(0,np.pi, 3)\n",
    "print(\"theta.        =\", theta, '\\n')\n",
    "print(\"sin(theta)    =\", np.sin(theta), '\\n')\n",
    "print(\"cos(theta)    =\", np.cos(theta), '\\n')\n",
    "print(\"tan(theta)    =\", np.tan(theta))"
   ]
  },
  {
   "cell_type": "code",
   "execution_count": 65,
   "id": "under-congress",
   "metadata": {},
   "outputs": [
    {
     "name": "stdout",
     "output_type": "stream",
     "text": [
      "x.            = [0.         1.57079633 3.14159265] \n",
      "\n",
      "arcsin(x)    = [0.         1.57079633 0.        ] \n",
      "\n",
      "arccos(x)    = [1.57079633 0.         1.57079633] \n",
      "\n",
      "arctan(x)    = [0.         0.78539816 0.        ]\n"
     ]
    }
   ],
   "source": [
    "\n",
    "x = np.array([0,1,0])\n",
    "print(\"x.            =\", theta, '\\n')\n",
    "print(\"arcsin(x)    =\", np.arcsin(x), '\\n')\n",
    "print(\"arccos(x)    =\", np.arccos(x), '\\n')\n",
    "print(\"arctan(x)    =\", np.arctan(x))\n"
   ]
  },
  {
   "cell_type": "markdown",
   "id": "aquatic-romania",
   "metadata": {},
   "source": [
    "### Numpy has ufuncs for Exponents and Logarithms"
   ]
  },
  {
   "cell_type": "code",
   "execution_count": 66,
   "id": "junior-arrest",
   "metadata": {},
   "outputs": [
    {
     "name": "stdout",
     "output_type": "stream",
     "text": [
      "x    = [1, 2, 3] \n",
      "\n",
      "e^x  = [ 2.71828183  7.3890561  20.08553692] \n",
      "\n",
      "2^x  = [2. 4. 8.] \n",
      "\n",
      "3^x  = [ 3  9 27] \n",
      "\n"
     ]
    }
   ],
   "source": [
    "x = [1,2,3]\n",
    "\n",
    "print(\"x    =\", x,'\\n')\n",
    "print(\"e^x  =\", np.exp(x),'\\n')\n",
    "print(\"2^x  =\", np.exp2(x),'\\n')\n",
    "print(\"3^x  =\", np.power(3,x),'\\n') # 'np.power(x,y)' raises x to the power of y"
   ]
  },
  {
   "cell_type": "code",
   "execution_count": 67,
   "id": "arabic-springfield",
   "metadata": {},
   "outputs": [
    {
     "name": "stdout",
     "output_type": "stream",
     "text": [
      "x       = [1, 2, 8, 100] \n",
      "\n",
      "ln(x)   = [0.         0.69314718 2.07944154 4.60517019] \n",
      "\n",
      "log2(x) = [0.         1.         3.         6.64385619] \n",
      "\n",
      "log10(x)= [0.         0.30103    0.90308999 2.        ] \n",
      "\n"
     ]
    }
   ],
   "source": [
    "x = [1,2,8,100]\n",
    "\n",
    "print(\"x       =\", x,'\\n')\n",
    "print(\"ln(x)   =\", np.log(x),'\\n')\n",
    "print(\"log2(x) =\", np.log2(x),'\\n')\n",
    "print(\"log10(x)=\", np.log10(x),'\\n')"
   ]
  },
  {
   "cell_type": "code",
   "execution_count": 68,
   "id": "specialized-knitting",
   "metadata": {},
   "outputs": [
    {
     "name": "stdout",
     "output_type": "stream",
     "text": [
      "exp(x) - 1 = [0.         0.0010005  0.01005017 0.10517092] \n",
      "\n",
      "log(1 + x) = [0.         0.0009995  0.00995033 0.09531018] \n",
      "\n"
     ]
    }
   ],
   "source": [
    "# There are also some specialized log functions for maintaining precision with very small values\n",
    "\n",
    "x = [0, 0.001, 0.01, 0.1]\n",
    "print(\"exp(x) - 1 =\", np.expm1(x),'\\n')\n",
    "print(\"log(1 + x) =\", np.log1p(x),'\\n')"
   ]
  },
  {
   "cell_type": "markdown",
   "id": "incorporated-spending",
   "metadata": {},
   "source": [
    "### Specialized ufuncs"
   ]
  },
  {
   "cell_type": "code",
   "execution_count": 69,
   "id": "under-source",
   "metadata": {},
   "outputs": [
    {
     "name": "stdout",
     "output_type": "stream",
     "text": [
      "gamma(x)     = [1.0000e+00 2.4000e+01 3.6288e+05] \n",
      "\n",
      "ln|gamma(x)| = [ 0.          3.17805383 12.80182748] \n",
      "\n",
      "beta(x, 2)   = [0.5        0.03333333 0.00909091] \n",
      "\n"
     ]
    }
   ],
   "source": [
    "# scipy has some specialized ufuncs for statistical analysis\n",
    "from scipy import special\n",
    "\n",
    "x = [1, 5, 10]\n",
    "\n",
    "print(\"gamma(x)     =\", special.gamma(x),'\\n')\n",
    "print(\"ln|gamma(x)| =\", special.gammaln(x),'\\n')\n",
    "print(\"beta(x, 2)   =\", special.beta(x, 2),'\\n')\n",
    "\n"
   ]
  },
  {
   "cell_type": "code",
   "execution_count": 70,
   "id": "sought-chicago",
   "metadata": {},
   "outputs": [
    {
     "name": "stdout",
     "output_type": "stream",
     "text": [
      "erf(x)  = [0.         0.32862676 0.67780119 0.84270079] \n",
      "\n",
      "erfc(x) = [1.         0.67137324 0.32219881 0.15729921] \n",
      "\n",
      "erfinv(x) = [0.         0.27246271 0.73286908        inf] \n",
      "\n"
     ]
    }
   ],
   "source": [
    "# Error function (integral of Gaussian)\n",
    "# its complement, and its inverse\n",
    "\n",
    "x = np.array([0, 0.3, 0.7, 1.0])\n",
    "print(\"erf(x)  =\", special.erf(x),'\\n')\n",
    "print(\"erfc(x) =\", special.erfc(x),'\\n')\n",
    "print(\"erfinv(x) =\", special.erfinv(x),'\\n')"
   ]
  },
  {
   "cell_type": "markdown",
   "id": "inappropriate-bidding",
   "metadata": {},
   "source": [
    "# Advanced Ufunc Features"
   ]
  },
  {
   "cell_type": "markdown",
   "id": "jewish-motivation",
   "metadata": {},
   "source": [
    "### Assigning result to a function"
   ]
  },
  {
   "cell_type": "code",
   "execution_count": 71,
   "id": "superior-loading",
   "metadata": {},
   "outputs": [
    {
     "name": "stdout",
     "output_type": "stream",
     "text": [
      "[0 1 2 3 4]\n",
      "[ 0. 10. 20. 30. 40.]\n"
     ]
    }
   ],
   "source": [
    "# The output of a ufunc can be specified inside the function without assigning to a variable.\n",
    "# To do this you must create an appropriately sized array to place the result in.\n",
    "\n",
    "x = np.arange(5)\n",
    "y = np.empty(5)\n",
    "np.multiply(x,10, out=y)\n",
    "print(x)\n",
    "print(y)"
   ]
  },
  {
   "cell_type": "code",
   "execution_count": 73,
   "id": "measured-network",
   "metadata": {},
   "outputs": [
    {
     "name": "stdout",
     "output_type": "stream",
     "text": [
      "[ 1.  0.  2.  0.  4.  0.  8.  0. 16.  0.]\n"
     ]
    }
   ],
   "source": [
    "# The results of the function can be assigned with slice formatting also\n",
    "\n",
    "y = np.zeros(10)\n",
    "np.power(2,x, out=y[::2])\n",
    "print(y)"
   ]
  },
  {
   "cell_type": "markdown",
   "id": "accurate-concert",
   "metadata": {},
   "source": [
    "### Aggregates on binary based ufuncs"
   ]
  },
  {
   "cell_type": "code",
   "execution_count": 74,
   "id": "silent-monster",
   "metadata": {},
   "outputs": [
    {
     "data": {
      "text/plain": [
       "15"
      ]
     },
     "execution_count": 74,
     "metadata": {},
     "output_type": "execute_result"
    }
   ],
   "source": [
    "# Reduce performs the operation on the array until it is reduced to a single value'\n",
    "\n",
    "x = np.arange(1,6)\n",
    "np.add.reduce(x)"
   ]
  },
  {
   "cell_type": "code",
   "execution_count": 75,
   "id": "tropical-hollow",
   "metadata": {},
   "outputs": [
    {
     "data": {
      "text/plain": [
       "120"
      ]
     },
     "execution_count": 75,
     "metadata": {},
     "output_type": "execute_result"
    }
   ],
   "source": [
    "np.multiply.reduce(x)"
   ]
  },
  {
   "cell_type": "code",
   "execution_count": 77,
   "id": "intended-portal",
   "metadata": {},
   "outputs": [
    {
     "name": "stdout",
     "output_type": "stream",
     "text": [
      "[ 1  3  6 10 15]\n",
      "[  1   2   6  24 120]\n"
     ]
    }
   ],
   "source": [
    "# to track every step you can use '.accumulate'\n",
    "print(np.add.accumulate(x))\n",
    "print(np.multiply.accumulate(x))"
   ]
  },
  {
   "cell_type": "markdown",
   "id": "banned-shakespeare",
   "metadata": {},
   "source": [
    "### Outer Products"
   ]
  },
  {
   "cell_type": "code",
   "execution_count": 81,
   "id": "mineral-intro",
   "metadata": {},
   "outputs": [
    {
     "name": "stdout",
     "output_type": "stream",
     "text": [
      "[1 2 3 4 5] [1 2 3 4 5 6 7] \n",
      "\n",
      "[[ 2  3  4  5  6  7  8]\n",
      " [ 3  4  5  6  7  8  9]\n",
      " [ 4  5  6  7  8  9 10]\n",
      " [ 5  6  7  8  9 10 11]\n",
      " [ 6  7  8  9 10 11 12]] \n",
      "\n",
      "[[ 1  2  3  4  5  6  7]\n",
      " [ 2  4  6  8 10 12 14]\n",
      " [ 3  6  9 12 15 18 21]\n",
      " [ 4  8 12 16 20 24 28]\n",
      " [ 5 10 15 20 25 30 35]]\n"
     ]
    }
   ],
   "source": [
    "# Outer takes two vectors, length n and m, and performs the function on each element of one vector\n",
    "# on each element of the other vector yielding an yielding an n x m matrix.\n",
    "\n",
    "x = np.arange(1,6)\n",
    "y = np.arange(1,8)\n",
    "outer_addxy = np.add.outer(x,y)\n",
    "outer_prodxy = np.multiply.outer(x,y)\n",
    "print(x, y,'\\n')\n",
    "print(outer_addxy,'\\n')\n",
    "print(outer_prodxy)"
   ]
  },
  {
   "cell_type": "code",
   "execution_count": 370,
   "id": "destroyed-taste",
   "metadata": {},
   "outputs": [
    {
     "name": "stdout",
     "output_type": "stream",
     "text": [
      "NumPy Routine\n",
      "24.8 µs ± 177 ns per loop (mean ± std. dev. of 7 runs, 10000 loops each)\n",
      "\n",
      "Quick and Dirty Routine\n",
      "12.2 µs ± 27.3 ns per loop (mean ± std. dev. of 7 runs, 100000 loops each)\n"
     ]
    }
   ],
   "source": [
    "# These two approaches produce similar results but the underlying processes are different.\n",
    "# Timing the two functions shows that with a \"small\" data set the simple algorithm runs very quickly\n",
    "\n",
    "print(\"NumPy Routine\")\n",
    "%timeit counts, edges = np.histogram(x,bins)\n",
    "\n",
    "print(\"\\nQuick and Dirty Routine\")\n",
    "%timeit np.add.at(counts, np.searchsorted(bins,x),1)"
   ]
  },
  {
   "cell_type": "code",
   "execution_count": 372,
   "id": "informal-swing",
   "metadata": {},
   "outputs": [
    {
     "name": "stdout",
     "output_type": "stream",
     "text": [
      "NumPy Routine\n",
      "64.5 ms ± 1.95 ms per loop (mean ± std. dev. of 7 runs, 10 loops each)\n",
      "\n",
      "Quick and Dirty Routine\n",
      "94.8 ms ± 282 µs per loop (mean ± std. dev. of 7 runs, 10 loops each)\n"
     ]
    }
   ],
   "source": [
    "# But with a much larger data set the Numpy Routine runs much faster.\n",
    "# It is optimized for a wide variety of inputs.\n",
    "\n",
    "x = np.random.randn(1000000)\n",
    "\n",
    "print(\"NumPy Routine\")\n",
    "%timeit counts, edges = np.histogram(x,bins)\n",
    "\n",
    "print(\"\\nQuick and Dirty Routine\")\n",
    "%timeit np.add.at(counts, np.searchsorted(bins,x),1)"
   ]
  },
  {
   "cell_type": "markdown",
   "id": "primary-selling",
   "metadata": {},
   "source": [
    "# *SORTING ARRAYS!!!*"
   ]
  },
  {
   "cell_type": "code",
   "execution_count": 1,
   "id": "musical-protocol",
   "metadata": {},
   "outputs": [
    {
     "data": {
      "text/plain": [
       "array([1, 2, 2, 3, 4, 5, 5, 6])"
      ]
     },
     "execution_count": 1,
     "metadata": {},
     "output_type": "execute_result"
    }
   ],
   "source": [
    "# For example, the \"SELECTION SORT\"\n",
    "# It is simple but much too slow.\n",
    "# big O is N^2\n",
    "\n",
    "import numpy as np\n",
    "\n",
    "def selection_sort(x):\n",
    "    for i in range(len(x)):\n",
    "        swap = i + np.argmin(x[i:])\n",
    "        (x[i], x[swap]) = (x[swap], x[i])\n",
    "    return x\n",
    "\n",
    "x = np.array([2,1,2,4,6,5,5,3])\n",
    "selection_sort(x)"
   ]
  },
  {
   "cell_type": "markdown",
   "id": "permanent-samba",
   "metadata": {},
   "source": [
    "### Fast Sorting in Numpy : np.sort and np.argsort\n",
    "\n",
    "\n",
    "NumPy has better array sorting algorithms than this and the Python built-in sorting functions"
   ]
  },
  {
   "cell_type": "code",
   "execution_count": 21,
   "id": "pediatric-extension",
   "metadata": {},
   "outputs": [
    {
     "name": "stdout",
     "output_type": "stream",
     "text": [
      "[1 3 3 3 4 4 5 6 6 6 7 8 9] \n",
      "\n",
      "[1 3 3 3 4 4 5 6 6 6 7 8 9] \n",
      "\n",
      "[1 3 3 3 4 4 5 6 6 6 7 8 9]\n"
     ]
    }
   ],
   "source": [
    "# np.sort([array]) or the [array].sort() method.\n",
    "# There are options for the sorting algorithm through the 'kind=' keyword. See docs for more information.\n",
    "\n",
    "print(x, '\\n')\n",
    "print(np.sort(x), '\\n')\n",
    "x.sort()\n",
    "print(x)"
   ]
  },
  {
   "cell_type": "code",
   "execution_count": 27,
   "id": "ambient-package",
   "metadata": {},
   "outputs": [
    {
     "name": "stdout",
     "output_type": "stream",
     "text": [
      "[1 4 6 7 3 6 3 8 6 9 3 5 4] \n",
      "\n",
      "[ 0  4  6 10  1 12 11  2  5  8  3  7  9] \n",
      "\n",
      "[1 3 3 3 4 4 5 6 6 6 7 8 9] \n",
      "\n",
      "[1 4 6 7 3 6 3 8 6 9 3 5 4]\n"
     ]
    }
   ],
   "source": [
    "# np.argsort([array]) or the [array].argsort() method returns a list of the indices should the array be sorted.\n",
    "# Similar to '.sort()' the '.argsort()' function takes the 'kind=' keyword to specify the algorithm\n",
    "\n",
    "x = np.array([1, 4, 6, 7, 3, 6, 3, 8, 6, 9, 3, 5, 4])\n",
    "print(x, '\\n')\n",
    "print(np.argsort(x), '\\n')\n",
    "print(x[np.argsort(x)], '\\n') # Print the sorted array with fancy indexing\n",
    "print(x)                      # The original array is not affected by this method."
   ]
  },
  {
   "cell_type": "markdown",
   "id": "optimum-following",
   "metadata": {},
   "source": [
    "### Sorting along rows or columns"
   ]
  },
  {
   "cell_type": "code",
   "execution_count": 39,
   "id": "legal-young",
   "metadata": {},
   "outputs": [
    {
     "name": "stdout",
     "output_type": "stream",
     "text": [
      "Original Array:\n",
      "\n",
      " [[5 6 0 1 6 3]\n",
      " [0 4 2 1 7 3]\n",
      " [5 9 4 8 5 7]\n",
      " [6 8 2 5 0 2]] \n",
      "\n",
      "\n",
      "Sort by Column:\n",
      "\n",
      " [[0 4 0 1 0 2]\n",
      " [5 6 2 1 5 3]\n",
      " [5 8 2 5 6 3]\n",
      " [6 9 4 8 7 7]] \n",
      "\n",
      "\n",
      "Sort by Row:\n",
      "\n",
      " [[0 1 3 5 6 6]\n",
      " [0 1 2 3 4 7]\n",
      " [4 5 5 7 8 9]\n",
      " [0 2 2 5 6 8]] \n",
      "\n",
      "\n"
     ]
    }
   ],
   "source": [
    "rand = np.random.RandomState(26)\n",
    "X = rand.randint(0,10, (4,6))\n",
    "print('Original Array:\\n\\n',X, '\\n\\n')                   # The original Array\n",
    "print('Sort by Column:\\n\\n', np.sort(X, axis=0), '\\n\\n')  # Sort by Column\n",
    "print('Sort by Row:\\n\\n', np.sort(X, axis=1), '\\n\\n')  # Sort by Row"
   ]
  },
  {
   "cell_type": "markdown",
   "id": "animated-indonesian",
   "metadata": {},
   "source": [
    "### Partitioning"
   ]
  },
  {
   "cell_type": "code",
   "execution_count": 43,
   "id": "alpha-arcade",
   "metadata": {},
   "outputs": [
    {
     "data": {
      "text/plain": [
       "array([32, 29, 40, 49, 55, 58, 68, 92])"
      ]
     },
     "execution_count": 43,
     "metadata": {},
     "output_type": "execute_result"
    }
   ],
   "source": [
    "# Partitioning takes the smalled 'K' number of values in the array and puts them at the front\n",
    "# The order bears no practical relation to the data.\n",
    "\n",
    "x = np.array([49, 58, 40, 29, 68, 92, 32, 55])\n",
    "np.partition(x, 4)"
   ]
  },
  {
   "cell_type": "code",
   "execution_count": 47,
   "id": "arctic-continuity",
   "metadata": {},
   "outputs": [
    {
     "name": "stdout",
     "output_type": "stream",
     "text": [
      "Original Array:\n",
      "\n",
      " [[5 6 0 1 6 3]\n",
      " [0 4 2 1 7 3]\n",
      " [5 9 4 8 5 7]\n",
      " [6 8 2 5 0 2]] \n",
      "\n",
      "\n",
      "Partition on Column:\n",
      "\n",
      " [[0 4 0 1 0 2]\n",
      " [5 6 2 1 5 3]\n",
      " [5 8 2 5 6 3]\n",
      " [6 9 4 8 7 7]] \n",
      "\n",
      "\n",
      "Partition on Row:\n",
      "\n",
      " [[0 1 3 6 6 5]\n",
      " [0 1 2 4 7 3]\n",
      " [4 5 5 8 9 7]\n",
      " [0 2 2 5 6 8]] \n",
      "\n",
      "\n"
     ]
    }
   ],
   "source": [
    "# Partitioning works in multiple dimensions as well\n",
    "\n",
    "print('Original Array:\\n\\n',X, '\\n\\n')                   # The original Array\n",
    "print('Partition on Column:\\n\\n', np.partition(X, 2, axis=0), '\\n\\n')  # Sort by Column\n",
    "print('Partition on Row:\\n\\n', np.partition(X, 2, axis=1), '\\n\\n')  # Sort by Row\n"
   ]
  },
  {
   "cell_type": "markdown",
   "id": "legal-handbook",
   "metadata": {},
   "source": [
    "### Example: k-Nearest Neghbors"
   ]
  },
  {
   "cell_type": "code",
   "execution_count": 98,
   "id": "norman-miller",
   "metadata": {},
   "outputs": [],
   "source": [
    "X= rand.rand(100,2)"
   ]
  },
  {
   "cell_type": "code",
   "execution_count": 99,
   "id": "neither-supervision",
   "metadata": {},
   "outputs": [
    {
     "data": {
      "image/png": "[encoded data removed]",
      "text/plain": [
       "<Figure size 432x288 with 1 Axes>"
      ]
     },
     "metadata": {},
     "output_type": "display_data"
    }
   ],
   "source": [
    "%matplotlib inline\n",
    "import matplotlib.pyplot as plt\n",
    "import seaborn; seaborn.set() # Plot styling\n",
    "plt.scatter(X[:,0], X[:,1], s=25);"
   ]
  },
  {
   "cell_type": "code",
   "execution_count": 100,
   "id": "quantitative-chinese",
   "metadata": {},
   "outputs": [
    {
     "name": "stdout",
     "output_type": "stream",
     "text": [
      "[[[0.08919513 0.60642972]]\n",
      "\n",
      " [[0.84794449 0.47034076]]\n",
      "\n",
      " [[0.21220799 0.75172033]]\n",
      "\n",
      " [[0.28489547 0.33918888]]\n",
      "\n",
      " [[0.6001988  0.64451444]]]\n",
      "(5, 1, 2)\n",
      "[[[0.08919513 0.60642972]\n",
      "  [0.84794449 0.47034076]\n",
      "  [0.21220799 0.75172033]\n",
      "  [0.28489547 0.33918888]\n",
      "  [0.6001988  0.64451444]]]\n",
      "(1, 5, 2)\n",
      "[[[ 0.          0.        ]\n",
      "  [-0.75874935  0.13608896]\n",
      "  [-0.12301286 -0.14529061]\n",
      "  [-0.19570034  0.26724084]\n",
      "  [-0.51100367 -0.03808473]]\n",
      "\n",
      " [[ 0.75874935 -0.13608896]\n",
      "  [ 0.          0.        ]\n",
      "  [ 0.6357365  -0.28137957]\n",
      "  [ 0.56304902  0.13115188]\n",
      "  [ 0.24774568 -0.17417369]]\n",
      "\n",
      " [[ 0.12301286  0.14529061]\n",
      "  [-0.6357365   0.28137957]\n",
      "  [ 0.          0.        ]\n",
      "  [-0.07268748  0.41253145]\n",
      "  [-0.38799081  0.10720589]]\n",
      "\n",
      " [[ 0.19570034 -0.26724084]\n",
      "  [-0.56304902 -0.13115188]\n",
      "  [ 0.07268748 -0.41253145]\n",
      "  [ 0.          0.        ]\n",
      "  [-0.31530333 -0.30532556]]\n",
      "\n",
      " [[ 0.51100367  0.03808473]\n",
      "  [-0.24774568  0.17417369]\n",
      "  [ 0.38799081 -0.10720589]\n",
      "  [ 0.31530333  0.30532556]\n",
      "  [ 0.          0.        ]]]\n",
      "(5, 5, 2)\n"
     ]
    }
   ],
   "source": [
    "print(X[:5,np.newaxis,:])\n",
    "print(X[:5,np.newaxis,:].shape)\n",
    "print(X[np.newaxis, :5 ,:])\n",
    "print(X[np.newaxis, :5 ,:].shape)\n",
    "print((X[:5,np.newaxis,:]-X[np.newaxis, :5 ,:]))\n",
    "print((X[:5,np.newaxis,:]-X[np.newaxis, :5 ,:]).shape)"
   ]
  },
  {
   "cell_type": "code",
   "execution_count": 101,
   "id": "continued-wright",
   "metadata": {},
   "outputs": [
    {
     "data": {
      "text/plain": [
       "(100, 100)"
      ]
     },
     "execution_count": 101,
     "metadata": {},
     "output_type": "execute_result"
    }
   ],
   "source": [
    "dist_sq = np.sum((X[:, np.newaxis, :] - X[np.newaxis, :, :]) ** 2, axis=-1)\n",
    "dist_sq.shape"
   ]
  },
  {
   "cell_type": "code",
   "execution_count": 102,
   "id": "pregnant-voluntary",
   "metadata": {},
   "outputs": [
    {
     "data": {
      "text/plain": [
       "array([0., 0., 0., 0., 0., 0., 0., 0., 0., 0., 0., 0., 0., 0., 0., 0., 0.,\n",
       "       0., 0., 0., 0., 0., 0., 0., 0., 0., 0., 0., 0., 0., 0., 0., 0., 0.,\n",
       "       0., 0., 0., 0., 0., 0., 0., 0., 0., 0., 0., 0., 0., 0., 0., 0., 0.,\n",
       "       0., 0., 0., 0., 0., 0., 0., 0., 0., 0., 0., 0., 0., 0., 0., 0., 0.,\n",
       "       0., 0., 0., 0., 0., 0., 0., 0., 0., 0., 0., 0., 0., 0., 0., 0., 0.,\n",
       "       0., 0., 0., 0., 0., 0., 0., 0., 0., 0., 0., 0., 0., 0., 0.])"
      ]
     },
     "execution_count": 102,
     "metadata": {},
     "output_type": "execute_result"
    }
   ],
   "source": [
    "dist_sq.diagonal()"
   ]
  },
  {
   "cell_type": "code",
   "execution_count": 103,
   "id": "constant-secondary",
   "metadata": {},
   "outputs": [
    {
     "name": "stdout",
     "output_type": "stream",
     "text": [
      "[[ 0 42 10 ...  9 99 95]\n",
      " [ 1 37 43 ... 74 89 90]\n",
      " [ 2 47 77 ... 17  9 95]\n",
      " ...\n",
      " [97 98 82 ... 89 90 95]\n",
      " [98 97 82 ... 90  9 95]\n",
      " [99 80 54 ... 11 89 90]]\n"
     ]
    }
   ],
   "source": [
    "nearest = np.argsort(dist_sq, axis=1)\n",
    "print(nearest)"
   ]
  },
  {
   "cell_type": "code",
   "execution_count": 107,
   "id": "regulated-adoption",
   "metadata": {},
   "outputs": [
    {
     "name": "stdout",
     "output_type": "stream",
     "text": [
      "[[ 0 42 10 92]\n",
      " [43 37  1 20]\n",
      " [ 2 47 77 23]\n",
      " [76 26 49  3]\n",
      " [ 4 56 84 71]\n",
      " [ 5 85 13 65]\n",
      " [ 6 26 76 66]\n",
      " [52  7 70 18]\n",
      " [ 8 72 31 86]\n",
      " [ 9 17 95 58]\n",
      " [ 0 10 42 44]\n",
      " [90 89 38 11]\n",
      " [12 55 57 16]\n",
      " [65 13 85 51]\n",
      " [14 83 88 40]\n",
      " [66 15 49 60]\n",
      " [16 57 19 64]\n",
      " [17  9 95 81]\n",
      " [52 18 32 70]\n",
      " [19 16 64 34]\n",
      " [43 20 75  1]\n",
      " [83 40 21 61]\n",
      " [22 54 67 63]\n",
      " [23 47  2 79]\n",
      " [24 96 58 59]\n",
      " [25 87 80 68]\n",
      " [26 76  6  3]\n",
      " [27 45 34 73]\n",
      " [69 28 48 27]\n",
      " [67 63 29 35]\n",
      " [51 30 38 62]\n",
      " [31 86 72  8]\n",
      " [32 75 41 48]\n",
      " [33 46 36 53]\n",
      " [27 64 34 45]\n",
      " [29 63 35 67]\n",
      " [36 33 46 53]\n",
      " [ 1 93 37 43]\n",
      " [38 11 13 30]\n",
      " [59 39 96 24]\n",
      " [83 40 88 14]\n",
      " [41 32 75 70]\n",
      " [ 0 10 42 44]\n",
      " [43 20  1 75]\n",
      " [44 10 42 60]\n",
      " [94 73 45 27]\n",
      " [53 46 33 91]\n",
      " [ 2 47 77 92]\n",
      " [32 48 28 41]\n",
      " [ 3 49 66 15]\n",
      " [50 61 68 21]\n",
      " [51 85 13 65]\n",
      " [ 7 52 70 18]\n",
      " [33 91 53 46]\n",
      " [54 99 63 67]\n",
      " [12 55 57 16]\n",
      " [56  4 84 71]\n",
      " [57 55 12 16]\n",
      " [17 58 96 24]\n",
      " [39 59 24 96]\n",
      " [60 10  0 44]\n",
      " [68 61 50 21]\n",
      " [62 30 38 11]\n",
      " [67 63 29 54]\n",
      " [64 34 19 27]\n",
      " [65 85 13 91]\n",
      " [66 49 15  6]\n",
      " [67 29 63 54]\n",
      " [68 50 61 87]\n",
      " [28 69 71 48]\n",
      " [18 70 52  7]\n",
      " [71 84 69  4]\n",
      " [72 86  8 31]\n",
      " [73 45 94 27]\n",
      " [23 79 74 78]\n",
      " [75 41 43 32]\n",
      " [26  6 76  3]\n",
      " [77  2 86 47]\n",
      " [78 79  2 98]\n",
      " [79 78 23 74]\n",
      " [99 25 87 80]\n",
      " [95 93 81 17]\n",
      " [97 82 14 98]\n",
      " [83 40 14 88]\n",
      " [84 56 71  4]\n",
      " [65 85 13 51]\n",
      " [72 31 86  8]\n",
      " [25 68 87 35]\n",
      " [14 88 40 83]\n",
      " [89 90 38 11]\n",
      " [90 89 11 38]\n",
      " [53 85 91 65]\n",
      " [92  0 47 42]\n",
      " [37 81 93  1]\n",
      " [73 45 27 94]\n",
      " [95  9 17 81]\n",
      " [24 96 58 59]\n",
      " [97 98 82 14]\n",
      " [98 97 82 78]\n",
      " [54 63 80 99]]\n"
     ]
    }
   ],
   "source": [
    "K = 3\n",
    "nearest_partition = np.argpartition(dist_sq, K+1, axis = 1)\n",
    "print(nearest_partition[:,:(K+1)])"
   ]
  },
  {
   "cell_type": "code",
   "execution_count": 108,
   "id": "consolidated-austin",
   "metadata": {},
   "outputs": [
    {
     "data": {
      "image/png": "[encoded data removed]",
      "text/plain": [
       "<Figure size 432x288 with 1 Axes>"
      ]
     },
     "metadata": {},
     "output_type": "display_data"
    }
   ],
   "source": [
    "plt.scatter(X[:,0], X[:,1], s=25);"
   ]
  },
  {
   "cell_type": "code",
   "execution_count": 109,
   "id": "velvet-bullet",
   "metadata": {},
   "outputs": [
    {
     "data": {
      "image/png": "[encoded data removed]",
      "text/plain": [
       "<Figure size 432x288 with 1 Axes>"
      ]
     },
     "metadata": {},
     "output_type": "display_data"
    }
   ],
   "source": [
    "for i in range(X.shape[0]):\n",
    "    for j in nearest_partition[i, :K+1]:\n",
    "        plt.plot(*zip(X[j],X[i]), color='blue')"
   ]
  },
  {
   "cell_type": "markdown",
   "id": "sacred-budapest",
   "metadata": {},
   "source": [
    "# Structured Data : NumPy's Structured Arrays"
   ]
  },
  {
   "cell_type": "code",
   "execution_count": 112,
   "id": "hawaiian-cruise",
   "metadata": {},
   "outputs": [],
   "source": [
    "import numpy as np\n",
    "\n",
    "name = ['Alice', 'Bob', 'Cathy', 'Dough']\n",
    "age = [25, 45, 37, 19]\n",
    "weight = [55.0, 85.5, 68.0, 61.5]"
   ]
  },
  {
   "cell_type": "code",
   "execution_count": 114,
   "id": "armed-holocaust",
   "metadata": {},
   "outputs": [
    {
     "name": "stdout",
     "output_type": "stream",
     "text": [
      "[('name', '<U10'), ('age', '<i4'), ('weight', '<f8')]\n"
     ]
    }
   ],
   "source": [
    "''' Use compound data type for structured arrays\n",
    "                                                                           -> Unicode string max length 10  \n",
    "                                                                          |       -> 4 byte integer\n",
    "                                                                          |      |      -> 8 byte float\n",
    "                                                                          |      |     |                   ''';\n",
    "data = np.zeros(4, dtype={'names':('name', 'age', 'weight'), 'formats':('U10', 'i4', 'f8')})\n",
    "\n",
    "print(data.dtype)"
   ]
  },
  {
   "cell_type": "code",
   "execution_count": 119,
   "id": "existing-toyota",
   "metadata": {},
   "outputs": [
    {
     "name": "stdout",
     "output_type": "stream",
     "text": [
      "[('Alice', 25, 55. ) ('Bob', 45, 85.5) ('Cathy', 37, 68. )\n",
      " ('Dough', 19, 61.5)]\n"
     ]
    }
   ],
   "source": [
    "data['name'] = name\n",
    "data['age'] = age\n",
    "data['weight'] = weight\n",
    "print(data)"
   ]
  },
  {
   "cell_type": "code",
   "execution_count": 122,
   "id": "specific-active",
   "metadata": {},
   "outputs": [
    {
     "data": {
      "text/plain": [
       "('Alice', 25, 55.)"
      ]
     },
     "execution_count": 122,
     "metadata": {},
     "output_type": "execute_result"
    }
   ],
   "source": [
    "\n",
    "data[0]"
   ]
  },
  {
   "cell_type": "code",
   "execution_count": 136,
   "id": "annoying-atlas",
   "metadata": {},
   "outputs": [
    {
     "data": {
      "text/plain": [
       "('Bob', 45, 85.5)"
      ]
     },
     "execution_count": 136,
     "metadata": {},
     "output_type": "execute_result"
    }
   ],
   "source": [
    "data[1]"
   ]
  },
  {
   "cell_type": "code",
   "execution_count": 134,
   "id": "fatty-somalia",
   "metadata": {},
   "outputs": [
    {
     "data": {
      "text/plain": [
       "'Dough'"
      ]
     },
     "execution_count": 134,
     "metadata": {},
     "output_type": "execute_result"
    }
   ],
   "source": [
    "# Indexing and slicing works the same\n",
    "data[-1]['name']"
   ]
  },
  {
   "cell_type": "code",
   "execution_count": 125,
   "id": "attractive-affect",
   "metadata": {},
   "outputs": [
    {
     "data": {
      "text/plain": [
       "array(['Alice', 'Dough'], dtype='<U10')"
      ]
     },
     "execution_count": 125,
     "metadata": {},
     "output_type": "execute_result"
    }
   ],
   "source": [
    "# You can do boolean operations too\n",
    "data[data['age'] <30]['name']"
   ]
  },
  {
   "cell_type": "markdown",
   "id": "present-lotus",
   "metadata": {},
   "source": [
    "### Creating Structured Arrays"
   ]
  },
  {
   "cell_type": "code",
   "execution_count": 126,
   "id": "atlantic-cylinder",
   "metadata": {},
   "outputs": [
    {
     "data": {
      "text/plain": [
       "dtype([('name', '<U10'), ('age', '<i4'), ('weight', '<f8')])"
      ]
     },
     "execution_count": 126,
     "metadata": {},
     "output_type": "execute_result"
    }
   ],
   "source": [
    "# There are a few ways to assign data types to a structured array\n",
    "\n",
    "# Dictionary Method with NumPy dtypes:\n",
    "\n",
    "np.dtype({'names':('name', 'age', 'weight'), 'formats':('U10', 'i4', 'f8')})"
   ]
  },
  {
   "cell_type": "code",
   "execution_count": 127,
   "id": "synthetic-chart",
   "metadata": {},
   "outputs": [
    {
     "data": {
      "text/plain": [
       "dtype([('name', '<U10'), ('age', '<i8'), ('weight', '<f4')])"
      ]
     },
     "execution_count": 127,
     "metadata": {},
     "output_type": "execute_result"
    }
   ],
   "source": [
    "# Datatypes can also be specified using the Python dtypes\n",
    "\n",
    "np.dtype({'names':('name', 'age', 'weight'), 'formats':((np.str_,10), int, np.float32)})"
   ]
  },
  {
   "cell_type": "code",
   "execution_count": 129,
   "id": "pressed-homework",
   "metadata": {},
   "outputs": [
    {
     "data": {
      "text/plain": [
       "dtype([('name', 'S10'), ('age', '<i4'), ('weight', '<f8')])"
      ]
     },
     "execution_count": 129,
     "metadata": {},
     "output_type": "execute_result"
    }
   ],
   "source": [
    "# A list of tuples can also be used to specify the data types\n",
    "\n",
    "np.dtype([('name', 'S10'), ('age', 'i4'), ('weight', 'f8')])"
   ]
  },
  {
   "cell_type": "code",
   "execution_count": 130,
   "id": "sustained-survivor",
   "metadata": {},
   "outputs": [
    {
     "data": {
      "text/plain": [
       "dtype([('f0', 'S10'), ('f1', '<i4'), ('f2', '<f8')])"
      ]
     },
     "execution_count": 130,
     "metadata": {},
     "output_type": "execute_result"
    }
   ],
   "source": [
    "# If you don't need to add names you can just put the datatypes in a comma separated string\n",
    "\n",
    "np.dtype('S10,i4,f8')\n"
   ]
  },
  {
   "cell_type": "markdown",
   "id": "western-thriller",
   "metadata": {},
   "source": [
    "### Advanced Compound Datatypes"
   ]
  },
  {
   "cell_type": "code",
   "execution_count": 133,
   "id": "postal-warren",
   "metadata": {},
   "outputs": [
    {
     "name": "stdout",
     "output_type": "stream",
     "text": [
      "(0, [[0., 0., 0.], [0., 0., 0.], [0., 0., 0.]])\n",
      "[[0. 0. 0.]\n",
      " [0. 0. 0.]\n",
      " [0. 0. 0.]]\n"
     ]
    }
   ],
   "source": [
    "# You can set an array element to be a matrix\n",
    "\n",
    "tp = np.dtype([('id', 'i8'), ('mat', 'f8', (3,3))])\n",
    "X = np.zeros(1, dtype=tp)\n",
    "print(X[0])\n",
    "print(X['mat'][0])"
   ]
  },
  {
   "cell_type": "markdown",
   "id": "quantitative-duration",
   "metadata": {},
   "source": [
    "### Record Arrays"
   ]
  },
  {
   "cell_type": "code",
   "execution_count": 139,
   "id": "public-rendering",
   "metadata": {},
   "outputs": [
    {
     "data": {
      "text/plain": [
       "array([25, 45, 37, 19], dtype=int32)"
      ]
     },
     "execution_count": 139,
     "metadata": {},
     "output_type": "execute_result"
    }
   ],
   "source": [
    "# A record array allows you to call a row or column as an object property rather than a dictionary key\n",
    "\n",
    "# Record Arrays cost extra time to access compared to a typical structured array.\n",
    "\n",
    "data_rec = data.view(np.recarray)\n",
    "data_rec.age"
   ]
  },
  {
   "cell_type": "code",
   "execution_count": null,
   "id": "saved-indian",
   "metadata": {},
   "outputs": [],
   "source": []
  }
 ],
 "metadata": {
  "kernelspec": {
   "display_name": "Python 3",
   "language": "python",
   "name": "python3"
  },
  "language_info": {
   "codemirror_mode": {
    "name": "ipython",
    "version": 3
   },
   "file_extension": ".py",
   "mimetype": "text/x-python",
   "name": "python",
   "nbconvert_exporter": "python",
   "pygments_lexer": "ipython3",
   "version": "3.7.9"
  }
 },
 "nbformat": 4,
 "nbformat_minor": 5
}
