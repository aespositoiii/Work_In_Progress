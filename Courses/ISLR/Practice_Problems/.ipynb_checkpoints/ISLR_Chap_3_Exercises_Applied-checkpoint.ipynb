{
 "cells": [
  {
   "cell_type": "markdown",
   "id": "failing-television",
   "metadata": {},
   "source": [
    "# Chapter 3 Exercises : Applied\n",
    "\n",
    "8. This question involves the use of simple linear regression on the Auto dataset.\n",
    "    1. Perform a simple linear regression with mpg as the response and horsepower as the predictor.  Comment on the results.\n",
    "        1. is there a relationship between the predictor and the response?\n",
    "        1. How strong is the relationship between the predictor and the repsonse?\n",
    "        1. is the relationship between the predictor and the response positive or negative?\n",
    "        1. What is the predicted mpg associated iwth a horsepower of 98?  \n",
    "        1. What are the associated 95% confidence and prediction intervals?"
   ]
  },
  {
   "cell_type": "code",
   "execution_count": 41,
   "id": "curious-machinery",
   "metadata": {},
   "outputs": [],
   "source": [
    "%matplotlib inline\n",
    "import numpy as np\n",
    "import pandas as pd\n",
    "import matplotlib.pyplot as plt\n",
    "import seaborn as sns\n",
    "sns.set_theme(style=\"ticks\")\n",
    "from sklearn import linear_model\n",
    "from sklearn.metrics import mean_squared_error, r2_score\n",
    "from scipy import stats\n",
    "import statsmodels.api as sm"
   ]
  },
  {
   "cell_type": "code",
   "execution_count": 2,
   "id": "posted-pendant",
   "metadata": {},
   "outputs": [],
   "source": [
    "autos = pd.read_csv('/Users/anthonyesposito/Desktop/GitWork/Work_In_Progress/Courses/ISLR/ISLR_DATA/Auto.csv')"
   ]
  },
  {
   "cell_type": "code",
   "execution_count": 3,
   "id": "premium-sleeve",
   "metadata": {},
   "outputs": [],
   "source": [
    "autos = autos.query('horsepower != \"?\"')"
   ]
  },
  {
   "cell_type": "code",
   "execution_count": 5,
   "id": "going-thinking",
   "metadata": {},
   "outputs": [],
   "source": [
    "regr = linear_model.LinearRegression()"
   ]
  },
  {
   "cell_type": "code",
   "execution_count": 70,
   "id": "incident-fountain",
   "metadata": {},
   "outputs": [
    {
     "name": "stdout",
     "output_type": "stream",
     "text": [
      "Intercept    : 11.48, SE: 1.944\n",
      "Coefficient  :  [-3.54329663e-02  1.45601852e+03]\n",
      "MSE          :  19.94352637495222\n",
      "R^2          :  0.6717803231681972\n",
      "Residuals    : Min  -15.5  1stQ  -2.83  Med  -0.23  3rdQ  2.6  Max  15.02\n",
      "t-statistic  :  [5.48669039e+01 1.21973707e-07]\n",
      "p-value      :  [9.20433414e-186 9.99999903e-001] \n",
      "\n",
      "46.0\n"
     ]
    },
    {
     "data": {
      "image/png": "[encoded data removed]",
      "text/plain": [
       "<Figure size 432x288 with 1 Axes>"
      ]
     },
     "metadata": {},
     "output_type": "display_data"
    }
   ],
   "source": [
    "Y = autos['mpg']\n",
    "X = pd.to_numeric(autos['horsepower'])\n",
    "X = pd.DataFrame([X, 1/X], index=['horsepower', '1/hp'])\n",
    "X = X.T\n",
    "regr.fit(X, Y)\n",
    "Y_pred = regr.predict(X)\n",
    "tt = abs((stats.sem(X)/regr.coef_))\n",
    "pval = stats.t.sf(np.abs(tt), X.shape[0]-1)*2\n",
    "residuals = Y-Y_pred\n",
    "print('Intercept    : {}, SE: {}'.format(round(regr.intercept_,2), round(stats.sem(X['horsepower']),3)))\n",
    "print('Coefficient  : ', regr.coef_)\n",
    "print('MSE          : ', mean_squared_error(Y, Y_pred))\n",
    "print('R^2          : ', r2_score(Y, Y_pred))\n",
    "print('Residuals    : Min ',round((residuals).min(), 2),\n",
    "                  ' 1stQ ', round((residuals).quantile(.25), 2),\n",
    "                  ' Med ', round((residuals).median(), 2),\n",
    "                  ' 3rdQ ', round((residuals).quantile(.75), 2),\n",
    "                  ' Max ', round((residuals).max(), 2))\n",
    "print('t-statistic  : ', tt)\n",
    "print('p-value      : ', pval, '\\n')\n",
    "values = np.linspace(X['horsepower'].min(),X['horsepower'].max(),100)\n",
    "xreg = np.array([values, 1/values]).T\n",
    "yreg = (xreg*regr.coef_).sum(axis=1)+regr.intercept_\n",
    "plt.plot(xreg[:,0],yreg, 'r')\n",
    "plt.scatter(X['horsepower'],Y)\n",
    "print(values.min())"
   ]
  },
  {
   "cell_type": "code",
   "execution_count": 77,
   "id": "north-integration",
   "metadata": {},
   "outputs": [
    {
     "data": {
      "text/plain": [
       "horsepower       0.015829\n",
       "1/hp          2019.971104\n",
       "dtype: float64"
      ]
     },
     "execution_count": 77,
     "metadata": {},
     "output_type": "execute_result"
    }
   ],
   "source": [
    "model = sm.OLS(Y, X)\n",
    "results = model.fit()\n",
    "results.params"
   ]
  },
  {
   "cell_type": "code",
   "execution_count": null,
   "id": "blank-offering",
   "metadata": {},
   "outputs": [],
   "source": []
  },
  {
   "cell_type": "code",
   "execution_count": 80,
   "id": "facial-hometown",
   "metadata": {},
   "outputs": [
    {
     "name": "stdout",
     "output_type": "stream",
     "text": [
      "                                 OLS Regression Results                                \n",
      "=======================================================================================\n",
      "Dep. Variable:                    mpg   R-squared (uncentered):                   0.966\n",
      "Model:                            OLS   Adj. R-squared (uncentered):              0.966\n",
      "Method:                 Least Squares   F-statistic:                              5593.\n",
      "Date:                Mon, 15 Feb 2021   Prob (F-statistic):                   7.40e-288\n",
      "Time:                        23:09:42   Log-Likelihood:                         -1148.9\n",
      "No. Observations:                 392   AIC:                                      2302.\n",
      "Df Residuals:                     390   BIC:                                      2310.\n",
      "Df Model:                           2                                                  \n",
      "Covariance Type:            nonrobust                                                  \n",
      "==============================================================================\n",
      "                 coef    std err          t      P>|t|      [0.025      0.975]\n",
      "------------------------------------------------------------------------------\n",
      "horsepower     0.0158      0.003      4.669      0.000       0.009       0.022\n",
      "1/hp        2019.9711     33.342     60.584      0.000    1954.419    2085.523\n",
      "==============================================================================\n",
      "Omnibus:                       26.045   Durbin-Watson:                   1.205\n",
      "Prob(Omnibus):                  0.000   Jarque-Bera (JB):               91.858\n",
      "Skew:                          -0.043   Prob(JB):                     1.13e-20\n",
      "Kurtosis:                       5.370   Cond. No.                     1.62e+04\n",
      "==============================================================================\n",
      "\n",
      "Notes:\n",
      "[1] R² is computed without centering (uncentered) since the model does not contain a constant.\n",
      "[2] Standard Errors assume that the covariance matrix of the errors is correctly specified.\n",
      "[3] The condition number is large, 1.62e+04. This might indicate that there are\n",
      "strong multicollinearity or other numerical problems.\n"
     ]
    }
   ],
   "source": [
    "print(results.summary())"
   ]
  },
  {
   "cell_type": "code",
   "execution_count": 79,
   "id": "presidential-stuart",
   "metadata": {},
   "outputs": [
    {
     "name": "stdout",
     "output_type": "stream",
     "text": [
      "                             Test for Constraints                             \n",
      "==============================================================================\n",
      "                 coef    std err          t      P>|t|      [0.025      0.975]\n",
      "------------------------------------------------------------------------------\n",
      "c0                  0          0          0      1.000           0           0\n",
      "==============================================================================\n"
     ]
    }
   ],
   "source": [
    "print(results.t_test([0,0]))"
   ]
  },
  {
   "cell_type": "code",
   "execution_count": null,
   "id": "nutritional-ultimate",
   "metadata": {},
   "outputs": [],
   "source": []
  }
 ],
 "metadata": {
  "kernelspec": {
   "display_name": "Python 3",
   "language": "python",
   "name": "python3"
  },
  "language_info": {
   "codemirror_mode": {
    "name": "ipython",
    "version": 3
   },
   "file_extension": ".py",
   "mimetype": "text/x-python",
   "name": "python",
   "nbconvert_exporter": "python",
   "pygments_lexer": "ipython3",
   "version": "3.7.9"
  }
 },
 "nbformat": 4,
 "nbformat_minor": 5
}
