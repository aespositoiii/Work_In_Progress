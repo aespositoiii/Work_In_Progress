{
 "cells": [
  {
   "cell_type": "markdown",
   "id": "molecular-newark",
   "metadata": {},
   "source": [
    "# Chapter 3 Exercises : Conceptual\n",
    "\n",
    "1. Describe the null hypotheses to which the p-values given in Table 3.4 correspond.  Explain what conclusions you can draw based on these p-values.  Your explanation should be phrased in terms of sales, TV, radio, and newspaper, rather than in terms of the coefficients of the linear model.\n",
    "    1. The null hypotheses to which these p-values correspond are those for which the respective predictor (TV, radio, or newspaper) have no impact on sales.\n",
    "<br><br>\n",
    "1. Carefully explain the differences between the KNN classifier and KNN regression methods.\n",
    "    1. The KNN classifier and regression methods rely on similiar logic but their functions are dramatically different.  The classifier operates on a categorical basis predicting the class to which a new datapoint belongs based on a distance measure to the K nearest points where K is some positive integer number.  The regression method operates in a similar manner but instead of predicting the class to which a datapoint belongs it predicts the quantitative response anticipated from the given data.\n",
    "<br><br>\n",
    "1. Suppose we have a data set with five predictors, \n",
    "    X1=GPA, \n",
    "    X2=IQ, \n",
    "    X3=Gender(1 for female, 0 for male, \n",
    "    X4=Interaction between GPA and IQ and \n",
    "    X5=Interaction between GPA and Gender. \n",
    "    The response is starting salary after graduation (in thousands of dollars).  \n",
    "    Suppose we use least squares to fit the model, and get \n",
    "    beta0=50, \n",
    "    beta1=20, \n",
    "    beta2=0.07,\n",
    "    beta3=35,\n",
    "    beta4=0.01, and\n",
    "    beta5=-10\n",
    "    1. Which Answer is correct and why?\n",
    "        1. For a fixed value of IQ and GPA, males earn more on average than femails provided that the GPA is high enough.  The coefficient for gender is (beta3 - beta5\\*GPA) which substitutes as (35-10\\*GPA).  This means that over a 3.5 GPA and males earn higher salaries after graduation.\n",
    "<br><br>\n",
    "    1. Predict the salary of a female with IQ of 110 and a GPA of 4.0 "
   ]
  },
  {
   "cell_type": "code",
   "execution_count": 3,
   "id": "communist-substitute",
   "metadata": {},
   "outputs": [
    {
     "data": {
      "text/plain": [
       "137.1"
      ]
     },
     "execution_count": 3,
     "metadata": {},
     "output_type": "execute_result"
    }
   ],
   "source": [
    "beta0=50\n",
    "beta1=20\n",
    "beta2=0.07\n",
    "beta3=35\n",
    "beta4=0.01\n",
    "beta5=-10\n",
    "GPA = 4.0\n",
    "IQ = 110.\n",
    "Gender = 1\n",
    "salary= beta0 + (beta1 + beta4*IQ)*GPA + beta2*IQ + (beta3 + beta5*GPA)*Gender\n",
    "salary"
   ]
  },
  {
   "cell_type": "markdown",
   "id": "invalid-conspiracy",
   "metadata": {},
   "source": [
    "3. continued\n",
    "    3. True of false: Since the coefficient for the GPA/IQ interaction term is very small, there is very little evidence of an interaction effect. Justify your answer.\n",
    "        1. False.  The magnitude of the coefficient says nothing about the validity of the coeefficient.\n",
    "<br><br>\n",
    "1. I collect a set of data (n = 100 observations) containing a single predictor and a quantitative response.  I then fit a linear regression model to the data, as well as a seperate cubic regression.  ie Y = beta0 + beta1 * X + beta2 * X^2 * beta3 * X^3 + eta. \n",
    "    1. Suppose that the true relationshyip between X and Y is linear, i.e. Y = beta0 + beta1 * X + eta.  Consider that training RSS for the linear regression, and also the training RSS for the cubic regression.  Would we expect one to be lower than the other, the same, or is there not enough information to tell?  Justify your answer.\n",
    "        1. We would expect the RSS for the cubic regression to be smaller.\n",
    "    1. Answer A but considering the test RSS.\n",
    "        1. We would expect the RSS for the linear regression to be lower.\n",
    "    1. Suppose taht the true relationship between X and Y is not linear, but we don't know how far it is from linear.  Consider the training RSS for the linear regression, and also the training RSS for the cubic regression.  Would we expect one to be lower than the other, the same, or is there not enough information to tell?\n",
    "        1. The training RSS for the cubic regression is going to be smaller.\n",
    "    1. Answer C using the test RSS rather than the training RSS.\n",
    "        1. There is not way to tell from the description.  If the true function is quadratic it is possible that the linear regression will give a better fit.\n",
    "<br><br>\n",
    "1. Consider the fitted values that result from performing linear gregression without an intercept.  In this setting, the ith fitted value takes the form yi = xi\\*beta.\n",
    "\n",
    "1. Using (3.4) argue that in the case of simple linear regression, the least squares line always passes through the point (x.mean, y.mean)"
   ]
  },
  {
   "cell_type": "code",
   "execution_count": null,
   "id": "forced-emission",
   "metadata": {},
   "outputs": [],
   "source": []
  }
 ],
 "metadata": {
  "kernelspec": {
   "display_name": "Python 3",
   "language": "python",
   "name": "python3"
  },
  "language_info": {
   "codemirror_mode": {
    "name": "ipython",
    "version": 3
   },
   "file_extension": ".py",
   "mimetype": "text/x-python",
   "name": "python",
   "nbconvert_exporter": "python",
   "pygments_lexer": "ipython3",
   "version": "3.7.9"
  }
 },
 "nbformat": 4,
 "nbformat_minor": 5
}
