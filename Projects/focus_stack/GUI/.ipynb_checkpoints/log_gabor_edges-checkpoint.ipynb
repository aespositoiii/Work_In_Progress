{
 "cells": [
  {
   "cell_type": "code",
   "execution_count": 3,
   "id": "134e6066",
   "metadata": {},
   "outputs": [],
   "source": [
    "import cv2 as cv\n",
    "import numpy as np\n",
    "from log_gabor.log_gabor import log_gabor\n",
    "import matplotlib.pyplot as plt"
   ]
  },
  {
   "cell_type": "code",
   "execution_count": 4,
   "id": "d4477847",
   "metadata": {},
   "outputs": [],
   "source": [
    "image = cv.imread('/Users/anthonyesposito/Pictures/macroni/Rosasite_w_Conacalcite/1/JPG/DSCF6931.jpg', cv.IMREAD_COLOR)\n",
    "image = cv.cvtColor(image, cv.COLOR_BGR2GRAY)\n",
    "\n",
    "result, LG = log_gabor(image, 1500, .5, 0, 5)"
   ]
  },
  {
   "cell_type": "code",
   "execution_count": null,
   "id": "be7ac1a6",
   "metadata": {},
   "outputs": [],
   "source": [
    "plt.figure(figsize=(15,15))\n",
    "plt.subplot(1,4,1)\n",
    "plt.imshow(result[ :20, :20 ])\n",
    "plt.subplot(1,4,2)\n",
    "plt.imshow(result[ :20, -20:])\n",
    "plt.subplot(1,4,3)\n",
    "plt.imshow(result[ -20:, :20])\n",
    "plt.subplot(1,4,4)\n",
    "plt.imshow(result[ -20:, -20:])"
   ]
  }
 ],
 "metadata": {
  "kernelspec": {
   "display_name": "Python 3",
   "language": "python",
   "name": "python3"
  },
  "language_info": {
   "codemirror_mode": {
    "name": "ipython",
    "version": 3
   },
   "file_extension": ".py",
   "mimetype": "text/x-python",
   "name": "python",
   "nbconvert_exporter": "python",
   "pygments_lexer": "ipython3",
   "version": "3.7.9"
  }
 },
 "nbformat": 4,
 "nbformat_minor": 5
}
