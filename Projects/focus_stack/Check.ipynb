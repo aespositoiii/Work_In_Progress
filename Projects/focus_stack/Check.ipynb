{
 "cells": [
  {
   "cell_type": "code",
   "execution_count": 1,
   "id": "be324b2e",
   "metadata": {},
   "outputs": [],
   "source": [
    "import numpy as np"
   ]
  },
  {
   "cell_type": "code",
   "execution_count": 2,
   "id": "b8d952e0",
   "metadata": {},
   "outputs": [
    {
     "data": {
      "text/plain": [
       "array([  0,   1,   2,   3,   4,   5,   6,   7,   8,   9,  10,  11,  12,\n",
       "        13,  14,  15,  16,  17,  18,  19,  20,  21,  22,  23,  24,  25,\n",
       "        26,  27,  28,  29,  30,  31,  32,  33,  34,  35,  36,  37,  38,\n",
       "        39,  40,  41,  42,  43,  44,  45,  46,  47,  48,  49,  50,  51,\n",
       "        52,  53,  54,  55,  56,  57,  58,  59,  60,  61,  62,  63,  64,\n",
       "        65,  66,  67,  68,  69,  70,  71,  72,  73,  74,  75,  76,  77,\n",
       "        78,  79,  80,  81,  82,  83,  84,  85,  86,  87,  88,  89,  90,\n",
       "        91,  92,  93,  94,  95,  96,  97,  98,  99, 100, 101, 102, 103,\n",
       "       104, 105, 106, 107, 108, 109, 110, 111, 112, 113, 114, 115, 116,\n",
       "       117, 118, 119, 120, 121, 122, 123, 124, 125, 126, 127, 128, 129,\n",
       "       130, 131, 132, 133, 134, 135, 136, 137, 138, 139, 140, 141, 142,\n",
       "       143, 144, 145, 146, 147, 148, 149, 150, 151, 152, 153, 154, 155,\n",
       "       156, 157, 158, 159, 160, 161, 162, 163, 164, 165, 166, 167, 168,\n",
       "       169, 170, 171, 172, 173, 174, 175, 176, 177, 178, 179, 180, 181,\n",
       "       182, 183, 184, 185, 186, 187, 188, 189, 190, 191, 192, 193, 194,\n",
       "       195, 196, 197, 198, 199, 200, 201, 202, 203, 204, 205, 206, 207,\n",
       "       208, 209, 210, 211, 212, 213, 214, 215, 216, 217, 218, 219, 220,\n",
       "       221, 222, 223, 224, 225, 226, 227, 228, 229, 230, 231, 232, 233,\n",
       "       234, 235, 236, 237, 238, 239, 240, 241, 242, 243, 244, 245, 246,\n",
       "       247, 248, 249, 250, 251, 252, 253, 254, 255])"
      ]
     },
     "execution_count": 2,
     "metadata": {},
     "output_type": "execute_result"
    }
   ],
   "source": [
    "np.arange(256)"
   ]
  },
  {
   "cell_type": "code",
   "execution_count": 3,
   "id": "45ad3db9",
   "metadata": {},
   "outputs": [],
   "source": [
    "h = np.zeros(256*3)"
   ]
  },
  {
   "cell_type": "code",
   "execution_count": 4,
   "id": "47518998",
   "metadata": {},
   "outputs": [
    {
     "data": {
      "text/plain": [
       "(768,)"
      ]
     },
     "execution_count": 4,
     "metadata": {},
     "output_type": "execute_result"
    }
   ],
   "source": [
    "h.shape"
   ]
  },
  {
   "cell_type": "code",
   "execution_count": 6,
   "id": "1b321bae",
   "metadata": {},
   "outputs": [
    {
     "data": {
      "text/plain": [
       "256.0"
      ]
     },
     "execution_count": 6,
     "metadata": {},
     "output_type": "execute_result"
    }
   ],
   "source": [
    "h.shape[0]/3"
   ]
  },
  {
   "cell_type": "code",
   "execution_count": 9,
   "id": "d49a1f30",
   "metadata": {},
   "outputs": [
    {
     "name": "stdout",
     "output_type": "stream",
     "text": [
      "(256,)\n",
      "(256,)\n",
      "(256,)\n"
     ]
    }
   ],
   "source": [
    "for i in range(3):\n",
    "    print(h[(i*256):(i*256+256)].shape)"
   ]
  },
  {
   "cell_type": "code",
   "execution_count": 10,
   "id": "7e4839cd",
   "metadata": {},
   "outputs": [
    {
     "name": "stdout",
     "output_type": "stream",
     "text": [
      "['DSCF6938.jpg', 'DSCF6939.jpg', 'DSCF6929.jpg', 'DSCF6928.jpg', 'DSCF6949.jpg', 'DSCF6948.jpg', 'DSCF6951.jpg', 'DSCF6945.jpg', 'DSCF6944.jpg', 'DSCF6950.jpg', 'DSCF6946.jpg', 'DSCF6947.jpg', 'DSCF6943.jpg', 'DSCF6942.jpg', 'DSCF6940.jpg', 'DSCF6941.jpg', 'DSCF6932.jpg', 'DSCF6926.jpg', 'DSCF6927.jpg', 'DSCF6933.jpg', 'DSCF6925.jpg', 'DSCF6931.jpg', 'DSCF6930.jpg', 'DSCF6924.jpg', 'DSCF6920.jpg', 'DSCF6934.jpg', 'DSCF6935.jpg', 'DSCF6921.jpg', 'DSCF6937.jpg', 'DSCF6923.jpg', 'DSCF6922.jpg', 'DSCF6936.jpg']\n"
     ]
    }
   ],
   "source": [
    "import os\n",
    "\n",
    "a = os.walk('/Users/anthonyesposito/Pictures/macroni/Rosasite_w_Conacalcite/1/check/JPG')\n",
    "for root, dirs, files in a:\n",
    "    b = files\n",
    "    \n",
    "print(files)"
   ]
  },
  {
   "cell_type": "code",
   "execution_count": 31,
   "id": "cb6f1ea4",
   "metadata": {},
   "outputs": [
    {
     "name": "stdout",
     "output_type": "stream",
     "text": [
      "<class 'int'> 6938\n",
      "<class 'int'> 6939\n",
      "<class 'int'> 6929\n",
      "<class 'int'> 6928\n",
      "<class 'int'> 6949\n",
      "<class 'int'> 6948\n",
      "<class 'int'> 6951\n",
      "<class 'int'> 6945\n",
      "<class 'int'> 6944\n",
      "<class 'int'> 6950\n",
      "<class 'int'> 6946\n",
      "<class 'int'> 6947\n",
      "<class 'int'> 6943\n",
      "<class 'int'> 6942\n",
      "<class 'int'> 6940\n",
      "<class 'int'> 6941\n",
      "<class 'int'> 6932\n",
      "<class 'int'> 6926\n",
      "<class 'int'> 6927\n",
      "<class 'int'> 6933\n",
      "<class 'int'> 6925\n",
      "<class 'int'> 6931\n",
      "<class 'int'> 6930\n",
      "<class 'int'> 6924\n",
      "<class 'int'> 6920\n",
      "<class 'int'> 6934\n",
      "<class 'int'> 6935\n",
      "<class 'int'> 6921\n",
      "<class 'int'> 6937\n",
      "<class 'int'> 6923\n",
      "<class 'int'> 6922\n",
      "<class 'int'> 6936\n"
     ]
    }
   ],
   "source": [
    "for i in range(len(files)):\n",
    "    a = filter(str.isdigit, files[i])\n",
    "    files[i] = int(''.join(a))\n",
    "\n",
    "    print(type(files[i]),files[i])"
   ]
  },
  {
   "cell_type": "code",
   "execution_count": null,
   "id": "e304bba2",
   "metadata": {},
   "outputs": [],
   "source": []
  }
 ],
 "metadata": {
  "kernelspec": {
   "display_name": "Python 3",
   "language": "python",
   "name": "python3"
  },
  "language_info": {
   "codemirror_mode": {
    "name": "ipython",
    "version": 3
   },
   "file_extension": ".py",
   "mimetype": "text/x-python",
   "name": "python",
   "nbconvert_exporter": "python",
   "pygments_lexer": "ipython3",
   "version": "3.7.9"
  }
 },
 "nbformat": 4,
 "nbformat_minor": 5
}
