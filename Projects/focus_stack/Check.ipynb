{
 "cells": [
  {
   "cell_type": "code",
   "execution_count": 1,
   "id": "be324b2e",
   "metadata": {},
   "outputs": [],
   "source": [
    "import numpy as np"
   ]
  },
  {
   "cell_type": "code",
   "execution_count": 2,
   "id": "b8d952e0",
   "metadata": {},
   "outputs": [
    {
     "data": {
      "text/plain": [
       "array([  0,   1,   2,   3,   4,   5,   6,   7,   8,   9,  10,  11,  12,\n",
       "        13,  14,  15,  16,  17,  18,  19,  20,  21,  22,  23,  24,  25,\n",
       "        26,  27,  28,  29,  30,  31,  32,  33,  34,  35,  36,  37,  38,\n",
       "        39,  40,  41,  42,  43,  44,  45,  46,  47,  48,  49,  50,  51,\n",
       "        52,  53,  54,  55,  56,  57,  58,  59,  60,  61,  62,  63,  64,\n",
       "        65,  66,  67,  68,  69,  70,  71,  72,  73,  74,  75,  76,  77,\n",
       "        78,  79,  80,  81,  82,  83,  84,  85,  86,  87,  88,  89,  90,\n",
       "        91,  92,  93,  94,  95,  96,  97,  98,  99, 100, 101, 102, 103,\n",
       "       104, 105, 106, 107, 108, 109, 110, 111, 112, 113, 114, 115, 116,\n",
       "       117, 118, 119, 120, 121, 122, 123, 124, 125, 126, 127, 128, 129,\n",
       "       130, 131, 132, 133, 134, 135, 136, 137, 138, 139, 140, 141, 142,\n",
       "       143, 144, 145, 146, 147, 148, 149, 150, 151, 152, 153, 154, 155,\n",
       "       156, 157, 158, 159, 160, 161, 162, 163, 164, 165, 166, 167, 168,\n",
       "       169, 170, 171, 172, 173, 174, 175, 176, 177, 178, 179, 180, 181,\n",
       "       182, 183, 184, 185, 186, 187, 188, 189, 190, 191, 192, 193, 194,\n",
       "       195, 196, 197, 198, 199, 200, 201, 202, 203, 204, 205, 206, 207,\n",
       "       208, 209, 210, 211, 212, 213, 214, 215, 216, 217, 218, 219, 220,\n",
       "       221, 222, 223, 224, 225, 226, 227, 228, 229, 230, 231, 232, 233,\n",
       "       234, 235, 236, 237, 238, 239, 240, 241, 242, 243, 244, 245, 246,\n",
       "       247, 248, 249, 250, 251, 252, 253, 254, 255])"
      ]
     },
     "execution_count": 2,
     "metadata": {},
     "output_type": "execute_result"
    }
   ],
   "source": [
    "np.arange(256)"
   ]
  },
  {
   "cell_type": "code",
   "execution_count": 3,
   "id": "45ad3db9",
   "metadata": {},
   "outputs": [],
   "source": [
    "h = np.zeros(256*3)"
   ]
  },
  {
   "cell_type": "code",
   "execution_count": 4,
   "id": "47518998",
   "metadata": {},
   "outputs": [
    {
     "data": {
      "text/plain": [
       "(768,)"
      ]
     },
     "execution_count": 4,
     "metadata": {},
     "output_type": "execute_result"
    }
   ],
   "source": [
    "h.shape"
   ]
  },
  {
   "cell_type": "code",
   "execution_count": 6,
   "id": "1b321bae",
   "metadata": {},
   "outputs": [
    {
     "data": {
      "text/plain": [
       "256.0"
      ]
     },
     "execution_count": 6,
     "metadata": {},
     "output_type": "execute_result"
    }
   ],
   "source": [
    "h.shape[0]/3"
   ]
  },
  {
   "cell_type": "code",
   "execution_count": 9,
   "id": "d49a1f30",
   "metadata": {},
   "outputs": [
    {
     "name": "stdout",
     "output_type": "stream",
     "text": [
      "(256,)\n",
      "(256,)\n",
      "(256,)\n"
     ]
    }
   ],
   "source": [
    "for i in range(3):\n",
    "    print(h[(i*256):(i*256+256)].shape)"
   ]
  },
  {
   "cell_type": "code",
   "execution_count": 10,
   "id": "7e4839cd",
   "metadata": {},
   "outputs": [
    {
     "name": "stdout",
     "output_type": "stream",
     "text": [
      "['DSCF6938.jpg', 'DSCF6939.jpg', 'DSCF6929.jpg', 'DSCF6928.jpg', 'DSCF6949.jpg', 'DSCF6948.jpg', 'DSCF6951.jpg', 'DSCF6945.jpg', 'DSCF6944.jpg', 'DSCF6950.jpg', 'DSCF6946.jpg', 'DSCF6947.jpg', 'DSCF6943.jpg', 'DSCF6942.jpg', 'DSCF6940.jpg', 'DSCF6941.jpg', 'DSCF6932.jpg', 'DSCF6926.jpg', 'DSCF6927.jpg', 'DSCF6933.jpg', 'DSCF6925.jpg', 'DSCF6931.jpg', 'DSCF6930.jpg', 'DSCF6924.jpg', 'DSCF6920.jpg', 'DSCF6934.jpg', 'DSCF6935.jpg', 'DSCF6921.jpg', 'DSCF6937.jpg', 'DSCF6923.jpg', 'DSCF6922.jpg', 'DSCF6936.jpg']\n"
     ]
    }
   ],
   "source": [
    "import os\n",
    "\n",
    "a = os.walk('/Users/anthonyesposito/Pictures/macroni/Rosasite_w_Conacalcite/1/check/JPG')\n",
    "for root, dirs, files in a:\n",
    "    b = files\n",
    "    \n",
    "print(files)"
   ]
  },
  {
   "cell_type": "code",
   "execution_count": 31,
   "id": "7efa9cb5",
   "metadata": {},
   "outputs": [
    {
     "name": "stdout",
     "output_type": "stream",
     "text": [
      "<class 'int'> 6938\n",
      "<class 'int'> 6939\n",
      "<class 'int'> 6929\n",
      "<class 'int'> 6928\n",
      "<class 'int'> 6949\n",
      "<class 'int'> 6948\n",
      "<class 'int'> 6951\n",
      "<class 'int'> 6945\n",
      "<class 'int'> 6944\n",
      "<class 'int'> 6950\n",
      "<class 'int'> 6946\n",
      "<class 'int'> 6947\n",
      "<class 'int'> 6943\n",
      "<class 'int'> 6942\n",
      "<class 'int'> 6940\n",
      "<class 'int'> 6941\n",
      "<class 'int'> 6932\n",
      "<class 'int'> 6926\n",
      "<class 'int'> 6927\n",
      "<class 'int'> 6933\n",
      "<class 'int'> 6925\n",
      "<class 'int'> 6931\n",
      "<class 'int'> 6930\n",
      "<class 'int'> 6924\n",
      "<class 'int'> 6920\n",
      "<class 'int'> 6934\n",
      "<class 'int'> 6935\n",
      "<class 'int'> 6921\n",
      "<class 'int'> 6937\n",
      "<class 'int'> 6923\n",
      "<class 'int'> 6922\n",
      "<class 'int'> 6936\n"
     ]
    }
   ],
   "source": [
    "for i in range(len(files)):\n",
    "    a = filter(str.isdigit, files[i])\n",
    "    files[i] = int(''.join(a))\n",
    "\n",
    "    print(type(files[i]),files[i])"
   ]
  },
  {
   "cell_type": "code",
   "execution_count": 39,
   "id": "267ffaae",
   "metadata": {},
   "outputs": [],
   "source": [
    "a = np.array(files)"
   ]
  },
  {
   "cell_type": "code",
   "execution_count": 40,
   "id": "4d42ebee",
   "metadata": {},
   "outputs": [
    {
     "data": {
      "text/plain": [
       "(array([31]),)"
      ]
     },
     "execution_count": 40,
     "metadata": {},
     "output_type": "execute_result"
    }
   ],
   "source": [
    "np.where( a == 6936)"
   ]
  },
  {
   "cell_type": "code",
   "execution_count": 41,
   "id": "b77b1bcd",
   "metadata": {},
   "outputs": [
    {
     "data": {
      "text/plain": [
       "array([6938, 6939, 6929, 6928, 6949, 6948, 6951, 6945, 6944, 6950, 6946,\n",
       "       6947, 6943, 6942, 6940, 6941, 6932, 6926, 6927, 6933, 6925, 6931,\n",
       "       6930, 6924, 6920, 6934, 6935, 6921, 6937, 6923, 6922, 6936])"
      ]
     },
     "execution_count": 41,
     "metadata": {},
     "output_type": "execute_result"
    }
   ],
   "source": [
    "a.astype('int64')"
   ]
  },
  {
   "cell_type": "code",
   "execution_count": 113,
   "id": "c085e521",
   "metadata": {},
   "outputs": [
    {
     "data": {
      "text/plain": [
       "array([[0, 1, 2, 3],\n",
       "       [0, 1, 2, 3],\n",
       "       [0, 1, 2, 3],\n",
       "       [0, 1, 2, 3]])"
      ]
     },
     "execution_count": 113,
     "metadata": {},
     "output_type": "execute_result"
    }
   ],
   "source": [
    "a = np.array([[ 1,  2,  3,  4], \n",
    "              [ 5,  6,  7,  8], \n",
    "              [ 9, 10, 11, 12], \n",
    "              [13, 14, 15, 16]])\n",
    "b = np.argsort(a, axis=1)\n",
    "b"
   ]
  },
  {
   "cell_type": "code",
   "execution_count": 10,
   "id": "baf93936",
   "metadata": {},
   "outputs": [
    {
     "name": "stdout",
     "output_type": "stream",
     "text": [
      "[5]\n"
     ]
    }
   ],
   "source": [
    "d = 5\n",
    "e = [d]\n",
    "print(e)"
   ]
  },
  {
   "cell_type": "code",
   "execution_count": 6,
   "id": "9fe55c89",
   "metadata": {},
   "outputs": [],
   "source": [
    "e.append(8)"
   ]
  },
  {
   "cell_type": "code",
   "execution_count": 7,
   "id": "cc773caa",
   "metadata": {},
   "outputs": [
    {
     "data": {
      "text/plain": [
       "[5, 5, 8]"
      ]
     },
     "execution_count": 7,
     "metadata": {},
     "output_type": "execute_result"
    }
   ],
   "source": [
    "e"
   ]
  },
  {
   "cell_type": "code",
   "execution_count": 71,
   "id": "baa608a3",
   "metadata": {},
   "outputs": [
    {
     "name": "stdout",
     "output_type": "stream",
     "text": [
      "[0, 1, 2, 3, 4, 5, 6, 7, 8, 9]\n"
     ]
    }
   ],
   "source": [
    "f = list(range(10))\n",
    "print(f)"
   ]
  },
  {
   "cell_type": "code",
   "execution_count": 72,
   "id": "02b9c79b",
   "metadata": {},
   "outputs": [
    {
     "name": "stdout",
     "output_type": "stream",
     "text": [
      "1\n",
      "2\n",
      "3\n",
      "4\n",
      "5\n",
      "6\n",
      "7\n",
      "8\n",
      "9\n"
     ]
    }
   ],
   "source": [
    "for i in f[1:]:\n",
    "    print(i)"
   ]
  },
  {
   "cell_type": "code",
   "execution_count": 11,
   "id": "bfdb9547",
   "metadata": {},
   "outputs": [],
   "source": [
    "e.remove(5)"
   ]
  },
  {
   "cell_type": "code",
   "execution_count": 12,
   "id": "88487f48",
   "metadata": {},
   "outputs": [
    {
     "data": {
      "text/plain": [
       "[]"
      ]
     },
     "execution_count": 12,
     "metadata": {},
     "output_type": "execute_result"
    }
   ],
   "source": [
    "e"
   ]
  },
  {
   "cell_type": "code",
   "execution_count": 13,
   "id": "d29e9a54",
   "metadata": {},
   "outputs": [
    {
     "data": {
      "text/plain": [
       "0"
      ]
     },
     "execution_count": 13,
     "metadata": {},
     "output_type": "execute_result"
    }
   ],
   "source": [
    "len(e)"
   ]
  },
  {
   "cell_type": "code",
   "execution_count": 14,
   "id": "a1fe2473",
   "metadata": {},
   "outputs": [
    {
     "ename": "NameError",
     "evalue": "name 'a' is not defined",
     "output_type": "error",
     "traceback": [
      "\u001b[0;31m---------------------------------------------------------------------------\u001b[0m",
      "\u001b[0;31mNameError\u001b[0m                                 Traceback (most recent call last)",
      "\u001b[0;32m<ipython-input-14-3f786850e387>\u001b[0m in \u001b[0;36m<module>\u001b[0;34m\u001b[0m\n\u001b[0;32m----> 1\u001b[0;31m \u001b[0ma\u001b[0m\u001b[0;34m\u001b[0m\u001b[0;34m\u001b[0m\u001b[0m\n\u001b[0m",
      "\u001b[0;31mNameError\u001b[0m: name 'a' is not defined"
     ]
    }
   ],
   "source": [
    "a"
   ]
  },
  {
   "cell_type": "code",
   "execution_count": 16,
   "id": "eaff7120",
   "metadata": {},
   "outputs": [
    {
     "data": {
      "text/plain": [
       "array([[ 1,  2,  3,  4],\n",
       "       [ 5,  6,  7,  8],\n",
       "       [ 9, 10, 11, 12],\n",
       "       [13, 14, 15, 16]])"
      ]
     },
     "execution_count": 16,
     "metadata": {},
     "output_type": "execute_result"
    }
   ],
   "source": [
    "a"
   ]
  },
  {
   "cell_type": "code",
   "execution_count": 20,
   "id": "b0443db7",
   "metadata": {},
   "outputs": [
    {
     "data": {
      "text/plain": [
       "array([[13, 14, 15, 16],\n",
       "       [ 5,  6,  7,  8]])"
      ]
     },
     "execution_count": 20,
     "metadata": {},
     "output_type": "execute_result"
    }
   ],
   "source": [
    "g = [3,1]\n",
    "a[g,...]"
   ]
  },
  {
   "cell_type": "code",
   "execution_count": 18,
   "id": "8d58c733",
   "metadata": {},
   "outputs": [
    {
     "data": {
      "text/plain": [
       "array([ 1,  2,  3,  4,  5,  6,  7,  8,  9, 10, 11, 12, 13, 14, 15, 16])"
      ]
     },
     "execution_count": 18,
     "metadata": {},
     "output_type": "execute_result"
    }
   ],
   "source": [
    "np.ravel(a)"
   ]
  },
  {
   "cell_type": "code",
   "execution_count": 68,
   "id": "47d9b93f",
   "metadata": {},
   "outputs": [
    {
     "data": {
      "text/plain": [
       "16"
      ]
     },
     "execution_count": 68,
     "metadata": {},
     "output_type": "execute_result"
    }
   ],
   "source": [
    "h = np.ravel(a, order='F')\n",
    "h.shape[0]"
   ]
  },
  {
   "cell_type": "code",
   "execution_count": 69,
   "id": "3018f720",
   "metadata": {},
   "outputs": [
    {
     "name": "stdout",
     "output_type": "stream",
     "text": [
      "16\n",
      "12\n",
      "8\n",
      "4\n",
      "15\n",
      "11\n",
      "7\n",
      "3\n",
      "14\n",
      "10\n",
      "6\n",
      "2\n",
      "13\n",
      "9\n",
      "5\n",
      "1\n"
     ]
    }
   ],
   "source": [
    "for i in range(h.shape[0]-1,-1,-1):\n",
    "    print(h[i])"
   ]
  },
  {
   "cell_type": "code",
   "execution_count": 45,
   "id": "d123bb3d",
   "metadata": {},
   "outputs": [],
   "source": [
    "i = [5]"
   ]
  },
  {
   "cell_type": "code",
   "execution_count": 46,
   "id": "ae51a107",
   "metadata": {},
   "outputs": [
    {
     "data": {
      "text/plain": [
       "[5]"
      ]
     },
     "execution_count": 46,
     "metadata": {},
     "output_type": "execute_result"
    }
   ],
   "source": [
    "i"
   ]
  },
  {
   "cell_type": "code",
   "execution_count": 47,
   "id": "e56b2619",
   "metadata": {},
   "outputs": [
    {
     "data": {
      "text/plain": [
       "list"
      ]
     },
     "execution_count": 47,
     "metadata": {},
     "output_type": "execute_result"
    }
   ],
   "source": [
    "type(i)"
   ]
  },
  {
   "cell_type": "code",
   "execution_count": 48,
   "id": "037ebbe0",
   "metadata": {},
   "outputs": [],
   "source": [
    "i.append(8)"
   ]
  },
  {
   "cell_type": "code",
   "execution_count": 49,
   "id": "9fe73ce4",
   "metadata": {},
   "outputs": [
    {
     "data": {
      "text/plain": [
       "[5, 8]"
      ]
     },
     "execution_count": 49,
     "metadata": {},
     "output_type": "execute_result"
    }
   ],
   "source": [
    "i"
   ]
  },
  {
   "cell_type": "code",
   "execution_count": 112,
   "id": "c708f44d",
   "metadata": {},
   "outputs": [
    {
     "data": {
      "text/plain": [
       "(array([2]),)"
      ]
     },
     "execution_count": 112,
     "metadata": {},
     "output_type": "execute_result"
    }
   ],
   "source": [
    "a"
   ]
  },
  {
   "cell_type": "code",
   "execution_count": 51,
   "id": "51b0c3d0",
   "metadata": {},
   "outputs": [
    {
     "data": {
      "text/plain": [
       "array([ 1,  2,  3,  4,  5,  6,  7,  8,  9, 10, 11, 12, 13, 14, 15, 16])"
      ]
     },
     "execution_count": 51,
     "metadata": {},
     "output_type": "execute_result"
    }
   ],
   "source": [
    "np.ravel(a)"
   ]
  },
  {
   "cell_type": "code",
   "execution_count": 52,
   "id": "c170d142",
   "metadata": {},
   "outputs": [
    {
     "data": {
      "text/plain": [
       "array([ 1,  2,  3,  4,  5,  6,  7,  8,  9, 10, 11, 12, 13, 14, 15, 16])"
      ]
     },
     "execution_count": 52,
     "metadata": {},
     "output_type": "execute_result"
    }
   ],
   "source": [
    "ravel_array = np.ravel(a)\n",
    "ravel_array"
   ]
  },
  {
   "cell_type": "code",
   "execution_count": 55,
   "id": "b37bb405",
   "metadata": {},
   "outputs": [
    {
     "data": {
      "text/plain": [
       "int"
      ]
     },
     "execution_count": 55,
     "metadata": {},
     "output_type": "execute_result"
    }
   ],
   "source": [
    "type(int(ravel_array[5]))"
   ]
  },
  {
   "cell_type": "code",
   "execution_count": 70,
   "id": "2cd26321",
   "metadata": {},
   "outputs": [
    {
     "data": {
      "text/plain": [
       "[]"
      ]
     },
     "execution_count": 70,
     "metadata": {},
     "output_type": "execute_result"
    }
   ],
   "source": [
    "e"
   ]
  },
  {
   "cell_type": "code",
   "execution_count": 99,
   "id": "fb016596",
   "metadata": {},
   "outputs": [],
   "source": [
    "image_count = 10\n",
    "n = np.ones(image_count)"
   ]
  },
  {
   "cell_type": "code",
   "execution_count": 100,
   "id": "d139482f",
   "metadata": {},
   "outputs": [
    {
     "data": {
      "text/plain": [
       "array([1., 1., 1., 1., 1., 1., 1., 1., 1., 1.])"
      ]
     },
     "execution_count": 100,
     "metadata": {},
     "output_type": "execute_result"
    }
   ],
   "source": [
    "n"
   ]
  },
  {
   "cell_type": "code",
   "execution_count": 110,
   "id": "41917ae8",
   "metadata": {},
   "outputs": [
    {
     "name": "stdout",
     "output_type": "stream",
     "text": [
      "[3. 3. 1. 3. 3. 3. 3. 3. 3. 3.]\n",
      "[1, 2, 3, 4]\n",
      "[3. 1. 3. 3.]\n",
      "(array([2]),)\n"
     ]
    },
    {
     "data": {
      "text/plain": [
       "2"
      ]
     },
     "execution_count": 110,
     "metadata": {},
     "output_type": "execute_result"
    }
   ],
   "source": [
    "n[4] -= 1\n",
    "order = [1,2,3,4]\n",
    "print(n)\n",
    "print(order)\n",
    "print(n[order])\n",
    "a = np.where(n==n.min())\n",
    "print(a)\n",
    "a[0][0]"
   ]
  },
  {
   "cell_type": "code",
   "execution_count": 111,
   "id": "ec22f06f",
   "metadata": {},
   "outputs": [
    {
     "data": {
      "text/plain": [
       "(array([2]),)"
      ]
     },
     "execution_count": 111,
     "metadata": {},
     "output_type": "execute_result"
    }
   ],
   "source": [
    "a"
   ]
  },
  {
   "cell_type": "code",
   "execution_count": 114,
   "id": "af025414",
   "metadata": {},
   "outputs": [
    {
     "data": {
      "text/plain": [
       "array([[ 1,  2,  3,  4],\n",
       "       [ 5,  6,  7,  8],\n",
       "       [ 9, 10, 11, 12],\n",
       "       [13, 14, 15, 16]])"
      ]
     },
     "execution_count": 114,
     "metadata": {},
     "output_type": "execute_result"
    }
   ],
   "source": [
    "a"
   ]
  },
  {
   "cell_type": "code",
   "execution_count": 115,
   "id": "27b19c2b",
   "metadata": {},
   "outputs": [
    {
     "data": {
      "text/plain": [
       "(4, 4)"
      ]
     },
     "execution_count": 115,
     "metadata": {},
     "output_type": "execute_result"
    }
   ],
   "source": [
    "a.shape"
   ]
  },
  {
   "cell_type": "code",
   "execution_count": 116,
   "id": "a20e2377",
   "metadata": {},
   "outputs": [
    {
     "data": {
      "text/plain": [
       "4"
      ]
     },
     "execution_count": 116,
     "metadata": {},
     "output_type": "execute_result"
    }
   ],
   "source": [
    "a.shape[0]"
   ]
  },
  {
   "cell_type": "code",
   "execution_count": 117,
   "id": "964d99b1",
   "metadata": {},
   "outputs": [
    {
     "data": {
      "text/plain": [
       "(4, 4)"
      ]
     },
     "execution_count": 117,
     "metadata": {},
     "output_type": "execute_result"
    }
   ],
   "source": [
    "a.shape[0:2]"
   ]
  },
  {
   "cell_type": "code",
   "execution_count": null,
   "id": "4a95e9e0",
   "metadata": {},
   "outputs": [],
   "source": []
  }
 ],
 "metadata": {
  "kernelspec": {
   "display_name": "Python 3",
   "language": "python",
   "name": "python3"
  },
  "language_info": {
   "codemirror_mode": {
    "name": "ipython",
    "version": 3
   },
   "file_extension": ".py",
   "mimetype": "text/x-python",
   "name": "python",
   "nbconvert_exporter": "python",
   "pygments_lexer": "ipython3",
   "version": "3.7.9"
  }
 },
 "nbformat": 4,
 "nbformat_minor": 5
}
