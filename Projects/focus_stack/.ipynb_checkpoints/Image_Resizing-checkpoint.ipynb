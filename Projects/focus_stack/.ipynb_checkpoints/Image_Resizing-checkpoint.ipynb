{
 "cells": [
  {
   "cell_type": "code",
   "execution_count": 1,
   "id": "679d7494",
   "metadata": {},
   "outputs": [],
   "source": [
    "import numpy as np"
   ]
  },
  {
   "cell_type": "code",
   "execution_count": 4,
   "id": "7bfe4a31",
   "metadata": {},
   "outputs": [],
   "source": [
    "def image_stats(h,w, scale):\n",
    "    pixel_count = h*w\n",
    "    h_scaled = scale * h\n",
    "    w_scaled = scale * w\n",
    "    pixel_count_scaled = h_scaled * w_scaled\n",
    "    print(\"Resolution : \", h, ' x ', w)\n",
    "    print(pixel_count/1000000, ' MP')\n",
    "    print(\"Scaled Resolution : \", h_scaled, ' x ', w_scaled)\n",
    "    print(pixel_count_scaled/1000000, ' MP')\n",
    "    print(pixel_count_scaled/pixel_count, ' %')"
   ]
  },
  {
   "cell_type": "code",
   "execution_count": 9,
   "id": "6268321f",
   "metadata": {},
   "outputs": [
    {
     "name": "stdout",
     "output_type": "stream",
     "text": [
      "24.0  MP\n",
      "0.24  MP\n",
      "0.01  %\n"
     ]
    }
   ],
   "source": [
    "h=4000\n",
    "w=6000\n",
    "scale = .25\n",
    "image_stats(h,w,scale)"
   ]
  },
  {
   "cell_type": "code",
   "execution_count": null,
   "id": "807ebf3b",
   "metadata": {},
   "outputs": [],
   "source": []
  }
 ],
 "metadata": {
  "kernelspec": {
   "display_name": "Python 3",
   "language": "python",
   "name": "python3"
  },
  "language_info": {
   "codemirror_mode": {
    "name": "ipython",
    "version": 3
   },
   "file_extension": ".py",
   "mimetype": "text/x-python",
   "name": "python",
   "nbconvert_exporter": "python",
   "pygments_lexer": "ipython3",
   "version": "3.7.9"
  }
 },
 "nbformat": 4,
 "nbformat_minor": 5
}
