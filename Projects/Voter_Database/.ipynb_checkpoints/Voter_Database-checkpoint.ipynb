{
 "cells": [
  {
   "cell_type": "code",
   "execution_count": 28,
   "id": "right-philippines",
   "metadata": {},
   "outputs": [],
   "source": [
    "# merge the voters database and the property database to include homeowner information in the voter database\n",
    "import pandas as pd\n",
    "import numpy as np\n",
    "import seaborn as sns\n",
    "\n",
    "# Funtion to verify that street names match\n",
    "def UncommonStreetNames(voters, address):\n",
    "    commonStreets = []\n",
    "    uncommonStreetsVoters = []\n",
    "    uncommonStreetsOwners = []\n",
    "    for i in voters['Street Name'].unique():\n",
    "        common = False\n",
    "        for j in address[1].unique():\n",
    "            if i == j:\n",
    "                common = True\n",
    "        if common == True:\n",
    "            commonStreets.append(i)\n",
    "        else:\n",
    "            uncommonStreetsVoters.append(i)\n",
    "\n",
    "    for i in address[1].unique():\n",
    "        common = False\n",
    "        for j in voters['Street Name'].unique():\n",
    "            if i == j:\n",
    "                common = True\n",
    "        if common == False:\n",
    "            uncommonStreetsOwners.append(i)\n",
    "    print('Number of Common Street Names         : ', len(commonStreets))\n",
    "    print('Number of Street Names Only in Voters : ', len(uncommonStreetsVoters))\n",
    "    print('Number of Street Names Only in Owners : ', len(uncommonStreetsOwners), '\\n')\n",
    "    print('Street Names Only in Voters\\n\\n', uncommonStreetsVoters, '\\n')\n",
    "    print('Street Names Only in Owners\\n\\n', uncommonStreetsOwners, '\\n')"
   ]
  },
  {
   "cell_type": "code",
   "execution_count": 2,
   "id": "roman-enough",
   "metadata": {},
   "outputs": [],
   "source": [
    "# Read in the csv files for tax records and voters\n",
    "owners = pd.read_csv('/Users/anthonyesposito/Desktop/GitWork/Work_In_Progress/Projects/Voter_Database/RawData/RoselleTaxData.csv')\n",
    "voters = pd.read_csv('/Users/anthonyesposito/Desktop/GitWork/Work_In_Progress/Projects/Voter_Database/RawData/rosellevoterhistory02232021.csv')"
   ]
  },
  {
   "cell_type": "code",
   "execution_count": 3,
   "id": "cathedral-greensboro",
   "metadata": {},
   "outputs": [
    {
     "data": {
      "text/plain": [
       "(4484, 25)"
      ]
     },
     "execution_count": 3,
     "metadata": {},
     "output_type": "execute_result"
    }
   ],
   "source": [
    "# Determine owner occupied properties\n",
    "# Owner Address is the same as property address\n",
    "ownerOcc = owners[owners.loc[:,'Property Location'] == owners.loc[:,\"Owner's Mailing Address\"]]\n",
    "# Check if the address has a street number\n",
    "ownerOcc = ownerOcc[ownerOcc.loc[:,\"Property Location\"].str[0].str.isdigit()]\n",
    "# Drop all vacant, industrial, commercial, public, and religious/charity properties\n",
    "ownerOcc = ownerOcc[(ownerOcc.loc[:,'Property Class'] != ('4A')) & (ownerOcc.loc[:,'Property Class'] != ('1')) & (ownerOcc.loc[:,'Property Class'] != ('4B')) & (ownerOcc.loc[:,'Property Class'] != ('15C')) & (ownerOcc.loc[:,'Property Class'] != ('15D'))]\n",
    "ownerOcc.shape"
   ]
  },
  {
   "cell_type": "code",
   "execution_count": 4,
   "id": "geographic-elder",
   "metadata": {},
   "outputs": [],
   "source": [
    "# Split addresses into Street Number/Street Name\n",
    "address = ownerOcc[\"Owner's Mailing Address\"].str.split(' ', n=1,expand=True)\n",
    "address[1] = address[1].str.split('APT', n=1, expand=True)\n",
    "address[0] = address[0].str.strip()\n",
    "address[1] = address[1].str.strip()\n",
    "\n",
    "# Fix Street Names \n",
    "for i in address.index:\n",
    "    if 'LANE' in address.at[i,1]:\n",
    "        address.at[i,1] = address.at[i,1][:-4]\n",
    "        address.at[i,1] = address.at[i,1] + 'LN'\n",
    "        \n",
    "for i in address.index:\n",
    "    if 'CAROLYN TERRACE' in address.at[i,1]:\n",
    "        address.at[i,1] = 'CAROLYN TER'\n",
    "        \n",
    "for i in address.index:\n",
    "    if 'TERR' in address.at[i,1]:\n",
    "        address.at[i,1] = address.at[i,1][:-1]\n",
    "        \n",
    "for i in address.index:\n",
    "    if '1/2 E 9TH AVE' in address.at[i,1]:\n",
    "        address.at[i,0] = '400A'\n",
    "        address.at[i,1] = 'E 9TH AVE'\n",
    "        \n",
    "for i in address.index:\n",
    "    if 'ST GEORGE AVE' in address.at[i,1]:\n",
    "        address.at[i,1] = 'SAINT GEORGE AVE'\n",
    "        \n",
    "for i in address.index:\n",
    "    if 'AURORA ST' in address.at[i,1]:\n",
    "        address.at[i,1] = 'AURORE ST'\n",
    "        \n",
    "for i in address.index:\n",
    "    if 'MELVILLE TER' in address.at[i,1]:\n",
    "        address.at[i,1] = 'MELLVILLE TER'\n",
    "        \n",
    "for i in address.index:\n",
    "    if 'WALNUT STREET' in address.at[i,1]:\n",
    "        address.at[i,1] = 'WALNUT ST'\n",
    "        \n",
    "for i in address.index:\n",
    "    if 'LILY COURT' in address.at[i,1]:\n",
    "        address.at[i,1] = 'LILY CT'"
   ]
  },
  {
   "cell_type": "code",
   "execution_count": 5,
   "id": "surgical-radio",
   "metadata": {},
   "outputs": [],
   "source": [
    "# Set Voter STreet Names to be Upper Case\n",
    "voters['Street Name'] = voters['Street Name'].str.upper()\n",
    "\n",
    "\n",
    "# Fix Street Names\n",
    "for i in voters.index:\n",
    "    if 'LILLY CT' in voters.loc[i,'Street Name']:\n",
    "        voters.at[i,'Street Name'] = 'LILY CT'\n",
    "        \n",
    "for i in voters.index:\n",
    "    if '1/2 MYRTLE ST' in voters.loc[i,'Street Name']:\n",
    "        voters.at[i, 'Street No.'] = voters.at[i, 'Street No.'] + '-1/2'\n",
    "        voters.at[i, 'Street Name'] = 'MYRTLE ST'\n",
    "\n",
    "for i in voters.index:\n",
    "    if 'LILLY CT' in voters.loc[i,'Street Name']:\n",
    "        voters.at[i,'Street Name'] = 'LILY CT'\n",
    "        \n",
    "for i in voters.index:\n",
    "    if 'E NINTH' in voters.loc[i,'Street Name']:\n",
    "        voters.at[i,'Street Name'] = 'E 9TH AVE'\n",
    "        \n",
    "for i in voters.index:\n",
    "    if '1/2 MORRIS ST' in voters.loc[i,'Street Name']:\n",
    "        voters.at[i, 'Street No.'] = voters.at[i, 'Street No.'] + '-1/2'\n",
    "        voters.at[i, 'Street Name'] = 'MORRIS ST'\n",
    "        \n",
    "for i in voters.index:\n",
    "    if '4AVE' in voters.loc[i,'Street Name']:\n",
    "        voters.at[i, 'Street No.'] = '250'\n",
    "        voters.at[i, 'Street Name'] = 'E 4TH AVE'\n",
    "        \n",
    "for i in voters.index:\n",
    "    if '134EAST7THAVE' in voters.loc[i,'Street Name']:\n",
    "        voters.at[i, 'Street No.'] = '134'\n",
    "        voters.at[i, 'Street Name'] = 'E 7TH AVE'\n",
    "        \n",
    "for i in voters.index:\n",
    "    if 'E7TH AVE' in voters.loc[i,'Street Name']:\n",
    "        voters.at[i, 'Street Name'] = 'E 7TH AVE'\n",
    "        \n",
    "for i in voters.index:\n",
    "    if 'E7TH AVE' in voters.loc[i,'Street Name']:\n",
    "        voters.at[i, 'Street Name'] = 'E 7TH AVE'\n",
    "        \n",
    "for i in voters.index:\n",
    "    if 'W FOURTH AVE' in voters.loc[i,'Street Name']:\n",
    "        voters.at[i, 'Street Name'] = 'W 4TH AVE'\n",
    "        \n",
    "for i in voters.index:\n",
    "    if 'W FIRST AVE' in voters.loc[i,'Street Name']:\n",
    "        voters.at[i, 'Street Name'] = 'W 1ST AVE'\n",
    "        \n",
    "for i in voters.index:\n",
    "    if 'W1ST AVE' in voters.loc[i,'Street Name']:\n",
    "        voters.at[i, 'Street Name'] = 'W 1ST AVE'\n",
    "        \n",
    "for i in voters.index:\n",
    "    if 'W7TH AVE' in voters.loc[i,'Street Name']:\n",
    "        voters.at[i, 'Street Name'] = 'W 7TH AVE'\n",
    "        \n",
    "for i in voters.index:\n",
    "    if 'E ST GEORGE AVE' in voters.loc[i,'Street Name']:\n",
    "        voters.at[i, 'Street Name'] = 'ST GEORGE AVE'"
   ]
  },
  {
   "cell_type": "code",
   "execution_count": 6,
   "id": "dying-poland",
   "metadata": {},
   "outputs": [
    {
     "name": "stdout",
     "output_type": "stream",
     "text": [
      "Number of Common Street Names         :  133\n",
      "Number of Street Names Only in Voters :  13\n",
      "Number of Street Names Only in Owners :  1 \n",
      "\n",
      "Street Names Only in Voters\n",
      "\n",
      " ['JERSEY AVE', 'NEWMAN PL', 'GARDEN DR', 'HOPE AVE', 'E 11TH AVE', 'E HIGHLAND PKWY', 'W WESTFIELD AVE', 'LOCKWOOD DR', 'WILLOW LN', 'MAPLE CT', 'CEDAR LN', 'GREENWAY BLVD', 'ST GEORGE AVE'] \n",
      "\n",
      "Street Names Only in Owners\n",
      "\n",
      " ['HALSEY RD'] \n",
      "\n"
     ]
    }
   ],
   "source": [
    "UncommonStreetNames(voters, address)"
   ]
  },
  {
   "cell_type": "code",
   "execution_count": 7,
   "id": "respected-legislature",
   "metadata": {},
   "outputs": [],
   "source": [
    "# Set the Street Names\n",
    "ownerOcc['Street No.'], ownerOcc['Street Name'] = address[0], address[1]\n",
    "\n",
    "# Set a column to tell that the address is owner occupied\n",
    "ownerOcc['Owner Occupied'] = 'Yes'"
   ]
  },
  {
   "cell_type": "code",
   "execution_count": 8,
   "id": "ranking-county",
   "metadata": {},
   "outputs": [],
   "source": [
    "# Merge the DataFrames\n",
    "merged = voters.merge(ownerOcc, on=['Street No.', 'Street Name'], how='left')\n",
    "\n",
    "# Set the Owner Occupied value to 'No' for the remaining values in the merged dataset\n",
    "merged[\"Owner Occupied\"] = merged[\"Owner Occupied\"].replace(np.nan, 'No', regex=True)\n",
    "\n",
    "# Set all the NaN values to 'N/A'\n",
    "merged = merged.replace(np.nan, 'N/A', regex=True)   "
   ]
  },
  {
   "cell_type": "code",
   "execution_count": 25,
   "id": "oriented-daughter",
   "metadata": {},
   "outputs": [],
   "source": [
    "# Set 'N/A' values to appropriate values\n",
    "merged[\"Middle Name\"] = merged[\"Middle Name\"].replace('N/A', '', regex=True)\n",
    "merged[\"Suffix\"] = merged[\"Suffix\"].replace('N/A', '', regex=True)\n",
    "merged[\"Suffix\"] = merged[\"Suffix\"].replace('N/A', '', regex=True)\n",
    "merged[\"Phone #\"] = merged[\"Phone #\"].replace('N/A', '-', regex=True)\n",
    "merged[\"Address Line 2\"] = merged[\"Address Line 2\"].replace('N/A', '', regex=True)\n",
    "merged['Residence Zip'] = str('07203')"
   ]
  },
  {
   "cell_type": "code",
   "execution_count": 26,
   "id": "loaded-referral",
   "metadata": {},
   "outputs": [],
   "source": [
    "merged.to_csv('rosellevoterhistory02232021merged.csv')"
   ]
  },
  {
   "cell_type": "code",
   "execution_count": 11,
   "id": "tough-median",
   "metadata": {},
   "outputs": [
    {
     "name": "stdout",
     "output_type": "stream",
     "text": [
      "3775\n",
      "10755\n",
      "(4018,)\n"
     ]
    }
   ],
   "source": [
    "print((merged['HomeOwner'] == 'Yes').sum())\n",
    "print((merged['Owner Occupied']=='Yes').sum())\n",
    "print(merged[\"Owner's Mailing Address\"].unique().shape)"
   ]
  },
  {
   "cell_type": "markdown",
   "id": "cordless-theology",
   "metadata": {},
   "source": [
    "ownerOcc['BackCheck'] = int(0)\n",
    "merged['BackCheck'] = int(0)"
   ]
  },
  {
   "cell_type": "markdown",
   "id": "discrete-compensation",
   "metadata": {},
   "source": [
    "mergedOccCheck = merged[merged['Owner Occupied'] == 'Yes']"
   ]
  },
  {
   "cell_type": "markdown",
   "id": "automated-rider",
   "metadata": {},
   "source": [
    "import time as time\n",
    "mergedOccCheck = merged[merged['Owner Occupied'] == 'Yes']\n",
    "mergedindex = mergedOccCheck.index.copy()\n",
    "t0 = time.time()m\n",
    "countprop = int(0)\n",
    "for i in ownerOcc.index:\n",
    "    ti0 = time.time_ns()\n",
    "\n",
    "    counter = int(0)\n",
    "    owner = False\n",
    "    for j in mergedindex:\n",
    "        a = (ownerOcc.loc[i, \"Owner's Mailing Address\"] == mergedOccCheck.loc[j, \"Owner's Mailing Address\"])\n",
    "        b = (mergedOccCheck.loc[j, 'HomeOwner'] == 'Yes')\n",
    "        if a & b:\n",
    "            counter+=1\n",
    "            merged.at[j, 'BackCheck'] = counter\n",
    "        if a:\n",
    "            mergedindex = mergedindex.drop(j)            \n",
    "    ownerOcc.at[i, 'BackCheck'] = counter\n",
    "    tt = time.time() - t0\n",
    "    ti = time.time_ns() - ti0\n",
    "    countprop += 1\n",
    "    print('Props:   ', countprop, '     Voters Rem :', mergedindex.shape[0], '   Total Time:', round(tt, 2), '     Iter Time:', ti )"
   ]
  },
  {
   "cell_type": "code",
   "execution_count": null,
   "id": "super-strap",
   "metadata": {},
   "outputs": [],
   "source": []
  }
 ],
 "metadata": {
  "kernelspec": {
   "display_name": "Python 3",
   "language": "python",
   "name": "python3"
  },
  "language_info": {
   "codemirror_mode": {
    "name": "ipython",
    "version": 3
   },
   "file_extension": ".py",
   "mimetype": "text/x-python",
   "name": "python",
   "nbconvert_exporter": "python",
   "pygments_lexer": "ipython3",
   "version": "3.7.9"
  }
 },
 "nbformat": 4,
 "nbformat_minor": 5
}
