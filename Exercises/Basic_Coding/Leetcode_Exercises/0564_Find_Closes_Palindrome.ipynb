{
 "cells": [
  {
   "cell_type": "code",
   "execution_count": 134,
   "id": "1b7e0086",
   "metadata": {},
   "outputs": [],
   "source": [
    "class Solution:\n",
    "    def nearestPalindromic(n):\n",
    "        \n",
    "        if len(n)==1:\n",
    "            a = str(int(n)-1)\n",
    "            return a\n",
    "        \n",
    "        elif n == '10' or n == '11':            \n",
    "            a = '9'\n",
    "            return a\n",
    "        \n",
    "        elif len(n)%2 == 0:\n",
    "            a = n[:len(n)//2]+n[(len(n)-1)//2::-1]\n",
    "\n",
    "            b = str(int(n[:len(n)//2])-1)\n",
    "            b = b + b[::-1]\n",
    "            if len(b) < len(n):\n",
    "                b = '9'*(len(n)-1)\n",
    "    \n",
    "            c = str(int(n[:len(n)//2])+1) # Check \n",
    "            c = c + c[::-1]\n",
    "            if len(c) > len(n):\n",
    "                c = str(int(n[:len(n)//2])+1)\n",
    "                c = c + c[-2::-1]\n",
    "                \n",
    "\n",
    "\n",
    "        else:\n",
    "            a = n[:len(n)//2]+n[len(n)//2::-1]\n",
    "\n",
    "            b = str(int(n[:(len(n)//2)+1])-1)\n",
    "            b = b + b[-2::-1]                \n",
    "            if len(b) < len(n):\n",
    "                b = '9'*(len(n)-1)\n",
    "            \n",
    "            c = str(int(n[:(len(n)//2)+1])+1)\n",
    "            c = c + c[-2::-1]\n",
    "            if len(c) > len(n):\n",
    "                c = str(int(n[:(len(n)//2)+1])+1)\n",
    "                c = c + c[-3::-1]\n",
    "\n",
    "        d_a = abs(int(n) - int(a))\n",
    "        d_b = abs(int(n) - int(b))\n",
    "        d_c = abs(int(n) - int(c))\n",
    "        \n",
    "        if d_a != 0:\n",
    "            if min([d_a, d_b, d_c]) == d_b:\n",
    "                return b\n",
    "            elif min([d_a, d_b, d_c]) == d_a:\n",
    "                return a\n",
    "            else:\n",
    "                return c\n",
    "        else:\n",
    "            if min([d_b, d_c]) == d_b:\n",
    "                return b\n",
    "            else:\n",
    "                return c"
   ]
  },
  {
   "cell_type": "code",
   "execution_count": 132,
   "id": "1f19d72e",
   "metadata": {},
   "outputs": [],
   "source": [
    "class Solution:\n",
    "    def nearestPalindromic(n):\n",
    "        b = '0'\n",
    "        c = '0'\n",
    "        if len(n)==1:\n",
    "            a = str(int(n)-1)\n",
    "            return a\n",
    "        elif n == '10' or n == '11':            \n",
    "            a = '9'\n",
    "            return a\n",
    "        elif len(n)%2 == 0:\n",
    "            a = n[:len(n)//2]+n[(len(n)-1)//2::-1]\n",
    "\n",
    "            b = str(int(n[:len(n)//2])-1)\n",
    "            b = b + b[::-1]\n",
    "            if len(b) < len(n):\n",
    "                b = '9'*(len(n)-1)\n",
    "            c = str(int(n[:len(n)//2])+1) # Check \n",
    "            c = c + c[::-1]\n",
    "            if len(c) > len(n):\n",
    "                c = str(int(n[:len(n)//2])+1)\n",
    "                c = c + c[-2::-1]\n",
    "                \n",
    "\n",
    "\n",
    "        else:\n",
    "            a = n[:len(n)//2]+n[len(n)//2::-1]\n",
    "\n",
    "            b = str(int(n[:(len(n)//2)+1])-1)\n",
    "            b = b + b[-2::-1]                \n",
    "            if len(b) < len(n):\n",
    "                b = '9'*(len(n)-1)\n",
    "            c = str(int(n[:(len(n)//2)+1])+1)\n",
    "            c = c + c[-2::-1]\n",
    "            if len(c) > len(n):\n",
    "                c = str(int(n[:(len(n)//2)+1])+1)\n",
    "                c = c + c[-3::-1]\n",
    "\n",
    "        print(n,a,b,c)\n",
    "        print(type(n),type(a),type(b),type(c))        \n",
    "        d_a = abs(int(n) - int(a))\n",
    "        d_b = abs(int(n) - int(b))\n",
    "        d_c = abs(int(n) - int(c))\n",
    "        \n",
    "        if d_a != 0:\n",
    "            if min([d_a, d_b, d_c]) == d_b:\n",
    "                return b\n",
    "            elif min([d_a, d_b, d_c]) == d_a:\n",
    "                return a\n",
    "            else:\n",
    "                return c\n",
    "        else:\n",
    "            if min([d_b, d_c]) == d_b:\n",
    "                return b\n",
    "            else:\n",
    "                return c"
   ]
  },
  {
   "cell_type": "code",
   "execution_count": 6,
   "id": "37417a90",
   "metadata": {},
   "outputs": [
    {
     "name": "stdout",
     "output_type": "stream",
     "text": [
      "123321 123456 123591\n",
      "122221 123321 124421\n"
     ]
    },
    {
     "data": {
      "text/plain": [
       "'122221'"
      ]
     },
     "execution_count": 6,
     "metadata": {},
     "output_type": "execute_result"
    }
   ],
   "source": [
    "Solution.nearestPalindromic('123456')\n",
    "Solution.nearestPalindromic('123321')"
   ]
  },
  {
   "cell_type": "code",
   "execution_count": 49,
   "id": "e859786f",
   "metadata": {},
   "outputs": [
    {
     "name": "stdout",
     "output_type": "stream",
     "text": [
      "1234321\n",
      "1234321\n",
      "1234321 1234321 1234813\n",
      "b2 246\n",
      "b2 246\n",
      "1234565 1234569 1234567\n",
      "1233321\n",
      "1233321\n",
      "1233321 1233321 1235321\n",
      "b2 1000\n",
      "b2 1000\n",
      "1234319 1234323 1234321\n",
      "101\n",
      "101\n",
      "101 99 101\n",
      "b2 1\n",
      "99 101 100\n"
     ]
    },
    {
     "data": {
      "text/plain": [
       "'99'"
      ]
     },
     "execution_count": 49,
     "metadata": {},
     "output_type": "execute_result"
    }
   ],
   "source": [
    "Solution.nearestPalindromic('1234567')\n",
    "Solution.nearestPalindromic('1234321')\n",
    "Solution.nearestPalindromic('100')"
   ]
  },
  {
   "cell_type": "code",
   "execution_count": 66,
   "id": "c0c52fb6",
   "metadata": {},
   "outputs": [
    {
     "data": {
      "text/plain": [
       "'1234567'"
      ]
     },
     "execution_count": 66,
     "metadata": {},
     "output_type": "execute_result"
    }
   ],
   "source": [
    "a = '1234567'\n",
    "a"
   ]
  },
  {
   "cell_type": "code",
   "execution_count": 205,
   "id": "6c1950b1",
   "metadata": {},
   "outputs": [
    {
     "data": {
      "text/plain": [
       "'4321'"
      ]
     },
     "execution_count": 205,
     "metadata": {},
     "output_type": "execute_result"
    }
   ],
   "source": [
    "a[-len(a)//2::-1]"
   ]
  },
  {
   "cell_type": "code",
   "execution_count": 48,
   "id": "d1738763",
   "metadata": {},
   "outputs": [
    {
     "name": "stdout",
     "output_type": "stream",
     "text": [
      "101\n",
      "101\n",
      "101 99 101\n",
      "b2 1\n",
      "99 101 100\n",
      "100 99\n"
     ]
    }
   ],
   "source": [
    "n = ['100']\n",
    "for i in n:\n",
    "    i = str(i)\n",
    "    print(i,Solution.nearestPalindromic(i))"
   ]
  },
  {
   "cell_type": "code",
   "execution_count": 7,
   "id": "966029c7",
   "metadata": {},
   "outputs": [
    {
     "data": {
      "text/plain": [
       "1"
      ]
     },
     "execution_count": 7,
     "metadata": {},
     "output_type": "execute_result"
    }
   ],
   "source": [
    "min(1,2)"
   ]
  },
  {
   "cell_type": "code",
   "execution_count": 9,
   "id": "9a1cd964",
   "metadata": {},
   "outputs": [
    {
     "data": {
      "text/plain": [
       "'12345'"
      ]
     },
     "execution_count": 9,
     "metadata": {},
     "output_type": "execute_result"
    }
   ],
   "source": [
    "a = '12345'\n",
    "c = a\n",
    "c"
   ]
  },
  {
   "cell_type": "code",
   "execution_count": 46,
   "id": "00ff4233",
   "metadata": {},
   "outputs": [
    {
     "data": {
      "text/plain": [
       "'12345'"
      ]
     },
     "execution_count": 46,
     "metadata": {},
     "output_type": "execute_result"
    }
   ],
   "source": [
    "c = '1234'\n",
    "a"
   ]
  },
  {
   "cell_type": "code",
   "execution_count": 47,
   "id": "f19ebc68",
   "metadata": {},
   "outputs": [
    {
     "name": "stdout",
     "output_type": "stream",
     "text": [
      "88888\n",
      "88888\n",
      "88888 88886 88888\n",
      "88886 88888 88887\n",
      "88887 88888\n"
     ]
    }
   ],
   "source": [
    "i = '88887'\n",
    "print(i,Solution.nearestPalindromic(i))"
   ]
  },
  {
   "cell_type": "code",
   "execution_count": 135,
   "id": "27bb8815",
   "metadata": {},
   "outputs": [
    {
     "name": "stdout",
     "output_type": "stream",
     "text": [
      "0 |\n",
      "\n",
      "9 |\n",
      "\n",
      "9 |\n",
      "\n",
      "101 |\n",
      "\n",
      "99 |\n",
      "\n",
      "99 |\n",
      "\n",
      "232 |\n",
      "\n",
      "10001 |\n",
      "\n",
      "100001 |\n",
      "\n",
      "1221 |\n",
      "\n",
      "88888 |\n",
      "\n"
     ]
    }
   ],
   "source": [
    "n = ['1', '10', '11','99', '100', '101','230', '9999', '99999', '1213',  '88887']\n",
    "for i in n:\n",
    "    print(Solution.nearestPalindromic(i), '|\\n')"
   ]
  },
  {
   "cell_type": "code",
   "execution_count": null,
   "id": "72bb0e41",
   "metadata": {},
   "outputs": [],
   "source": []
  }
 ],
 "metadata": {
  "kernelspec": {
   "display_name": "Python 3",
   "language": "python",
   "name": "python3"
  },
  "language_info": {
   "codemirror_mode": {
    "name": "ipython",
    "version": 3
   },
   "file_extension": ".py",
   "mimetype": "text/x-python",
   "name": "python",
   "nbconvert_exporter": "python",
   "pygments_lexer": "ipython3",
   "version": "3.7.9"
  }
 },
 "nbformat": 4,
 "nbformat_minor": 5
}
