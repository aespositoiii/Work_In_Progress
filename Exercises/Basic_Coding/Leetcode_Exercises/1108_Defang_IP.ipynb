{
 "cells": [
  {
   "cell_type": "code",
   "execution_count": 58,
   "id": "19c2d875",
   "metadata": {},
   "outputs": [
    {
     "data": {
      "text/plain": [
       "5"
      ]
     },
     "execution_count": 58,
     "metadata": {},
     "output_type": "execute_result"
    }
   ],
   "source": [
    "class Solution:\n",
    "    def defangIPaddr(address):"
   ]
  },
  {
   "cell_type": "code",
   "execution_count": null,
   "id": "e3cce124",
   "metadata": {},
   "outputs": [],
   "source": [
    "address = '123.456'"
   ]
  },
  {
   "cell_type": "code",
   "execution_count": 113,
   "id": "f281b086",
   "metadata": {},
   "outputs": [
    {
     "data": {
      "text/plain": [
       "'123[.]456'"
      ]
     },
     "execution_count": 113,
     "metadata": {},
     "output_type": "execute_result"
    }
   ],
   "source": [
    "address = address.split(\".\")\n",
    "address = \"[.]\".join(address)\n",
    "address"
   ]
  },
  {
   "cell_type": "code",
   "execution_count": 110,
   "id": "eedf5ff5",
   "metadata": {},
   "outputs": [
    {
     "data": {
      "text/plain": [
       "['123', '456']"
      ]
     },
     "execution_count": 110,
     "metadata": {},
     "output_type": "execute_result"
    }
   ],
   "source": [
    "a.split(\".\")\n"
   ]
  },
  {
   "cell_type": "code",
   "execution_count": 106,
   "id": "bacfe3b6",
   "metadata": {},
   "outputs": [
    {
     "name": "stdout",
     "output_type": "stream",
     "text": [
      "123.456\n"
     ]
    },
    {
     "data": {
      "text/plain": [
       "'123.456'"
      ]
     },
     "execution_count": 106,
     "metadata": {},
     "output_type": "execute_result"
    }
   ],
   "source": [
    "a.split(\".\")\n",
    "\n",
    "\"[.]\".join(a)\n",
    "a"
   ]
  },
  {
   "cell_type": "code",
   "execution_count": 62,
   "id": "210bc9f0",
   "metadata": {},
   "outputs": [
    {
     "data": {
      "text/plain": [
       "False"
      ]
     },
     "execution_count": 62,
     "metadata": {},
     "output_type": "execute_result"
    }
   ],
   "source": []
  },
  {
   "cell_type": "code",
   "execution_count": 60,
   "id": "e18d69ac",
   "metadata": {},
   "outputs": [
    {
     "ename": "SyntaxError",
     "evalue": "invalid syntax (<ipython-input-60-427f790b2ee8>, line 1)",
     "output_type": "error",
     "traceback": [
      "\u001b[0;36m  File \u001b[0;32m\"<ipython-input-60-427f790b2ee8>\"\u001b[0;36m, line \u001b[0;32m1\u001b[0m\n\u001b[0;31m    any 1\u001b[0m\n\u001b[0m        ^\u001b[0m\n\u001b[0;31mSyntaxError\u001b[0m\u001b[0;31m:\u001b[0m invalid syntax\n"
     ]
    }
   ],
   "source": [
    "any 1"
   ]
  },
  {
   "cell_type": "code",
   "execution_count": 114,
   "id": "cc466910",
   "metadata": {},
   "outputs": [
    {
     "data": {
      "text/plain": [
       "''"
      ]
     },
     "execution_count": 114,
     "metadata": {},
     "output_type": "execute_result"
    }
   ],
   "source": [
    "out = \"\"\n",
    "out"
   ]
  },
  {
   "cell_type": "code",
   "execution_count": 115,
   "id": "ed52d40a",
   "metadata": {},
   "outputs": [
    {
     "data": {
      "text/plain": [
       "'123[.]456'"
      ]
     },
     "execution_count": 115,
     "metadata": {},
     "output_type": "execute_result"
    }
   ],
   "source": [
    "address = \"123.456\"\n",
    "for i in address:\n",
    "    if i == \".\":\n",
    "        out += \"[.]\"\n",
    "    else:\n",
    "        out += i\n",
    "        \n",
    "out"
   ]
  },
  {
   "cell_type": "code",
   "execution_count": null,
   "id": "92980692",
   "metadata": {},
   "outputs": [],
   "source": []
  }
 ],
 "metadata": {
  "kernelspec": {
   "display_name": "Python 3",
   "language": "python",
   "name": "python3"
  },
  "language_info": {
   "codemirror_mode": {
    "name": "ipython",
    "version": 3
   },
   "file_extension": ".py",
   "mimetype": "text/x-python",
   "name": "python",
   "nbconvert_exporter": "python",
   "pygments_lexer": "ipython3",
   "version": "3.7.9"
  }
 },
 "nbformat": 4,
 "nbformat_minor": 5
}
