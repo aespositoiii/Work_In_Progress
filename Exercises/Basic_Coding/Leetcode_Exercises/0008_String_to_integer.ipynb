{
 "cells": [
  {
   "cell_type": "code",
   "execution_count": 76,
   "id": "ea242c42",
   "metadata": {},
   "outputs": [],
   "source": [
    "class Solution:\n",
    "    def myAtoi(s):\n",
    "        \n",
    "        i = 0\n",
    "        L = len(s)-1\n",
    "        sign = 1\n",
    "        \n",
    "        if len(s)==0:\n",
    "            return 0\n",
    "        \n",
    "        while (i < L) & (s[i] == ' '):\n",
    "             i+=1\n",
    "                \n",
    "        if (i < L) & ( s[i] in '+-'):\n",
    "            \n",
    "            if s[i] == '-':\n",
    "                sign = -1\n",
    "            \n",
    "            i+=1\n",
    "        \n",
    "        int_start = i\n",
    "\n",
    "\n",
    "        if s[i] not in '0123456789':\n",
    "            return 0\n",
    "        \n",
    "        while (s[i] in '0123456789'):\n",
    "            i+=1\n",
    "            if i > L:\n",
    "                break\n",
    "            \n",
    "        result = sign * int(s[int_start:(i)])\n",
    "        \n",
    "        lim = 2 ** 31\n",
    "        \n",
    "        if result > (lim - 1):\n",
    "            return lim - 1\n",
    "        elif result < ((-1) * lim):\n",
    "            return (-1) * lim\n",
    "\n",
    "        return result"
   ]
  },
  {
   "cell_type": "code",
   "execution_count": 26,
   "id": "fa5971b3",
   "metadata": {},
   "outputs": [],
   "source": [
    "numeral = '0123456789'"
   ]
  },
  {
   "cell_type": "code",
   "execution_count": 27,
   "id": "6aa21869",
   "metadata": {},
   "outputs": [],
   "source": [
    "integer = { 'sign':'+', 'num':'123'}"
   ]
  },
  {
   "cell_type": "code",
   "execution_count": 28,
   "id": "56c9149d",
   "metadata": {},
   "outputs": [
    {
     "data": {
      "text/plain": [
       "{'sign': '+', 'num': '123'}"
      ]
     },
     "execution_count": 28,
     "metadata": {},
     "output_type": "execute_result"
    }
   ],
   "source": [
    "integer"
   ]
  },
  {
   "cell_type": "code",
   "execution_count": 9,
   "id": "34955587",
   "metadata": {},
   "outputs": [],
   "source": [
    "a = 'asdfasdef'"
   ]
  },
  {
   "cell_type": "code",
   "execution_count": 14,
   "id": "5de3f467",
   "metadata": {},
   "outputs": [
    {
     "data": {
      "text/plain": [
       "True"
      ]
     },
     "execution_count": 14,
     "metadata": {},
     "output_type": "execute_result"
    }
   ],
   "source": [
    " not in a"
   ]
  },
  {
   "cell_type": "code",
   "execution_count": 16,
   "id": "58b268da",
   "metadata": {},
   "outputs": [
    {
     "data": {
      "text/plain": [
       "123456789"
      ]
     },
     "execution_count": 16,
     "metadata": {},
     "output_type": "execute_result"
    }
   ],
   "source": [
    "int(numeral)"
   ]
  },
  {
   "cell_type": "code",
   "execution_count": 45,
   "id": "dbffb933",
   "metadata": {},
   "outputs": [
    {
     "name": "stdout",
     "output_type": "stream",
     "text": [
      "\n"
     ]
    },
    {
     "data": {
      "text/plain": [
       "123456789"
      ]
     },
     "execution_count": 45,
     "metadata": {},
     "output_type": "execute_result"
    }
   ],
   "source": [
    "Solution.myAtoi(numeral)"
   ]
  },
  {
   "cell_type": "code",
   "execution_count": 77,
   "id": "98d0e480",
   "metadata": {},
   "outputs": [
    {
     "name": "stdout",
     "output_type": "stream",
     "text": [
      "3\n"
     ]
    },
    {
     "data": {
      "text/plain": [
       "3"
      ]
     },
     "execution_count": 77,
     "metadata": {},
     "output_type": "execute_result"
    }
   ],
   "source": [
    "Solution.myAtoi('3.')"
   ]
  },
  {
   "cell_type": "code",
   "execution_count": null,
   "id": "68464e23",
   "metadata": {},
   "outputs": [],
   "source": []
  }
 ],
 "metadata": {
  "kernelspec": {
   "display_name": "Python 3",
   "language": "python",
   "name": "python3"
  },
  "language_info": {
   "codemirror_mode": {
    "name": "ipython",
    "version": 3
   },
   "file_extension": ".py",
   "mimetype": "text/x-python",
   "name": "python",
   "nbconvert_exporter": "python",
   "pygments_lexer": "ipython3",
   "version": "3.7.9"
  }
 },
 "nbformat": 4,
 "nbformat_minor": 5
}
