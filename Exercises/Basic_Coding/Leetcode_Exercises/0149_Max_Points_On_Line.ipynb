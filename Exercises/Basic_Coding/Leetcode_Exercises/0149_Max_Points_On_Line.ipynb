{
 "cells": [
  {
   "cell_type": "code",
   "execution_count": 29,
   "id": "39ab82fa",
   "metadata": {},
   "outputs": [],
   "source": [
    "class Solution:\n",
    "    def maxPoints(points):\n",
    "        line_dict = {}\n",
    "        if len(points) == 0:\n",
    "            return 0\n",
    "        elif len(points) == 1:\n",
    "            return 1\n",
    "        for i in range(len(points)-1):\n",
    "            j = set(range(i+1,len(points)))\n",
    "            for k in line_dict:\n",
    "                if i in line_dict[k]:\n",
    "                    j.difference(line_dict[k])\n",
    "\n",
    "            for k in j:\n",
    "                d_x = points[k][0] - points[i][0]\n",
    "                \n",
    "                if d_x == 0:\n",
    "                    key = 'v_' + str(points[k][0])\n",
    "                    if key in line_dict:\n",
    "                        line_dict[key].add(k)\n",
    "                    else:\n",
    "                        line_dict[key] = {i,k}\n",
    "                    continue\n",
    "                d_y = points[k][1] - points[i][1]\n",
    "                m = d_y / d_x\n",
    "                b = points[k][1] - m * points[k][0] + .00000001\n",
    "                key = str(int(100000*m))+'_'+str(int(100000*b))\n",
    "                if key in line_dict:\n",
    "                    line_dict[key].add(k)\n",
    "                else:\n",
    "                    line_dict[key] = {i,k}\n",
    "        most = 2\n",
    "        for i in line_dict:\n",
    "            L = len(line_dict[i])\n",
    "            if L > most:\n",
    "                most = L\n",
    "        return most"
   ]
  },
  {
   "cell_type": "code",
   "execution_count": 35,
   "id": "cbfde160",
   "metadata": {
    "scrolled": false
   },
   "outputs": [],
   "source": [
    "class Solution:\n",
    "    def maxPoints(points):\n",
    "        line_dict = {}\n",
    "        if len(points) == 0:\n",
    "            return 0\n",
    "        elif len(points) == 1:\n",
    "            return 1\n",
    "        for i in range(len(points)-1):\n",
    "            j = set(range(i+1,len(points)))\n",
    "            for k in line_dict:\n",
    "                if i in line_dict[k]:\n",
    "                    j.difference(line_dict[k])\n",
    "\n",
    "            for k in j:\n",
    "                print(i,k,points[i], points[k])\n",
    "                d_x = points[k][0] - points[i][0]\n",
    "                \n",
    "                if d_x == 0:\n",
    "                    key = 'v_' + str(points[k][0])\n",
    "                    if key in line_dict:\n",
    "                        line_dict[key].add(k)\n",
    "                    else:\n",
    "                        line_dict[key] = {i,k}\n",
    "                    continue\n",
    "                d_y = points[k][1] - points[i][1]\n",
    "                m = d_y / d_x\n",
    "                b = points[k][1] - m * points[k][0] + .000001\n",
    "                print(d_x, d_y,m, b,'\\n')\n",
    "                key = str(int(10000000*m))+'_'+str(int(1000*b))\n",
    "                if key in line_dict:\n",
    "                    line_dict[key].add(k)\n",
    "                else:\n",
    "                    line_dict[key] = {i,k}\n",
    "        most = 2\n",
    "        for i in line_dict:\n",
    "            print(i, line_dict[i])\n",
    "            L = len(line_dict[i])\n",
    "            if L > most:\n",
    "                most = L\n",
    "        return most\n",
    "                \n",
    "                    \n",
    "                        \n"
   ]
  },
  {
   "cell_type": "code",
   "execution_count": 36,
   "id": "1cac78d1",
   "metadata": {},
   "outputs": [
    {
     "name": "stdout",
     "output_type": "stream",
     "text": [
      "0 1 [5151, 5150] [0, 0]\n",
      "-5151 -5150 0.9998058629392351 1e-06 \n",
      "\n",
      "0 2 [5151, 5150] [5152, 5151]\n",
      "1 1 1.0 -0.999999 \n",
      "\n",
      "1 2 [0, 0] [5152, 5151]\n",
      "5152 5151 0.999805900621118 1e-06 \n",
      "\n",
      "9998058_0 {0, 1}\n",
      "10000000_-999 {0, 2}\n",
      "9998059_0 {1, 2}\n"
     ]
    },
    {
     "data": {
      "text/plain": [
       "2"
      ]
     },
     "execution_count": 36,
     "metadata": {},
     "output_type": "execute_result"
    }
   ],
   "source": [
    "Solution.maxPoints([[5151,5150],[0,0],[5152,5151]])"
   ]
  },
  {
   "cell_type": "code",
   "execution_count": 4,
   "id": "1a0377de",
   "metadata": {},
   "outputs": [],
   "source": [
    "import matplotlib.pyplot as plt"
   ]
  },
  {
   "cell_type": "code",
   "execution_count": 5,
   "id": "9ccf7b81",
   "metadata": {},
   "outputs": [
    {
     "data": {
      "text/plain": [
       "[<matplotlib.lines.Line2D at 0x7ffd25dd9950>]"
      ]
     },
     "execution_count": 5,
     "metadata": {},
     "output_type": "execute_result"
    },
    {
     "data": {
      "image/png": "[encoded data removed]",
      "text/plain": [
       "<Figure size 432x288 with 1 Axes>"
      ]
     },
     "metadata": {
      "needs_background": "light"
     },
     "output_type": "display_data"
    }
   ],
   "source": [
    "a = [[54,153],[1,3],[0,-72],[-3,3],[12,-22],[-60,-322],[0,-5],[-5,1],[5,5],[36,78],[3,-4],[5,0],[0,4],[-30,-197],[-5,0],[60,178],[0,0],[30,53],[24,28],[4,5],[2,-2],[-18,-147],[-24,-172],[-36,-222],[-42,-247],[2,3],[-12,-122],[-54,-297],[6,-47],[-5,3],[-48,-272],[-4,-2],[3,-2],[0,2],[48,128],[4,3],[2,4]]\n",
    "\n",
    "x = []\n",
    "y = []\n",
    "for i in a:\n",
    "    x.append(i[0])\n",
    "    y.append(i[1])\n",
    "    \n",
    "plt.plot(x,y, '.')"
   ]
  },
  {
   "cell_type": "code",
   "execution_count": null,
   "id": "af42f61e",
   "metadata": {},
   "outputs": [],
   "source": []
  },
  {
   "cell_type": "code",
   "execution_count": 24,
   "id": "0265bc3b",
   "metadata": {},
   "outputs": [],
   "source": [
    "a = {1:[1,1], 2:[1,2],3:[5,2] }"
   ]
  },
  {
   "cell_type": "code",
   "execution_count": 26,
   "id": "c987f6dd",
   "metadata": {},
   "outputs": [],
   "source": [
    "b = list(a.values())"
   ]
  },
  {
   "cell_type": "code",
   "execution_count": 115,
   "id": "51b530e9",
   "metadata": {},
   "outputs": [
    {
     "name": "stdout",
     "output_type": "stream",
     "text": [
      "[54, 153]\n",
      "[0, -72]\n",
      "[-30, -197]\n"
     ]
    }
   ],
   "source": [
    "print(a[0])\n",
    "print(a[2])\n",
    "print(a[13])"
   ]
  },
  {
   "cell_type": "code",
   "execution_count": null,
   "id": "f66f5e72",
   "metadata": {},
   "outputs": [],
   "source": []
  },
  {
   "cell_type": "code",
   "execution_count": 32,
   "id": "27514d71",
   "metadata": {},
   "outputs": [
    {
     "data": {
      "text/plain": [
       "dict_keys([1, 2, 3])"
      ]
     },
     "execution_count": 32,
     "metadata": {},
     "output_type": "execute_result"
    }
   ],
   "source": [
    "a.keys()"
   ]
  },
  {
   "cell_type": "code",
   "execution_count": 33,
   "id": "f4cf68ab",
   "metadata": {},
   "outputs": [],
   "source": [
    "c = {}"
   ]
  },
  {
   "cell_type": "code",
   "execution_count": 34,
   "id": "08bf5e5c",
   "metadata": {},
   "outputs": [
    {
     "data": {
      "text/plain": [
       "dict_keys([])"
      ]
     },
     "execution_count": 34,
     "metadata": {},
     "output_type": "execute_result"
    }
   ],
   "source": [
    "c.keys()"
   ]
  },
  {
   "cell_type": "code",
   "execution_count": 40,
   "id": "89c80bb4",
   "metadata": {},
   "outputs": [
    {
     "data": {
      "text/plain": [
       "False"
      ]
     },
     "execution_count": 40,
     "metadata": {},
     "output_type": "execute_result"
    }
   ],
   "source": [
    "1 and 3 in a[2]"
   ]
  },
  {
   "cell_type": "code",
   "execution_count": 48,
   "id": "503155c8",
   "metadata": {},
   "outputs": [],
   "source": [
    "i = 20\n",
    "p=set(range(i,50))"
   ]
  },
  {
   "cell_type": "code",
   "execution_count": 49,
   "id": "37e16ba9",
   "metadata": {},
   "outputs": [
    {
     "data": {
      "text/plain": [
       "{20,\n",
       " 21,\n",
       " 22,\n",
       " 23,\n",
       " 24,\n",
       " 25,\n",
       " 26,\n",
       " 27,\n",
       " 28,\n",
       " 29,\n",
       " 30,\n",
       " 31,\n",
       " 32,\n",
       " 33,\n",
       " 34,\n",
       " 35,\n",
       " 36,\n",
       " 37,\n",
       " 38,\n",
       " 39,\n",
       " 40,\n",
       " 41,\n",
       " 42,\n",
       " 43,\n",
       " 44,\n",
       " 45,\n",
       " 46,\n",
       " 47,\n",
       " 48,\n",
       " 49}"
      ]
     },
     "execution_count": 49,
     "metadata": {},
     "output_type": "execute_result"
    }
   ],
   "source": [
    "p"
   ]
  },
  {
   "cell_type": "code",
   "execution_count": 50,
   "id": "ab24c755",
   "metadata": {},
   "outputs": [],
   "source": [
    "p.remove(48)"
   ]
  },
  {
   "cell_type": "code",
   "execution_count": 51,
   "id": "3ca1e17f",
   "metadata": {},
   "outputs": [
    {
     "data": {
      "text/plain": [
       "{20,\n",
       " 21,\n",
       " 22,\n",
       " 23,\n",
       " 24,\n",
       " 25,\n",
       " 26,\n",
       " 27,\n",
       " 28,\n",
       " 29,\n",
       " 30,\n",
       " 31,\n",
       " 32,\n",
       " 33,\n",
       " 34,\n",
       " 35,\n",
       " 36,\n",
       " 37,\n",
       " 38,\n",
       " 39,\n",
       " 40,\n",
       " 41,\n",
       " 42,\n",
       " 43,\n",
       " 44,\n",
       " 45,\n",
       " 46,\n",
       " 47,\n",
       " 49}"
      ]
     },
     "execution_count": 51,
     "metadata": {},
     "output_type": "execute_result"
    }
   ],
   "source": [
    "p"
   ]
  },
  {
   "cell_type": "code",
   "execution_count": 61,
   "id": "636b645d",
   "metadata": {},
   "outputs": [
    {
     "data": {
      "text/plain": [
       "'166'"
      ]
     },
     "execution_count": 61,
     "metadata": {},
     "output_type": "execute_result"
    }
   ],
   "source": [
    "m = 5/3\n",
    "str(int(100*m))"
   ]
  },
  {
   "cell_type": "code",
   "execution_count": 65,
   "id": "7f693663",
   "metadata": {},
   "outputs": [
    {
     "ename": "AttributeError",
     "evalue": "'list' object has no attribute 'concatenate'",
     "output_type": "error",
     "traceback": [
      "\u001b[0;31m---------------------------------------------------------------------------\u001b[0m",
      "\u001b[0;31mAttributeError\u001b[0m                            Traceback (most recent call last)",
      "\u001b[0;32m<ipython-input-65-470eb4140d4e>\u001b[0m in \u001b[0;36m<module>\u001b[0;34m\u001b[0m\n\u001b[0;32m----> 1\u001b[0;31m \u001b[0mlist\u001b[0m\u001b[0;34m(\u001b[0m\u001b[0ma\u001b[0m\u001b[0;34m.\u001b[0m\u001b[0mvalues\u001b[0m\u001b[0;34m(\u001b[0m\u001b[0;34m)\u001b[0m\u001b[0;34m)\u001b[0m\u001b[0;34m.\u001b[0m\u001b[0mconcatenate\u001b[0m\u001b[0;34m(\u001b[0m\u001b[0;34m)\u001b[0m\u001b[0;34m\u001b[0m\u001b[0;34m\u001b[0m\u001b[0m\n\u001b[0m",
      "\u001b[0;31mAttributeError\u001b[0m: 'list' object has no attribute 'concatenate'"
     ]
    }
   ],
   "source": [
    "list(a.values()).concatenate()"
   ]
  },
  {
   "cell_type": "code",
   "execution_count": 112,
   "id": "400d0a0a",
   "metadata": {},
   "outputs": [
    {
     "data": {
      "text/plain": [
       "71"
      ]
     },
     "execution_count": 112,
     "metadata": {},
     "output_type": "execute_result"
    }
   ],
   "source": [
    "int(71.9)"
   ]
  },
  {
   "cell_type": "code",
   "execution_count": null,
   "id": "2fc42c29",
   "metadata": {},
   "outputs": [],
   "source": []
  }
 ],
 "metadata": {
  "kernelspec": {
   "display_name": "Python 3",
   "language": "python",
   "name": "python3"
  },
  "language_info": {
   "codemirror_mode": {
    "name": "ipython",
    "version": 3
   },
   "file_extension": ".py",
   "mimetype": "text/x-python",
   "name": "python",
   "nbconvert_exporter": "python",
   "pygments_lexer": "ipython3",
   "version": "3.7.9"
  }
 },
 "nbformat": 4,
 "nbformat_minor": 5
}
