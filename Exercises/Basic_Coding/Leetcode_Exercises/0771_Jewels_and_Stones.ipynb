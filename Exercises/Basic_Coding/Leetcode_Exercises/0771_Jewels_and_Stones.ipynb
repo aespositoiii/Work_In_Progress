{
 "cells": [
  {
   "cell_type": "code",
   "execution_count": 5,
   "id": "82fd8c28",
   "metadata": {},
   "outputs": [],
   "source": [
    "class Solution:\n",
    "    def numJewelsInStones(jewels, stones):\n",
    "        j_set = set(jewels)\n",
    "        j = 0\n",
    "        for i in stones:\n",
    "            if i in j_set:\n",
    "                j+=1\n",
    "        return j\n",
    "        "
   ]
  },
  {
   "cell_type": "code",
   "execution_count": 6,
   "id": "bd5a716e",
   "metadata": {},
   "outputs": [
    {
     "data": {
      "text/plain": [
       "7"
      ]
     },
     "execution_count": 6,
     "metadata": {},
     "output_type": "execute_result"
    }
   ],
   "source": [
    "j = \"aA\"\n",
    "s = \"aaAAAbbdfedfAA\"\n",
    "Solution.numJewelsInStones(j,s)"
   ]
  },
  {
   "cell_type": "code",
   "execution_count": null,
   "id": "269b9f34",
   "metadata": {},
   "outputs": [],
   "source": []
  }
 ],
 "metadata": {
  "kernelspec": {
   "display_name": "Python 3",
   "language": "python",
   "name": "python3"
  },
  "language_info": {
   "codemirror_mode": {
    "name": "ipython",
    "version": 3
   },
   "file_extension": ".py",
   "mimetype": "text/x-python",
   "name": "python",
   "nbconvert_exporter": "python",
   "pygments_lexer": "ipython3",
   "version": "3.7.9"
  }
 },
 "nbformat": 4,
 "nbformat_minor": 5
}
