{
 "cells": [
  {
   "cell_type": "code",
   "execution_count": 5,
   "id": "62c7093d",
   "metadata": {},
   "outputs": [],
   "source": [
    "class Solution:\n",
    "    def maximumWealth(accounts):\n",
    "        wm=0\n",
    "        for i in accounts:\n",
    "            w=0\n",
    "            for j in i:\n",
    "                w+=j\n",
    "            if w > wm:\n",
    "                wm = w\n",
    "        return wm\n",
    "            "
   ]
  },
  {
   "cell_type": "code",
   "execution_count": 2,
   "id": "2dcff2b3",
   "metadata": {},
   "outputs": [],
   "source": [
    "accountList = [[1,2,3,4],[4,5,6,7],[8,9,10,11]]"
   ]
  },
  {
   "cell_type": "code",
   "execution_count": 3,
   "id": "1fbad978",
   "metadata": {},
   "outputs": [
    {
     "data": {
      "text/plain": [
       "[[1, 2, 3, 4], [4, 5, 6, 7], [8, 9, 10, 11]]"
      ]
     },
     "execution_count": 3,
     "metadata": {},
     "output_type": "execute_result"
    }
   ],
   "source": [
    "accountList"
   ]
  },
  {
   "cell_type": "code",
   "execution_count": 4,
   "id": "8471105b",
   "metadata": {},
   "outputs": [
    {
     "name": "stdout",
     "output_type": "stream",
     "text": [
      "[1, 2, 3, 4]\n",
      "[4, 5, 6, 7]\n",
      "[8, 9, 10, 11]\n"
     ]
    }
   ],
   "source": [
    "for i in accountList:\n",
    "    print(i)"
   ]
  },
  {
   "cell_type": "code",
   "execution_count": 6,
   "id": "6cdf36cb",
   "metadata": {},
   "outputs": [
    {
     "data": {
      "text/plain": [
       "38"
      ]
     },
     "execution_count": 6,
     "metadata": {},
     "output_type": "execute_result"
    }
   ],
   "source": [
    "Solution.maximumWealth(accountList)"
   ]
  },
  {
   "cell_type": "code",
   "execution_count": null,
   "id": "84c4a48a",
   "metadata": {},
   "outputs": [],
   "source": [
    "accountList"
   ]
  }
 ],
 "metadata": {
  "kernelspec": {
   "display_name": "Python 3",
   "language": "python",
   "name": "python3"
  },
  "language_info": {
   "codemirror_mode": {
    "name": "ipython",
    "version": 3
   },
   "file_extension": ".py",
   "mimetype": "text/x-python",
   "name": "python",
   "nbconvert_exporter": "python",
   "pygments_lexer": "ipython3",
   "version": "3.7.9"
  }
 },
 "nbformat": 4,
 "nbformat_minor": 5
}
