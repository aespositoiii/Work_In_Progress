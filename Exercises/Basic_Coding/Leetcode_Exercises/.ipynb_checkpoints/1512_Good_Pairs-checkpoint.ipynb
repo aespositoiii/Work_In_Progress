{
 "cells": [
  {
   "cell_type": "code",
   "execution_count": 113,
   "id": "6aa5fd6d",
   "metadata": {},
   "outputs": [],
   "source": [
    "class SubrectangleQueries:\n",
    "\n",
    "    def __init__(self, rectangle):\n",
    "        SubrectangleQueries.rect = rectangle\n",
    "\n",
    "    def updateSubrectangle(self, row1, col1, row2, col2, newValue):\n",
    "        for i in range(row1,row2+1):\n",
    "            self.rect[i][col1:col2+1] = [newValue] * (col2 - col1+1)\n",
    "            \n",
    "    def getValue(self, row, col):\n",
    "        return self.rect[row][col]"
   ]
  },
  {
   "cell_type": "code",
   "execution_count": 114,
   "id": "21698697",
   "metadata": {},
   "outputs": [],
   "source": [
    "rectangle = [[1,2,3,4,5],[6,7,8,9,10],[11,12,13,14,15],[16,17,18,19,20],[21,22,23,24,25]]"
   ]
  },
  {
   "cell_type": "code",
   "execution_count": 115,
   "id": "99355d30",
   "metadata": {},
   "outputs": [],
   "source": [
    "obj = SubrectangleQueries(rectangle)"
   ]
  },
  {
   "cell_type": "code",
   "execution_count": 116,
   "id": "85ea44d2",
   "metadata": {},
   "outputs": [],
   "source": [
    "obj.updateSubrectangle(0,0,2,2,3)"
   ]
  },
  {
   "cell_type": "code",
   "execution_count": 117,
   "id": "496b63b7",
   "metadata": {},
   "outputs": [
    {
     "data": {
      "text/plain": [
       "[[3, 3, 3, 4, 5],\n",
       " [3, 3, 3, 9, 10],\n",
       " [3, 3, 3, 14, 15],\n",
       " [16, 17, 18, 19, 20],\n",
       " [21, 22, 23, 24, 25]]"
      ]
     },
     "execution_count": 117,
     "metadata": {},
     "output_type": "execute_result"
    }
   ],
   "source": [
    "obj.rect"
   ]
  },
  {
   "cell_type": "code",
   "execution_count": 77,
   "id": "1220b8c2",
   "metadata": {},
   "outputs": [
    {
     "name": "stdout",
     "output_type": "stream",
     "text": [
      "[1, 2]\n",
      "[4, 5]\n"
     ]
    }
   ],
   "source": [
    "for i in range(0,1+1):\n",
    "    print(rectangle[i][0:1+1])\n",
    "    print([2] * (1-))"
   ]
  },
  {
   "cell_type": "code",
   "execution_count": 119,
   "id": "2d74d577",
   "metadata": {},
   "outputs": [
    {
     "data": {
      "text/plain": [
       "25"
      ]
     },
     "execution_count": 119,
     "metadata": {},
     "output_type": "execute_result"
    }
   ],
   "source": [
    "obj.getValue(4,4)"
   ]
  },
  {
   "cell_type": "code",
   "execution_count": null,
   "id": "a5be9965",
   "metadata": {},
   "outputs": [],
   "source": [
    "class SubrectangleQueries:\n",
    "\n",
    "    def __init__(self, rectangle):\n",
    "        SubrectangleQueries.rect = rectangle\n",
    "\n",
    "    def updateSubrectangle(self, row1, col1, row2, col2, newValue):\n",
    "        ra = min(row1, row2)\n",
    "        rb = max(row1, row2)+1\n",
    "        ca = min(col1, col2)\n",
    "        cb = max(col1, col2)+1\n",
    "        for i in range(ra,rb):\n",
    "            self.rect[i][ca:cb] = [newValue] * (cb - ca)\n",
    "            \n",
    "    def getValue(self, row, col):\n",
    "        return self.rect[row][col]"
   ]
  }
 ],
 "metadata": {
  "kernelspec": {
   "display_name": "Python 3",
   "language": "python",
   "name": "python3"
  },
  "language_info": {
   "codemirror_mode": {
    "name": "ipython",
    "version": 3
   },
   "file_extension": ".py",
   "mimetype": "text/x-python",
   "name": "python",
   "nbconvert_exporter": "python",
   "pygments_lexer": "ipython3",
   "version": "3.7.9"
  }
 },
 "nbformat": 4,
 "nbformat_minor": 5
}
