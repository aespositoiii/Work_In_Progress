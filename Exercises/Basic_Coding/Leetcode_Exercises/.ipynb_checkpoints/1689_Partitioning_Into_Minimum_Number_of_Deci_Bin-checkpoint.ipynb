{
 "cells": [
  {
   "cell_type": "code",
   "execution_count": 27,
   "id": "b88d1fc8",
   "metadata": {},
   "outputs": [],
   "source": [
    "class Solution:\n",
    "    def runningSum(nums):\n",
    "        out = [[]] * len(nums)\n",
    "        ind = len(nums)-1\n",
    "        def runsum(nums, out, ind):\n",
    "            if ind == 0:\n",
    "                out[0] = nums[0]\n",
    "\n",
    "            else:\n",
    "                ind -= 1\n",
    "                out = runsum(nums, out, ind)\n",
    "                ind += 1\n",
    "                out[ind] = nums[ind] + out[ind-1]\n",
    "                \n",
    "            return out\n",
    "        \n",
    "        return runsum(nums, out, ind)"
   ]
  },
  {
   "cell_type": "code",
   "execution_count": 43,
   "id": "70208e1e",
   "metadata": {},
   "outputs": [],
   "source": [
    "class Solution:\n",
    "    def runningSum(nums):\n",
    "        out = [[]] * len(nums)\n",
    "        def runsum(nums, out, ind):\n",
    "            if ind == 0:\n",
    "                out[0] = nums[0]\n",
    "\n",
    "            else:\n",
    "                ind -= 1\n",
    "                out = runsum(nums, out, ind)\n",
    "                out[ind+1] = nums[ind+1] + out[ind]\n",
    "                \n",
    "            return out\n",
    "        \n",
    "        return runsum(nums, out, len(nums)-1)"
   ]
  },
  {
   "cell_type": "code",
   "execution_count": 49,
   "id": "e2852520",
   "metadata": {},
   "outputs": [],
   "source": [
    "class Solution:\n",
    "    def runningSum(nums):\n",
    "        out = []\n",
    "        def runsum(nums, out, ind):\n",
    "            if ind == 0:\n",
    "                out.append(nums[0])\n",
    "\n",
    "            else:\n",
    "                ind -= 1\n",
    "                out = runsum(nums, out, ind)\n",
    "                out.append(nums[ind+1] + out[-1])\n",
    "                \n",
    "            return out\n",
    "        \n",
    "        return runsum(nums, out, len(nums)-1)"
   ]
  },
  {
   "cell_type": "code",
   "execution_count": 50,
   "id": "aad6f05b",
   "metadata": {},
   "outputs": [
    {
     "data": {
      "text/plain": [
       "[1, 3, 6, 10, 15]"
      ]
     },
     "execution_count": 50,
     "metadata": {},
     "output_type": "execute_result"
    }
   ],
   "source": [
    "numbers = [1,2,3,4,5]\n",
    "Solution.runningSum(numbers)\n"
   ]
  },
  {
   "cell_type": "code",
   "execution_count": 2,
   "id": "9e6a306a",
   "metadata": {},
   "outputs": [
    {
     "data": {
      "text/plain": [
       "[[], [], [], [], [], [], [], [], [], []]"
      ]
     },
     "execution_count": 2,
     "metadata": {},
     "output_type": "execute_result"
    }
   ],
   "source": [
    "out"
   ]
  },
  {
   "cell_type": "code",
   "execution_count": 3,
   "id": "807c1058",
   "metadata": {},
   "outputs": [],
   "source": [
    "out[0] = 1"
   ]
  },
  {
   "cell_type": "code",
   "execution_count": 4,
   "id": "42dbae78",
   "metadata": {},
   "outputs": [
    {
     "data": {
      "text/plain": [
       "[1, [], [], [], [], [], [], [], [], []]"
      ]
     },
     "execution_count": 4,
     "metadata": {},
     "output_type": "execute_result"
    }
   ],
   "source": [
    "out"
   ]
  },
  {
   "cell_type": "code",
   "execution_count": 58,
   "id": "911a000a",
   "metadata": {},
   "outputs": [
    {
     "data": {
      "text/plain": [
       "5"
      ]
     },
     "execution_count": 58,
     "metadata": {},
     "output_type": "execute_result"
    }
   ],
   "source": [
    "a = \"12345\"\n",
    "a = list(a)\n",
    "for i in range(len(a)):\n",
    "    a[i] = int(a[i])\n",
    "max(a)"
   ]
  },
  {
   "cell_type": "code",
   "execution_count": 54,
   "id": "a88abd74",
   "metadata": {},
   "outputs": [
    {
     "data": {
      "text/plain": [
       "['1', '2', '3', '4', '5']"
      ]
     },
     "execution_count": 54,
     "metadata": {},
     "output_type": "execute_result"
    }
   ],
   "source": [
    "for "
   ]
  },
  {
   "cell_type": "code",
   "execution_count": 55,
   "id": "7f6a2592",
   "metadata": {},
   "outputs": [
    {
     "ename": "TypeError",
     "evalue": "int() argument must be a string, a bytes-like object or a number, not 'list'",
     "output_type": "error",
     "traceback": [
      "\u001b[0;31m---------------------------------------------------------------------------\u001b[0m",
      "\u001b[0;31mTypeError\u001b[0m                                 Traceback (most recent call last)",
      "\u001b[0;32m<ipython-input-55-f777a9f5e330>\u001b[0m in \u001b[0;36m<module>\u001b[0;34m\u001b[0m\n\u001b[0;32m----> 1\u001b[0;31m \u001b[0mint\u001b[0m\u001b[0;34m(\u001b[0m\u001b[0mlist\u001b[0m\u001b[0;34m(\u001b[0m\u001b[0ma\u001b[0m\u001b[0;34m)\u001b[0m\u001b[0;34m)\u001b[0m\u001b[0;34m\u001b[0m\u001b[0;34m\u001b[0m\u001b[0m\n\u001b[0m",
      "\u001b[0;31mTypeError\u001b[0m: int() argument must be a string, a bytes-like object or a number, not 'list'"
     ]
    }
   ],
   "source": []
  },
  {
   "cell_type": "code",
   "execution_count": null,
   "id": "de12d22c",
   "metadata": {},
   "outputs": [],
   "source": []
  }
 ],
 "metadata": {
  "kernelspec": {
   "display_name": "Python 3",
   "language": "python",
   "name": "python3"
  },
  "language_info": {
   "codemirror_mode": {
    "name": "ipython",
    "version": 3
   },
   "file_extension": ".py",
   "mimetype": "text/x-python",
   "name": "python",
   "nbconvert_exporter": "python",
   "pygments_lexer": "ipython3",
   "version": "3.7.9"
  }
 },
 "nbformat": 4,
 "nbformat_minor": 5
}
