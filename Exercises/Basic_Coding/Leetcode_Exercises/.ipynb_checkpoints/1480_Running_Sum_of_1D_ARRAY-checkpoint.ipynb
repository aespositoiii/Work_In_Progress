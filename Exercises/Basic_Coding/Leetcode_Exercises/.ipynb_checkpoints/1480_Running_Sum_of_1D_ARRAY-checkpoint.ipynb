{
 "cells": [
  {
   "cell_type": "code",
   "execution_count": 27,
   "id": "c438f301",
   "metadata": {},
   "outputs": [],
   "source": [
    "class Solution:\n",
    "    def runningSum(nums):\n",
    "        out = [[]] * len(nums)\n",
    "        ind = len(nums)-1\n",
    "        def runsum(nums, out, ind):\n",
    "            if ind == 0:\n",
    "                out[0] = nums[0]\n",
    "\n",
    "            else:\n",
    "                ind -= 1\n",
    "                out = runsum(nums, out, ind)\n",
    "                ind += 1\n",
    "                out[ind] = nums[ind] + out[ind-1]\n",
    "                \n",
    "            return out\n",
    "        \n",
    "        return runsum(nums, out, ind)"
   ]
  },
  {
   "cell_type": "code",
   "execution_count": 43,
   "id": "55f17f71",
   "metadata": {},
   "outputs": [],
   "source": [
    "class Solution:\n",
    "    def runningSum(nums):\n",
    "        out = [[]] * len(nums)\n",
    "        def runsum(nums, out, ind):\n",
    "            if ind == 0:\n",
    "                out[0] = nums[0]\n",
    "\n",
    "            else:\n",
    "                ind -= 1\n",
    "                out = runsum(nums, out, ind)\n",
    "                out[ind+1] = nums[ind+1] + out[ind]\n",
    "                \n",
    "            return out\n",
    "        \n",
    "        return runsum(nums, out, len(nums)-1)"
   ]
  },
  {
   "cell_type": "code",
   "execution_count": 49,
   "id": "7a799ad7",
   "metadata": {},
   "outputs": [],
   "source": [
    "class Solution:\n",
    "    def runningSum(nums):\n",
    "        out = []\n",
    "        def runsum(nums, out, ind):\n",
    "            if ind == 0:\n",
    "                out.append(nums[0])\n",
    "\n",
    "            else:\n",
    "                ind -= 1\n",
    "                out = runsum(nums, out, ind)\n",
    "                out.append(nums[ind+1] + out[-1])\n",
    "                \n",
    "            return out\n",
    "        \n",
    "        return runsum(nums, out, len(nums)-1)"
   ]
  },
  {
   "cell_type": "code",
   "execution_count": 50,
   "id": "d3665287",
   "metadata": {},
   "outputs": [
    {
     "data": {
      "text/plain": [
       "[1, 3, 6, 10, 15]"
      ]
     },
     "execution_count": 50,
     "metadata": {},
     "output_type": "execute_result"
    }
   ],
   "source": [
    "numbers = [1,2,3,4,5]\n",
    "Solution.runningSum(numbers)\n"
   ]
  },
  {
   "cell_type": "code",
   "execution_count": 2,
   "id": "23963ae9",
   "metadata": {},
   "outputs": [
    {
     "data": {
      "text/plain": [
       "[[], [], [], [], [], [], [], [], [], []]"
      ]
     },
     "execution_count": 2,
     "metadata": {},
     "output_type": "execute_result"
    }
   ],
   "source": [
    "out"
   ]
  },
  {
   "cell_type": "code",
   "execution_count": 3,
   "id": "f3039bab",
   "metadata": {},
   "outputs": [],
   "source": [
    "out[0] = 1"
   ]
  },
  {
   "cell_type": "code",
   "execution_count": 4,
   "id": "0c0fb611",
   "metadata": {},
   "outputs": [
    {
     "data": {
      "text/plain": [
       "[1, [], [], [], [], [], [], [], [], []]"
      ]
     },
     "execution_count": 4,
     "metadata": {},
     "output_type": "execute_result"
    }
   ],
   "source": [
    "out"
   ]
  }
 ],
 "metadata": {
  "kernelspec": {
   "display_name": "Python 3",
   "language": "python",
   "name": "python3"
  },
  "language_info": {
   "codemirror_mode": {
    "name": "ipython",
    "version": 3
   },
   "file_extension": ".py",
   "mimetype": "text/x-python",
   "name": "python",
   "nbconvert_exporter": "python",
   "pygments_lexer": "ipython3",
   "version": "3.7.9"
  }
 },
 "nbformat": 4,
 "nbformat_minor": 5
}
