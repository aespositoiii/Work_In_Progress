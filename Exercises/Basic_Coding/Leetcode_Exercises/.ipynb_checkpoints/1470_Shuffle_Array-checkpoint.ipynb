{
 "cells": [
  {
   "cell_type": "code",
   "execution_count": 161,
   "id": "7a57f9b8",
   "metadata": {},
   "outputs": [],
   "source": [
    "class Solution:\n",
    "    def shuffle(nums):\n",
    "        n = len(nums) // 2\n",
    "        out = [[]] * n * 2\n",
    "        for i in range(len(nums)):\n",
    "            if i < n:\n",
    "                out[2*i] = nums[i]\n",
    "            else:\n",
    "                out[2*(i%n)+1] = nums[i]\n",
    "\n",
    "        return out        "
   ]
  },
  {
   "cell_type": "code",
   "execution_count": 162,
   "id": "ece6aafa",
   "metadata": {},
   "outputs": [
    {
     "data": {
      "text/plain": [
       "[1, 5, 2, 6, 3, 7, 4, 8]"
      ]
     },
     "execution_count": 162,
     "metadata": {},
     "output_type": "execute_result"
    }
   ],
   "source": [
    "numbers = [1,2,3,4,5,6,7,8]\n",
    "Solution.shuffle(numbers)"
   ]
  },
  {
   "cell_type": "code",
   "execution_count": 194,
   "id": "1e98fcc2",
   "metadata": {},
   "outputs": [],
   "source": [
    "class Solution:\n",
    "    def shuffle(nums):\n",
    "        a = nums[:n]\n",
    "        b = nums[n:]\n",
    "        out = [[]] * (2*n)\n",
    "        for i in range(n):\n",
    "            out[2*i] = a[i]\n",
    "            out[2*i+1] = b[i]\n",
    "        return out          "
   ]
  },
  {
   "cell_type": "code",
   "execution_count": 195,
   "id": "aa4596c4",
   "metadata": {},
   "outputs": [
    {
     "data": {
      "text/plain": [
       "[1, 5, 2, 6, 3, 7, 4, 8]"
      ]
     },
     "execution_count": 195,
     "metadata": {},
     "output_type": "execute_result"
    }
   ],
   "source": [
    "numbers = [1,2,3,4,5,6,7,8]\n",
    "Solution.shuffle(numbers)"
   ]
  },
  {
   "cell_type": "code",
   "execution_count": 167,
   "id": "7fc869da",
   "metadata": {},
   "outputs": [
    {
     "name": "stdout",
     "output_type": "stream",
     "text": [
      "[1, 2, 3, 4]\n",
      "[5, 6, 7, 8]\n"
     ]
    }
   ],
   "source": [
    "print(numbers[:(len(numbers)//2)])\n",
    "print(numbers[((len(numbers)//2)):])"
   ]
  },
  {
   "cell_type": "code",
   "execution_count": 184,
   "id": "2f89c3d9",
   "metadata": {},
   "outputs": [
    {
     "data": {
      "text/plain": [
       "[5, 6, 7, 8]"
      ]
     },
     "execution_count": 184,
     "metadata": {},
     "output_type": "execute_result"
    }
   ],
   "source": [
    "b = nums[n:]\n",
    "b"
   ]
  },
  {
   "cell_type": "code",
   "execution_count": 202,
   "id": "4ffa4323",
   "metadata": {},
   "outputs": [],
   "source": [
    "class Solution:\n",
    "    def shuffle(nums):\n",
    "        a = nums[:n]\n",
    "        b = nums[n:]\n",
    "        out = [[]] * (2*n)\n",
    "        for i in range(2*n):\n",
    "            if i%2 == 0:\n",
    "                out[i] = a[i//2]\n",
    "            else:\n",
    "                out[i] = b[i//2]\n",
    "        return out          "
   ]
  },
  {
   "cell_type": "code",
   "execution_count": 203,
   "id": "8fe4e47e",
   "metadata": {},
   "outputs": [
    {
     "data": {
      "text/plain": [
       "[1, 5, 2, 6, 3, 7, 4, 8]"
      ]
     },
     "execution_count": 203,
     "metadata": {},
     "output_type": "execute_result"
    }
   ],
   "source": [
    "numbers = [1,2,3,4,5,6,7,8]\n",
    "Solution.shuffle(numbers)"
   ]
  },
  {
   "cell_type": "code",
   "execution_count": 208,
   "id": "cf13ac3d",
   "metadata": {},
   "outputs": [],
   "source": [
    "class Solution:\n",
    "    def shuffle(nums):\n",
    "        a = nums[:n]\n",
    "        b = nums[n:]\n",
    "        out = [[]] * (2*n)\n",
    "        for i in range(n):\n",
    "            out[2*i] = nums[i]\n",
    "            out[2*i+1] = nums[n+i]\n",
    "        return out          "
   ]
  },
  {
   "cell_type": "code",
   "execution_count": 209,
   "id": "aa82209f",
   "metadata": {},
   "outputs": [
    {
     "data": {
      "text/plain": [
       "[1, 5, 2, 6, 3, 7, 4, 8]"
      ]
     },
     "execution_count": 209,
     "metadata": {},
     "output_type": "execute_result"
    }
   ],
   "source": [
    "numbers = [1,2,3,4,5,6,7,8]\n",
    "Solution.shuffle(numbers)"
   ]
  },
  {
   "cell_type": "code",
   "execution_count": null,
   "id": "fae5b121",
   "metadata": {},
   "outputs": [],
   "source": []
  }
 ],
 "metadata": {
  "kernelspec": {
   "display_name": "Python 3",
   "language": "python",
   "name": "python3"
  },
  "language_info": {
   "codemirror_mode": {
    "name": "ipython",
    "version": 3
   },
   "file_extension": ".py",
   "mimetype": "text/x-python",
   "name": "python",
   "nbconvert_exporter": "python",
   "pygments_lexer": "ipython3",
   "version": "3.7.9"
  }
 },
 "nbformat": 4,
 "nbformat_minor": 5
}
