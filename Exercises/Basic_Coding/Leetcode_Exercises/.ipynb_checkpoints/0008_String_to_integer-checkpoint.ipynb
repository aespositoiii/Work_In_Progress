{
 "cells": [
  {
   "cell_type": "code",
   "execution_count": 47,
   "id": "66d47065",
   "metadata": {},
   "outputs": [],
   "source": [
    "class Solution:\n",
    "    def myAtoi(s):\n",
    "        \n",
    "        i = 0\n",
    "        L = len(s)-1\n",
    "        sign = 1\n",
    "        \n",
    "        if (L == 0) | (s == ''):\n",
    "            return 0\n",
    "        \n",
    "        while (i < L) & (s[i] == ' '):\n",
    "             i+=1\n",
    "                \n",
    "        if (i < L) & ( s[i] in '+-'):\n",
    "            \n",
    "            if s[i] == '-':\n",
    "                sign = -1\n",
    "            \n",
    "            i+=1\n",
    "        \n",
    "        int_start = i\n",
    "        print()\n",
    "        \n",
    "        if s[i] not in '0123456789':\n",
    "            return 0\n",
    "        \n",
    "        while (s[i] in '0123456789'):\n",
    "            i+=1\n",
    "            if i > L:\n",
    "                break\n",
    "            \n",
    "        result = sign * int(s[int_start:(i)])\n",
    "        \n",
    "        lim = 2 ** 31\n",
    "        \n",
    "        if result > (lim - 1):\n",
    "            return lim - 1\n",
    "        elif result < ((-1) * lim):\n",
    "            return (-1) * lim\n",
    "        \n",
    "        return result"
   ]
  },
  {
   "cell_type": "code",
   "execution_count": 26,
   "id": "67443887",
   "metadata": {},
   "outputs": [],
   "source": [
    "numeral = '0123456789'"
   ]
  },
  {
   "cell_type": "code",
   "execution_count": 27,
   "id": "62225e6c",
   "metadata": {},
   "outputs": [],
   "source": [
    "integer = { 'sign':'+', 'num':'123'}"
   ]
  },
  {
   "cell_type": "code",
   "execution_count": 28,
   "id": "0902bc8f",
   "metadata": {},
   "outputs": [
    {
     "data": {
      "text/plain": [
       "{'sign': '+', 'num': '123'}"
      ]
     },
     "execution_count": 28,
     "metadata": {},
     "output_type": "execute_result"
    }
   ],
   "source": [
    "integer"
   ]
  },
  {
   "cell_type": "code",
   "execution_count": 9,
   "id": "c441569d",
   "metadata": {},
   "outputs": [],
   "source": [
    "a = 'asdfasdef'"
   ]
  },
  {
   "cell_type": "code",
   "execution_count": 14,
   "id": "90952035",
   "metadata": {},
   "outputs": [
    {
     "data": {
      "text/plain": [
       "True"
      ]
     },
     "execution_count": 14,
     "metadata": {},
     "output_type": "execute_result"
    }
   ],
   "source": [
    " not in a"
   ]
  },
  {
   "cell_type": "code",
   "execution_count": 16,
   "id": "1331d2a7",
   "metadata": {},
   "outputs": [
    {
     "data": {
      "text/plain": [
       "123456789"
      ]
     },
     "execution_count": 16,
     "metadata": {},
     "output_type": "execute_result"
    }
   ],
   "source": [
    "int(numeral)"
   ]
  },
  {
   "cell_type": "code",
   "execution_count": 45,
   "id": "e2780d58",
   "metadata": {},
   "outputs": [
    {
     "name": "stdout",
     "output_type": "stream",
     "text": [
      "\n"
     ]
    },
    {
     "data": {
      "text/plain": [
       "123456789"
      ]
     },
     "execution_count": 45,
     "metadata": {},
     "output_type": "execute_result"
    }
   ],
   "source": [
    "Solution.myAtoi(numeral)"
   ]
  },
  {
   "cell_type": "code",
   "execution_count": 46,
   "id": "14cf4612",
   "metadata": {},
   "outputs": [
    {
     "name": "stdout",
     "output_type": "stream",
     "text": [
      "\n"
     ]
    },
    {
     "data": {
      "text/plain": [
       "3"
      ]
     },
     "execution_count": 46,
     "metadata": {},
     "output_type": "execute_result"
    }
   ],
   "source": [
    "Solution.myAtoi('3.')"
   ]
  },
  {
   "cell_type": "code",
   "execution_count": null,
   "id": "18fb7bd1",
   "metadata": {},
   "outputs": [],
   "source": []
  }
 ],
 "metadata": {
  "kernelspec": {
   "display_name": "Python 3",
   "language": "python",
   "name": "python3"
  },
  "language_info": {
   "codemirror_mode": {
    "name": "ipython",
    "version": 3
   },
   "file_extension": ".py",
   "mimetype": "text/x-python",
   "name": "python",
   "nbconvert_exporter": "python",
   "pygments_lexer": "ipython3",
   "version": "3.7.9"
  }
 },
 "nbformat": 4,
 "nbformat_minor": 5
}
