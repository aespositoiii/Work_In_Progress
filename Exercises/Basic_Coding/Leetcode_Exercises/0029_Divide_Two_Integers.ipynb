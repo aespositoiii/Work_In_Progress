{
 "cells": [
  {
   "cell_type": "code",
   "execution_count": null,
   "id": "6f4e2daa",
   "metadata": {},
   "outputs": [],
   "source": [
    "class Solution:\n",
    "    def divide(dividend, divisor):\n",
    "        "
   ]
  },
  {
   "cell_type": "code",
   "execution_count": null,
   "id": "b2ad1fd1",
   "metadata": {},
   "outputs": [],
   "source": [
    "a = 20\n",
    "b = 6\n",
    "\n",
    "while \n",
    "    c = "
   ]
  }
 ],
 "metadata": {
  "kernelspec": {
   "display_name": "Python 3",
   "language": "python",
   "name": "python3"
  },
  "language_info": {
   "codemirror_mode": {
    "name": "ipython",
    "version": 3
   },
   "file_extension": ".py",
   "mimetype": "text/x-python",
   "name": "python",
   "nbconvert_exporter": "python",
   "pygments_lexer": "ipython3",
   "version": "3.7.9"
  }
 },
 "nbformat": 4,
 "nbformat_minor": 5
}
