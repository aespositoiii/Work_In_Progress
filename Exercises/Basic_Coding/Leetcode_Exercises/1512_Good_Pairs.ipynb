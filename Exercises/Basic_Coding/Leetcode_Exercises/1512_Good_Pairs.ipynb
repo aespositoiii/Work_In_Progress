{
 "cells": [
  {
   "cell_type": "code",
   "execution_count": 199,
   "id": "84734c74",
   "metadata": {},
   "outputs": [],
   "source": [
    "class Solution:\n",
    "    def numIdenticalPairs(nums):\n",
    "        set_nums = set(nums)\n",
    "        pairs = 0\n",
    "        for i in set_nums:\n",
    "            a = nums.count(i)\n",
    "            if a > 1:\n",
    "                pairs += ((a-1)**2+(a-1))//2\n",
    "        return pairs\n"
   ]
  },
  {
   "cell_type": "code",
   "execution_count": 255,
   "id": "cd1bff89",
   "metadata": {},
   "outputs": [],
   "source": [
    "a = [1,1,1,1,1]"
   ]
  },
  {
   "cell_type": "code",
   "execution_count": 256,
   "id": "28fe11cc",
   "metadata": {},
   "outputs": [
    {
     "data": {
      "text/plain": [
       "10"
      ]
     },
     "execution_count": 256,
     "metadata": {},
     "output_type": "execute_result"
    }
   ],
   "source": [
    "Solution.numIdenticalPairs(a)"
   ]
  },
  {
   "cell_type": "code",
   "execution_count": 248,
   "id": "8139708e",
   "metadata": {},
   "outputs": [],
   "source": [
    "class Solution:\n",
    "    def numIdenticalPairs(nums):\n",
    "        num_hash = {}\n",
    "        pairs = 0\n",
    "        for i in nums:\n",
    "            if i in num_hash :\n",
    "                num_hash[i] += 1\n",
    "                pairs += num_hash[i]\n",
    "            else:\n",
    "                num_hash[i] = 0\n",
    "        return pairs"
   ]
  },
  {
   "cell_type": "code",
   "execution_count": 204,
   "id": "3778d37c",
   "metadata": {},
   "outputs": [],
   "source": [
    "b = {}"
   ]
  },
  {
   "cell_type": "code",
   "execution_count": 205,
   "id": "47d3d4b7",
   "metadata": {},
   "outputs": [],
   "source": [
    "b[1] = 1"
   ]
  },
  {
   "cell_type": "code",
   "execution_count": 207,
   "id": "2fd87ff0",
   "metadata": {},
   "outputs": [],
   "source": [
    "b[2] = 1"
   ]
  },
  {
   "cell_type": "code",
   "execution_count": 221,
   "id": "2e3b9624",
   "metadata": {},
   "outputs": [
    {
     "ename": "AttributeError",
     "evalue": "'dict' object has no attribute 'sum'",
     "output_type": "error",
     "traceback": [
      "\u001b[0;31m---------------------------------------------------------------------------\u001b[0m",
      "\u001b[0;31mAttributeError\u001b[0m                            Traceback (most recent call last)",
      "\u001b[0;32m<ipython-input-221-5625bf30d0a3>\u001b[0m in \u001b[0;36m<module>\u001b[0;34m\u001b[0m\n\u001b[0;32m----> 1\u001b[0;31m \u001b[0mb\u001b[0m\u001b[0;34m.\u001b[0m\u001b[0msum\u001b[0m\u001b[0;34m(\u001b[0m\u001b[0;34m)\u001b[0m\u001b[0;34m\u001b[0m\u001b[0;34m\u001b[0m\u001b[0m\n\u001b[0m",
      "\u001b[0;31mAttributeError\u001b[0m: 'dict' object has no attribute 'sum'"
     ]
    }
   ],
   "source": [
    "b.sum()"
   ]
  },
  {
   "cell_type": "code",
   "execution_count": 209,
   "id": "fe4395fb",
   "metadata": {},
   "outputs": [
    {
     "data": {
      "text/plain": [
       "True"
      ]
     },
     "execution_count": 209,
     "metadata": {},
     "output_type": "execute_result"
    }
   ],
   "source": [
    "1 in b"
   ]
  },
  {
   "cell_type": "code",
   "execution_count": 210,
   "id": "734f04e7",
   "metadata": {},
   "outputs": [
    {
     "data": {
      "text/plain": [
       "False"
      ]
     },
     "execution_count": 210,
     "metadata": {},
     "output_type": "execute_result"
    }
   ],
   "source": [
    "4 in b"
   ]
  },
  {
   "cell_type": "code",
   "execution_count": 222,
   "id": "0a110898",
   "metadata": {},
   "outputs": [
    {
     "data": {
      "text/plain": [
       "2"
      ]
     },
     "execution_count": 222,
     "metadata": {},
     "output_type": "execute_result"
    }
   ],
   "source": [
    "sum(b.values())"
   ]
  },
  {
   "cell_type": "code",
   "execution_count": 246,
   "id": "fc2f4b67",
   "metadata": {},
   "outputs": [
    {
     "data": {
      "text/plain": [
       "{1: 1, 2: 1}"
      ]
     },
     "execution_count": 246,
     "metadata": {},
     "output_type": "execute_result"
    }
   ],
   "source": [
    "b"
   ]
  },
  {
   "cell_type": "code",
   "execution_count": null,
   "id": "1057f560",
   "metadata": {},
   "outputs": [],
   "source": []
  }
 ],
 "metadata": {
  "kernelspec": {
   "display_name": "Python 3",
   "language": "python",
   "name": "python3"
  },
  "language_info": {
   "codemirror_mode": {
    "name": "ipython",
    "version": 3
   },
   "file_extension": ".py",
   "mimetype": "text/x-python",
   "name": "python",
   "nbconvert_exporter": "python",
   "pygments_lexer": "ipython3",
   "version": "3.7.9"
  }
 },
 "nbformat": 4,
 "nbformat_minor": 5
}
