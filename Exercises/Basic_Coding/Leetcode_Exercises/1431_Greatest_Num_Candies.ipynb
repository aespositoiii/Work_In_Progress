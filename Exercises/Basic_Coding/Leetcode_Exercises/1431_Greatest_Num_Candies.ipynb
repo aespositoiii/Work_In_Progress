{
 "cells": [
  {
   "cell_type": "code",
   "execution_count": 14,
   "id": "f5eec476",
   "metadata": {},
   "outputs": [],
   "source": [
    "class Solution:\n",
    "    def kidsWithCandies(candies, extraCandies):\n",
    "        m = max(candies)\n",
    "        most = [[]]*len(candies)\n",
    "        for i in range(len(candies)):\n",
    "            most[i] = (candies[i]+extraCandies) >= m\n",
    "        return most"
   ]
  },
  {
   "cell_type": "code",
   "execution_count": 35,
   "id": "6e3bda24",
   "metadata": {},
   "outputs": [],
   "source": [
    "a = [1,2,3,4]\n",
    "extraCandy = 2"
   ]
  },
  {
   "cell_type": "code",
   "execution_count": 36,
   "id": "cb3fb831",
   "metadata": {},
   "outputs": [
    {
     "data": {
      "text/plain": [
       "[False, False, False, True]"
      ]
     },
     "execution_count": 36,
     "metadata": {},
     "output_type": "execute_result"
    }
   ],
   "source": [
    "Solution.kidsWithCandies(a,extraCandy)"
   ]
  },
  {
   "cell_type": "code",
   "execution_count": 39,
   "id": "c8784140",
   "metadata": {},
   "outputs": [],
   "source": [
    "class Solution:\n",
    "    def kidsWithCandies(candies, extraCandies):\n",
    "        m = max(candies)\n",
    "        most = [[]]*len(candies)\n",
    "        for i in range(len(candies)):\n",
    "            most[i] = (candies[i]+extraCandies) >= m\n",
    "        return most"
   ]
  },
  {
   "cell_type": "code",
   "execution_count": 40,
   "id": "08b44e82",
   "metadata": {},
   "outputs": [
    {
     "data": {
      "text/plain": [
       "[False, True, True, True]"
      ]
     },
     "execution_count": 40,
     "metadata": {},
     "output_type": "execute_result"
    }
   ],
   "source": [
    "Solution.kidsWithCandies(a,extraCandy)"
   ]
  },
  {
   "cell_type": "code",
   "execution_count": null,
   "id": "de9fae1a",
   "metadata": {},
   "outputs": [],
   "source": []
  }
 ],
 "metadata": {
  "kernelspec": {
   "display_name": "Python 3",
   "language": "python",
   "name": "python3"
  },
  "language_info": {
   "codemirror_mode": {
    "name": "ipython",
    "version": 3
   },
   "file_extension": ".py",
   "mimetype": "text/x-python",
   "name": "python",
   "nbconvert_exporter": "python",
   "pygments_lexer": "ipython3",
   "version": "3.7.9"
  }
 },
 "nbformat": 4,
 "nbformat_minor": 5
}
