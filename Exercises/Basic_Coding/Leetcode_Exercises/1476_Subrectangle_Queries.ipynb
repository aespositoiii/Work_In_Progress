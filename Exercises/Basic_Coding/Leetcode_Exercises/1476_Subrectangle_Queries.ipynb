{
 "cells": [
  {
   "cell_type": "code",
   "execution_count": 113,
   "id": "ad7a40ac",
   "metadata": {},
   "outputs": [],
   "source": [
    "class SubrectangleQueries:\n",
    "\n",
    "    def __init__(self, rectangle):\n",
    "        SubrectangleQueries.rect = rectangle\n",
    "\n",
    "    def updateSubrectangle(self, row1, col1, row2, col2, newValue):\n",
    "        for i in range(row1,row2+1):\n",
    "            self.rect[i][col1:col2+1] = [newValue] * (col2 - col1+1)\n",
    "            \n",
    "    def getValue(self, row, col):\n",
    "        return self.rect[row][col]"
   ]
  },
  {
   "cell_type": "code",
   "execution_count": 114,
   "id": "3c61ffb6",
   "metadata": {},
   "outputs": [],
   "source": [
    "rectangle = [[1,2,3,4,5],[6,7,8,9,10],[11,12,13,14,15],[16,17,18,19,20],[21,22,23,24,25]]"
   ]
  },
  {
   "cell_type": "code",
   "execution_count": 115,
   "id": "223b4d26",
   "metadata": {},
   "outputs": [],
   "source": [
    "obj = SubrectangleQueries(rectangle)"
   ]
  },
  {
   "cell_type": "code",
   "execution_count": 116,
   "id": "fb9d75b7",
   "metadata": {},
   "outputs": [],
   "source": [
    "obj.updateSubrectangle(0,0,2,2,3)"
   ]
  },
  {
   "cell_type": "code",
   "execution_count": 117,
   "id": "a9c491e1",
   "metadata": {},
   "outputs": [
    {
     "data": {
      "text/plain": [
       "[[3, 3, 3, 4, 5],\n",
       " [3, 3, 3, 9, 10],\n",
       " [3, 3, 3, 14, 15],\n",
       " [16, 17, 18, 19, 20],\n",
       " [21, 22, 23, 24, 25]]"
      ]
     },
     "execution_count": 117,
     "metadata": {},
     "output_type": "execute_result"
    }
   ],
   "source": [
    "obj.rect"
   ]
  },
  {
   "cell_type": "code",
   "execution_count": 77,
   "id": "e4b4e879",
   "metadata": {},
   "outputs": [
    {
     "name": "stdout",
     "output_type": "stream",
     "text": [
      "[1, 2]\n",
      "[4, 5]\n"
     ]
    }
   ],
   "source": [
    "for i in range(0,1+1):\n",
    "    print(rectangle[i][0:1+1])\n",
    "    print([2] * (1-))"
   ]
  },
  {
   "cell_type": "code",
   "execution_count": 119,
   "id": "5c4e90af",
   "metadata": {},
   "outputs": [
    {
     "data": {
      "text/plain": [
       "25"
      ]
     },
     "execution_count": 119,
     "metadata": {},
     "output_type": "execute_result"
    }
   ],
   "source": [
    "obj.getValue(4,4)"
   ]
  },
  {
   "cell_type": "code",
   "execution_count": null,
   "id": "a662e1bc",
   "metadata": {},
   "outputs": [],
   "source": [
    "class SubrectangleQueries:\n",
    "\n",
    "    def __init__(self, rectangle):\n",
    "        SubrectangleQueries.rect = rectangle\n",
    "\n",
    "    def updateSubrectangle(self, row1, col1, row2, col2, newValue):\n",
    "        ra = min(row1, row2)\n",
    "        rb = max(row1, row2)+1\n",
    "        ca = min(col1, col2)\n",
    "        cb = max(col1, col2)+1\n",
    "        for i in range(ra,rb):\n",
    "            self.rect[i][ca:cb] = [newValue] * (cb - ca)\n",
    "            \n",
    "    def getValue(self, row, col):\n",
    "        return self.rect[row][col]"
   ]
  }
 ],
 "metadata": {
  "kernelspec": {
   "display_name": "Python 3",
   "language": "python",
   "name": "python3"
  },
  "language_info": {
   "codemirror_mode": {
    "name": "ipython",
    "version": 3
   },
   "file_extension": ".py",
   "mimetype": "text/x-python",
   "name": "python",
   "nbconvert_exporter": "python",
   "pygments_lexer": "ipython3",
   "version": "3.7.9"
  }
 },
 "nbformat": 4,
 "nbformat_minor": 5
}
