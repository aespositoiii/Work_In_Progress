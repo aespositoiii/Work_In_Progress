{
 "cells": [
  {
   "cell_type": "code",
   "execution_count": 6,
   "id": "1ab4e66f",
   "metadata": {},
   "outputs": [],
   "source": [
    "import time\n",
    "import numpy as np"
   ]
  },
  {
   "cell_type": "code",
   "execution_count": 11,
   "id": "59e8d911",
   "metadata": {},
   "outputs": [
    {
     "name": "stdout",
     "output_type": "stream",
     "text": [
      "1624295502.205353\n"
     ]
    }
   ],
   "source": [
    "print(time.time())"
   ]
  },
  {
   "cell_type": "code",
   "execution_count": 32,
   "id": "1e0077f0",
   "metadata": {},
   "outputs": [
    {
     "name": "stdout",
     "output_type": "stream",
     "text": [
      "0.00033402442932128906\n"
     ]
    }
   ],
   "source": [
    "\n",
    "t1 = time.time()\n",
    "e = np.zeros((4000,6000))\n",
    "\n",
    "print((time.time() - t1))"
   ]
  },
  {
   "cell_type": "code",
   "execution_count": null,
   "id": "21eafb9a",
   "metadata": {},
   "outputs": [
    {
     "name": "stdout",
     "output_type": "stream",
     "text": [
      "0.030328035354614258     1624296148.140961\n",
      "0.030778169631958008     1624296148.14141\n",
      "0.03126192092895508     1624296148.1418948\n",
      "0.033310890197753906     1624296148.143944\n",
      "0.03869318962097168     1624296148.149326\n",
      "0.05595111846923828     1624296148.166584\n",
      "0.1192770004272461     1624296148.22991\n",
      "0.49382901191711426     1624296148.6044621\n",
      "1.6963372230529785     1624296149.8069701\n",
      "6.379451036453247     1624296154.490083\n",
      "25.591518878936768     1624296173.702152\n"
     ]
    }
   ],
   "source": [
    "t1 = time.time()\n",
    "a = 2\n",
    "b = 3\n",
    "t = [0]\n",
    "for i in range(100):\n",
    "    t2=time.time()\n",
    "    a *= 2\n",
    "    b *= 2\n",
    "    \n",
    "    nx, ny = (b, a)\n",
    "\n",
    "    x = np.linspace(0, 1, nx)\n",
    "\n",
    "    y = np.linspace(0, 1, ny)\n",
    "\n",
    "    xv, yv = np.meshgrid(x, y)\n",
    "\n",
    "    n = np.zeros(xv.shape)\n",
    "\n",
    "    for x in range(xv.shape[1]):\n",
    "        for y in range(xv.shape[0]):\n",
    "            n[y,x] = xv[y,x] * yv[y,x]\n",
    "    print((time.time() - t1),'   ',time.time()-t2)\n",
    "    t.append(time.time()-t2)"
   ]
  },
  {
   "cell_type": "code",
   "execution_count": null,
   "id": "b6f5e211",
   "metadata": {},
   "outputs": [],
   "source": []
  }
 ],
 "metadata": {
  "kernelspec": {
   "display_name": "Python 3",
   "language": "python",
   "name": "python3"
  },
  "language_info": {
   "codemirror_mode": {
    "name": "ipython",
    "version": 3
   },
   "file_extension": ".py",
   "mimetype": "text/x-python",
   "name": "python",
   "nbconvert_exporter": "python",
   "pygments_lexer": "ipython3",
   "version": "3.7.9"
  }
 },
 "nbformat": 4,
 "nbformat_minor": 5
}
