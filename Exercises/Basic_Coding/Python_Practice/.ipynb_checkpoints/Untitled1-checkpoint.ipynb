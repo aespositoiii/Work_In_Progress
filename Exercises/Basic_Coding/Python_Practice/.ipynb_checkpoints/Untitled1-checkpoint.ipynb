{
 "cells": [
  {
   "cell_type": "code",
   "execution_count": 1,
   "id": "41c25305",
   "metadata": {},
   "outputs": [],
   "source": [
    "a = { 'A' : { 'B' : [1,2,3], 'C':[4,5,6], 'D': [7,8,9] }, 'E' : [1,2,3]}"
   ]
  },
  {
   "cell_type": "code",
   "execution_count": 2,
   "id": "a452b3c4",
   "metadata": {},
   "outputs": [
    {
     "data": {
      "text/plain": [
       "{'B': [1, 2, 3], 'C': [4, 5, 6], 'D': [7, 8, 9]}"
      ]
     },
     "execution_count": 2,
     "metadata": {},
     "output_type": "execute_result"
    }
   ],
   "source": [
    "a['A']"
   ]
  },
  {
   "cell_type": "code",
   "execution_count": 4,
   "id": "9bd1f493",
   "metadata": {},
   "outputs": [
    {
     "data": {
      "text/plain": [
       "1"
      ]
     },
     "execution_count": 4,
     "metadata": {},
     "output_type": "execute_result"
    }
   ],
   "source": [
    "a['A']['B'][0]"
   ]
  },
  {
   "cell_type": "code",
   "execution_count": 5,
   "id": "5f56c38d",
   "metadata": {},
   "outputs": [
    {
     "data": {
      "text/plain": [
       "{'A': {'B': [1, 2, 3], 'C': [4, 5, 6], 'D': [7, 8, 9]}, 'E': [1, 2, 3]}"
      ]
     },
     "execution_count": 5,
     "metadata": {},
     "output_type": "execute_result"
    }
   ],
   "source": [
    "a"
   ]
  },
  {
   "cell_type": "code",
   "execution_count": 6,
   "id": "3f20d725",
   "metadata": {},
   "outputs": [],
   "source": [
    "a['A']['B'] = [12,13,14,15]"
   ]
  },
  {
   "cell_type": "code",
   "execution_count": 7,
   "id": "72c0ecb2",
   "metadata": {},
   "outputs": [
    {
     "data": {
      "text/plain": [
       "{'A': {'B': [12, 13, 14, 15], 'C': [4, 5, 6], 'D': [7, 8, 9]}, 'E': [1, 2, 3]}"
      ]
     },
     "execution_count": 7,
     "metadata": {},
     "output_type": "execute_result"
    }
   ],
   "source": [
    "a"
   ]
  },
  {
   "cell_type": "code",
   "execution_count": 8,
   "id": "8fbd1f22",
   "metadata": {},
   "outputs": [],
   "source": [
    "a['A']['B'].append(20)"
   ]
  },
  {
   "cell_type": "code",
   "execution_count": 9,
   "id": "acca160a",
   "metadata": {},
   "outputs": [
    {
     "data": {
      "text/plain": [
       "{'A': {'B': [12, 13, 14, 15, 20], 'C': [4, 5, 6], 'D': [7, 8, 9]},\n",
       " 'E': [1, 2, 3]}"
      ]
     },
     "execution_count": 9,
     "metadata": {},
     "output_type": "execute_result"
    }
   ],
   "source": [
    "a"
   ]
  },
  {
   "cell_type": "code",
   "execution_count": null,
   "id": "5ee8272e",
   "metadata": {},
   "outputs": [],
   "source": [
    "a['F'] = 'Anderson_Pooper'"
   ]
  }
 ],
 "metadata": {
  "kernelspec": {
   "display_name": "Python 3",
   "language": "python",
   "name": "python3"
  },
  "language_info": {
   "codemirror_mode": {
    "name": "ipython",
    "version": 3
   },
   "file_extension": ".py",
   "mimetype": "text/x-python",
   "name": "python",
   "nbconvert_exporter": "python",
   "pygments_lexer": "ipython3",
   "version": "3.7.9"
  }
 },
 "nbformat": 4,
 "nbformat_minor": 5
}
