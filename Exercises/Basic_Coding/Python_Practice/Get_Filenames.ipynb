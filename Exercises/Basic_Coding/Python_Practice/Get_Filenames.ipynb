{
 "cells": [
  {
   "cell_type": "code",
   "execution_count": 29,
   "id": "03a9d198",
   "metadata": {},
   "outputs": [],
   "source": [
    "import cv2 as cv\n",
    "import os"
   ]
  },
  {
   "cell_type": "code",
   "execution_count": 2,
   "id": "57543b6d",
   "metadata": {},
   "outputs": [
    {
     "name": "stdout",
     "output_type": "stream",
     "text": [
      "/Users/anthonyesposito\n"
     ]
    }
   ],
   "source": [
    "cd"
   ]
  },
  {
   "cell_type": "code",
   "execution_count": 19,
   "id": "c0310dca",
   "metadata": {},
   "outputs": [
    {
     "name": "stdout",
     "output_type": "stream",
     "text": [
      "('/Users/anthonyesposito/Pictures/macroni/Rosasite_w_Conacalcite/1/JPG/', [], ['ExportDSCF69422022-43-14.jpg', 'ExportDSCF69412022-43-07.jpg', 'ExportDSCF69212022-41-11.jpg', 'ExportDSCF69232022-41-26.jpg', 'ExportDSCF69252022-41-38.jpg', 'ExportDSCF69432022-43-21.jpg', 'ExportDSCF69482022-43-48.jpg', 'ExportDSCF69492022-43-53.jpg', 'ExportDSCF69242022-41-32.jpg', 'ExportDSCF69202022-40-59.jpg', 'ExportDSCF69292022-42-02.jpg', 'ExportDSCF69462022-43-38.jpg', 'ExportDSCF69442022-43-27.jpg', 'ExportDSCF69352022-42-31.jpg', 'ExportDSCF69272022-41-51.jpg', 'ExportDSCF69382022-42-50.jpg', 'ExportDSCF69502022-43-57.jpg', 'ExportDSCF69472022-43-43.jpg', 'ExportDSCF69302022-42-07.jpg', 'ExportDSCF69392022-42-56.jpg', 'ExportDSCF69312022-42-12.jpg', 'ExportDSCF69322022-42-16.jpg', 'ExportDSCF69332022-42-20.jpg', 'ExportDSCF69362022-42-38.jpg', 'ExportDSCF69262022-41-44.jpg', 'ExportDSCF69342022-42-26.jpg', 'ExportDSCF69372022-42-44.jpg', 'ExportDSCF69452022-43-32.jpg', 'ExportDSCF69402022-43-01.jpg', 'ExportDSCF69222022-41-18.jpg', 'ExportDSCF69282022-41-56.jpg', 'ExportDSCF69512022-44-04.jpg'])\n"
     ]
    }
   ],
   "source": [
    "a = os.walk('/Users/anthonyesposito/Pictures/macroni/Rosasite_w_Conacalcite/1/JPG/')\n",
    "for i in a:\n",
    "    print(i)"
   ]
  },
  {
   "cell_type": "code",
   "execution_count": 37,
   "id": "b5a446c7",
   "metadata": {},
   "outputs": [
    {
     "name": "stdout",
     "output_type": "stream",
     "text": [
      "/Users/anthonyesposito/Pictures/macroni/Rosasite_w_Conacalcite/1/JPG/ExportDSCF69422022-43-14.jpg\n",
      "/Users/anthonyesposito/Pictures/macroni/Rosasite_w_Conacalcite/1/JPG/ExportDSCF69412022-43-07.jpg\n",
      "/Users/anthonyesposito/Pictures/macroni/Rosasite_w_Conacalcite/1/JPG/ExportDSCF69212022-41-11.jpg\n",
      "/Users/anthonyesposito/Pictures/macroni/Rosasite_w_Conacalcite/1/JPG/ExportDSCF69232022-41-26.jpg\n",
      "/Users/anthonyesposito/Pictures/macroni/Rosasite_w_Conacalcite/1/JPG/ExportDSCF69252022-41-38.jpg\n",
      "/Users/anthonyesposito/Pictures/macroni/Rosasite_w_Conacalcite/1/JPG/ExportDSCF69432022-43-21.jpg\n",
      "/Users/anthonyesposito/Pictures/macroni/Rosasite_w_Conacalcite/1/JPG/ExportDSCF69482022-43-48.jpg\n",
      "/Users/anthonyesposito/Pictures/macroni/Rosasite_w_Conacalcite/1/JPG/ExportDSCF69492022-43-53.jpg\n",
      "/Users/anthonyesposito/Pictures/macroni/Rosasite_w_Conacalcite/1/JPG/ExportDSCF69242022-41-32.jpg\n",
      "/Users/anthonyesposito/Pictures/macroni/Rosasite_w_Conacalcite/1/JPG/ExportDSCF69202022-40-59.jpg\n",
      "/Users/anthonyesposito/Pictures/macroni/Rosasite_w_Conacalcite/1/JPG/ExportDSCF69292022-42-02.jpg\n",
      "/Users/anthonyesposito/Pictures/macroni/Rosasite_w_Conacalcite/1/JPG/ExportDSCF69462022-43-38.jpg\n",
      "/Users/anthonyesposito/Pictures/macroni/Rosasite_w_Conacalcite/1/JPG/ExportDSCF69442022-43-27.jpg\n",
      "/Users/anthonyesposito/Pictures/macroni/Rosasite_w_Conacalcite/1/JPG/ExportDSCF69352022-42-31.jpg\n",
      "/Users/anthonyesposito/Pictures/macroni/Rosasite_w_Conacalcite/1/JPG/ExportDSCF69272022-41-51.jpg\n",
      "/Users/anthonyesposito/Pictures/macroni/Rosasite_w_Conacalcite/1/JPG/ExportDSCF69382022-42-50.jpg\n",
      "/Users/anthonyesposito/Pictures/macroni/Rosasite_w_Conacalcite/1/JPG/ExportDSCF69502022-43-57.jpg\n",
      "/Users/anthonyesposito/Pictures/macroni/Rosasite_w_Conacalcite/1/JPG/ExportDSCF69472022-43-43.jpg\n",
      "/Users/anthonyesposito/Pictures/macroni/Rosasite_w_Conacalcite/1/JPG/ExportDSCF69302022-42-07.jpg\n",
      "/Users/anthonyesposito/Pictures/macroni/Rosasite_w_Conacalcite/1/JPG/ExportDSCF69392022-42-56.jpg\n",
      "/Users/anthonyesposito/Pictures/macroni/Rosasite_w_Conacalcite/1/JPG/ExportDSCF69312022-42-12.jpg\n",
      "/Users/anthonyesposito/Pictures/macroni/Rosasite_w_Conacalcite/1/JPG/ExportDSCF69322022-42-16.jpg\n",
      "/Users/anthonyesposito/Pictures/macroni/Rosasite_w_Conacalcite/1/JPG/ExportDSCF69332022-42-20.jpg\n",
      "/Users/anthonyesposito/Pictures/macroni/Rosasite_w_Conacalcite/1/JPG/ExportDSCF69362022-42-38.jpg\n",
      "/Users/anthonyesposito/Pictures/macroni/Rosasite_w_Conacalcite/1/JPG/ExportDSCF69262022-41-44.jpg\n",
      "/Users/anthonyesposito/Pictures/macroni/Rosasite_w_Conacalcite/1/JPG/ExportDSCF69342022-42-26.jpg\n",
      "/Users/anthonyesposito/Pictures/macroni/Rosasite_w_Conacalcite/1/JPG/ExportDSCF69372022-42-44.jpg\n",
      "/Users/anthonyesposito/Pictures/macroni/Rosasite_w_Conacalcite/1/JPG/ExportDSCF69452022-43-32.jpg\n",
      "/Users/anthonyesposito/Pictures/macroni/Rosasite_w_Conacalcite/1/JPG/ExportDSCF69402022-43-01.jpg\n",
      "/Users/anthonyesposito/Pictures/macroni/Rosasite_w_Conacalcite/1/JPG/ExportDSCF69222022-41-18.jpg\n",
      "/Users/anthonyesposito/Pictures/macroni/Rosasite_w_Conacalcite/1/JPG/ExportDSCF69282022-41-56.jpg\n",
      "/Users/anthonyesposito/Pictures/macroni/Rosasite_w_Conacalcite/1/JPG/ExportDSCF69512022-44-04.jpg\n"
     ]
    }
   ],
   "source": [
    "directory = '/Users/anthonyesposito/Pictures/macroni/Rosasite_w_Conacalcite/1/JPG/'\n",
    "a = os.walk(directory)\n",
    "for root, dirs, files in a:\n",
    "    b = files\n",
    "\n",
    "images = list([])\n",
    "for i in range(len(b)):\n",
    "    images.append(cv.imread(directory+b[i], cv.IMREAD_COLOR))\n",
    "    print(directory + b[i])"
   ]
  },
  {
   "cell_type": "code",
   "execution_count": null,
   "id": "20e77ae6",
   "metadata": {},
   "outputs": [],
   "source": []
  }
 ],
 "metadata": {
  "kernelspec": {
   "display_name": "Python 3",
   "language": "python",
   "name": "python3"
  },
  "language_info": {
   "codemirror_mode": {
    "name": "ipython",
    "version": 3
   },
   "file_extension": ".py",
   "mimetype": "text/x-python",
   "name": "python",
   "nbconvert_exporter": "python",
   "pygments_lexer": "ipython3",
   "version": "3.7.9"
  }
 },
 "nbformat": 4,
 "nbformat_minor": 5
}
