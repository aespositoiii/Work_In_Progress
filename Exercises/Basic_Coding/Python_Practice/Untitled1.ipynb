{
 "cells": [
  {
   "cell_type": "code",
   "execution_count": 1,
   "id": "7a2ea6b2",
   "metadata": {},
   "outputs": [],
   "source": [
    "a = { 'A' : { 'B' : [1,2,3], 'C':[4,5,6], 'D': [7,8,9] }, 'E' : [1,2,3]}"
   ]
  },
  {
   "cell_type": "code",
   "execution_count": 2,
   "id": "0501e1ba",
   "metadata": {},
   "outputs": [
    {
     "data": {
      "text/plain": [
       "{'B': [1, 2, 3], 'C': [4, 5, 6], 'D': [7, 8, 9]}"
      ]
     },
     "execution_count": 2,
     "metadata": {},
     "output_type": "execute_result"
    }
   ],
   "source": [
    "a['A']"
   ]
  },
  {
   "cell_type": "code",
   "execution_count": 4,
   "id": "9ffdf2dd",
   "metadata": {},
   "outputs": [
    {
     "data": {
      "text/plain": [
       "1"
      ]
     },
     "execution_count": 4,
     "metadata": {},
     "output_type": "execute_result"
    }
   ],
   "source": [
    "a['A']['B'][0]"
   ]
  },
  {
   "cell_type": "code",
   "execution_count": 5,
   "id": "c11f89b4",
   "metadata": {},
   "outputs": [
    {
     "data": {
      "text/plain": [
       "{'A': {'B': [1, 2, 3], 'C': [4, 5, 6], 'D': [7, 8, 9]}, 'E': [1, 2, 3]}"
      ]
     },
     "execution_count": 5,
     "metadata": {},
     "output_type": "execute_result"
    }
   ],
   "source": [
    "a"
   ]
  },
  {
   "cell_type": "code",
   "execution_count": 6,
   "id": "e6d83ace",
   "metadata": {},
   "outputs": [],
   "source": [
    "a['A']['B'] = [12,13,14,15]"
   ]
  },
  {
   "cell_type": "code",
   "execution_count": 7,
   "id": "e7044afd",
   "metadata": {},
   "outputs": [
    {
     "data": {
      "text/plain": [
       "{'A': {'B': [12, 13, 14, 15], 'C': [4, 5, 6], 'D': [7, 8, 9]}, 'E': [1, 2, 3]}"
      ]
     },
     "execution_count": 7,
     "metadata": {},
     "output_type": "execute_result"
    }
   ],
   "source": [
    "a"
   ]
  },
  {
   "cell_type": "code",
   "execution_count": 8,
   "id": "6fe6bc1a",
   "metadata": {},
   "outputs": [],
   "source": [
    "a['A']['B'].append(20)"
   ]
  },
  {
   "cell_type": "code",
   "execution_count": 9,
   "id": "f9ebef05",
   "metadata": {},
   "outputs": [
    {
     "data": {
      "text/plain": [
       "{'A': {'B': [12, 13, 14, 15, 20], 'C': [4, 5, 6], 'D': [7, 8, 9]},\n",
       " 'E': [1, 2, 3]}"
      ]
     },
     "execution_count": 9,
     "metadata": {},
     "output_type": "execute_result"
    }
   ],
   "source": [
    "a"
   ]
  },
  {
   "cell_type": "code",
   "execution_count": 10,
   "id": "e78f51cb",
   "metadata": {},
   "outputs": [],
   "source": [
    "a['F'] = 'Anderson_Pooper'"
   ]
  },
  {
   "cell_type": "code",
   "execution_count": 11,
   "id": "0e3c1789",
   "metadata": {},
   "outputs": [
    {
     "data": {
      "text/plain": [
       "{'A': {'B': [12, 13, 14, 15, 20], 'C': [4, 5, 6], 'D': [7, 8, 9]},\n",
       " 'E': [1, 2, 3],\n",
       " 'F': 'Anderson_Pooper'}"
      ]
     },
     "execution_count": 11,
     "metadata": {},
     "output_type": "execute_result"
    }
   ],
   "source": [
    "a"
   ]
  },
  {
   "cell_type": "code",
   "execution_count": 12,
   "id": "34eefefd",
   "metadata": {},
   "outputs": [],
   "source": [
    "b = [[]]"
   ]
  },
  {
   "cell_type": "code",
   "execution_count": 13,
   "id": "6b9f36b2",
   "metadata": {},
   "outputs": [
    {
     "data": {
      "text/plain": [
       "[]"
      ]
     },
     "execution_count": 13,
     "metadata": {},
     "output_type": "execute_result"
    }
   ],
   "source": [
    "b[0]"
   ]
  },
  {
   "cell_type": "code",
   "execution_count": 14,
   "id": "ab3eacc5",
   "metadata": {},
   "outputs": [],
   "source": [
    "b[0]=5"
   ]
  },
  {
   "cell_type": "code",
   "execution_count": 15,
   "id": "caf436a3",
   "metadata": {},
   "outputs": [
    {
     "data": {
      "text/plain": [
       "[5]"
      ]
     },
     "execution_count": 15,
     "metadata": {},
     "output_type": "execute_result"
    }
   ],
   "source": [
    "b"
   ]
  },
  {
   "cell_type": "code",
   "execution_count": 16,
   "id": "8c16e563",
   "metadata": {},
   "outputs": [
    {
     "data": {
      "text/plain": [
       "5"
      ]
     },
     "execution_count": 16,
     "metadata": {},
     "output_type": "execute_result"
    }
   ],
   "source": [
    "b[0]"
   ]
  },
  {
   "cell_type": "code",
   "execution_count": 17,
   "id": "9c0c1518",
   "metadata": {},
   "outputs": [],
   "source": [
    "b.append([1,2,3,4])"
   ]
  },
  {
   "cell_type": "code",
   "execution_count": 18,
   "id": "e7fbdd74",
   "metadata": {},
   "outputs": [
    {
     "data": {
      "text/plain": [
       "[5, [1, 2, 3, 4]]"
      ]
     },
     "execution_count": 18,
     "metadata": {},
     "output_type": "execute_result"
    }
   ],
   "source": [
    "b"
   ]
  },
  {
   "cell_type": "code",
   "execution_count": 19,
   "id": "18db2d13",
   "metadata": {},
   "outputs": [
    {
     "data": {
      "text/plain": [
       "[1, 2, 3, 4]"
      ]
     },
     "execution_count": 19,
     "metadata": {},
     "output_type": "execute_result"
    }
   ],
   "source": [
    "b[1]"
   ]
  },
  {
   "cell_type": "code",
   "execution_count": null,
   "id": "f4be83bd",
   "metadata": {},
   "outputs": [],
   "source": []
  }
 ],
 "metadata": {
  "kernelspec": {
   "display_name": "Python 3",
   "language": "python",
   "name": "python3"
  },
  "language_info": {
   "codemirror_mode": {
    "name": "ipython",
    "version": 3
   },
   "file_extension": ".py",
   "mimetype": "text/x-python",
   "name": "python",
   "nbconvert_exporter": "python",
   "pygments_lexer": "ipython3",
   "version": "3.7.9"
  }
 },
 "nbformat": 4,
 "nbformat_minor": 5
}
