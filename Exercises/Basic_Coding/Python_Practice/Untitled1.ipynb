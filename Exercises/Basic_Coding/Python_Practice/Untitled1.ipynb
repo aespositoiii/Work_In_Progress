{
 "cells": [
  {
   "cell_type": "code",
   "execution_count": 1,
   "id": "7074d19c",
   "metadata": {},
   "outputs": [],
   "source": [
    "a = { 'A' : { 'B' : [1,2,3], 'C':[4,5,6], 'D': [7,8,9] }, 'E' : [1,2,3]}"
   ]
  },
  {
   "cell_type": "code",
   "execution_count": 2,
   "id": "e55847c2",
   "metadata": {},
   "outputs": [
    {
     "data": {
      "text/plain": [
       "{'B': [1, 2, 3], 'C': [4, 5, 6], 'D': [7, 8, 9]}"
      ]
     },
     "execution_count": 2,
     "metadata": {},
     "output_type": "execute_result"
    }
   ],
   "source": [
    "a['A']"
   ]
  },
  {
   "cell_type": "code",
   "execution_count": 4,
   "id": "b1f5f94d",
   "metadata": {},
   "outputs": [
    {
     "data": {
      "text/plain": [
       "1"
      ]
     },
     "execution_count": 4,
     "metadata": {},
     "output_type": "execute_result"
    }
   ],
   "source": [
    "a['A']['B'][0]"
   ]
  },
  {
   "cell_type": "code",
   "execution_count": 5,
   "id": "aeeb2be2",
   "metadata": {},
   "outputs": [
    {
     "data": {
      "text/plain": [
       "{'A': {'B': [1, 2, 3], 'C': [4, 5, 6], 'D': [7, 8, 9]}, 'E': [1, 2, 3]}"
      ]
     },
     "execution_count": 5,
     "metadata": {},
     "output_type": "execute_result"
    }
   ],
   "source": [
    "a"
   ]
  },
  {
   "cell_type": "code",
   "execution_count": 6,
   "id": "5bbcabc2",
   "metadata": {},
   "outputs": [],
   "source": [
    "a['A']['B'] = [12,13,14,15]"
   ]
  },
  {
   "cell_type": "code",
   "execution_count": 7,
   "id": "d1cb4406",
   "metadata": {},
   "outputs": [
    {
     "data": {
      "text/plain": [
       "{'A': {'B': [12, 13, 14, 15], 'C': [4, 5, 6], 'D': [7, 8, 9]}, 'E': [1, 2, 3]}"
      ]
     },
     "execution_count": 7,
     "metadata": {},
     "output_type": "execute_result"
    }
   ],
   "source": [
    "a"
   ]
  },
  {
   "cell_type": "code",
   "execution_count": 8,
   "id": "6ccfda97",
   "metadata": {},
   "outputs": [],
   "source": [
    "a['A']['B'].append(20)"
   ]
  },
  {
   "cell_type": "code",
   "execution_count": 9,
   "id": "d9ed5072",
   "metadata": {},
   "outputs": [
    {
     "data": {
      "text/plain": [
       "{'A': {'B': [12, 13, 14, 15, 20], 'C': [4, 5, 6], 'D': [7, 8, 9]},\n",
       " 'E': [1, 2, 3]}"
      ]
     },
     "execution_count": 9,
     "metadata": {},
     "output_type": "execute_result"
    }
   ],
   "source": [
    "a"
   ]
  },
  {
   "cell_type": "code",
   "execution_count": 10,
   "id": "b08bb5da",
   "metadata": {},
   "outputs": [],
   "source": [
    "a['F'] = 'Anderson_Pooper'"
   ]
  },
  {
   "cell_type": "code",
   "execution_count": 11,
   "id": "48b991cc",
   "metadata": {},
   "outputs": [
    {
     "data": {
      "text/plain": [
       "{'A': {'B': [12, 13, 14, 15, 20], 'C': [4, 5, 6], 'D': [7, 8, 9]},\n",
       " 'E': [1, 2, 3],\n",
       " 'F': 'Anderson_Pooper'}"
      ]
     },
     "execution_count": 11,
     "metadata": {},
     "output_type": "execute_result"
    }
   ],
   "source": [
    "a"
   ]
  },
  {
   "cell_type": "code",
   "execution_count": null,
   "id": "3117efa2",
   "metadata": {},
   "outputs": [],
   "source": []
  }
 ],
 "metadata": {
  "kernelspec": {
   "display_name": "Python 3",
   "language": "python",
   "name": "python3"
  },
  "language_info": {
   "codemirror_mode": {
    "name": "ipython",
    "version": 3
   },
   "file_extension": ".py",
   "mimetype": "text/x-python",
   "name": "python",
   "nbconvert_exporter": "python",
   "pygments_lexer": "ipython3",
   "version": "3.7.9"
  }
 },
 "nbformat": 4,
 "nbformat_minor": 5
}
