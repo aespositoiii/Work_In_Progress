{
 "cells": [
  {
   "cell_type": "code",
   "execution_count": 24,
   "id": "involved-suspect",
   "metadata": {},
   "outputs": [
    {
     "name": "stdout",
     "output_type": "stream",
     "text": [
      "Aasdfasdgg\n"
     ]
    }
   ],
   "source": [
    "s='Aasdfasdgg'\n",
    "numRows=1\n",
    "b=list(s)\n",
    "a=[]\n",
    "counter=0\n",
    "bounce=1\n",
    "for i in range(numRows):\n",
    "    a.append([])\n",
    "\n",
    "for i in b:\n",
    "    if numRows == 1:\n",
    "        zigzag=s\n",
    "        break\n",
    "    a[counter].append(i)\n",
    "    if bounce == 1:\n",
    "        counter+=1\n",
    "    elif bounce == 0:\n",
    "        counter-=1\n",
    "    if counter == (numRows-1):\n",
    "        bounce=0\n",
    "    elif counter == 0:\n",
    "        bounce=1\n",
    "\n",
    "joiner=''\n",
    "if numRows>1:\n",
    "    zigzag=''\n",
    "    for i in range(len(a)):\n",
    "        for j in range(len(a[i])):\n",
    "            zigzag = zigzag + a[i][j]\n",
    "print(zigzag)"
   ]
  },
  {
   "cell_type": "code",
   "execution_count": 20,
   "id": "departmental-detail",
   "metadata": {},
   "outputs": [
    {
     "name": "stdout",
     "output_type": "stream",
     "text": [
      "[[], [], [], []]\n",
      "[[], ['a'], [], []]\n",
      "[[], ['a', 'b'], [], []]\n"
     ]
    }
   ],
   "source": [
    "a=[]\n",
    "for i in range(nrows):\n",
    "    a.append([])\n",
    "print(a)\n",
    "a[1].append('a')\n",
    "print(a)\n",
    "a[1].append('b')\n",
    "print(a)"
   ]
  },
  {
   "cell_type": "code",
   "execution_count": 39,
   "id": "continuing-minute",
   "metadata": {},
   "outputs": [
    {
     "name": "stdout",
     "output_type": "stream",
     "text": [
      "[[]] AasdfaB\n",
      "[[]] AasdfaB\n",
      "\n"
     ]
    }
   ],
   "source": [
    "s='AasdfaB'\n",
    "numRows=1\n",
    "scopy=s\n",
    "a=[]\n",
    "counter=0\n",
    "bounce=1\n",
    "for i in range(numRows):\n",
    "    a.append([])\n",
    "print(a,scopy)\n",
    "for i in scopy:\n",
    "    print(a,scopy)\n",
    "    if(numRows) ==1:\n",
    "        break\n",
    "    a[counter].append(i)\n",
    "    print(a)\n",
    "    if bounce == 1:\n",
    "        counter+=1\n",
    "    elif bounce == 0:\n",
    "        counter-=1\n",
    "    if counter == (numRows-1):\n",
    "        bounce=0\n",
    "    elif counter == 0:\n",
    "        bounce=1\n",
    "joiner=''\n",
    "for i in range(len(a)):\n",
    "    a[i]=joiner.join(a[i])\n",
    "a=joiner.join(a)\n",
    "\n",
    "if len(s) == 1 | numRows == 1:\n",
    "    a=s\n",
    "print(a)"
   ]
  },
  {
   "cell_type": "code",
   "execution_count": 331,
   "id": "incredible-entry",
   "metadata": {},
   "outputs": [
    {
     "name": "stdout",
     "output_type": "stream",
     "text": [
      "0.00032401084899902344\n",
      "agmbfhlnceikodjp\n",
      "139\n",
      "0.0003088395372569132\n"
     ]
    }
   ],
   "source": [
    "import time\n",
    "ts=time.time()\n",
    "s='abcdefghijklmnop'\n",
    "numRows=4\n",
    "b=list(s)\n",
    "a=[]\n",
    "counter=0\n",
    "bounce=1\n",
    "for i in range(numRows):\n",
    "    a.append([])\n",
    "\n",
    "for i in b:\n",
    "    if numRows == 1:\n",
    "        a=s\n",
    "        break\n",
    "    a[counter].append(i)\n",
    "    if bounce == 1:\n",
    "        counter+=1\n",
    "    elif bounce == 0:\n",
    "        counter-=1\n",
    "    if counter == (numRows-1):\n",
    "        bounce=0\n",
    "    elif counter == 0:\n",
    "        bounce=1\n",
    "\n",
    "joiner=''\n",
    "if numRows>1:\n",
    "    for i in range(len(a)):\n",
    "        a[i]=joiner.join(a[i])\n",
    "    a=joiner.join(a)\n",
    "\n",
    "tt=time.time()-ts\n",
    "\n",
    "times[0]=times[0]+1\n",
    "times[1].append(tt)\n",
    "\n",
    "print(tt)\n",
    "print(a)\n",
    "print(times[0])\n",
    "print(sum(times[1])/times[0])"
   ]
  },
  {
   "cell_type": "code",
   "execution_count": 491,
   "id": "controversial-villa",
   "metadata": {},
   "outputs": [
    {
     "name": "stdout",
     "output_type": "stream",
     "text": [
      "7.861852645874024e-06\n"
     ]
    }
   ],
   "source": [
    "import time\n",
    "times=[0,[]]\n",
    "numloops=1000\n",
    "for i in range(numloops):\n",
    "    ts=time.time()\n",
    "    s='abcdefghijklmnop'\n",
    "    numRows=4\n",
    "    b=list(s)\n",
    "    a=[]\n",
    "    counter=0\n",
    "    bounce=1\n",
    "    for i in range(numRows):\n",
    "        a.append([])\n",
    "\n",
    "    for i in b:\n",
    "        if numRows == 1:\n",
    "            a=s\n",
    "            break\n",
    "        a[counter].append(i)\n",
    "        if bounce == 1:\n",
    "            counter+=1\n",
    "        elif bounce == 0:\n",
    "            counter-=1\n",
    "        if counter == (numRows-1):\n",
    "            bounce=0\n",
    "        elif counter == 0:\n",
    "            bounce=1\n",
    "\n",
    "    joiner=''\n",
    "    if numRows>1:\n",
    "        for i in range(len(a)):\n",
    "            a[i]=joiner.join(a[i])\n",
    "        a=joiner.join(a)\n",
    "\n",
    "    tt=time.time()-ts\n",
    "\n",
    "    times[0]=times[0]+1\n",
    "    times[1].append(tt)\n",
    "\n",
    "print(sum(times[1])/times[0])"
   ]
  },
  {
   "cell_type": "code",
   "execution_count": 133,
   "id": "accessory-plumbing",
   "metadata": {},
   "outputs": [
    {
     "name": "stdout",
     "output_type": "stream",
     "text": [
      "-2147483648\n",
      "-102\n",
      "['1', '0', '2']\n"
     ]
    },
    {
     "ename": "IndexError",
     "evalue": "list index out of range",
     "output_type": "error",
     "traceback": [
      "\u001b[0;31m---------------------------------------------------------------------------\u001b[0m",
      "\u001b[0;31mIndexError\u001b[0m                                Traceback (most recent call last)",
      "\u001b[0;32m<ipython-input-133-8f055f194ba3>\u001b[0m in \u001b[0;36m<module>\u001b[0;34m\u001b[0m\n\u001b[1;32m     11\u001b[0m         \u001b[0mxl\u001b[0m\u001b[0;34m.\u001b[0m\u001b[0mremove\u001b[0m\u001b[0;34m(\u001b[0m\u001b[0;34m'-'\u001b[0m\u001b[0;34m)\u001b[0m\u001b[0;34m\u001b[0m\u001b[0;34m\u001b[0m\u001b[0m\n\u001b[1;32m     12\u001b[0m     \u001b[0;32mfor\u001b[0m \u001b[0mi\u001b[0m \u001b[0;32min\u001b[0m \u001b[0mrange\u001b[0m\u001b[0;34m(\u001b[0m\u001b[0;36m1\u001b[0m\u001b[0;34m,\u001b[0m\u001b[0mlen\u001b[0m\u001b[0;34m(\u001b[0m\u001b[0mxl\u001b[0m\u001b[0;34m)\u001b[0m\u001b[0;34m+\u001b[0m\u001b[0;36m1\u001b[0m\u001b[0;34m)\u001b[0m\u001b[0;34m:\u001b[0m\u001b[0;34m\u001b[0m\u001b[0;34m\u001b[0m\u001b[0m\n\u001b[0;32m---> 13\u001b[0;31m         \u001b[0;32mwhile\u001b[0m \u001b[0mxl\u001b[0m\u001b[0;34m[\u001b[0m\u001b[0;34m-\u001b[0m\u001b[0mi\u001b[0m\u001b[0;34m]\u001b[0m \u001b[0;34m==\u001b[0m \u001b[0;34m'0'\u001b[0m\u001b[0;34m:\u001b[0m\u001b[0;34m\u001b[0m\u001b[0;34m\u001b[0m\u001b[0m\n\u001b[0m\u001b[1;32m     14\u001b[0m             \u001b[0mprint\u001b[0m\u001b[0;34m(\u001b[0m\u001b[0mxl\u001b[0m\u001b[0;34m)\u001b[0m\u001b[0;34m\u001b[0m\u001b[0;34m\u001b[0m\u001b[0m\n\u001b[1;32m     15\u001b[0m             \u001b[0mxl\u001b[0m\u001b[0;34m.\u001b[0m\u001b[0mpop\u001b[0m\u001b[0;34m(\u001b[0m\u001b[0;34m)\u001b[0m\u001b[0;34m\u001b[0m\u001b[0;34m\u001b[0m\u001b[0m\n",
      "\u001b[0;31mIndexError\u001b[0m: list index out of range"
     ]
    }
   ],
   "source": [
    "x = -102\n",
    "print(-(2**31))\n",
    "print(x)\n",
    "if (x >= (2**31)-1) or (x < -(2**31)):\n",
    "    out = 0\n",
    "else:\n",
    "    out = ''\n",
    "    xs = str(x)\n",
    "    xl = list(xs)\n",
    "    if x < 0:\n",
    "        xl.remove('-')\n",
    "    for i in range(1,len(xl)+1):\n",
    "        while xl[-i] == '0':\n",
    "            print(xl)\n",
    "            xl.pop()\n",
    "    if x < 0:\n",
    "        xl.append('-')\n",
    "    xl.reverse()\n",
    "    for i in xl:\n",
    "        out = out + i\n",
    "\n",
    "    \n",
    "print(out)"
   ]
  },
  {
   "cell_type": "code",
   "execution_count": 144,
   "id": "finite-infrastructure",
   "metadata": {},
   "outputs": [
    {
     "name": "stdout",
     "output_type": "stream",
     "text": [
      "0\n"
     ]
    }
   ],
   "source": [
    "x=1534236469\n",
    "if (x >= ((2**31)-1)) or (x < -(2**31)) or (x == 0):\n",
    "    out = 0\n",
    "else:\n",
    "    out = ''\n",
    "    xs = str(x)\n",
    "    xl = list(xs)\n",
    "    if x < 0:\n",
    "        xl.remove('-')\n",
    "    for i in range(1,len(xl)+1):\n",
    "        if xl[-i] != '0':\n",
    "            break\n",
    "        elif xl[-i] == '0':\n",
    "            xl[-i] == ''\n",
    "        \n",
    "    if x < 0:\n",
    "        xl.append('-')\n",
    "    xl.reverse()\n",
    "    for i in xl:\n",
    "        out = out + i\n",
    "out = int(out)\n",
    "if (out >= ((2**31)-1)) or (out < -(2**31)):\n",
    "    out = 0\n",
    "print(out)"
   ]
  },
  {
   "cell_type": "code",
   "execution_count": null,
   "id": "superb-argentina",
   "metadata": {},
   "outputs": [],
   "source": [
    "s = 'asdfdsajklkjaba'\n",
    "a = list(s)\n",
    "if a == ''\n",
    "    \n",
    "for i in s\n",
    "    if "
   ]
  }
 ],
 "metadata": {
  "kernelspec": {
   "display_name": "Python 3",
   "language": "python",
   "name": "python3"
  },
  "language_info": {
   "codemirror_mode": {
    "name": "ipython",
    "version": 3
   },
   "file_extension": ".py",
   "mimetype": "text/x-python",
   "name": "python",
   "nbconvert_exporter": "python",
   "pygments_lexer": "ipython3",
   "version": "3.7.9"
  }
 },
 "nbformat": 4,
 "nbformat_minor": 5
}
