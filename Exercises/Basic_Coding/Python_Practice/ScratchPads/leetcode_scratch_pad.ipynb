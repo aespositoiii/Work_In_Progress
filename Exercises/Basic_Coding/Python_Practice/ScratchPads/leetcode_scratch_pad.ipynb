{
 "cells": [
  {
   "cell_type": "code",
   "execution_count": null,
   "id": "acquired-tuition",
   "metadata": {},
   "outputs": [],
   "source": [
    "## Two Sum\n",
    "\n",
    "\n",
    "nums = [5,7,9,12,4,5,26,8]\n",
    "target = 13\n",
    "targetIndex=[]\n",
    "for i in range(len(nums)-1):\n",
    "    for j in range(i+1,len(nums)):\n",
    "        if (nums[i]+nums[j]) == target:\n",
    "            targetIndex = [i,j]\n",
    "            \n",
    "nums.count(5)"
   ]
  },
  {
   "cell_type": "code",
   "execution_count": null,
   "id": "rubber-commissioner",
   "metadata": {},
   "outputs": [],
   "source": [
    "nums = [3,4,3]\n",
    "target = 6\n",
    "sumindx=[]\n",
    "comp = 0\n",
    "for i in nums:\n",
    "    comp = target - i\n",
    "    if (comp in nums) & ((i != comp) | (nums.count(i)>=2) ):\n",
    "        print(i,comp)\n",
    "        print(nums.index(i),nums.index(comp,nums.index(i)+1))\n",
    "        break"
   ]
  },
  {
   "cell_type": "code",
   "execution_count": null,
   "id": "primary-snake",
   "metadata": {},
   "outputs": [],
   "source": [
    "a=[2,3,4,5,6,7]\n",
    "b=[3,5,6,5,6]\n",
    "La=len(a)\n",
    "Lb=len(a)\n",
    "result=[0]*(1+max(len(a),len(b)))"
   ]
  },
  {
   "cell_type": "code",
   "execution_count": null,
   "id": "looking-desire",
   "metadata": {},
   "outputs": [],
   "source": [
    "for i in range(len(a)):\n",
    "    result[i]=a[i]\n",
    "\n",
    "print(result)\n",
    "\n",
    "for i in range(len(b)) :\n",
    "    result[i]+=b[i]\n",
    "            \n",
    "print(result)            \n",
    "\n",
    "for i in range(len(result)):\n",
    "    if result[i] > 9:\n",
    "        result[i+1]=result[i+1]+1\n",
    "        result[i]=result[i]-10\n",
    "\n",
    "print(result)\n",
    "\n",
    "if result[-1] == 0:\n",
    "    result.pop()\n",
    "    \n",
    "print(result)"
   ]
  },
  {
   "cell_type": "code",
   "execution_count": null,
   "id": "active-fiber",
   "metadata": {},
   "outputs": [],
   "source": [
    "a=[2,3,4,5,6,7]\n",
    "b=[3,5,6,5,6]\n",
    "La=len(a)\n",
    "Lb=len(a)\n",
    "result=[0]*(1+max(La,Lb))\n",
    "if La > Lb:\n",
    "    for i in len(La-Lb):\n",
    "        b.append(0)\n",
    "elif Lb > La:\n",
    "    for i in len(Lb-La):\n",
    "        a.append(0)\n",
    "for i in range(len(a)):\n",
    "    result[i]=a[i]+b[i]\n",
    "if "
   ]
  },
  {
   "cell_type": "code",
   "execution_count": null,
   "id": "compressed-brighton",
   "metadata": {},
   "outputs": [],
   "source": [
    "a = [1,2,3,4]\n",
    "b = [5,6,7,8,9,4,4]\n",
    "print(a,b)\n",
    "for i in range(len(b)-len(a)):\n",
    "    a.append(0)\n",
    "print(a,b)"
   ]
  },
  {
   "cell_type": "code",
   "execution_count": null,
   "id": "detailed-meeting",
   "metadata": {},
   "outputs": [],
   "source": [
    "class Solution:\n",
    "    def addTwoNumbers(self, l1: ListNode, l2: ListNode) -> ListNode:\n",
    "        a=[]\n",
    "        b=[]\n",
    "        l1=a\n",
    "        l2=b\n",
    "        La=len(a)\n",
    "        Lb=len(b)\n",
    "        result=[0]*(1+max(La,Lb))\n",
    "        \n",
    "        for i in range(len(a)):\n",
    "            result[i]=a[i]\n",
    "\n",
    "        for i in range(len(b)) :\n",
    "            result[i]+=b[i]          \n",
    "\n",
    "        for i in range(len(result)):\n",
    "            if result[i] > 9:\n",
    "                result[i+1]=result[i+1]+1\n",
    "                result[i]=result[i]-10\n",
    "\n",
    "        if result[-1] == 0:\n",
    "            result.pop()\n",
    "            \n",
    "        return result"
   ]
  },
  {
   "cell_type": "code",
   "execution_count": null,
   "id": "therapeutic-absence",
   "metadata": {},
   "outputs": [],
   "source": [
    "a='cdd'\n",
    "a=list(a)\n",
    "La=len(a)\n",
    "count=[]\n",
    "for i in range(La):\n",
    "    for j in range((i+1),La):\n",
    "        if a[i] == a[j]:\n",
    "            temp1=a[i:j]\n",
    "            temp2=a[j:] \n",
    "            temp1set=list(set(temp1))\n",
    "            temp2set=list(set(temp2))\n",
    "            print(temp1,temp1set,temp2,temp2set)\n",
    "            if len(temp1) == len(temp1set):\n",
    "                count.append(len(temp1))\n",
    "            if len(temp2) == len(temp2set):\n",
    "                count.append(len(temp2))\n",
    "if len(count) == 0:\n",
    "            count.append(len(a))\n",
    "print(max(count)) "
   ]
  },
  {
   "cell_type": "code",
   "execution_count": null,
   "id": "worse-navigator",
   "metadata": {},
   "outputs": [],
   "source": [
    "\n",
    "\n",
    "diff=[]\n",
    "for i in range(len(count)-1):\n",
    "    diff.append(count[i+1]-count[i])\n",
    "print(count,diff)"
   ]
  },
  {
   "cell_type": "code",
   "execution_count": null,
   "id": "mental-reducing",
   "metadata": {},
   "outputs": [],
   "source": [
    "a=[' 2 3 dd']\n",
    "len(a)"
   ]
  },
  {
   "cell_type": "code",
   "execution_count": null,
   "id": "adjustable-pennsylvania",
   "metadata": {},
   "outputs": [],
   "source": [
    "s='aaaaa'\n",
    "a=list(s)\n",
    "index=[]\n",
    "sets,counts=countlist(a)\n",
    "print(sets,counts)\n",
    "templists=[]\n",
    "unique=[]\n",
    "for i in range(len(counts)):\n",
    "    tally=0\n",
    "    if counts[i] > 1:\n",
    "        tally=0\n",
    "        for j in range(len(a)):\n",
    "            if sets[i] == a[j]:\n",
    "                index.append(j)\n",
    "                tally+=1\n",
    "            if tally == 2:\n",
    "                break\n",
    "    if tally == 2:\n",
    "        break\n",
    "templists.append(a[:index[1]])\n",
    "templists.append(a[index[0]+1:])\n",
    "for i in templists:\n",
    "    sets,counts=countlist(i)\n",
    "    print(counts)"
   ]
  },
  {
   "cell_type": "code",
   "execution_count": null,
   "id": "dutch-cover",
   "metadata": {},
   "outputs": [],
   "source": [
    "def countlist(a):\n",
    "    counts=[]\n",
    "    sets=list(set(a))\n",
    "    for i in sets:\n",
    "        counts.append(a.count(i))\n",
    "    return sets,counts\n",
    "\n",
    "def slicer(a,counts,sets):\n",
    "    index=[]\n",
    "    templists=[]\n",
    "    for i in range(len(counts)):\n",
    "        tally=0\n",
    "        if counts[i] > 1:\n",
    "            tally=0\n",
    "            for j in range(len(a)):\n",
    "                if sets[i] == a[j]:\n",
    "                    index.append(j)\n",
    "                    tally+=1\n",
    "                if tally == 2:\n",
    "                    break\n",
    "        if tally == 2:\n",
    "            break\n",
    "    if len(a) == 0:\n",
    "        templists=[a]\n",
    "    elif tally == 2:\n",
    "        templists.append(a[:index[1]])\n",
    "        templists.append(a[index[0]+1:])\n",
    "    else:\n",
    "        templists=[a]\n",
    "    return templists"
   ]
  },
  {
   "cell_type": "code",
   "execution_count": null,
   "id": "sexual-grove",
   "metadata": {},
   "outputs": [],
   "source": [
    "s='aaaacaas)'\n",
    "a=list(s)\n",
    "print(a)\n",
    "index=[]\n",
    "print(type(a))\n",
    "sets,counts=countlist(a)\n",
    "print(sets,counts)\n",
    "unique=[]\n",
    "templists=slicer(a,counts,sets)\n",
    "tempcounts=[[2]]\n",
    "while any([max(x) > 1 for x in tempcounts]) | max(counts) > 1:\n",
    "    tempcounts=[]\n",
    "    for i in templists:\n",
    "        sets,counts=countlist(i)\n",
    "        tempcounts.append(counts)\n",
    "        if max(counts) == 1:\n",
    "            unique.append(i)\n",
    "    print('tempcounts = ',tempcounts)\n",
    "print(unique)\n",
    "print(templists)\n",
    "print(len(templists))"
   ]
  },
  {
   "cell_type": "code",
   "execution_count": 23,
   "id": "surprising-creek",
   "metadata": {},
   "outputs": [
    {
     "name": "stdout",
     "output_type": "stream",
     "text": [
      "8\n"
     ]
    }
   ],
   "source": [
    "def countlist(a):\n",
    "    counts=[]\n",
    "    seta=list(set(a))\n",
    "    for i in seta:\n",
    "        counts.append(a.count(i))\n",
    "    return seta,counts\n",
    "\n",
    "def slicer(a,counts,sets):\n",
    "    index=[]\n",
    "    templists=[]\n",
    "    for i in range(len(counts)):\n",
    "        tally=0\n",
    "        if counts[i] > 1:\n",
    "            tally=0\n",
    "            for j in range(len(a)):\n",
    "                if sets[i] == a[j]:\n",
    "                    index.append(j)\n",
    "                    tally+=1\n",
    "                if tally == 2:\n",
    "                    break\n",
    "        if tally == 2:\n",
    "            break\n",
    "    if len(a) == 0:\n",
    "        templists=[a]\n",
    "    elif tally == 2:\n",
    "        templists.append(a[:index[1]])\n",
    "        templists.append(a[index[0]+1:])\n",
    "    else:\n",
    "        templists=[a]\n",
    "    return templists\n",
    "\n",
    "s='iqbtbscgdztpgfp'\n",
    "if len(s) == 0:\n",
    "    tempcounts=[[1]]\n",
    "else:\n",
    "    tempcounts=[[2]]\n",
    "a=list(s)\n",
    "a=[a]\n",
    "unique=[]\n",
    "while any([max(x) > 1 for x in tempcounts]):\n",
    "    b=[]\n",
    "    for i in a:\n",
    "        countholder=[]\n",
    "        setholder=[]\n",
    "        sets,counts=countlist(i)\n",
    "        templists=slicer(i,counts,sets)\n",
    "        for j in templists:\n",
    "            sets,counts=countlist(j)\n",
    "            countholder.append(counts)\n",
    "            setholder.append(sets)\n",
    "            if max(counts) == 1:\n",
    "                unique.append(j)\n",
    "            else:\n",
    "                b.append(j)\n",
    "    tempcounts=countholder\n",
    "    a=b\n",
    "lengths=[0]\n",
    "for i in unique:\n",
    "    lengths.append(len(i))\n",
    "longest=max(lengths)\n",
    "print(longest)"
   ]
  },
  {
   "cell_type": "code",
   "execution_count": 53,
   "id": "fluid-tobacco",
   "metadata": {},
   "outputs": [
    {
     "name": "stdout",
     "output_type": "stream",
     "text": [
      "8\n"
     ]
    }
   ],
   "source": [
    "s='bpoiexpqhmebhhu'\n",
    "if len(s) == 0:\n",
    "    tempcounts=[[1]]\n",
    "else:\n",
    "    tempcounts=[[2]]\n",
    "a=list(s)\n",
    "a=[a]\n",
    "unique=[]\n",
    "while any([max(x) > 1 for x in tempcounts]):\n",
    "    b=[]\n",
    "    for i in a:\n",
    "        countholder=[]\n",
    "        setholder=[]\n",
    "        sets,counts=countlist(i)\n",
    "        templists=slicer(i,counts,sets)\n",
    "        for j in templists:\n",
    "            sets,counts=countlist(j)\n",
    "            countholder.append(counts)\n",
    "            setholder.append(sets)\n",
    "            if max(counts) == 1:\n",
    "                unique.append(j)\n",
    "            else:\n",
    "                b.append(j)\n",
    "    tempcounts=countholder\n",
    "    a=b\n",
    "lengths=[0]\n",
    "for i in unique:\n",
    "    lengths.append(len(i))\n",
    "longest=max(lengths)\n",
    "print(longest)"
   ]
  },
  {
   "cell_type": "code",
   "execution_count": 52,
   "id": "daily-webster",
   "metadata": {},
   "outputs": [
    {
     "name": "stdout",
     "output_type": "stream",
     "text": [
      "\n",
      "\n",
      "\n",
      "\n",
      "\n",
      "\n",
      "\n",
      "qwertytrewq\n"
     ]
    },
    {
     "data": {
      "text/plain": [
       "'q'"
      ]
     },
     "execution_count": 52,
     "metadata": {},
     "output_type": "execute_result"
    }
   ],
   "source": [
    "s='qwertytrewqhjkjh'\n",
    "a=list(s)\n",
    "pals=[]\n",
    "for i in range(len(a)):\n",
    "    for j in range((i+1),len(a)):\n",
    "        if a[i] == a[j] :\n",
    "            cutlistfront=a[i:(j+1)]\n",
    "            cutlistback=cutlistfront.copy()\n",
    "            cutlistback.reverse()\n",
    "            print()\n",
    "            if cutlistfront == cutlistback:\n",
    "                joiner=''\n",
    "                pals.append(joiner.join(cutlistfront))\n",
    "pals=sorted(pals, key=len)\n",
    "print(pals[-1])\n",
    "s[0]"
   ]
  },
  {
   "cell_type": "code",
   "execution_count": 57,
   "id": "naked-prototype",
   "metadata": {},
   "outputs": [
    {
     "name": "stdout",
     "output_type": "stream",
     "text": [
      "['', '', '', '', '']\n"
     ]
    }
   ],
   "source": [
    "s='qwertrewq'\n",
    "if len(s) == 0:\n",
    "    longstring=''\n",
    "longstring=''\n",
    "for i in s:\n",
    "    \n",
    "    \n"
   ]
  }
 ],
 "metadata": {
  "kernelspec": {
   "display_name": "Python 3",
   "language": "python",
   "name": "python3"
  },
  "language_info": {
   "codemirror_mode": {
    "name": "ipython",
    "version": 3
   },
   "file_extension": ".py",
   "mimetype": "text/x-python",
   "name": "python",
   "nbconvert_exporter": "python",
   "pygments_lexer": "ipython3",
   "version": "3.7.9"
  }
 },
 "nbformat": 4,
 "nbformat_minor": 5
}
