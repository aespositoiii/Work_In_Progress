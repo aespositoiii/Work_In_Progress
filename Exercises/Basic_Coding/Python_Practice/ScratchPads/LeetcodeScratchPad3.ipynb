{
 "cells": [
  {
   "cell_type": "code",
   "execution_count": 276,
   "id": "smoking-cookie",
   "metadata": {},
   "outputs": [],
   "source": [
    "class Solution:\n",
    "    def myAtoi(self, s: str) -> int:\n",
    "        i = 0\n",
    "        sign = 1\n",
    "        result = 0\n",
    "        L = int(len(s))\n",
    "        \n",
    "        if L == 0:\n",
    "            return int(0)\n",
    "        \n",
    "        while  (i < L) & (s[i] == ' '):\n",
    "            i += 1\n",
    "            if i == L:\n",
    "                return result\n",
    "        if (i < L) & (s[i] == '+'):\n",
    "            i += 1        \n",
    "            if i == L:\n",
    "                return result            \n",
    "        elif ((i < L) & (s[i] == '-')):\n",
    "            sign = -1\n",
    "            i += 1\n",
    "            if i == L:\n",
    "                return result\n",
    "            \n",
    "        while (s[i].isdigit()):\n",
    "            result = result*10 + int(s[i])\n",
    "            i += 1\n",
    "            if i == L:\n",
    "                break\n",
    "        \n",
    "        result = result * sign\n",
    "        \n",
    "        lim = 2**31\n",
    "        \n",
    "        if result > (lim - 1):\n",
    "            return lim - 1\n",
    "        elif result < ((-1) * lim):\n",
    "            return (-1) * lim\n",
    "    \n",
    "       \n",
    "        return result\n"
   ]
  },
  {
   "cell_type": "code",
   "execution_count": 277,
   "id": "bridal-schedule",
   "metadata": {
    "scrolled": true
   },
   "outputs": [
    {
     "name": "stdout",
     "output_type": "stream",
     "text": [
      "-42 <class 'int'>\n"
     ]
    }
   ],
   "source": [
    "a='    -42'\n",
    "b = Solution.myAtoi(a, a)\n",
    "\n",
    "print(b, type(b))"
   ]
  },
  {
   "cell_type": "code",
   "execution_count": 260,
   "id": "informational-auditor",
   "metadata": {},
   "outputs": [
    {
     "data": {
      "text/plain": [
       "4294967295"
      ]
     },
     "execution_count": 260,
     "metadata": {},
     "output_type": "execute_result"
    }
   ],
   "source": [
    "2**32 -1"
   ]
  },
  {
   "cell_type": "code",
   "execution_count": 201,
   "id": "enhanced-alexandria",
   "metadata": {},
   "outputs": [],
   "source": [
    "class Solution:\n",
    "    def myAtoi(self, s: str) -> int:\n",
    "        print(s)\n",
    "        a = list(s)\n",
    "        i = int(0)\n",
    "        start = -1\n",
    "        stop = 0\n",
    "        \n",
    "        if len(s)==0:\n",
    "            return int(0)\n",
    "        elif len(a) == 1:\n",
    "            if a[0].isdigit():\n",
    "                return int(a[0])\n",
    "            else:\n",
    "                return int(0)\n",
    "        \n",
    "        for i in range(len(a)):\n",
    "            if ( a[i] == '+' ) or (a[i] == '-' ):\n",
    "                if i == (len(a)-1):\n",
    "                    return int(0)\n",
    "                elif a[i+1].isdigit():\n",
    "                    start = i\n",
    "                    break\n",
    "                elif a[i+1].isdigit() == False:\n",
    "                    return int(0)\n",
    "        \n",
    "            elif a[i].isdigit():\n",
    "                start = i\n",
    "                break\n",
    "            \n",
    "            elif a[i] == ' ':\n",
    "                continue\n",
    "                \n",
    "            else:\n",
    "                return int(0)\n",
    "            \n",
    "        for i in range(start+1, len(a)):  \n",
    "            if (a[i].isdigit() == False):\n",
    "                stop = i\n",
    "                break\n",
    "            stop = i + 1\n",
    "        \n",
    "        print(start, stop)\n",
    "        \n",
    "        if start == -1:\n",
    "            a = int(0)\n",
    "            return a\n",
    "        \n",
    "        b = str('')\n",
    "        \n",
    "        for i in a[start:stop]:\n",
    "            b = b + i\n",
    "        print(b)\n",
    "        c = int(b)\n",
    "        \n",
    "        if c > (2**31 - 1):\n",
    "            c = 2**31 - 1\n",
    "        \n",
    "        if c < (-(2**31)):\n",
    "            c = -(2**31)\n",
    "        return c"
   ]
  },
  {
   "cell_type": "code",
   "execution_count": 202,
   "id": "instant-married",
   "metadata": {},
   "outputs": [
    {
     "name": "stdout",
     "output_type": "stream",
     "text": [
      "     -42\n",
      "5 5\n",
      "\n"
     ]
    },
    {
     "ename": "ValueError",
     "evalue": "invalid literal for int() with base 10: ''",
     "output_type": "error",
     "traceback": [
      "\u001b[0;31m---------------------------------------------------------------------------\u001b[0m",
      "\u001b[0;31mValueError\u001b[0m                                Traceback (most recent call last)",
      "\u001b[0;32m<ipython-input-202-d2cb681f079a>\u001b[0m in \u001b[0;36m<module>\u001b[0;34m\u001b[0m\n\u001b[1;32m      1\u001b[0m \u001b[0ma\u001b[0m\u001b[0;34m=\u001b[0m\u001b[0;34m'     -42'\u001b[0m\u001b[0;34m\u001b[0m\u001b[0;34m\u001b[0m\u001b[0m\n\u001b[0;32m----> 2\u001b[0;31m \u001b[0mb\u001b[0m \u001b[0;34m=\u001b[0m \u001b[0mSolution\u001b[0m\u001b[0;34m.\u001b[0m\u001b[0mmyAtoi\u001b[0m\u001b[0;34m(\u001b[0m\u001b[0ma\u001b[0m\u001b[0;34m,\u001b[0m \u001b[0ma\u001b[0m\u001b[0;34m)\u001b[0m\u001b[0;34m\u001b[0m\u001b[0;34m\u001b[0m\u001b[0m\n\u001b[0m\u001b[1;32m      3\u001b[0m \u001b[0;34m\u001b[0m\u001b[0m\n\u001b[1;32m      4\u001b[0m \u001b[0mprint\u001b[0m\u001b[0;34m(\u001b[0m\u001b[0mb\u001b[0m\u001b[0;34m)\u001b[0m\u001b[0;34m\u001b[0m\u001b[0;34m\u001b[0m\u001b[0m\n",
      "\u001b[0;32m<ipython-input-201-b40b625bdd50>\u001b[0m in \u001b[0;36mmyAtoi\u001b[0;34m(self, s)\u001b[0m\n\u001b[1;32m     52\u001b[0m             \u001b[0mb\u001b[0m \u001b[0;34m=\u001b[0m \u001b[0mb\u001b[0m \u001b[0;34m+\u001b[0m \u001b[0mi\u001b[0m\u001b[0;34m\u001b[0m\u001b[0;34m\u001b[0m\u001b[0m\n\u001b[1;32m     53\u001b[0m         \u001b[0mprint\u001b[0m\u001b[0;34m(\u001b[0m\u001b[0mb\u001b[0m\u001b[0;34m)\u001b[0m\u001b[0;34m\u001b[0m\u001b[0;34m\u001b[0m\u001b[0m\n\u001b[0;32m---> 54\u001b[0;31m         \u001b[0mc\u001b[0m \u001b[0;34m=\u001b[0m \u001b[0mint\u001b[0m\u001b[0;34m(\u001b[0m\u001b[0mb\u001b[0m\u001b[0;34m)\u001b[0m\u001b[0;34m\u001b[0m\u001b[0;34m\u001b[0m\u001b[0m\n\u001b[0m\u001b[1;32m     55\u001b[0m \u001b[0;34m\u001b[0m\u001b[0m\n\u001b[1;32m     56\u001b[0m         \u001b[0;32mif\u001b[0m \u001b[0mc\u001b[0m \u001b[0;34m>\u001b[0m \u001b[0;34m(\u001b[0m\u001b[0;36m2\u001b[0m\u001b[0;34m**\u001b[0m\u001b[0;36m31\u001b[0m \u001b[0;34m-\u001b[0m \u001b[0;36m1\u001b[0m\u001b[0;34m)\u001b[0m\u001b[0;34m:\u001b[0m\u001b[0;34m\u001b[0m\u001b[0;34m\u001b[0m\u001b[0m\n",
      "\u001b[0;31mValueError\u001b[0m: invalid literal for int() with base 10: ''"
     ]
    }
   ],
   "source": [
    "a='     -42'\n",
    "b = Solution.myAtoi(a, a)\n",
    "\n",
    "print(b)"
   ]
  },
  {
   "cell_type": "code",
   "execution_count": 107,
   "id": "referenced-commonwealth",
   "metadata": {},
   "outputs": [
    {
     "data": {
      "text/plain": [
       "8388608"
      ]
     },
     "execution_count": 107,
     "metadata": {},
     "output_type": "execute_result"
    }
   ],
   "source": [
    "2**23"
   ]
  },
  {
   "cell_type": "code",
   "execution_count": null,
   "id": "angry-footage",
   "metadata": {},
   "outputs": [],
   "source": [
    "s = '42'\n",
    "a = list(s)\n",
    "i = int(0)\n",
    "start = int(-1)\n",
    "for i in range(len(a)):\n",
    "    if ( a[i] == '+') or ( a[i] == '-'):\n",
    "        if a[i+1].isdigit():\n",
    "            start = i\n",
    "            break\n",
    "\n",
    "for i in range(( start + 1 ), len(a)):\n",
    "    if (a[i].isdigit() == False):\n",
    "        stop = i\n",
    "        break\n",
    "    stop = i + 1\n",
    "            \n",
    "if start == -1:\n",
    "    a = int(0)\n",
    "\n",
    "a = int(a[start:stop])\n",
    "if a > ( 2^23 -1 ):\n",
    "    a = int(2^23 - 1)\n",
    "    \n",
    "if a < ( -2^23):\n",
    "    a = int(-2^23)\n",
    "    "
   ]
  },
  {
   "cell_type": "code",
   "execution_count": 71,
   "id": "marine-buffalo",
   "metadata": {},
   "outputs": [
    {
     "name": "stdout",
     "output_type": "stream",
     "text": [
      "['s', 'd', 'k', 'j', 'f', ';', 'l', 'k', 'j', '-', '2', '3', '4', ';', 'l', 'a', 'k', 'j', 's', 'd', 'f']\n"
     ]
    }
   ],
   "source": [
    "a='sdkjf;lkj-234;lakjsdf'\n",
    "Solution.myAtoi(a, a)"
   ]
  },
  {
   "cell_type": "code",
   "execution_count": 59,
   "id": "acting-hunger",
   "metadata": {},
   "outputs": [
    {
     "name": "stdout",
     "output_type": "stream",
     "text": [
      "-4 <class 'int'>\n"
     ]
    }
   ],
   "source": [
    "a = '-4'\n",
    "b = int(a)\n",
    "print(b, type(b))"
   ]
  },
  {
   "cell_type": "code",
   "execution_count": 115,
   "id": "realistic-foster",
   "metadata": {},
   "outputs": [
    {
     "data": {
      "text/plain": [
       "'42'"
      ]
     },
     "execution_count": 115,
     "metadata": {},
     "output_type": "execute_result"
    }
   ],
   "source": [
    "a = '42'\n",
    "a[0:2]"
   ]
  },
  {
   "cell_type": "code",
   "execution_count": 159,
   "id": "spatial-restaurant",
   "metadata": {},
   "outputs": [
    {
     "name": "stdout",
     "output_type": "stream",
     "text": [
      "k\n"
     ]
    }
   ],
   "source": [
    "a='      k'\n",
    "print(a[-1])"
   ]
  },
  {
   "cell_type": "code",
   "execution_count": 320,
   "id": "broad-commander",
   "metadata": {},
   "outputs": [],
   "source": [
    "class Solution:\n",
    "    def isPalindrome(self, x: int) -> bool:\n",
    "        i = 0\n",
    "        x = list(str(x))\n",
    "        while i < (len(x)//2):\n",
    "            if x[i] != x[(-i - 1)]:\n",
    "                return False\n",
    "            i += 1\n",
    "        return True\n",
    "            "
   ]
  },
  {
   "cell_type": "code",
   "execution_count": 321,
   "id": "lasting-eligibility",
   "metadata": {},
   "outputs": [
    {
     "name": "stdout",
     "output_type": "stream",
     "text": [
      "True <class 'bool'>\n"
     ]
    }
   ],
   "source": [
    "a = 121\n",
    "b = Solution.isPalindrome(a, a)\n",
    "\n",
    "print(b, type(b))"
   ]
  },
  {
   "cell_type": "code",
   "execution_count": 313,
   "id": "ahead-kenya",
   "metadata": {},
   "outputs": [
    {
     "ename": "TypeError",
     "evalue": "'int' object is not iterable",
     "output_type": "error",
     "traceback": [
      "\u001b[0;31m---------------------------------------------------------------------------\u001b[0m",
      "\u001b[0;31mTypeError\u001b[0m                                 Traceback (most recent call last)",
      "\u001b[0;32m<ipython-input-313-1f3483d6c972>\u001b[0m in \u001b[0;36m<module>\u001b[0;34m\u001b[0m\n\u001b[1;32m      1\u001b[0m \u001b[0ma\u001b[0m \u001b[0;34m=\u001b[0m \u001b[0;36m23454\u001b[0m\u001b[0;34m\u001b[0m\u001b[0;34m\u001b[0m\u001b[0m\n\u001b[0;32m----> 2\u001b[0;31m \u001b[0mb\u001b[0m \u001b[0;34m=\u001b[0m \u001b[0mlist\u001b[0m\u001b[0;34m(\u001b[0m\u001b[0ma\u001b[0m\u001b[0;34m)\u001b[0m\u001b[0;34m\u001b[0m\u001b[0;34m\u001b[0m\u001b[0m\n\u001b[0m",
      "\u001b[0;31mTypeError\u001b[0m: 'int' object is not iterable"
     ]
    }
   ],
   "source": []
  },
  {
   "cell_type": "code",
   "execution_count": 291,
   "id": "august-coupon",
   "metadata": {},
   "outputs": [
    {
     "name": "stdout",
     "output_type": "stream",
     "text": [
      "4.5\n"
     ]
    },
    {
     "ename": "NameError",
     "evalue": "name 'ceil' is not defined",
     "output_type": "error",
     "traceback": [
      "\u001b[0;31m---------------------------------------------------------------------------\u001b[0m",
      "\u001b[0;31mNameError\u001b[0m                                 Traceback (most recent call last)",
      "\u001b[0;32m<ipython-input-291-3542ed5b2c98>\u001b[0m in \u001b[0;36m<module>\u001b[0;34m\u001b[0m\n\u001b[1;32m      2\u001b[0m \u001b[0misPal\u001b[0m \u001b[0;34m=\u001b[0m \u001b[0;32mFalse\u001b[0m\u001b[0;34m\u001b[0m\u001b[0;34m\u001b[0m\u001b[0m\n\u001b[1;32m      3\u001b[0m \u001b[0mprint\u001b[0m\u001b[0;34m(\u001b[0m\u001b[0mlen\u001b[0m\u001b[0;34m(\u001b[0m\u001b[0ma\u001b[0m\u001b[0;34m)\u001b[0m\u001b[0;34m/\u001b[0m\u001b[0;36m2\u001b[0m\u001b[0;34m)\u001b[0m\u001b[0;34m\u001b[0m\u001b[0;34m\u001b[0m\u001b[0m\n\u001b[0;32m----> 4\u001b[0;31m \u001b[0mprint\u001b[0m\u001b[0;34m(\u001b[0m\u001b[0mceil\u001b[0m\u001b[0;34m(\u001b[0m\u001b[0mlen\u001b[0m\u001b[0;34m(\u001b[0m\u001b[0ma\u001b[0m\u001b[0;34m)\u001b[0m\u001b[0;34m/\u001b[0m\u001b[0;36m2\u001b[0m\u001b[0;34m)\u001b[0m\u001b[0;34m)\u001b[0m\u001b[0;34m\u001b[0m\u001b[0;34m\u001b[0m\u001b[0m\n\u001b[0m",
      "\u001b[0;31mNameError\u001b[0m: name 'ceil' is not defined"
     ]
    }
   ],
   "source": [
    "i = 0\n",
    "isPal = False\n",
    "print(len(a)/2)\n",
    "print(ceil(len(a)/2))\n"
   ]
  },
  {
   "cell_type": "code",
   "execution_count": null,
   "id": "tamil-twenty",
   "metadata": {},
   "outputs": [],
   "source": []
  },
  {
   "cell_type": "code",
   "execution_count": 515,
   "id": "solved-russian",
   "metadata": {},
   "outputs": [
    {
     "name": "stdout",
     "output_type": "stream",
     "text": [
      "<ipython-input-515-b280d8e5830f> 3\n"
     ]
    }
   ],
   "source": [
    "from inspect import currentframe, getframeinfo\n",
    "\n",
    "frameinfo = getframeinfo(currentframe())\n",
    "\n",
    "print(frameinfo.filename, frameinfo.lineno)\n",
    "\n",
    "\n",
    "class Solution:\n",
    "    def isMatch(self, s: str, p: str) -> bool:\n",
    "        i = int(0)\n",
    "        ip = int(0)\n",
    "        s = list(s)\n",
    "        p = list(p)\n",
    "        Ls = len(s)\n",
    "        Lp = len(p)\n",
    "        while ((i < Ls) & (ip < Lp)):\n",
    "            print(getframeinfo(currentframe()).lineno, i, ip, Ls, Lp)\n",
    "            if ((p[ip] == s[i]) or (p[ip] == '.')):\n",
    "                print(getframeinfo(currentframe()).lineno, i, ip, Ls, Lp)\n",
    "                i  += 1\n",
    "                ip += 1\n",
    "                print(getframeinfo(currentframe()).lineno, i, ip, Ls, Lp)\n",
    "            elif ((p[ip] == '*') & (p[ip-1].isalpha())):\n",
    "                print(getframeinfo(currentframe()).lineno, i, ip, Ls, Lp)\n",
    "                while ((i < Ls) & (ip < Lp)): \n",
    "                    print(getframeinfo(currentframe()).lineno, i, ip, Ls, Lp)\n",
    "                    if ((p[ip-1] == s[i]) or (p[ip-1] == '.')):\n",
    "                        print(getframeinfo(currentframe()).lineno, i, ip, Ls, Lp)\n",
    "                        i += 1\n",
    "                        print(getframeinfo(currentframe()).lineno, i, ip, Ls, Lp)\n",
    "                    \n",
    "                    else:\n",
    "                        print(getframeinfo(currentframe()).lineno, i, ip, Ls, Lp)\n",
    "                        ip += 1\n",
    "                        print(getframeinfo(currentframe()).lineno, i, ip, Ls, Lp)\n",
    "                        break\n",
    "                print(getframeinfo(currentframe()).lineno, i, ip, Ls, Lp)\n",
    "            elif ((p[ip] == '*') & (p[ip-1] == '.')):\n",
    "                print(getframeinfo(currentframe()).lineno, i, ip, Ls, Lp)\n",
    "                ip += 1\n",
    "                if ip == Lp:\n",
    "                    return True\n",
    "                \n",
    "                else:\n",
    "                    print(getframeinfo(currentframe()).lineno, i, ip, Ls, Lp)\n",
    "                    while i < Ls:\n",
    "                        if p[ip] != s[i]:\n",
    "                            print(getframeinfo(currentframe()).lineno, i, ip, Ls, Lp)\n",
    "                            i += 1\n",
    "                            \n",
    "                        elif p[ip] == s[i]:\n",
    "                            print(getframeinfo(currentframe()).lineno, i, ip, Ls, Lp)\n",
    "                            i += 1\n",
    "                            ip += 1\n",
    "                            break\n",
    "                        \n",
    "                        if i == Ls:\n",
    "                            return False\n",
    "                  \n",
    "            else:\n",
    "                print(getframeinfo(currentframe()).lineno, i, ip, Ls, Lp)\n",
    "                ip += 1\n",
    "                if ip < Lp:\n",
    "                    print(getframeinfo(currentframe()).lineno, i, ip, Ls, Lp)\n",
    "                    if p[ip] == '*':\n",
    "                        print(getframeinfo(currentframe()).lineno, i, ip, Ls, Lp)\n",
    "                        ip += 1\n",
    "                        print(getframeinfo(currentframe()).lineno, i, ip, Ls, Lp)\n",
    "                    else:\n",
    "                        print(getframeinfo(currentframe()).lineno, i, ip, Ls, Lp)\n",
    "                        return False\n",
    "                    \n",
    "                else:\n",
    "                    print(getframeinfo(currentframe()).lineno, i, ip, Ls, Lp)\n",
    "                    return False\n",
    "\n",
    "        if ((i < (Ls)) or ( ip < Lp)) :\n",
    "            print(getframeinfo(currentframe()).lineno, i, ip, Ls, Lp)\n",
    "            return False\n",
    "        print(getframeinfo(currentframe()).lineno, i, ip, Ls, Lp)\n",
    "        return True"
   ]
  },
  {
   "cell_type": "code",
   "execution_count": 523,
   "id": "rotary-constitution",
   "metadata": {
    "scrolled": true
   },
   "outputs": [
    {
     "name": "stdout",
     "output_type": "stream",
     "text": [
      "11\n",
      "15\n",
      "first match True\n",
      "18\n",
      "23\n",
      "11\n",
      "15\n",
      "first match True\n",
      "18\n",
      "23\n",
      "11\n",
      "15\n",
      "first match True\n",
      "18\n",
      "20\n",
      "11\n",
      "15\n",
      "first match False\n",
      "18\n",
      "23\n",
      "11\n",
      "15\n",
      "first match True\n",
      "18\n",
      "20\n",
      "11\n",
      "15\n",
      "first match False\n",
      "18\n",
      "23\n",
      "11\n",
      "15\n",
      "first match False\n",
      "18\n",
      "20\n",
      "11\n",
      "15\n",
      "first match True\n",
      "18\n",
      "23\n",
      "11\n",
      "15\n",
      "first match True\n",
      "18\n",
      "20\n",
      "11\n",
      "15\n",
      "first match False\n",
      "18\n",
      "20\n",
      "11\n",
      "15\n",
      "first match True\n",
      "18\n",
      "23\n",
      "11\n",
      "13\n",
      "11\n",
      "15\n",
      "first match True\n",
      "18\n",
      "20\n",
      "11\n",
      "15\n",
      "first match False\n",
      "18\n",
      "20\n",
      "11\n",
      "15\n",
      "first match True\n",
      "18\n",
      "23\n",
      "11\n",
      "13\n",
      "11\n",
      "15\n",
      "first match False\n",
      "18\n",
      "20\n",
      "11\n",
      "15\n",
      "first match False\n",
      "18\n",
      "20\n",
      "11\n",
      "15\n",
      "first match True\n",
      "18\n",
      "23\n",
      "11\n",
      "13\n",
      "False <class 'bool'>\n"
     ]
    }
   ],
   "source": [
    "s = 'mississippi'\n",
    "p = 'mis*is*p*.'\n",
    "b = Solution()\n",
    "b = b.isMatch(s, p)\n",
    "\n",
    "print(b, type(b))"
   ]
  },
  {
   "cell_type": "code",
   "execution_count": null,
   "id": "recreational-starter",
   "metadata": {},
   "outputs": [],
   "source": [
    "class Solution:\n",
    "    def isMatch(self, s: str, p: str) -> bool:\n",
    "        i = int(0)\n",
    "        ip = int(0)\n",
    "        s = list(s)\n",
    "        p = list(p)\n",
    "        Ls = len(s)\n",
    "        Lp = len(p)\n",
    "        while ((i < Ls) & (ip < Lp)):\n",
    "            \n",
    "            if ((p[ip] == s[i]) or (p[ip] == '.')):\n",
    "                \n",
    "                i  += 1\n",
    "                ip += 1\n",
    "                \n",
    "            elif ((p[ip] == '*') & (p[ip-1].isalpha())):\n",
    "                \n",
    "                while ((i < Ls) & (ip < Lp)): \n",
    "                    \n",
    "                    if ((p[ip-1] == s[i]) or (p[ip-1] == '.')):\n",
    "                        \n",
    "                        i += 1\n",
    "                        \n",
    "                    \n",
    "                    else:\n",
    "                        \n",
    "                        ip += 1\n",
    "                        \n",
    "                        break\n",
    "                \n",
    "            elif ((p[ip] == '*') & (p[ip-1] == '.')):\n",
    "                \n",
    "                ip += 1\n",
    "                if ip == Lp:\n",
    "                    return True\n",
    "                \n",
    "                else:\n",
    "                    \n",
    "                    while i < Ls:\n",
    "                        if p[ip] != s[i]:\n",
    "                            \n",
    "                            i += 1\n",
    "                            \n",
    "                        elif p[ip] == s[i]:\n",
    "                            \n",
    "                            i += 1\n",
    "                            ip += 1\n",
    "                            break\n",
    "                        \n",
    "                        if i == Ls:\n",
    "                            return False\n",
    "                  \n",
    "            else:\n",
    "                \n",
    "                ip += 1\n",
    "                if ip < Lp:\n",
    "                    \n",
    "                    if p[ip] == '*':\n",
    "                        \n",
    "                        ip += 1\n",
    "                        \n",
    "                    else:\n",
    "                        \n",
    "                        return False\n",
    "                    \n",
    "                else:\n",
    "                    \n",
    "                    return False\n",
    "\n",
    "        if ((i < (Ls)) or ( ip < Lp)) :\n",
    "            \n",
    "            return False\n",
    "        \n",
    "        return True"
   ]
  },
  {
   "cell_type": "code",
   "execution_count": 502,
   "id": "atlantic-leader",
   "metadata": {},
   "outputs": [],
   "source": [
    "x = 'd'\n",
    "y = 'd'\n",
    "if not x:\n",
    "    print( not y)"
   ]
  },
  {
   "cell_type": "code",
   "execution_count": 7,
   "id": "minor-convenience",
   "metadata": {},
   "outputs": [],
   "source": [
    "class Solution(object):\n",
    "    def isMatch(self, text, pattern):\n",
    "        if not pattern:\n",
    "            return not text\n",
    "        first_match = bool(text) and pattern[0] in {text[0], '.'}\n",
    "\n",
    "        if len(pattern) >= 2 and pattern[1] == '*':\n",
    "            print('if', pattern, text)\n",
    "            return (self.isMatch(text, pattern[2:]) or\n",
    "                    first_match and self.isMatch(text[1:], pattern))\n",
    "        else:\n",
    "            print('else', pattern, text)\n",
    "            return first_match and self.isMatch(text[1:], pattern[1:])"
   ]
  },
  {
   "cell_type": "code",
   "execution_count": 8,
   "id": "center-ottawa",
   "metadata": {},
   "outputs": [
    {
     "name": "stdout",
     "output_type": "stream",
     "text": [
      "else mis*is*p*. mississippi\n",
      "else is*is*p*. ississippi\n",
      "if s*is*p*. ssissippi\n",
      "else is*p*. ssissippi\n",
      "if s*is*p*. sissippi\n",
      "else is*p*. sissippi\n",
      "if s*is*p*. issippi\n",
      "else is*p*. issippi\n",
      "if s*p*. ssippi\n",
      "if p*. ssippi\n",
      "else . ssippi\n",
      "if s*p*. sippi\n",
      "if p*. sippi\n",
      "else . sippi\n",
      "if s*p*. ippi\n",
      "if p*. ippi\n",
      "else . ippi\n",
      "False <class 'bool'>\n"
     ]
    }
   ],
   "source": [
    "s = 'mississippi'\n",
    "p = 'mis*is*p*.'\n",
    "b = Solution()\n",
    "c = b.isMatch(s, p)\n",
    "\n",
    "print(c, type(c))"
   ]
  },
  {
   "cell_type": "code",
   "execution_count": 62,
   "id": "artistic-transportation",
   "metadata": {},
   "outputs": [],
   "source": [
    "from typing import List\n",
    "\n",
    "class Solution:\n",
    "    def maxArea(self, height: List[int]) -> int:\n",
    "        i = int(0)\n",
    "        A0 = int(0)\n",
    "        L = len(height)\n",
    "        while i < L-1:\n",
    "            j = max( (1), ((A0 // height[i]) + (A0 % height[i] > 0) ))\n",
    "            print(i, j, height[i], A0, ((A0 // height[i]) + (A0 % height[i] > 0) ))\n",
    "            if (i + j) >= L :\n",
    "                i += 1\n",
    "            else:\n",
    "                while (i + j) < L :\n",
    "                    A1 = min(height[i], height[i + j]) * (j)\n",
    "                    print(A1, A0)\n",
    "                    if A1 > A0 :\n",
    "                        A0 = A1\n",
    "                    j += 1\n",
    "                i += 1\n",
    "        return A0"
   ]
  },
  {
   "cell_type": "code",
   "execution_count": 57,
   "id": "extensive-primary",
   "metadata": {},
   "outputs": [],
   "source": [
    "from typing import List\n",
    "\n",
    "class Solution:\n",
    "    def maxArea(self, height: List[int]) -> int:\n",
    "        i = int(0)\n",
    "        j = int(1)\n",
    "        A0 = int(0)\n",
    "        L = len(height)\n",
    "        for i in range(L-1):\n",
    "            for j in range(i+1, L):\n",
    "                A1 = min(height[i], height[j]) * (j-i)\n",
    "                if A1 > A0:\n",
    "                    A0 = A1\n",
    "        return A0"
   ]
  },
  {
   "cell_type": "code",
   "execution_count": 6,
   "id": "departmental-syria",
   "metadata": {},
   "outputs": [
    {
     "name": "stdout",
     "output_type": "stream",
     "text": [
      "49 <class 'int'>\n"
     ]
    }
   ],
   "source": [
    "List = [1,8,6,2,5,4,8,3,7]\n",
    "b = Solution()\n",
    "c = b.maxArea(List)\n",
    "\n",
    "print(c, type(c))"
   ]
  },
  {
   "cell_type": "code",
   "execution_count": 51,
   "id": "worldwide-wyoming",
   "metadata": {},
   "outputs": [
    {
     "data": {
      "text/plain": [
       "2"
      ]
     },
     "execution_count": 51,
     "metadata": {},
     "output_type": "execute_result"
    }
   ],
   "source": [
    "10//5 + (10%5 > 0)"
   ]
  },
  {
   "cell_type": "code",
   "execution_count": 5,
   "id": "super-cover",
   "metadata": {},
   "outputs": [],
   "source": [
    "from typing import List\n",
    "\n",
    "class Solution:\n",
    "    def maxArea(self, height: List[int]) -> int:\n",
    "        i = int(0)\n",
    "        j = len(height)-1\n",
    "        A0 =  int(0)\n",
    "        while i < j:\n",
    "            L = j - i\n",
    "            if height[i] < height[j]:\n",
    "                h = height[i]\n",
    "                i += 1\n",
    "            else:\n",
    "                h = height[j]\n",
    "                j -= 1\n",
    "            A1 = L * h\n",
    "            if A1 > A0:\n",
    "                A0 = A1\n",
    "        return A0\n",
    "            "
   ]
  },
  {
   "cell_type": "code",
   "execution_count": 182,
   "id": "stylish-party",
   "metadata": {},
   "outputs": [],
   "source": [
    "class Solution:\n",
    "    def intToRoman(self, num: int) -> str:\n",
    "        N = list(str(num))\n",
    "        L = len(N)\n",
    "        R = ''\n",
    "        M = [ 0, 0, 0, 0]\n",
    "        Th = { 0 : '', 1 : 'M', 2 : 'MM', 3: 'MMM' }\n",
    "        H = { 0 : '', 1 : 'C', 2 : 'CC', 3: 'CCC', 4 : 'CD', 5 : 'D', 6 : 'DC', 7 : 'DCC', 8 : 'DCCC', 9 : 'CM'}\n",
    "        Te = { 0 : '', 1 : 'X', 2 : 'XX', 3: 'XXX', 4 : 'XL', 5 : 'L', 6 : 'LX', 7 : 'LXX', 8 : 'LXXX', 9 : 'XC'}\n",
    "        O = { 0 : '', 1 : 'I', 2 : 'II', 3: 'III', 4 : 'IV', 5 : 'V', 6 : 'VI', 7 : 'VII', 8 : 'VIII', 9 : 'IX'}\n",
    "        D = [Th, H, Te, O]\n",
    "        for i in range(1,(L+1)):\n",
    "            M[-i] = N[-i]\n",
    "        \n",
    "        for i in range(len(M)):\n",
    "            R = R + D[i][int(M[i])]\n",
    "            print(i)\n",
    "            print(M[i])\n",
    "            print(D[i])\n",
    "            print(D[i][int(M[i])])\n",
    "        return R"
   ]
  },
  {
   "cell_type": "code",
   "execution_count": 229,
   "id": "sensitive-pickup",
   "metadata": {},
   "outputs": [
    {
     "name": "stdout",
     "output_type": "stream",
     "text": [
      "d =               3\n",
      "K[i][0] =         M\n",
      "R =                \n",
      "R =             MMM\n",
      "d =               8\n",
      "K[i][1] =         D\n",
      "K[i][0] =         C\n",
      "R =             MMM\n",
      "R =         MMMDCCC\n",
      "d =               8\n",
      "K[i][1] =         L\n",
      "K[i][0] =         X\n",
      "R =         MMMDCCC\n",
      "R =     MMMDCCCLXXX\n",
      "d =               8\n",
      "K[i][1] =         V\n",
      "K[i][0] =         I\n",
      "R =     MMMDCCCLXXX\n",
      "R = MMMDCCCLXXXVIII\n",
      "MMMDCCCLXXXVIII <class 'str'>\n"
     ]
    }
   ],
   "source": [
    "number = 3888\n",
    "b = Solution()\n",
    "c = b.intToRoman(number)\n",
    "\n",
    "print(c, type(c))"
   ]
  },
  {
   "cell_type": "code",
   "execution_count": 184,
   "id": "nervous-summer",
   "metadata": {},
   "outputs": [],
   "source": [
    "class Solution:\n",
    "    def intToRoman(self, num: int) -> str:\n",
    "        N = list(str(num))\n",
    "        L = len(N)\n",
    "        R = ''\n",
    "        M = [ '0', '0', '0', '0']\n",
    "        Th = { '0' : '', '1' : 'M', '2' : 'MM', '3': 'MMM' }\n",
    "        H = { '0' : '', '1' : 'C', '2' : 'CC', '3': 'CCC', '4' : 'CD', '5' : 'D', '6' : 'DC', '7' : 'DCC', '8' : 'DCCC', '9' : 'CM'}\n",
    "        Te = { '0' : '', '1' : 'X', '2' : 'XX', '3': 'XXX', '4' : 'XL', '5' : 'L', '6' : 'LX', '7' : 'LXX', '8' : 'LXXX', '9' : 'XC'}\n",
    "        O = { '0' : '', '1' : 'I', '2' : 'II', '3': 'III', '4' : 'IV', '5' : 'V', '6' : 'VI', '7' : 'VII', '8' : 'VIII', '9' : 'IX'}\n",
    "        D = [Th, H, Te, O]\n",
    "        for i in range(1,(L+1)):\n",
    "            M[-i] = N[-i]\n",
    "        print(M)\n",
    "        for i in range(len(M)):\n",
    "            R = R + D[i][M[i]]\n",
    "            print(i)\n",
    "            print(M[i])\n",
    "            print(D[i])\n",
    "            print(D[i][M[i]])\n",
    "        return R"
   ]
  },
  {
   "cell_type": "code",
   "execution_count": 187,
   "id": "liberal-effects",
   "metadata": {},
   "outputs": [],
   "source": [
    "K = [['M'], ['C', 'D'], ['X', 'L'], ['I', 'V']]"
   ]
  },
  {
   "cell_type": "code",
   "execution_count": 196,
   "id": "copyrighted-plastic",
   "metadata": {},
   "outputs": [
    {
     "data": {
      "text/plain": [
       "''"
      ]
     },
     "execution_count": 196,
     "metadata": {},
     "output_type": "execute_result"
    }
   ],
   "source": [
    "0*K[0][0]"
   ]
  },
  {
   "cell_type": "code",
   "execution_count": 199,
   "id": "bottom-fields",
   "metadata": {},
   "outputs": [],
   "source": [
    "class Solution:\n",
    "    def intToRoman(self, num: int) -> str:\n",
    "        N = list(str(num))\n",
    "        L = len(N)\n",
    "        R = ''\n",
    "        K = [['M'], ['C', 'D'], ['X', 'L'], ['I', 'V']]\n",
    "        M = [ '0', '0', '0', '0']\n",
    "        for i in range(1,(L+1)):\n",
    "            M[-i] = N[-i]\n",
    "        for i in range(len(M)):\n",
    "            d = int(M[i])\n",
    "            if d < 4 :\n",
    "                R = R + d * K[i][0]\n",
    "            elif d == 4 :\n",
    "                R = R + K[i][0] + K[i][1]\n",
    "            elif d < 9 :\n",
    "                R = R + K[i][1] + (d - 5) * K[i][0]\n",
    "            else:\n",
    "                R = R + K[i][0] + K[i-1][0]\n",
    "        return R"
   ]
  },
  {
   "cell_type": "code",
   "execution_count": 212,
   "id": "union-transfer",
   "metadata": {},
   "outputs": [
    {
     "name": "stdout",
     "output_type": "stream",
     "text": [
      "0123\n"
     ]
    }
   ],
   "source": [
    "n = 123\n",
    "m = str(n)\n",
    "m = (4-len(m)) * '0' + m\n",
    "len(m)\n",
    "print(m)"
   ]
  },
  {
   "cell_type": "code",
   "execution_count": 268,
   "id": "developmental-investigation",
   "metadata": {},
   "outputs": [],
   "source": [
    "class Solution:\n",
    "    def intToRoman(self, num: int) -> str:\n",
    "        M = str(num)\n",
    "        print('M = {:>15}'.format(M))\n",
    "        M = (4-len(M))*'0' + M\n",
    "        print('M = {:>15}'.format(M))\n",
    "        R = ''\n",
    "        K = [['M'], ['C', 'D'], ['X', 'L'], ['I', 'V']]\n",
    "        for i in range(len(M)):\n",
    "            d = int(M[i])\n",
    "            if d < 4 :\n",
    "                print('d = {:>15}\\nK[i][0] = {:>9}\\nR = {:>15}\\n               +{}*{}'.format( d, K[i][0], R, d, K[i][0]))\n",
    "                R = R + d * K[i][0]\n",
    "                print('R = {:>15}'.format(R))\n",
    "            elif d == 4 :\n",
    "                print('d = {:>15}\\nK[{}][0] = {:>9}\\nK[{}][1] = {:>9}\\nR = {:>15}\\n               +{}+{}'.format( d, i, K[i][0], i, K[i][1], R, K[i][0], K[i][1]))\n",
    "                R = R + K[i][0] + K[i][1]\n",
    "                print('R = {:>15}'.format(R))\n",
    "            elif d < 9 :\n",
    "                print('d = {:>15}\\nK[i][1] = {:>9}\\nK[i][0] = {:>9}\\nR = {:>15}\\n             +{:>1}+{:>1}*{:>1}'.format( d, K[i][1], K[i][0], R, K[i][1], (d-5), K[i][0]))\n",
    "                R = R + K[i][1] + (d - 5) * K[i][0]\n",
    "                print('R = {:>15}'.format(R))\n",
    "            else:\n",
    "                print('d = {:>15}\\nK[i][0] = {:>9}\\nK[i-1][0] = {:>9}\\nR = {:>15}'.format( d, K[i][0], K[i-1][0], R))\n",
    "                R = R + K[i][0] + K[i-1][0]\n",
    "                print('R = {:>15}'.format(R))\n",
    "        return R"
   ]
  },
  {
   "cell_type": "code",
   "execution_count": 270,
   "id": "collectible-accused",
   "metadata": {},
   "outputs": [
    {
     "name": "stdout",
     "output_type": "stream",
     "text": [
      "M =              27\n",
      "M =            0027\n",
      "d =               0\n",
      "K[i][0] =         M\n",
      "R =                \n",
      "               +0*M\n",
      "R =                \n",
      "d =               0\n",
      "K[i][0] =         C\n",
      "R =                \n",
      "               +0*C\n",
      "R =                \n",
      "d =               2\n",
      "K[i][0] =         X\n",
      "R =                \n",
      "               +2*X\n",
      "R =              XX\n",
      "d =               7\n",
      "K[i][1] =         V\n",
      "K[i][0] =         I\n",
      "R =              XX\n",
      "             +V+2*I\n",
      "R =           XXVII\n",
      "XXVII <class 'str'>\n"
     ]
    }
   ],
   "source": [
    "number = 27\n",
    "b = Solution()\n",
    "c = b.intToRoman(number)\n",
    "\n",
    "print(c, type(c))"
   ]
  },
  {
   "cell_type": "code",
   "execution_count": null,
   "id": "decimal-samba",
   "metadata": {},
   "outputs": [],
   "source": []
  }
 ],
 "metadata": {
  "kernelspec": {
   "display_name": "Python 3",
   "language": "python",
   "name": "python3"
  },
  "language_info": {
   "codemirror_mode": {
    "name": "ipython",
    "version": 3
   },
   "file_extension": ".py",
   "mimetype": "text/x-python",
   "name": "python",
   "nbconvert_exporter": "python",
   "pygments_lexer": "ipython3",
   "version": "3.7.9"
  }
 },
 "nbformat": 4,
 "nbformat_minor": 5
}
