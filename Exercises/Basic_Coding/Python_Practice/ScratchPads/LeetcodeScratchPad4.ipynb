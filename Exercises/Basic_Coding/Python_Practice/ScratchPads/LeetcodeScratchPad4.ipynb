{
 "cells": [
  {
   "cell_type": "code",
   "execution_count": 26,
   "id": "smoking-cookie",
   "metadata": {},
   "outputs": [],
   "source": [
    "class Solution:\n",
    "    def romanToInt(self, s: str) -> int:\n",
    "        rom = {'I':1, 'V':5, 'X':10, 'L':50, 'C':100, 'D':500, 'M':1000}\n",
    "        val0 = 0\n",
    "        result = 0\n",
    "        for i in range(len(s)-1, -1, -1):\n",
    "            val = rom[s[i]]\n",
    "            if val >= val0:\n",
    "                result += val\n",
    "                val0 = val\n",
    "            elif val <= val0:\n",
    "                result -= val            \n",
    "            \n",
    "        return result"
   ]
  },
  {
   "cell_type": "code",
   "execution_count": 31,
   "id": "bridal-schedule",
   "metadata": {
    "scrolled": true
   },
   "outputs": [
    {
     "name": "stdout",
     "output_type": "stream",
     "text": [
      "0 <class 'int'>\n"
     ]
    }
   ],
   "source": [
    "a='MMXV'\n",
    "Solver = Solution\n",
    "b = Solver.romanToInt(a, a)\n",
    "\n",
    "print(b, type(b))"
   ]
  },
  {
   "cell_type": "code",
   "execution_count": 13,
   "id": "marine-orientation",
   "metadata": {},
   "outputs": [
    {
     "name": "stdout",
     "output_type": "stream",
     "text": [
      "V\n",
      "X\n",
      "M\n",
      "M\n"
     ]
    }
   ],
   "source": [
    "for i in range(len(a)-1, -1, -1):\n",
    "    print(a[i])"
   ]
  },
  {
   "cell_type": "code",
   "execution_count": 65,
   "id": "affected-stress",
   "metadata": {},
   "outputs": [],
   "source": [
    "from typing import List\n",
    "\n",
    "class Solution:\n",
    "    def longestCommonPrefix(self, strs: List[str]) -> str:\n",
    "        result = ''\n",
    "        if len(strs) == 0:\n",
    "            return result\n",
    "        \n",
    "        for i in range(min(len(ele) for ele in strs)):\n",
    "            for j in strs:\n",
    "                if strs[0][i] != j[i]:\n",
    "                    return result\n",
    "            result += strs[0][i]\n",
    "                \n",
    "        return result"
   ]
  },
  {
   "cell_type": "code",
   "execution_count": 60,
   "id": "finnish-priest",
   "metadata": {},
   "outputs": [
    {
     "name": "stdout",
     "output_type": "stream",
     "text": [
      "['zebra', 'asdf', 'asedf', 'etgghiob']\n",
      "['asdf', 'asedf', 'etgghiob', 'zebra']\n"
     ]
    }
   ],
   "source": [
    "s = ['zebra', 'asdf', 'asedf', 'etgghiob']\n",
    "print(s)\n",
    "s.sort()\n",
    "print(s)\n"
   ]
  },
  {
   "cell_type": "code",
   "execution_count": 36,
   "id": "latter-japan",
   "metadata": {},
   "outputs": [
    {
     "data": {
      "text/plain": [
       "''"
      ]
     },
     "execution_count": 36,
     "metadata": {},
     "output_type": "execute_result"
    }
   ],
   "source": [
    "s[1][0:0]"
   ]
  },
  {
   "cell_type": "code",
   "execution_count": 39,
   "id": "sporting-there",
   "metadata": {},
   "outputs": [
    {
     "data": {
      "text/plain": [
       "'asdfd'"
      ]
     },
     "execution_count": 39,
     "metadata": {},
     "output_type": "execute_result"
    }
   ],
   "source": [
    "b = 'asdf'\n",
    "b += 'd'\n",
    "b"
   ]
  },
  {
   "cell_type": "code",
   "execution_count": 238,
   "id": "included-going",
   "metadata": {},
   "outputs": [],
   "source": [
    "from typing import List\n",
    "\n",
    "class Solution:\n",
    "    def threeSum(self, nums = List[int]) -> List[List[int]]:\n",
    "        \n",
    "        result = []\n",
    "        \n",
    "        if len(nums) < 3:\n",
    "            return result\n",
    "        \n",
    "        nums.sort()\n",
    "        nums_set = set(nums)\n",
    "        nums_u = list(nums_set)\n",
    "        nums_u.sort()        \n",
    "        \n",
    "        counts = []\n",
    "        nums_neg = []\n",
    "        nums_pos = []\n",
    "        zero = False\n",
    "        split = False\n",
    "        \n",
    "        for i in range(len(nums_u)):\n",
    "            counts.append(nums.count(nums_u[i]))\n",
    "            if split == False:\n",
    "                if nums_u[i] >= 0:\n",
    "                    nums_neg = nums_u[:i]\n",
    "                    if nums_u[i] == 0:\n",
    "                        zero = True\n",
    "                        nums_pos = nums_u[(i+1):]\n",
    "                    else:\n",
    "                        nums_pos = nums_u[i:]\n",
    "                    split = True\n",
    "        \n",
    "        if zero == True:\n",
    "            print(counts)\n",
    "            print(counts[len(nums_neg)])\n",
    "            print(nums_u)\n",
    "            print(nums_u[len(nums_neg)], '\\n\\n')\n",
    "            if counts[len(nums_neg)] >= 3 :\n",
    "                result.append([0, 0, 0])\n",
    "            for i in nums_neg:\n",
    "                if -i in nums_pos:\n",
    "                    result.append([i, 0, -i])\n",
    "\n",
    "                    \n",
    "        for i in range((len(nums_neg))):\n",
    "            n = nums_neg[i]\n",
    "            if counts[i] > 1:\n",
    "                if -(2 * n) in nums_pos:\n",
    "                    result.append([n, n, - 2*n])\n",
    "            if len(nums_neg) > 1:\n",
    "                for j in range(i+1, len(nums_neg)):\n",
    "                    m = nums_neg[j]\n",
    "                    if -(n + m) in nums_pos:\n",
    "                        result.append([n, m, -(n+m)])\n",
    "        print(nums_u)\n",
    "        print(counts)\n",
    "        print(len(nums_pos))\n",
    "        for i in range(-1, -len(nums_pos)-1, -1):\n",
    "            n = nums_pos[i]\n",
    "            if counts[i] > 1:\n",
    "                if -(2 * n) in nums_neg:\n",
    "                    result.append([n, n, - 2*n])\n",
    "            if n != nums_pos[0]:\n",
    "                for j in range(i-1, -len(nums_pos)-1, -1):\n",
    "                    m = nums_pos[j]\n",
    "                    print(n, m, i, j)\n",
    "                    if -(n + m) in nums_neg:\n",
    "                        result.append([n, m, -(n+m)])\n",
    "                        \n",
    "        return result"
   ]
  },
  {
   "cell_type": "code",
   "execution_count": 239,
   "id": "applied-rolling",
   "metadata": {},
   "outputs": [
    {
     "name": "stdout",
     "output_type": "stream",
     "text": [
      "[1, 1, 1, 2, 2, 1, 1, 1, 1]\n",
      "2\n",
      "[-4, -3, -2, -1, 0, 1, 2, 3, 4]\n",
      "0 \n",
      "\n",
      "\n",
      "[-4, -3, -2, -1, 0, 1, 2, 3, 4]\n",
      "[1, 1, 1, 2, 2, 1, 1, 1, 1]\n",
      "4\n",
      "4 3 -1 -2\n",
      "4 2 -1 -3\n",
      "4 1 -1 -4\n",
      "3 2 -2 -3\n",
      "3 1 -2 -4\n",
      "2 1 -3 -4\n",
      "\n",
      "\n",
      " [[-4, 0, 4], [-3, 0, 3], [-2, 0, 2], [-1, 0, 1], [-3, -1, 4], [-2, -1, 3], [-1, -1, 2], [3, 1, -4], [2, 1, -3]] <class 'list'> 9\n"
     ]
    }
   ],
   "source": [
    "nums = [-4,-5,-5,-99, 0, 5, 0, 0,10, 88,11,11,12,12,12,45,67,67,67, 9]\n",
    "nums = [-1,0,1,2,-1,-4,-2,-3,3,0,4]\n",
    "Solver = Solution\n",
    "b = Solver.threeSum(nums, nums)\n",
    "\n",
    "print('\\n\\n', b, type(b), len(b))"
   ]
  },
  {
   "cell_type": "code",
   "execution_count": 98,
   "id": "educated-abortion",
   "metadata": {},
   "outputs": [
    {
     "data": {
      "text/plain": [
       "True"
      ]
     },
     "execution_count": 98,
     "metadata": {},
     "output_type": "execute_result"
    }
   ],
   "source": [
    "5 in nums"
   ]
  },
  {
   "cell_type": "code",
   "execution_count": 155,
   "id": "eligible-ceiling",
   "metadata": {},
   "outputs": [
    {
     "name": "stdout",
     "output_type": "stream",
     "text": [
      "[88, 11, 11, 12, 12, 12, 45, 67, 67, 67]\n",
      "[11, 11, 12, 12, 12, 45, 67, 67, 67, 88]\n",
      "[11, 12, 45, 67, 88]\n"
     ]
    }
   ],
   "source": [
    "nums = [88,11,11,12,12,12,45,67,67,67]\n",
    "print(nums)\n",
    "nums.sort()\n",
    "nums_set = set(nums)\n",
    "nums_u = list(nums_set)\n",
    "nums_u.sort()\n",
    "print(nums)\n",
    "print(nums_u)"
   ]
  },
  {
   "cell_type": "code",
   "execution_count": 156,
   "id": "figured-portal",
   "metadata": {},
   "outputs": [
    {
     "name": "stdout",
     "output_type": "stream",
     "text": [
      "2\n",
      "3\n",
      "1\n",
      "3\n",
      "1\n"
     ]
    }
   ],
   "source": [
    "for i in nums_u:\n",
    "    print(nums.count(i))"
   ]
  },
  {
   "cell_type": "code",
   "execution_count": 219,
   "id": "informal-infection",
   "metadata": {},
   "outputs": [
    {
     "name": "stdout",
     "output_type": "stream",
     "text": [
      "-1 4\n",
      "-2 5\n",
      "-3 1\n"
     ]
    }
   ],
   "source": [
    "nums = [1, 5, 4]\n",
    "\n",
    "for i in range(-1, -len(nums)-1, -1):\n",
    "    print(i, nums[i])"
   ]
  },
  {
   "cell_type": "code",
   "execution_count": 195,
   "id": "behind-today",
   "metadata": {},
   "outputs": [
    {
     "data": {
      "text/plain": [
       "88"
      ]
     },
     "execution_count": 195,
     "metadata": {},
     "output_type": "execute_result"
    }
   ],
   "source": []
  },
  {
   "cell_type": "code",
   "execution_count": 265,
   "id": "assumed-apache",
   "metadata": {},
   "outputs": [],
   "source": [
    "from typing import List\n",
    "\n",
    "class Solution:\n",
    "    def threeSum(self, nums = List[int]) -> List[List[int]]:\n",
    "        \n",
    "        nums.sort()\n",
    "        nums_set = set(nums)\n",
    "        nums_u = list(nums_set)\n",
    "        nums_u.sort()\n",
    "        counts = []\n",
    "        \n",
    "        for i in range(len(nums_u)):\n",
    "            counts.append(nums.count(nums_u[i]))\n",
    "        \n",
    "        i = 0\n",
    "        j = 1\n",
    "        j0 = 0\n",
    "        k = len(nums_u)-1\n",
    "        results = []\n",
    "        sum1 = 0\n",
    "        sum0 = 0\n",
    "        \n",
    "        while (nums_u[i] < 0) & (nums_u[k] > 0):\n",
    "            sum0 = sum([nums_u[n] for n in [i,j,k]])\n",
    "            if sum0 < 0 :\n",
    "                j0=j\n",
    "                j+=1\n",
    "                if (j == k) & (counts[j] > 1) & (2*nums_u[j] == nums_u[i]):\n",
    "                    results.append([nums_u[n] for n in [i,j,k]])\n",
    "                k-=1\n",
    "                j= k-1\n",
    "            elif sum0 > 0 :\n",
    "                j0=j\n",
    "                j-=1\n",
    "                if (j == i) & (counts[j] > 1) & (2*nums_u[j] == nums_u[i]):\n",
    "                    result.append([nums_u[n]])\n",
    "        return result"
   ]
  },
  {
   "cell_type": "code",
   "execution_count": 242,
   "id": "loose-sunrise",
   "metadata": {},
   "outputs": [
    {
     "data": {
      "text/plain": [
       "11"
      ]
     },
     "execution_count": 242,
     "metadata": {},
     "output_type": "execute_result"
    }
   ],
   "source": [
    "len(nums)"
   ]
  },
  {
   "cell_type": "code",
   "execution_count": 243,
   "id": "referenced-omega",
   "metadata": {},
   "outputs": [
    {
     "ename": "IndexError",
     "evalue": "list index out of range",
     "output_type": "error",
     "traceback": [
      "\u001b[0;31m---------------------------------------------------------------------------\u001b[0m",
      "\u001b[0;31mIndexError\u001b[0m                                Traceback (most recent call last)",
      "\u001b[0;32m<ipython-input-243-99413b9f084a>\u001b[0m in \u001b[0;36m<module>\u001b[0;34m\u001b[0m\n\u001b[0;32m----> 1\u001b[0;31m \u001b[0mnums\u001b[0m\u001b[0;34m[\u001b[0m\u001b[0mlen\u001b[0m\u001b[0;34m(\u001b[0m\u001b[0mnums\u001b[0m\u001b[0;34m)\u001b[0m\u001b[0;34m]\u001b[0m\u001b[0;34m\u001b[0m\u001b[0;34m\u001b[0m\u001b[0m\n\u001b[0m",
      "\u001b[0;31mIndexError\u001b[0m: list index out of range"
     ]
    }
   ],
   "source": [
    "nums[len(nums)]"
   ]
  },
  {
   "cell_type": "code",
   "execution_count": 246,
   "id": "interim-monroe",
   "metadata": {},
   "outputs": [
    {
     "data": {
      "text/plain": [
       "[-4, -3, -2, -1, -1, 0, 0, 1, 2, 3, 4]"
      ]
     },
     "execution_count": 246,
     "metadata": {},
     "output_type": "execute_result"
    }
   ],
   "source": [
    "nums"
   ]
  },
  {
   "cell_type": "code",
   "execution_count": 248,
   "id": "assured-romance",
   "metadata": {},
   "outputs": [
    {
     "ename": "TypeError",
     "evalue": "list indices must be integers or slices, not tuple",
     "output_type": "error",
     "traceback": [
      "\u001b[0;31m---------------------------------------------------------------------------\u001b[0m",
      "\u001b[0;31mTypeError\u001b[0m                                 Traceback (most recent call last)",
      "\u001b[0;32m<ipython-input-248-ea352e5ddb09>\u001b[0m in \u001b[0;36m<module>\u001b[0;34m\u001b[0m\n\u001b[0;32m----> 1\u001b[0;31m \u001b[0mnums\u001b[0m\u001b[0;34m[\u001b[0m\u001b[0;36m1\u001b[0m\u001b[0;34m,\u001b[0m\u001b[0;36m2\u001b[0m\u001b[0;34m]\u001b[0m\u001b[0;34m\u001b[0m\u001b[0;34m\u001b[0m\u001b[0m\n\u001b[0m",
      "\u001b[0;31mTypeError\u001b[0m: list indices must be integers or slices, not tuple"
     ]
    }
   ],
   "source": [
    "nums[1,2]"
   ]
  },
  {
   "cell_type": "code",
   "execution_count": 251,
   "id": "corporate-snake",
   "metadata": {},
   "outputs": [
    {
     "name": "stdout",
     "output_type": "stream",
     "text": [
      "[-3, -2, -1] -6\n"
     ]
    }
   ],
   "source": [
    "nums_sub = [nums[i] for i in [1,2,3]]\n",
    "sum0 = sum([nums[i] for i in [1,2,3]])\n",
    "print(nums_sub, sum0)"
   ]
  },
  {
   "cell_type": "code",
   "execution_count": 260,
   "id": "hearing-february",
   "metadata": {},
   "outputs": [],
   "source": [
    "from typing import List\n",
    "\n",
    "class Solution:\n",
    "    def threeSum(self, nums = List[int]) -> List[List[int]]:\n",
    "        result = set()\n",
    "        \n",
    "        neg, pos, zero = [], [], []\n",
    "        \n",
    "        for n in nums:\n",
    "            if n < 0:\n",
    "                neg.append(n)\n",
    "            elif n > 0:\n",
    "                pos.append(n)\n",
    "            else:\n",
    "                zero.append(n)\n",
    "                \n",
    "        NEG = set(neg)\n",
    "        POS = set(pos)\n",
    "        \n",
    "        if len(zero) > 2 :\n",
    "            result.add((0,0,0))\n",
    "        \n",
    "        if zero:\n",
    "            for n in POS:\n",
    "                if -n in NEG:\n",
    "                    result.add((-n, 0, n))\n",
    "        \n",
    "        for n in range(len(pos)):\n",
    "            for m in range(n+1, len(pos)):\n",
    "                comp = -(pos[n]+pos[m])\n",
    "                if comp in NEG:\n",
    "                    result.add(tuple(sorted([pos[n], pos[m], comp])))\n",
    "        \n",
    "        for n in range(len(neg)):\n",
    "            for m in range(n+1, len(neg)):\n",
    "                comp = -(neg[n]+neg[m])\n",
    "                if comp in POS:\n",
    "                    result.add(tuple(sorted([neg[n], neg[m], comp])))\n",
    "        return result"
   ]
  },
  {
   "cell_type": "code",
   "execution_count": 266,
   "id": "accompanied-computer",
   "metadata": {},
   "outputs": [
    {
     "ename": "KeyboardInterrupt",
     "evalue": "",
     "output_type": "error",
     "traceback": [
      "\u001b[0;31m---------------------------------------------------------------------------\u001b[0m",
      "\u001b[0;31mKeyboardInterrupt\u001b[0m                         Traceback (most recent call last)",
      "\u001b[0;32m<ipython-input-266-d5e77eb0e345>\u001b[0m in \u001b[0;36m<module>\u001b[0;34m\u001b[0m\n\u001b[1;32m      2\u001b[0m \u001b[0mnums\u001b[0m \u001b[0;34m=\u001b[0m \u001b[0;34m[\u001b[0m\u001b[0;34m-\u001b[0m\u001b[0;36m1\u001b[0m\u001b[0;34m,\u001b[0m\u001b[0;36m0\u001b[0m\u001b[0;34m,\u001b[0m\u001b[0;36m1\u001b[0m\u001b[0;34m,\u001b[0m\u001b[0;36m2\u001b[0m\u001b[0;34m,\u001b[0m\u001b[0;34m-\u001b[0m\u001b[0;36m1\u001b[0m\u001b[0;34m,\u001b[0m\u001b[0;34m-\u001b[0m\u001b[0;36m4\u001b[0m\u001b[0;34m,\u001b[0m\u001b[0;34m-\u001b[0m\u001b[0;36m2\u001b[0m\u001b[0;34m,\u001b[0m\u001b[0;34m-\u001b[0m\u001b[0;36m3\u001b[0m\u001b[0;34m,\u001b[0m\u001b[0;36m3\u001b[0m\u001b[0;34m,\u001b[0m\u001b[0;36m0\u001b[0m\u001b[0;34m,\u001b[0m\u001b[0;36m4\u001b[0m\u001b[0;34m]\u001b[0m\u001b[0;34m\u001b[0m\u001b[0;34m\u001b[0m\u001b[0m\n\u001b[1;32m      3\u001b[0m \u001b[0mSolver\u001b[0m \u001b[0;34m=\u001b[0m \u001b[0mSolution\u001b[0m\u001b[0;34m\u001b[0m\u001b[0;34m\u001b[0m\u001b[0m\n\u001b[0;32m----> 4\u001b[0;31m \u001b[0mb\u001b[0m \u001b[0;34m=\u001b[0m \u001b[0mSolver\u001b[0m\u001b[0;34m.\u001b[0m\u001b[0mthreeSum\u001b[0m\u001b[0;34m(\u001b[0m\u001b[0mnums\u001b[0m\u001b[0;34m,\u001b[0m \u001b[0mnums\u001b[0m\u001b[0;34m)\u001b[0m\u001b[0;34m\u001b[0m\u001b[0;34m\u001b[0m\u001b[0m\n\u001b[0m\u001b[1;32m      5\u001b[0m \u001b[0;34m\u001b[0m\u001b[0m\n\u001b[1;32m      6\u001b[0m \u001b[0mprint\u001b[0m\u001b[0;34m(\u001b[0m\u001b[0;34m'\\n\\n'\u001b[0m\u001b[0;34m,\u001b[0m \u001b[0mb\u001b[0m\u001b[0;34m,\u001b[0m \u001b[0mtype\u001b[0m\u001b[0;34m(\u001b[0m\u001b[0mb\u001b[0m\u001b[0;34m)\u001b[0m\u001b[0;34m,\u001b[0m \u001b[0mlen\u001b[0m\u001b[0;34m(\u001b[0m\u001b[0mb\u001b[0m\u001b[0;34m)\u001b[0m\u001b[0;34m)\u001b[0m\u001b[0;34m\u001b[0m\u001b[0;34m\u001b[0m\u001b[0m\n",
      "\u001b[0;32m<ipython-input-265-bf3da45983d5>\u001b[0m in \u001b[0;36mthreeSum\u001b[0;34m(self, nums)\u001b[0m\n\u001b[1;32m     22\u001b[0m \u001b[0;34m\u001b[0m\u001b[0m\n\u001b[1;32m     23\u001b[0m         \u001b[0;32mwhile\u001b[0m \u001b[0;34m(\u001b[0m\u001b[0mnums_u\u001b[0m\u001b[0;34m[\u001b[0m\u001b[0mi\u001b[0m\u001b[0;34m]\u001b[0m \u001b[0;34m<\u001b[0m \u001b[0;36m0\u001b[0m\u001b[0;34m)\u001b[0m \u001b[0;34m&\u001b[0m \u001b[0;34m(\u001b[0m\u001b[0mnums_u\u001b[0m\u001b[0;34m[\u001b[0m\u001b[0mk\u001b[0m\u001b[0;34m]\u001b[0m \u001b[0;34m>\u001b[0m \u001b[0;36m0\u001b[0m\u001b[0;34m)\u001b[0m\u001b[0;34m:\u001b[0m\u001b[0;34m\u001b[0m\u001b[0;34m\u001b[0m\u001b[0m\n\u001b[0;32m---> 24\u001b[0;31m             \u001b[0msum0\u001b[0m \u001b[0;34m=\u001b[0m \u001b[0msum\u001b[0m\u001b[0;34m(\u001b[0m\u001b[0;34m[\u001b[0m\u001b[0mnums_u\u001b[0m\u001b[0;34m[\u001b[0m\u001b[0mn\u001b[0m\u001b[0;34m]\u001b[0m \u001b[0;32mfor\u001b[0m \u001b[0mn\u001b[0m \u001b[0;32min\u001b[0m \u001b[0;34m[\u001b[0m\u001b[0mi\u001b[0m\u001b[0;34m,\u001b[0m\u001b[0mj\u001b[0m\u001b[0;34m,\u001b[0m\u001b[0mk\u001b[0m\u001b[0;34m]\u001b[0m\u001b[0;34m]\u001b[0m\u001b[0;34m)\u001b[0m\u001b[0;34m\u001b[0m\u001b[0;34m\u001b[0m\u001b[0m\n\u001b[0m\u001b[1;32m     25\u001b[0m             \u001b[0;32mif\u001b[0m \u001b[0msum0\u001b[0m \u001b[0;34m<\u001b[0m \u001b[0;36m0\u001b[0m \u001b[0;34m:\u001b[0m\u001b[0;34m\u001b[0m\u001b[0;34m\u001b[0m\u001b[0m\n\u001b[1;32m     26\u001b[0m                 \u001b[0mj0\u001b[0m\u001b[0;34m=\u001b[0m\u001b[0mj\u001b[0m\u001b[0;34m\u001b[0m\u001b[0;34m\u001b[0m\u001b[0m\n",
      "\u001b[0;31mKeyboardInterrupt\u001b[0m: "
     ]
    }
   ],
   "source": [
    "nums = [-4,-5,-5,-99, 0, 5, 0, 0,10, 88,11,11,12,12,12,45,67,67,67, 9]\n",
    "nums = [-1,0,1,2,-1,-4,-2,-3,3,0,4]\n",
    "Solver = Solution\n",
    "b = Solver.threeSum(nums, nums)\n",
    "\n",
    "print('\\n\\n', b, type(b), len(b))"
   ]
  },
  {
   "cell_type": "code",
   "execution_count": 255,
   "id": "continuous-saudi",
   "metadata": {},
   "outputs": [
    {
     "data": {
      "text/plain": [
       "{-4, -3, -2, -1, 0, 1, 2, 3, 4}"
      ]
     },
     "execution_count": 255,
     "metadata": {},
     "output_type": "execute_result"
    }
   ],
   "source": [
    "set(nums)"
   ]
  },
  {
   "cell_type": "code",
   "execution_count": 344,
   "id": "governmental-passion",
   "metadata": {},
   "outputs": [],
   "source": [
    "from typing import List\n",
    "\n",
    "class Solution:\n",
    "    def threeSum(self, nums = List[int]) -> List[List[int]]:\n",
    "        \n",
    "        result = []\n",
    "        \n",
    "        if len(nums) < 3:\n",
    "            return result\n",
    "        \n",
    "        nums.sort()\n",
    "        nums_set = set(nums)\n",
    "        nums_u = list(nums_set)\n",
    "        nums_u.sort()\n",
    "        counts = []\n",
    "        \n",
    "        for i in range(len(nums_u)):\n",
    "            counts.append(nums.count(nums_u[i]))\n",
    "        \n",
    "        i = 0\n",
    "        j = 1\n",
    "        j0 = 0\n",
    "        k = len(nums_u)-1\n",
    "\n",
    "        sum1 = 0\n",
    "        sum0 = 0\n",
    "        \n",
    "        while (nums_u[i] < 0) & (nums_u[k] > 0):\n",
    "            sum0 = sum([nums_u[n] for n in [i,j,k]])\n",
    "            print('a', i, j, k, sum0, result)\n",
    "            if sum0 < 0 :\n",
    "                j0=j\n",
    "                j+=1\n",
    "                if (j == k):\n",
    "                    print('b', i, j, k, sum0, result)\n",
    "                    if (2*nums_u[j] == nums_u[i]) & (counts[j] > 1):\n",
    "                        results.append([nums_u[n] for n in [i,j,k]])\n",
    "                        print('g', i, j, k, sum0, result)\n",
    "                    i+=1\n",
    "                    j= i+1\n",
    "                print('c', i, j, k, sum0, result)\n",
    "            elif sum0 > 0 :\n",
    "                print('d', i, j, k, sum0, result)\n",
    "                j0=j\n",
    "                j-=1\n",
    "                if (j == i):\n",
    "                    print('e', i, j, k, sum0, result)\n",
    "                    if (2*nums_u[j] == nums_u[i]) & (counts[j] > 1):\n",
    "                        result.append([nums_u[n] for n in [i,j,k]])\n",
    "                        print('f', i, j, k, sum0, result)\n",
    "                    k-=1\n",
    "                    j=k-1\n",
    "            elif sum0 == 0:\n",
    "                print('f', i, j, k, sum0, result)\n",
    "                result.append([nums_u[n] for n in [i,j,k]])\n",
    "                print('f', i, j, k, sum0, result)\n",
    "                i+=1\n",
    "                j=i+1\n",
    "        \n",
    "        for i in range(len(nums_u)):\n",
    "            if (counts[i] > 1) & (-2*nums_u[i] in nums_u):\n",
    "                result.append([nums_u[i], nums_u[i], -2*nums_u[i]])\n",
    "                print('f', i, j, k, sum0, result)\n",
    "            elif nums_u[i] == 0:\n",
    "                if counts[i] > 2:\n",
    "                    result.append([0,0,0])\n",
    "                break\n",
    "            elif nums_u[i] > 0:\n",
    "                break\n",
    "        return result"
   ]
  },
  {
   "cell_type": "code",
   "execution_count": 345,
   "id": "blind-nothing",
   "metadata": {},
   "outputs": [
    {
     "name": "stdout",
     "output_type": "stream",
     "text": [
      "a 0 1 1 0 []\n",
      "f 0 1 1 0 []\n",
      "f 0 1 1 0 [[-2, 1, 1]]\n",
      "f 1 2 1 0 [[-2, 1, 1], [1, 1, -2]]\n",
      "\n",
      "\n",
      " [[-2, 1, 1], [1, 1, -2]] <class 'list'> 2\n"
     ]
    }
   ],
   "source": [
    "nums = [1,1,-2]\n",
    "Solver = Solution\n",
    "b = Solver.threeSum(nums, nums)\n",
    "\n",
    "print('\\n\\n', b, type(b), len(b))"
   ]
  },
  {
   "cell_type": "code",
   "execution_count": 307,
   "id": "sudden-segment",
   "metadata": {},
   "outputs": [
    {
     "name": "stdout",
     "output_type": "stream",
     "text": [
      "[-99, -5, -5, -4, 0, 0, 0, 5, 9, 10, 11, 11, 12, 12, 12, 45, 67, 67, 67, 88]\n",
      "[-99, -5, -5, -4, 0, 0, 0, 5, 9, 10, 11, 11, 12, 12, 12, 45, 67, 67, 67, 88]\n",
      "[-99, -5, -4, 0, 5, 9, 10, 11, 12, 45, 67, 88]\n"
     ]
    }
   ],
   "source": [
    "print(nums)\n",
    "nums.sort()\n",
    "nums_set = set(nums)\n",
    "nums_u = list(nums_set)\n",
    "nums_u.sort()\n",
    "print(nums)\n",
    "print(nums_u)\n"
   ]
  },
  {
   "cell_type": "code",
   "execution_count": 364,
   "id": "harmful-christian",
   "metadata": {},
   "outputs": [],
   "source": [
    "from typing import List\n",
    "\n",
    "class Solution:\n",
    "    def threeSum(self, nums = List[int]) -> List[List[int]]:\n",
    "        \n",
    "        result = []\n",
    "        \n",
    "        if len(nums) < 3:\n",
    "            return result\n",
    "        \n",
    "        nums.sort()\n",
    "        nums_set = set(nums)\n",
    "        nums_u = list(nums_set)\n",
    "        nums_u.sort()\n",
    "        counts = []\n",
    "        \n",
    "        for i in range(len(nums_u)):\n",
    "            counts.append(nums.count(nums_u[i]))\n",
    "        \n",
    "        i = 0\n",
    "        j = 1\n",
    "        j0 = 0\n",
    "        k = len(nums_u)-1\n",
    "\n",
    "        sum1 = 0\n",
    "        sum0 = 0\n",
    "        \n",
    "        while (nums_u[i] < 0) & (nums_u[k] > 0):\n",
    "            sum0 = sum([nums_u[n] for n in [i,j,k]])\n",
    "            print('a', i, j, k, sum0, result)\n",
    "            if sum0 < 0 :\n",
    "                if sum1 > 0:\n",
    "                    i+=1\n",
    "                    j= i+1\n",
    "                j0=j\n",
    "                j+=1\n",
    "                if (j == k):\n",
    "                    i+=1\n",
    "                    j= i+1\n",
    "                print('c', i, j, k, sum0, result)\n",
    "            elif sum0 > 0 :\n",
    "                if sum1 < 0:\n",
    "                    k-=1\n",
    "                    j=k-1\n",
    "                print('d', i, j, k, sum0, result)\n",
    "                j0=j\n",
    "                j-=1\n",
    "                if (j == i) :\n",
    "                    k-=1\n",
    "                    j=k-1\n",
    "            elif sum0 == 0:\n",
    "                if (j==k) | (j==i):\n",
    "                    break\n",
    "                print('f', i, j, k, sum0, result)\n",
    "                result.append([nums_u[n] for n in [i,j,k]])\n",
    "                print('g', i, j, k, sum0, result)\n",
    "                i+=1\n",
    "                j=i+1\n",
    "            sum1 = sum0\n",
    "        \n",
    "        for i in range(len(nums_u)):\n",
    "            if (counts[i] > 1) & (-2*nums_u[i] in nums_u):\n",
    "                result.append([nums_u[i], nums_u[i], -2*nums_u[i]])\n",
    "                print('r', i, j, k, sum0, result)\n",
    "            elif nums_u[i] == 0:\n",
    "                if counts[i] > 2:\n",
    "                    result.append([0,0,0])\n",
    "                break\n",
    "            elif nums_u[i] > 0:\n",
    "                break\n",
    "        return result"
   ]
  },
  {
   "cell_type": "code",
   "execution_count": 366,
   "id": "separate-console",
   "metadata": {},
   "outputs": [
    {
     "name": "stdout",
     "output_type": "stream",
     "text": [
      "a 0 1 4 -3 []\n",
      "c 0 2 4 -3 []\n",
      "a 0 2 4 -2 []\n",
      "c 0 3 4 -2 []\n",
      "a 0 3 4 -1 []\n",
      "c 1 2 4 -1 []\n",
      "a 1 2 4 1 []\n",
      "d 1 2 3 1 []\n",
      "r 1 1 2 1 [[-1, -1, 2]]\n",
      "\n",
      "\n",
      " [[-1, -1, 2]] <class 'list'> 1\n"
     ]
    }
   ],
   "source": [
    "nums = [-1,0,1,2,-1,-4]\n",
    "\n",
    "Solver = Solution\n",
    "b = Solver.threeSum(nums, nums)\n",
    "\n",
    "print('\\n\\n', b, type(b), len(b))"
   ]
  },
  {
   "cell_type": "code",
   "execution_count": 428,
   "id": "fifty-pipeline",
   "metadata": {},
   "outputs": [],
   "source": [
    "from typing import List\n",
    "\n",
    "class Solution:\n",
    "    def threeSumClosest(self, nums: List[int], target: int) -> int:\n",
    "        result = int()\n",
    "        nums.sort()\n",
    "        i = 0\n",
    "        j = 1\n",
    "        k = len(nums)-1\n",
    "        sum0 = 0\n",
    "        sum1 = 0\n",
    "        plusj = 1\n",
    "        sum0 = sum([nums[n] for n in [i,j,k]])\n",
    "        result = sum0\n",
    "        while (k-i) > 1:\n",
    "            sum0 = sum([nums[n] for n in [i,j,k]])\n",
    "            print(i, nums[i], j, nums[j], k, nums[k], plusj, sum0, sum1, result)\n",
    "            \n",
    "            if abs(sum0-target) <  abs(result-target):\n",
    "                result = sum0\n",
    "            \n",
    "            j+=plusj\n",
    "        \n",
    "            if (j==k):\n",
    "                plusj = -1\n",
    "                i += 1\n",
    "                j = k-1\n",
    "            elif (j==i):\n",
    "                plusj = 1\n",
    "                k -= 1\n",
    "                j = i+1\n",
    "\n",
    "            \n",
    "            sum1 = sum0\n",
    "        \n",
    "\n",
    "        return result\n",
    "        "
   ]
  },
  {
   "cell_type": "code",
   "execution_count": 429,
   "id": "shaped-seminar",
   "metadata": {},
   "outputs": [
    {
     "name": "stdout",
     "output_type": "stream",
     "text": [
      "0 -5 1 -4 10 5 1 -4 0 -4\n",
      "0 -5 2 -3 10 5 1 -3 -4 -4\n",
      "0 -5 3 -2 10 5 1 -2 -3 -4\n",
      "0 -5 4 -1 10 5 1 -1 -2 -4\n",
      "0 -5 5 0 10 5 1 0 -1 -4\n",
      "0 -5 6 1 10 5 1 1 0 -4\n",
      "0 -5 7 2 10 5 1 2 1 -4\n",
      "0 -5 8 3 10 5 1 3 2 -4\n",
      "0 -5 9 4 10 5 1 4 3 -4\n",
      "1 -4 9 4 10 5 -1 5 4 -4\n",
      "1 -4 8 3 10 5 -1 4 5 -4\n",
      "1 -4 7 2 10 5 -1 3 4 -4\n",
      "1 -4 6 1 10 5 -1 2 3 -4\n",
      "1 -4 5 0 10 5 -1 1 2 -4\n",
      "1 -4 4 -1 10 5 -1 0 1 -4\n",
      "1 -4 3 -2 10 5 -1 -1 0 -4\n",
      "1 -4 2 -3 10 5 -1 -2 -1 -4\n",
      "1 -4 2 -3 9 4 1 -3 -2 -4\n",
      "1 -4 3 -2 9 4 1 -2 -3 -4\n",
      "1 -4 4 -1 9 4 1 -1 -2 -4\n",
      "1 -4 5 0 9 4 1 0 -1 -4\n",
      "1 -4 6 1 9 4 1 1 0 -4\n",
      "1 -4 7 2 9 4 1 2 1 -4\n",
      "1 -4 8 3 9 4 1 3 2 -4\n",
      "2 -3 8 3 9 4 -1 4 3 -4\n",
      "2 -3 7 2 9 4 -1 3 4 -4\n",
      "2 -3 6 1 9 4 -1 2 3 -4\n",
      "2 -3 5 0 9 4 -1 1 2 -4\n",
      "2 -3 4 -1 9 4 -1 0 1 -4\n",
      "2 -3 3 -2 9 4 -1 -1 0 -4\n",
      "2 -3 3 -2 8 3 1 -2 -1 -4\n",
      "2 -3 4 -1 8 3 1 -1 -2 -4\n",
      "2 -3 5 0 8 3 1 0 -1 -4\n",
      "2 -3 6 1 8 3 1 1 0 -4\n",
      "2 -3 7 2 8 3 1 2 1 -4\n",
      "3 -2 7 2 8 3 -1 3 2 -4\n",
      "3 -2 6 1 8 3 -1 2 3 -4\n",
      "3 -2 5 0 8 3 -1 1 2 -4\n",
      "3 -2 4 -1 8 3 -1 0 1 -4\n",
      "3 -2 4 -1 7 2 1 -1 0 -4\n",
      "3 -2 5 0 7 2 1 0 -1 -4\n",
      "3 -2 6 1 7 2 1 1 0 -4\n",
      "4 -1 6 1 7 2 -1 2 1 -4\n",
      "4 -1 5 0 7 2 -1 1 2 -4\n",
      "4 -1 5 0 6 1 1 0 1 -4\n",
      "\n",
      "\n",
      " -4 <class 'int'>\n"
     ]
    }
   ],
   "source": [
    "nums = [-5,-4,-3,-2,-1,0,1,2,3,4,5]\n",
    "\n",
    "Solver = Solution\n",
    "b = Solver.threeSumClosest(nums, nums, -5)\n",
    "\n",
    "print('\\n\\n', b, type(b))"
   ]
  },
  {
   "cell_type": "code",
   "execution_count": 405,
   "id": "expanded-seminar",
   "metadata": {},
   "outputs": [
    {
     "data": {
      "text/plain": [
       "16"
      ]
     },
     "execution_count": 405,
     "metadata": {},
     "output_type": "execute_result"
    }
   ],
   "source": [
    "b = 4\n",
    "b*=4\n",
    "b"
   ]
  },
  {
   "cell_type": "code",
   "execution_count": 434,
   "id": "governing-botswana",
   "metadata": {},
   "outputs": [
    {
     "data": {
      "text/plain": [
       "'abc'"
      ]
     },
     "execution_count": 434,
     "metadata": {},
     "output_type": "execute_result"
    }
   ],
   "source": [
    "tel = {'2':'abc', '3':'def', '4':'ghi', '5':'jkl', '6':'mno', '7':'pqrs', '8':'tuv', '9':'wxyz'}\n",
    "tel['2']"
   ]
  },
  {
   "cell_type": "code",
   "execution_count": 468,
   "id": "incoming-alexandria",
   "metadata": {},
   "outputs": [],
   "source": [
    "digits = ''\n",
    "digits = list(digits)\n",
    "strings = []\n",
    "for i in digits:\n",
    "    alph=list(tel[i])\n",
    "    "
   ]
  },
  {
   "cell_type": "code",
   "execution_count": 469,
   "id": "korean-brake",
   "metadata": {},
   "outputs": [],
   "source": [
    "from typing import List\n",
    "\n",
    "class Solution:\n",
    "    def letterCombinations(self, digits: str) -> List[str]:\n",
    "        strings = []\n",
    "        for i in digits:\n",
    "            if len(strings) == 0:\n",
    "                strings = list(tel[i])\n",
    "            else:\n",
    "                tempstrings=[]\n",
    "                alph = tel[i]\n",
    "                for j in alph:\n",
    "                    for k in strings:\n",
    "                        tempstrings.append(k+j)\n",
    "                strings=tempstrings\n",
    "        return strings"
   ]
  },
  {
   "cell_type": "code",
   "execution_count": 471,
   "id": "quarterly-violation",
   "metadata": {},
   "outputs": [
    {
     "name": "stdout",
     "output_type": "stream",
     "text": [
      "\n",
      "\n",
      " [] <class 'list'>\n"
     ]
    }
   ],
   "source": [
    "digits = ''\n",
    "\n",
    "Solver = Solution\n",
    "b = Solver.letterCombinations(digits, digits)\n",
    "\n",
    "print('\\n\\n', b, type(b))"
   ]
  },
  {
   "cell_type": "code",
   "execution_count": 473,
   "id": "experienced-azerbaijan",
   "metadata": {},
   "outputs": [
    {
     "data": {
      "text/plain": [
       "True"
      ]
     },
     "execution_count": 473,
     "metadata": {},
     "output_type": "execute_result"
    }
   ],
   "source": [
    "isinstance(digits, str)"
   ]
  },
  {
   "cell_type": "code",
   "execution_count": 476,
   "id": "immune-mustang",
   "metadata": {},
   "outputs": [],
   "source": [
    "a = 'a6e-1'"
   ]
  },
  {
   "cell_type": "code",
   "execution_count": 478,
   "id": "ecological-split",
   "metadata": {},
   "outputs": [
    {
     "ename": "SyntaxError",
     "evalue": "'return' outside function (<ipython-input-478-488597be016d>, line 4)",
     "output_type": "error",
     "traceback": [
      "\u001b[0;36m  File \u001b[0;32m\"<ipython-input-478-488597be016d>\"\u001b[0;36m, line \u001b[0;32m4\u001b[0m\n\u001b[0;31m    return False\u001b[0m\n\u001b[0m    ^\u001b[0m\n\u001b[0;31mSyntaxError\u001b[0m\u001b[0;31m:\u001b[0m 'return' outside function\n"
     ]
    }
   ],
   "source": [
    "\n",
    "try:\n",
    "    float(a)\n",
    "except:\n",
    "    return False\n",
    "return True"
   ]
  },
  {
   "cell_type": "code",
   "execution_count": 483,
   "id": "olive-notebook",
   "metadata": {},
   "outputs": [],
   "source": [
    "class Solution:\n",
    "    def isNumber(self, s: str) -> bool:\n",
    "        Exceptions = ['inf', '-inf', '+inf', 'Infinity', '+Infinity', '-Infinity']\n",
    "        if s in Exceptions:\n",
    "            return False\n",
    "        try:\n",
    "            float(s)\n",
    "        except:\n",
    "            return False\n",
    "        return True"
   ]
  },
  {
   "cell_type": "code",
   "execution_count": 485,
   "id": "vulnerable-timing",
   "metadata": {},
   "outputs": [
    {
     "name": "stdout",
     "output_type": "stream",
     "text": [
      "\n",
      "\n",
      " False <class 'bool'>\n"
     ]
    }
   ],
   "source": [
    "string = 'inf'\n",
    "\n",
    "Solver = Solution\n",
    "b = Solver.isNumber(string, string)\n",
    "\n",
    "print('\\n\\n', b, type(b))"
   ]
  },
  {
   "cell_type": "code",
   "execution_count": null,
   "id": "oriental-exhibition",
   "metadata": {},
   "outputs": [],
   "source": []
  }
 ],
 "metadata": {
  "kernelspec": {
   "display_name": "Python 3",
   "language": "python",
   "name": "python3"
  },
  "language_info": {
   "codemirror_mode": {
    "name": "ipython",
    "version": 3
   },
   "file_extension": ".py",
   "mimetype": "text/x-python",
   "name": "python",
   "nbconvert_exporter": "python",
   "pygments_lexer": "ipython3",
   "version": "3.7.9"
  }
 },
 "nbformat": 4,
 "nbformat_minor": 5
}
