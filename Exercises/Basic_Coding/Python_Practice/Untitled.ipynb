{
 "cells": [
  {
   "cell_type": "code",
   "execution_count": 17,
   "id": "stuffed-sending",
   "metadata": {},
   "outputs": [],
   "source": [
    "def factorialrec(x):\n",
    "    if x == 1:\n",
    "        return 1\n",
    "    if x > 1:\n",
    "        return x * factorial(x-1)\n",
    "        "
   ]
  },
  {
   "cell_type": "code",
   "execution_count": 14,
   "id": "peaceful-pontiac",
   "metadata": {},
   "outputs": [],
   "source": [
    "def factorialit(x):\n",
    "    result = 1\n",
    "    while x > 0:\n",
    "        result = x * result\n",
    "        x -= 1\n",
    "    return result"
   ]
  },
  {
   "cell_type": "code",
   "execution_count": null,
   "id": "incorporated-objective",
   "metadata": {},
   "outputs": [],
   "source": []
  },
  {
   "cell_type": "code",
   "execution_count": 23,
   "id": "portable-disclosure",
   "metadata": {},
   "outputs": [
    {
     "name": "stdout",
     "output_type": "stream",
     "text": [
      "1.2 µs ± 1.64 ns per loop (mean ± std. dev. of 7 runs, 1000000 loops each)\n",
      "759 ns ± 14.1 ns per loop (mean ± std. dev. of 7 runs, 1000000 loops each)\n",
      "15.7 µs ± 248 ns per loop (mean ± std. dev. of 7 runs, 100000 loops each)\n",
      "9.97 µs ± 365 ns per loop (mean ± std. dev. of 7 runs, 100000 loops each)\n",
      "370 µs ± 4 µs per loop (mean ± std. dev. of 7 runs, 1000 loops each)\n",
      "311 µs ± 3.4 µs per loop (mean ± std. dev. of 7 runs, 1000 loops each)\n"
     ]
    }
   ],
   "source": [
    "%timeit factorialrec(10)\n",
    "%timeit factorialit(10)\n",
    "%timeit factorialrec(100)\n",
    "%timeit factorialit(100)\n",
    "%timeit factorialrec(1000)\n",
    "%timeit factorialit(1000)"
   ]
  },
  {
   "cell_type": "code",
   "execution_count": 27,
   "id": "inclusive-illness",
   "metadata": {},
   "outputs": [
    {
     "name": "stdout",
     "output_type": "stream",
     "text": [
      "1.1 ms ± 46.3 µs per loop (mean ± std. dev. of 7 runs, 1000 loops each)\n",
      "964 µs ± 18.2 µs per loop (mean ± std. dev. of 7 runs, 1000 loops each)\n"
     ]
    }
   ],
   "source": [
    "%timeit factorialrec(2000)\n",
    "%timeit factorialit(2000)"
   ]
  },
  {
   "cell_type": "code",
   "execution_count": 19,
   "id": "macro-induction",
   "metadata": {},
   "outputs": [
    {
     "name": "stdout",
     "output_type": "stream",
     "text": [
      "120\n",
      "120\n"
     ]
    }
   ],
   "source": [
    "print(factorialit(5))\n",
    "print(factorialrec(5))"
   ]
  },
  {
   "cell_type": "code",
   "execution_count": null,
   "id": "flush-sullivan",
   "metadata": {},
   "outputs": [],
   "source": []
  }
 ],
 "metadata": {
  "kernelspec": {
   "display_name": "Python 3",
   "language": "python",
   "name": "python3"
  },
  "language_info": {
   "codemirror_mode": {
    "name": "ipython",
    "version": 3
   },
   "file_extension": ".py",
   "mimetype": "text/x-python",
   "name": "python",
   "nbconvert_exporter": "python",
   "pygments_lexer": "ipython3",
   "version": "3.7.9"
  }
 },
 "nbformat": 4,
 "nbformat_minor": 5
}
